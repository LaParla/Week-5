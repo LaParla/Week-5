{
 "cells": [
  {
   "cell_type": "markdown",
   "metadata": {},
   "source": [
    "<center>\n",
    "<img src=\"https://cf-courses-data.s3.us.cloud-object-storage.appdomain.cloud/IBMDeveloperSkillsNetwork-RP0321EN-SkillsNetwork/labs/module_1/images/SN_web_lightmode.png\" width=\"300\"> \n",
    "</center>\n",
    "\n",
    "# Assignment: Exploratory Data Analysis with SQL\n",
    "Estimated time needed: 60 minutes\n",
    "\n",
    "\n",
    "# Introduction\n",
    "Using this R notebook you will perform exploratory data analysis using SQL queries with the RSQLite R package. You will be graded on the accuracy of your results as well as the content of your SQL queries.\n"
   ]
  },
  {
   "cell_type": "markdown",
   "metadata": {},
   "source": [
    "### Establish your SQlIte connection\n",
    "Load the 'RSQLite' library, and use the 'dbConnect( )' function as you did in the previous lab to establish the connection to your SQLite database.  \n",
    "You are now ready to start running SQL queries using the RSQLite library as you did in Course 3.\n"
   ]
  },
  {
   "cell_type": "code",
   "execution_count": 2,
   "metadata": {
    "tags": []
   },
   "outputs": [
    {
     "name": "stderr",
     "output_type": "stream",
     "text": [
      "Updating HTML index of packages in '.Library'\n",
      "Making 'packages.html' ... done\n"
     ]
    }
   ],
   "source": [
    "# provide your solution here\n",
    "install.packages(\"RSQLite\")"
   ]
  },
  {
   "cell_type": "code",
   "execution_count": 1,
   "metadata": {
    "tags": []
   },
   "outputs": [
    {
     "ename": "ERROR",
     "evalue": "Error in library(\"RSQLite\"): there is no package called ‘RSQLite’\n",
     "execution_count": 1,
     "output_type": "error",
     "traceback": [
      "Error in library(\"RSQLite\"): there is no package called ‘RSQLite’\nTraceback:\n",
      "1. library(\"RSQLite\")",
      "2. stop(txt, domain = NA)"
     ]
    }
   ],
   "source": [
    "library(\"RSQLite\")"
   ]
  },
  {
   "cell_type": "code",
   "execution_count": 2,
   "metadata": {
    "tags": []
   },
   "outputs": [
    {
     "data": {
      "text/plain": [
       "<SQLiteConnection>\n",
       "  Path: /resources/labs/FinalRSQLite/Capstone.sqlite\n",
       "  Extensions: TRUE"
      ]
     },
     "metadata": {},
     "output_type": "display_data"
    }
   ],
   "source": [
    "# Establish Connection\n",
    "conn <- dbConnect(RSQLite::SQLite(),\"Capstone.sqlite\")\n",
    "conn"
   ]
  },
  {
   "cell_type": "markdown",
   "metadata": {},
   "source": [
    "Download the following csv files:\n",
    "\n",
    "*   [WORLD_CITIES](https://cf-courses-data.s3.us.cloud-object-storage.appdomain.cloud/IBMDeveloperSkillsNetwork-RP0321EN-SkillsNetwork/labs/datasets/world_cities.csv)\n",
    "\n",
    "*   [BIKE_SHARING_SYSTEMS](https://cf-courses-data.s3.us.cloud-object-storage.appdomain.cloud/IBMDeveloperSkillsNetwork-RP0321EN-SkillsNetwork/labs/datasets/bike_sharing_systems.csv)\n",
    "\n",
    "*   [CITIES_WEATHER_FORECAST](https://cf-courses-data.s3.us.cloud-object-storage.appdomain.cloud/IBMDeveloperSkillsNetwork-RP0321EN-SkillsNetwork/labs/datasets/cities_weather_forecast.csv)\n",
    "\n",
    "*   [SEOUL_BIKE_SHARING](https://cf-courses-data.s3.us.cloud-object-storage.appdomain.cloud/IBMDeveloperSkillsNetwork-RP0321EN-SkillsNetwork/labs/datasets/seoul_bike_sharing.csv)\n",
    "\n",
    "and load the csv's  into 4 tables as mentioned below\n",
    "* SEOUL_BIKE_SHARING\n",
    "\n",
    "* CITIES_WEATHER_FORECAST\n",
    "\n",
    "* BIKE_SHARING_SYSTEMS \n",
    "\n",
    "*  WORLD_CITIES\n",
    "\n",
    "> Hint : Use the read_csv() function and dbWriteTable() functions\n"
   ]
  },
  {
   "cell_type": "code",
   "execution_count": 3,
   "metadata": {
    "tags": []
   },
   "outputs": [
    {
     "data": {
      "text/html": [
       "<table>\n",
       "<caption>A data.frame: 6 × 11</caption>\n",
       "<thead>\n",
       "\t<tr><th></th><th scope=col>CITY</th><th scope=col>CITY_ASCII</th><th scope=col>LAT</th><th scope=col>LNG</th><th scope=col>COUNTRY</th><th scope=col>ISO2</th><th scope=col>ISO3</th><th scope=col>ADMIN_NAME</th><th scope=col>CAPITAL</th><th scope=col>POPULATION</th><th scope=col>ID</th></tr>\n",
       "\t<tr><th></th><th scope=col>&lt;fct&gt;</th><th scope=col>&lt;fct&gt;</th><th scope=col>&lt;dbl&gt;</th><th scope=col>&lt;dbl&gt;</th><th scope=col>&lt;fct&gt;</th><th scope=col>&lt;fct&gt;</th><th scope=col>&lt;fct&gt;</th><th scope=col>&lt;fct&gt;</th><th scope=col>&lt;fct&gt;</th><th scope=col>&lt;dbl&gt;</th><th scope=col>&lt;dbl&gt;</th></tr>\n",
       "</thead>\n",
       "<tbody>\n",
       "\t<tr><th scope=row>1</th><td>Tokyo   </td><td>Tokyo   </td><td>35.6897</td><td>139.6922</td><td>Japan      </td><td>JP</td><td>JPN</td><td>Tōkyō      </td><td>primary</td><td>37977000</td><td>1392685764</td></tr>\n",
       "\t<tr><th scope=row>2</th><td>Jakarta </td><td>Jakarta </td><td>-6.2146</td><td>106.8451</td><td>Indonesia  </td><td>ID</td><td>IDN</td><td>Jakarta    </td><td>primary</td><td>34540000</td><td>1360771077</td></tr>\n",
       "\t<tr><th scope=row>3</th><td>Delhi   </td><td>Delhi   </td><td>28.6600</td><td> 77.2300</td><td>India      </td><td>IN</td><td>IND</td><td>Delhi      </td><td>admin  </td><td>29617000</td><td>1356872604</td></tr>\n",
       "\t<tr><th scope=row>4</th><td>Mumbai  </td><td>Mumbai  </td><td>18.9667</td><td> 72.8333</td><td>India      </td><td>IN</td><td>IND</td><td>Mahārāshtra</td><td>admin  </td><td>23355000</td><td>1356226629</td></tr>\n",
       "\t<tr><th scope=row>5</th><td>Manila  </td><td>Manila  </td><td>14.5958</td><td>120.9772</td><td>Philippines</td><td>PH</td><td>PHL</td><td>Manila     </td><td>primary</td><td>23088000</td><td>1608618140</td></tr>\n",
       "\t<tr><th scope=row>6</th><td>Shanghai</td><td>Shanghai</td><td>31.1667</td><td>121.4667</td><td>China      </td><td>CN</td><td>CHN</td><td>Shanghai   </td><td>admin  </td><td>22120000</td><td>1156073548</td></tr>\n",
       "</tbody>\n",
       "</table>\n"
      ],
      "text/latex": [
       "A data.frame: 6 × 11\n",
       "\\begin{tabular}{r|lllllllllll}\n",
       "  & CITY & CITY\\_ASCII & LAT & LNG & COUNTRY & ISO2 & ISO3 & ADMIN\\_NAME & CAPITAL & POPULATION & ID\\\\\n",
       "  & <fct> & <fct> & <dbl> & <dbl> & <fct> & <fct> & <fct> & <fct> & <fct> & <dbl> & <dbl>\\\\\n",
       "\\hline\n",
       "\t1 & Tokyo    & Tokyo    & 35.6897 & 139.6922 & Japan       & JP & JPN & Tōkyō       & primary & 37977000 & 1392685764\\\\\n",
       "\t2 & Jakarta  & Jakarta  & -6.2146 & 106.8451 & Indonesia   & ID & IDN & Jakarta     & primary & 34540000 & 1360771077\\\\\n",
       "\t3 & Delhi    & Delhi    & 28.6600 &  77.2300 & India       & IN & IND & Delhi       & admin   & 29617000 & 1356872604\\\\\n",
       "\t4 & Mumbai   & Mumbai   & 18.9667 &  72.8333 & India       & IN & IND & Mahārāshtra & admin   & 23355000 & 1356226629\\\\\n",
       "\t5 & Manila   & Manila   & 14.5958 & 120.9772 & Philippines & PH & PHL & Manila      & primary & 23088000 & 1608618140\\\\\n",
       "\t6 & Shanghai & Shanghai & 31.1667 & 121.4667 & China       & CN & CHN & Shanghai    & admin   & 22120000 & 1156073548\\\\\n",
       "\\end{tabular}\n"
      ],
      "text/markdown": [
       "\n",
       "A data.frame: 6 × 11\n",
       "\n",
       "| <!--/--> | CITY &lt;fct&gt; | CITY_ASCII &lt;fct&gt; | LAT &lt;dbl&gt; | LNG &lt;dbl&gt; | COUNTRY &lt;fct&gt; | ISO2 &lt;fct&gt; | ISO3 &lt;fct&gt; | ADMIN_NAME &lt;fct&gt; | CAPITAL &lt;fct&gt; | POPULATION &lt;dbl&gt; | ID &lt;dbl&gt; |\n",
       "|---|---|---|---|---|---|---|---|---|---|---|---|\n",
       "| 1 | Tokyo    | Tokyo    | 35.6897 | 139.6922 | Japan       | JP | JPN | Tōkyō       | primary | 37977000 | 1392685764 |\n",
       "| 2 | Jakarta  | Jakarta  | -6.2146 | 106.8451 | Indonesia   | ID | IDN | Jakarta     | primary | 34540000 | 1360771077 |\n",
       "| 3 | Delhi    | Delhi    | 28.6600 |  77.2300 | India       | IN | IND | Delhi       | admin   | 29617000 | 1356872604 |\n",
       "| 4 | Mumbai   | Mumbai   | 18.9667 |  72.8333 | India       | IN | IND | Mahārāshtra | admin   | 23355000 | 1356226629 |\n",
       "| 5 | Manila   | Manila   | 14.5958 | 120.9772 | Philippines | PH | PHL | Manila      | primary | 23088000 | 1608618140 |\n",
       "| 6 | Shanghai | Shanghai | 31.1667 | 121.4667 | China       | CN | CHN | Shanghai    | admin   | 22120000 | 1156073548 |\n",
       "\n"
      ],
      "text/plain": [
       "  CITY     CITY_ASCII LAT     LNG      COUNTRY     ISO2 ISO3 ADMIN_NAME \n",
       "1 Tokyo    Tokyo      35.6897 139.6922 Japan       JP   JPN  Tōkyō      \n",
       "2 Jakarta  Jakarta    -6.2146 106.8451 Indonesia   ID   IDN  Jakarta    \n",
       "3 Delhi    Delhi      28.6600  77.2300 India       IN   IND  Delhi      \n",
       "4 Mumbai   Mumbai     18.9667  72.8333 India       IN   IND  Mahārāshtra\n",
       "5 Manila   Manila     14.5958 120.9772 Philippines PH   PHL  Manila     \n",
       "6 Shanghai Shanghai   31.1667 121.4667 China       CN   CHN  Shanghai   \n",
       "  CAPITAL POPULATION ID        \n",
       "1 primary 37977000   1392685764\n",
       "2 primary 34540000   1360771077\n",
       "3 admin   29617000   1356872604\n",
       "4 admin   23355000   1356226629\n",
       "5 primary 23088000   1608618140\n",
       "6 admin   22120000   1156073548"
      ]
     },
     "metadata": {},
     "output_type": "display_data"
    },
    {
     "data": {
      "text/html": [
       "<table>\n",
       "<caption>A data.frame: 6 × 4</caption>\n",
       "<thead>\n",
       "\t<tr><th></th><th scope=col>COUNTRY</th><th scope=col>CITY</th><th scope=col>SYSTEM</th><th scope=col>BICYCLES</th></tr>\n",
       "\t<tr><th></th><th scope=col>&lt;fct&gt;</th><th scope=col>&lt;fct&gt;</th><th scope=col>&lt;fct&gt;</th><th scope=col>&lt;int&gt;</th></tr>\n",
       "</thead>\n",
       "<tbody>\n",
       "\t<tr><th scope=row>1</th><td>Albania  </td><td>Tirana               </td><td>NA            </td><td> 200</td></tr>\n",
       "\t<tr><th scope=row>2</th><td>Argentina</td><td>Mendoza              </td><td>NA            </td><td>  40</td></tr>\n",
       "\t<tr><th scope=row>3</th><td>Argentina</td><td>San Lorenzo, Santa Fe</td><td>Biciudad      </td><td>  80</td></tr>\n",
       "\t<tr><th scope=row>4</th><td>Argentina</td><td>Buenos Aires         </td><td>Serttel Brasil</td><td>4000</td></tr>\n",
       "\t<tr><th scope=row>5</th><td>Argentina</td><td>Rosario              </td><td>NA            </td><td> 480</td></tr>\n",
       "\t<tr><th scope=row>6</th><td>Australia</td><td><span style=white-space:pre-wrap>Melbourne            </span></td><td><span style=white-space:pre-wrap>PBSC &amp; 8D     </span></td><td> 676</td></tr>\n",
       "</tbody>\n",
       "</table>\n"
      ],
      "text/latex": [
       "A data.frame: 6 × 4\n",
       "\\begin{tabular}{r|llll}\n",
       "  & COUNTRY & CITY & SYSTEM & BICYCLES\\\\\n",
       "  & <fct> & <fct> & <fct> & <int>\\\\\n",
       "\\hline\n",
       "\t1 & Albania   & Tirana                & NA             &  200\\\\\n",
       "\t2 & Argentina & Mendoza               & NA             &   40\\\\\n",
       "\t3 & Argentina & San Lorenzo, Santa Fe & Biciudad       &   80\\\\\n",
       "\t4 & Argentina & Buenos Aires          & Serttel Brasil & 4000\\\\\n",
       "\t5 & Argentina & Rosario               & NA             &  480\\\\\n",
       "\t6 & Australia & Melbourne             & PBSC \\& 8D      &  676\\\\\n",
       "\\end{tabular}\n"
      ],
      "text/markdown": [
       "\n",
       "A data.frame: 6 × 4\n",
       "\n",
       "| <!--/--> | COUNTRY &lt;fct&gt; | CITY &lt;fct&gt; | SYSTEM &lt;fct&gt; | BICYCLES &lt;int&gt; |\n",
       "|---|---|---|---|---|\n",
       "| 1 | Albania   | Tirana                | NA             |  200 |\n",
       "| 2 | Argentina | Mendoza               | NA             |   40 |\n",
       "| 3 | Argentina | San Lorenzo, Santa Fe | Biciudad       |   80 |\n",
       "| 4 | Argentina | Buenos Aires          | Serttel Brasil | 4000 |\n",
       "| 5 | Argentina | Rosario               | NA             |  480 |\n",
       "| 6 | Australia | Melbourne             | PBSC &amp; 8D      |  676 |\n",
       "\n"
      ],
      "text/plain": [
       "  COUNTRY   CITY                  SYSTEM         BICYCLES\n",
       "1 Albania   Tirana                NA              200    \n",
       "2 Argentina Mendoza               NA               40    \n",
       "3 Argentina San Lorenzo, Santa Fe Biciudad         80    \n",
       "4 Argentina Buenos Aires          Serttel Brasil 4000    \n",
       "5 Argentina Rosario               NA              480    \n",
       "6 Australia Melbourne             PBSC & 8D       676    "
      ]
     },
     "metadata": {},
     "output_type": "display_data"
    },
    {
     "data": {
      "text/html": [
       "<table>\n",
       "<caption>A data.frame: 6 × 12</caption>\n",
       "<thead>\n",
       "\t<tr><th></th><th scope=col>CITY</th><th scope=col>WEATHER</th><th scope=col>VISIBILITY</th><th scope=col>TEMP</th><th scope=col>TEMP_MIN</th><th scope=col>TEMP_MAX</th><th scope=col>PRESSURE</th><th scope=col>HUMIDITY</th><th scope=col>WIND_SPEED</th><th scope=col>WIND_DEG</th><th scope=col>SEASON</th><th scope=col>FORECAST_DATETIME</th></tr>\n",
       "\t<tr><th></th><th scope=col>&lt;fct&gt;</th><th scope=col>&lt;fct&gt;</th><th scope=col>&lt;int&gt;</th><th scope=col>&lt;dbl&gt;</th><th scope=col>&lt;dbl&gt;</th><th scope=col>&lt;dbl&gt;</th><th scope=col>&lt;int&gt;</th><th scope=col>&lt;int&gt;</th><th scope=col>&lt;dbl&gt;</th><th scope=col>&lt;int&gt;</th><th scope=col>&lt;fct&gt;</th><th scope=col>&lt;fct&gt;</th></tr>\n",
       "</thead>\n",
       "<tbody>\n",
       "\t<tr><th scope=row>1</th><td>Seoul</td><td>Clear </td><td>10000</td><td>12.32</td><td>10.91</td><td>12.32</td><td>1015</td><td>50</td><td>2.18</td><td>248</td><td>Spring</td><td>2021-04-16 12:00:00</td></tr>\n",
       "\t<tr><th scope=row>2</th><td>Seoul</td><td>Clear </td><td>10000</td><td>11.48</td><td> 9.81</td><td>11.48</td><td>1016</td><td>48</td><td>1.25</td><td>142</td><td>Spring</td><td>2021-04-16 15:00:00</td></tr>\n",
       "\t<tr><th scope=row>3</th><td>Seoul</td><td>Clouds</td><td>10000</td><td> 9.99</td><td> 8.82</td><td> 9.99</td><td>1015</td><td>46</td><td>0.94</td><td>130</td><td>Spring</td><td>2021-04-16 18:00:00</td></tr>\n",
       "\t<tr><th scope=row>4</th><td>Seoul</td><td>Clouds</td><td>10000</td><td> 7.87</td><td> 7.87</td><td> 7.87</td><td>1014</td><td>46</td><td>0.83</td><td> 31</td><td>Spring</td><td>2021-04-16 21:00:00</td></tr>\n",
       "\t<tr><th scope=row>5</th><td>Seoul</td><td>Clouds</td><td>10000</td><td>10.09</td><td>10.09</td><td>10.09</td><td>1014</td><td>37</td><td>1.96</td><td>309</td><td>Spring</td><td>2021-04-17 00:00:00</td></tr>\n",
       "\t<tr><th scope=row>6</th><td>Seoul</td><td>Rain  </td><td>10000</td><td> 9.74</td><td> 9.74</td><td> 9.74</td><td>1014</td><td>48</td><td>3.24</td><td>267</td><td>Spring</td><td>2021-04-17 03:00:00</td></tr>\n",
       "</tbody>\n",
       "</table>\n"
      ],
      "text/latex": [
       "A data.frame: 6 × 12\n",
       "\\begin{tabular}{r|llllllllllll}\n",
       "  & CITY & WEATHER & VISIBILITY & TEMP & TEMP\\_MIN & TEMP\\_MAX & PRESSURE & HUMIDITY & WIND\\_SPEED & WIND\\_DEG & SEASON & FORECAST\\_DATETIME\\\\\n",
       "  & <fct> & <fct> & <int> & <dbl> & <dbl> & <dbl> & <int> & <int> & <dbl> & <int> & <fct> & <fct>\\\\\n",
       "\\hline\n",
       "\t1 & Seoul & Clear  & 10000 & 12.32 & 10.91 & 12.32 & 1015 & 50 & 2.18 & 248 & Spring & 2021-04-16 12:00:00\\\\\n",
       "\t2 & Seoul & Clear  & 10000 & 11.48 &  9.81 & 11.48 & 1016 & 48 & 1.25 & 142 & Spring & 2021-04-16 15:00:00\\\\\n",
       "\t3 & Seoul & Clouds & 10000 &  9.99 &  8.82 &  9.99 & 1015 & 46 & 0.94 & 130 & Spring & 2021-04-16 18:00:00\\\\\n",
       "\t4 & Seoul & Clouds & 10000 &  7.87 &  7.87 &  7.87 & 1014 & 46 & 0.83 &  31 & Spring & 2021-04-16 21:00:00\\\\\n",
       "\t5 & Seoul & Clouds & 10000 & 10.09 & 10.09 & 10.09 & 1014 & 37 & 1.96 & 309 & Spring & 2021-04-17 00:00:00\\\\\n",
       "\t6 & Seoul & Rain   & 10000 &  9.74 &  9.74 &  9.74 & 1014 & 48 & 3.24 & 267 & Spring & 2021-04-17 03:00:00\\\\\n",
       "\\end{tabular}\n"
      ],
      "text/markdown": [
       "\n",
       "A data.frame: 6 × 12\n",
       "\n",
       "| <!--/--> | CITY &lt;fct&gt; | WEATHER &lt;fct&gt; | VISIBILITY &lt;int&gt; | TEMP &lt;dbl&gt; | TEMP_MIN &lt;dbl&gt; | TEMP_MAX &lt;dbl&gt; | PRESSURE &lt;int&gt; | HUMIDITY &lt;int&gt; | WIND_SPEED &lt;dbl&gt; | WIND_DEG &lt;int&gt; | SEASON &lt;fct&gt; | FORECAST_DATETIME &lt;fct&gt; |\n",
       "|---|---|---|---|---|---|---|---|---|---|---|---|---|\n",
       "| 1 | Seoul | Clear  | 10000 | 12.32 | 10.91 | 12.32 | 1015 | 50 | 2.18 | 248 | Spring | 2021-04-16 12:00:00 |\n",
       "| 2 | Seoul | Clear  | 10000 | 11.48 |  9.81 | 11.48 | 1016 | 48 | 1.25 | 142 | Spring | 2021-04-16 15:00:00 |\n",
       "| 3 | Seoul | Clouds | 10000 |  9.99 |  8.82 |  9.99 | 1015 | 46 | 0.94 | 130 | Spring | 2021-04-16 18:00:00 |\n",
       "| 4 | Seoul | Clouds | 10000 |  7.87 |  7.87 |  7.87 | 1014 | 46 | 0.83 |  31 | Spring | 2021-04-16 21:00:00 |\n",
       "| 5 | Seoul | Clouds | 10000 | 10.09 | 10.09 | 10.09 | 1014 | 37 | 1.96 | 309 | Spring | 2021-04-17 00:00:00 |\n",
       "| 6 | Seoul | Rain   | 10000 |  9.74 |  9.74 |  9.74 | 1014 | 48 | 3.24 | 267 | Spring | 2021-04-17 03:00:00 |\n",
       "\n"
      ],
      "text/plain": [
       "  CITY  WEATHER VISIBILITY TEMP  TEMP_MIN TEMP_MAX PRESSURE HUMIDITY WIND_SPEED\n",
       "1 Seoul Clear   10000      12.32 10.91    12.32    1015     50       2.18      \n",
       "2 Seoul Clear   10000      11.48  9.81    11.48    1016     48       1.25      \n",
       "3 Seoul Clouds  10000       9.99  8.82     9.99    1015     46       0.94      \n",
       "4 Seoul Clouds  10000       7.87  7.87     7.87    1014     46       0.83      \n",
       "5 Seoul Clouds  10000      10.09 10.09    10.09    1014     37       1.96      \n",
       "6 Seoul Rain    10000       9.74  9.74     9.74    1014     48       3.24      \n",
       "  WIND_DEG SEASON FORECAST_DATETIME  \n",
       "1 248      Spring 2021-04-16 12:00:00\n",
       "2 142      Spring 2021-04-16 15:00:00\n",
       "3 130      Spring 2021-04-16 18:00:00\n",
       "4  31      Spring 2021-04-16 21:00:00\n",
       "5 309      Spring 2021-04-17 00:00:00\n",
       "6 267      Spring 2021-04-17 03:00:00"
      ]
     },
     "metadata": {},
     "output_type": "display_data"
    },
    {
     "data": {
      "text/html": [
       "<table>\n",
       "<caption>A data.frame: 6 × 14</caption>\n",
       "<thead>\n",
       "\t<tr><th></th><th scope=col>DATE</th><th scope=col>RENTED_BIKE_COUNT</th><th scope=col>HOUR</th><th scope=col>TEMPERATURE</th><th scope=col>HUMIDITY</th><th scope=col>WIND_SPEED</th><th scope=col>VISIBILITY</th><th scope=col>DEW_POINT_TEMPERATURE</th><th scope=col>SOLAR_RADIATION</th><th scope=col>RAINFALL</th><th scope=col>SNOWFALL</th><th scope=col>SEASONS</th><th scope=col>HOLIDAY</th><th scope=col>FUNCTIONING_DAY</th></tr>\n",
       "\t<tr><th></th><th scope=col>&lt;fct&gt;</th><th scope=col>&lt;int&gt;</th><th scope=col>&lt;int&gt;</th><th scope=col>&lt;dbl&gt;</th><th scope=col>&lt;int&gt;</th><th scope=col>&lt;dbl&gt;</th><th scope=col>&lt;int&gt;</th><th scope=col>&lt;dbl&gt;</th><th scope=col>&lt;dbl&gt;</th><th scope=col>&lt;dbl&gt;</th><th scope=col>&lt;dbl&gt;</th><th scope=col>&lt;fct&gt;</th><th scope=col>&lt;fct&gt;</th><th scope=col>&lt;fct&gt;</th></tr>\n",
       "</thead>\n",
       "<tbody>\n",
       "\t<tr><th scope=row>1</th><td>01/12/2017</td><td>254</td><td>0</td><td>-5.2</td><td>37</td><td>2.2</td><td>2000</td><td>-17.6</td><td>0</td><td>0</td><td>0</td><td>Winter</td><td>No Holiday</td><td>Yes</td></tr>\n",
       "\t<tr><th scope=row>2</th><td>01/12/2017</td><td>204</td><td>1</td><td>-5.5</td><td>38</td><td>0.8</td><td>2000</td><td>-17.6</td><td>0</td><td>0</td><td>0</td><td>Winter</td><td>No Holiday</td><td>Yes</td></tr>\n",
       "\t<tr><th scope=row>3</th><td>01/12/2017</td><td>173</td><td>2</td><td>-6.0</td><td>39</td><td>1.0</td><td>2000</td><td>-17.7</td><td>0</td><td>0</td><td>0</td><td>Winter</td><td>No Holiday</td><td>Yes</td></tr>\n",
       "\t<tr><th scope=row>4</th><td>01/12/2017</td><td>107</td><td>3</td><td>-6.2</td><td>40</td><td>0.9</td><td>2000</td><td>-17.6</td><td>0</td><td>0</td><td>0</td><td>Winter</td><td>No Holiday</td><td>Yes</td></tr>\n",
       "\t<tr><th scope=row>5</th><td>01/12/2017</td><td> 78</td><td>4</td><td>-6.0</td><td>36</td><td>2.3</td><td>2000</td><td>-18.6</td><td>0</td><td>0</td><td>0</td><td>Winter</td><td>No Holiday</td><td>Yes</td></tr>\n",
       "\t<tr><th scope=row>6</th><td>01/12/2017</td><td>100</td><td>5</td><td>-6.4</td><td>37</td><td>1.5</td><td>2000</td><td>-18.7</td><td>0</td><td>0</td><td>0</td><td>Winter</td><td>No Holiday</td><td>Yes</td></tr>\n",
       "</tbody>\n",
       "</table>\n"
      ],
      "text/latex": [
       "A data.frame: 6 × 14\n",
       "\\begin{tabular}{r|llllllllllllll}\n",
       "  & DATE & RENTED\\_BIKE\\_COUNT & HOUR & TEMPERATURE & HUMIDITY & WIND\\_SPEED & VISIBILITY & DEW\\_POINT\\_TEMPERATURE & SOLAR\\_RADIATION & RAINFALL & SNOWFALL & SEASONS & HOLIDAY & FUNCTIONING\\_DAY\\\\\n",
       "  & <fct> & <int> & <int> & <dbl> & <int> & <dbl> & <int> & <dbl> & <dbl> & <dbl> & <dbl> & <fct> & <fct> & <fct>\\\\\n",
       "\\hline\n",
       "\t1 & 01/12/2017 & 254 & 0 & -5.2 & 37 & 2.2 & 2000 & -17.6 & 0 & 0 & 0 & Winter & No Holiday & Yes\\\\\n",
       "\t2 & 01/12/2017 & 204 & 1 & -5.5 & 38 & 0.8 & 2000 & -17.6 & 0 & 0 & 0 & Winter & No Holiday & Yes\\\\\n",
       "\t3 & 01/12/2017 & 173 & 2 & -6.0 & 39 & 1.0 & 2000 & -17.7 & 0 & 0 & 0 & Winter & No Holiday & Yes\\\\\n",
       "\t4 & 01/12/2017 & 107 & 3 & -6.2 & 40 & 0.9 & 2000 & -17.6 & 0 & 0 & 0 & Winter & No Holiday & Yes\\\\\n",
       "\t5 & 01/12/2017 &  78 & 4 & -6.0 & 36 & 2.3 & 2000 & -18.6 & 0 & 0 & 0 & Winter & No Holiday & Yes\\\\\n",
       "\t6 & 01/12/2017 & 100 & 5 & -6.4 & 37 & 1.5 & 2000 & -18.7 & 0 & 0 & 0 & Winter & No Holiday & Yes\\\\\n",
       "\\end{tabular}\n"
      ],
      "text/markdown": [
       "\n",
       "A data.frame: 6 × 14\n",
       "\n",
       "| <!--/--> | DATE &lt;fct&gt; | RENTED_BIKE_COUNT &lt;int&gt; | HOUR &lt;int&gt; | TEMPERATURE &lt;dbl&gt; | HUMIDITY &lt;int&gt; | WIND_SPEED &lt;dbl&gt; | VISIBILITY &lt;int&gt; | DEW_POINT_TEMPERATURE &lt;dbl&gt; | SOLAR_RADIATION &lt;dbl&gt; | RAINFALL &lt;dbl&gt; | SNOWFALL &lt;dbl&gt; | SEASONS &lt;fct&gt; | HOLIDAY &lt;fct&gt; | FUNCTIONING_DAY &lt;fct&gt; |\n",
       "|---|---|---|---|---|---|---|---|---|---|---|---|---|---|---|\n",
       "| 1 | 01/12/2017 | 254 | 0 | -5.2 | 37 | 2.2 | 2000 | -17.6 | 0 | 0 | 0 | Winter | No Holiday | Yes |\n",
       "| 2 | 01/12/2017 | 204 | 1 | -5.5 | 38 | 0.8 | 2000 | -17.6 | 0 | 0 | 0 | Winter | No Holiday | Yes |\n",
       "| 3 | 01/12/2017 | 173 | 2 | -6.0 | 39 | 1.0 | 2000 | -17.7 | 0 | 0 | 0 | Winter | No Holiday | Yes |\n",
       "| 4 | 01/12/2017 | 107 | 3 | -6.2 | 40 | 0.9 | 2000 | -17.6 | 0 | 0 | 0 | Winter | No Holiday | Yes |\n",
       "| 5 | 01/12/2017 |  78 | 4 | -6.0 | 36 | 2.3 | 2000 | -18.6 | 0 | 0 | 0 | Winter | No Holiday | Yes |\n",
       "| 6 | 01/12/2017 | 100 | 5 | -6.4 | 37 | 1.5 | 2000 | -18.7 | 0 | 0 | 0 | Winter | No Holiday | Yes |\n",
       "\n"
      ],
      "text/plain": [
       "  DATE       RENTED_BIKE_COUNT HOUR TEMPERATURE HUMIDITY WIND_SPEED VISIBILITY\n",
       "1 01/12/2017 254               0    -5.2        37       2.2        2000      \n",
       "2 01/12/2017 204               1    -5.5        38       0.8        2000      \n",
       "3 01/12/2017 173               2    -6.0        39       1.0        2000      \n",
       "4 01/12/2017 107               3    -6.2        40       0.9        2000      \n",
       "5 01/12/2017  78               4    -6.0        36       2.3        2000      \n",
       "6 01/12/2017 100               5    -6.4        37       1.5        2000      \n",
       "  DEW_POINT_TEMPERATURE SOLAR_RADIATION RAINFALL SNOWFALL SEASONS HOLIDAY   \n",
       "1 -17.6                 0               0        0        Winter  No Holiday\n",
       "2 -17.6                 0               0        0        Winter  No Holiday\n",
       "3 -17.7                 0               0        0        Winter  No Holiday\n",
       "4 -17.6                 0               0        0        Winter  No Holiday\n",
       "5 -18.6                 0               0        0        Winter  No Holiday\n",
       "6 -18.7                 0               0        0        Winter  No Holiday\n",
       "  FUNCTIONING_DAY\n",
       "1 Yes            \n",
       "2 Yes            \n",
       "3 Yes            \n",
       "4 Yes            \n",
       "5 Yes            \n",
       "6 Yes            "
      ]
     },
     "metadata": {},
     "output_type": "display_data"
    }
   ],
   "source": [
    "# read file\n",
    "world_cities <- read.csv(\"world_cities.csv\")\n",
    "head(world_cities)\n",
    "\n",
    "bike_sharing_systems <- read.csv(\"bike_sharing_systems.csv\")\n",
    "head(bike_sharing_systems)\n",
    "\n",
    "cities_weather_forecast <- read.csv(\"cities_weather_forecast.csv\")\n",
    "head(cities_weather_forecast)\n",
    "\n",
    "seoul_bike_sharing <- read.csv(\"seoul_bike_sharing.csv\")\n",
    "head(seoul_bike_sharing)"
   ]
  },
  {
   "cell_type": "code",
   "execution_count": 4,
   "metadata": {
    "tags": []
   },
   "outputs": [
    {
     "ename": "ERROR",
     "evalue": "Error: Table world_cities exists in database, and both overwrite and append are FALSE\n",
     "execution_count": 4,
     "output_type": "error",
     "traceback": [
      "Error: Table world_cities exists in database, and both overwrite and append are FALSE\nTraceback:\n",
      "1. dbWriteTable(conn, \"world_cities\", world_cities)",
      "2. dbWriteTable(conn, \"world_cities\", world_cities)",
      "3. .local(conn, name, value, ...)",
      "4. stop(\"Table \", name, \" exists in database, and both overwrite and\", \n .     \" append are FALSE\", call. = FALSE)"
     ]
    }
   ],
   "source": [
    "# Create Table\n",
    "dbWriteTable(conn,\"world_cities\",world_cities)\n",
    "dbWriteTable(conn,\"bike_sharing_systems\",bike_sharing_systems)\n",
    "dbWriteTable(conn,\"cities_weather_forecast\",cities_weather_forecast)\n",
    "dbWriteTable(conn,\"seoul_bike_sharing\",seoul_bike_sharing)"
   ]
  },
  {
   "cell_type": "code",
   "execution_count": 3,
   "metadata": {
    "tags": []
   },
   "outputs": [
    {
     "data": {
      "text/html": [
       "<style>\n",
       ".list-inline {list-style: none; margin:0; padding: 0}\n",
       ".list-inline>li {display: inline-block}\n",
       ".list-inline>li:not(:last-child)::after {content: \"\\00b7\"; padding: 0 .5ex}\n",
       "</style>\n",
       "<ol class=list-inline><li>'bike_sharing_systems'</li><li>'cities_weather_forecast'</li><li>'seoul_bike_sharing'</li><li>'world_cities'</li></ol>\n"
      ],
      "text/latex": [
       "\\begin{enumerate*}\n",
       "\\item 'bike\\_sharing\\_systems'\n",
       "\\item 'cities\\_weather\\_forecast'\n",
       "\\item 'seoul\\_bike\\_sharing'\n",
       "\\item 'world\\_cities'\n",
       "\\end{enumerate*}\n"
      ],
      "text/markdown": [
       "1. 'bike_sharing_systems'\n",
       "2. 'cities_weather_forecast'\n",
       "3. 'seoul_bike_sharing'\n",
       "4. 'world_cities'\n",
       "\n",
       "\n"
      ],
      "text/plain": [
       "[1] \"bike_sharing_systems\"    \"cities_weather_forecast\"\n",
       "[3] \"seoul_bike_sharing\"      \"world_cities\"           "
      ]
     },
     "metadata": {},
     "output_type": "display_data"
    }
   ],
   "source": [
    "dbListTables(conn)"
   ]
  },
  {
   "cell_type": "markdown",
   "metadata": {},
   "source": [
    "\n",
    "## Task 1 - Record Count\n",
    "#### Determine how many records are in the seoul_bike_sharing dataset.\n"
   ]
  },
  {
   "cell_type": "markdown",
   "metadata": {},
   "source": [
    "### Solution 1\n"
   ]
  },
  {
   "cell_type": "code",
   "execution_count": 4,
   "metadata": {
    "tags": []
   },
   "outputs": [
    {
     "data": {
      "text/html": [
       "<table>\n",
       "<caption>A data.frame: 1 × 1</caption>\n",
       "<thead>\n",
       "\t<tr><th scope=col>COUNT ()</th></tr>\n",
       "\t<tr><th scope=col>&lt;int&gt;</th></tr>\n",
       "</thead>\n",
       "<tbody>\n",
       "\t<tr><td>8465</td></tr>\n",
       "</tbody>\n",
       "</table>\n"
      ],
      "text/latex": [
       "A data.frame: 1 × 1\n",
       "\\begin{tabular}{l}\n",
       " COUNT ()\\\\\n",
       " <int>\\\\\n",
       "\\hline\n",
       "\t 8465\\\\\n",
       "\\end{tabular}\n"
      ],
      "text/markdown": [
       "\n",
       "A data.frame: 1 × 1\n",
       "\n",
       "| COUNT () &lt;int&gt; |\n",
       "|---|\n",
       "| 8465 |\n",
       "\n"
      ],
      "text/plain": [
       "  COUNT ()\n",
       "1 8465    "
      ]
     },
     "metadata": {},
     "output_type": "display_data"
    }
   ],
   "source": [
    "# provide your solution here\n",
    "dbGetQuery(conn, 'SELECT COUNT () FROM seoul_bike_sharing')"
   ]
  },
  {
   "cell_type": "markdown",
   "metadata": {},
   "source": [
    "## Task 2 - Operational Hours\n",
    "#### Determine how many hours had non-zero rented bike count.\n"
   ]
  },
  {
   "cell_type": "markdown",
   "metadata": {},
   "source": [
    "### Solution 2\n"
   ]
  },
  {
   "cell_type": "code",
   "execution_count": 5,
   "metadata": {
    "tags": []
   },
   "outputs": [
    {
     "data": {
      "text/html": [
       "<table>\n",
       "<caption>A data.frame: 1 × 1</caption>\n",
       "<thead>\n",
       "\t<tr><th scope=col>COUNT (HOUR)</th></tr>\n",
       "\t<tr><th scope=col>&lt;int&gt;</th></tr>\n",
       "</thead>\n",
       "<tbody>\n",
       "\t<tr><td>8465</td></tr>\n",
       "</tbody>\n",
       "</table>\n"
      ],
      "text/latex": [
       "A data.frame: 1 × 1\n",
       "\\begin{tabular}{l}\n",
       " COUNT (HOUR)\\\\\n",
       " <int>\\\\\n",
       "\\hline\n",
       "\t 8465\\\\\n",
       "\\end{tabular}\n"
      ],
      "text/markdown": [
       "\n",
       "A data.frame: 1 × 1\n",
       "\n",
       "| COUNT (HOUR) &lt;int&gt; |\n",
       "|---|\n",
       "| 8465 |\n",
       "\n"
      ],
      "text/plain": [
       "  COUNT (HOUR)\n",
       "1 8465        "
      ]
     },
     "metadata": {},
     "output_type": "display_data"
    }
   ],
   "source": [
    "# provide your solution here\n",
    "dbGetQuery(conn, 'SELECT COUNT (HOUR) FROM seoul_bike_sharing WHERE RENTED_BIKE_COUNT > 0')"
   ]
  },
  {
   "cell_type": "markdown",
   "metadata": {},
   "source": [
    "## Task 3 - Weather Outlook\n",
    "#### Query the the weather forecast for Seoul over the next 3 hours.\n",
    "Recall that the records in the CITIES_WEATHER_FORECAST dataset are 3 hours apart, so we just need the first record from the query.\n"
   ]
  },
  {
   "cell_type": "markdown",
   "metadata": {},
   "source": [
    "### Solution 3\n"
   ]
  },
  {
   "cell_type": "code",
   "execution_count": null,
   "metadata": {},
   "outputs": [],
   "source": [
    "# provide your solution here\n"
   ]
  },
  {
   "cell_type": "markdown",
   "metadata": {},
   "source": [
    "## Task 4 - Seasons\n",
    "#### Find which seasons are included in the seoul bike sharing dataset.\n"
   ]
  },
  {
   "cell_type": "markdown",
   "metadata": {},
   "source": [
    "### Solution 4\n"
   ]
  },
  {
   "cell_type": "code",
   "execution_count": 6,
   "metadata": {
    "tags": []
   },
   "outputs": [
    {
     "data": {
      "text/html": [
       "<table>\n",
       "<caption>A data.frame: 4 × 1</caption>\n",
       "<thead>\n",
       "\t<tr><th scope=col>SEASONS</th></tr>\n",
       "\t<tr><th scope=col>&lt;chr&gt;</th></tr>\n",
       "</thead>\n",
       "<tbody>\n",
       "\t<tr><td>Winter</td></tr>\n",
       "\t<tr><td>Spring</td></tr>\n",
       "\t<tr><td>Summer</td></tr>\n",
       "\t<tr><td>Autumn</td></tr>\n",
       "</tbody>\n",
       "</table>\n"
      ],
      "text/latex": [
       "A data.frame: 4 × 1\n",
       "\\begin{tabular}{l}\n",
       " SEASONS\\\\\n",
       " <chr>\\\\\n",
       "\\hline\n",
       "\t Winter\\\\\n",
       "\t Spring\\\\\n",
       "\t Summer\\\\\n",
       "\t Autumn\\\\\n",
       "\\end{tabular}\n"
      ],
      "text/markdown": [
       "\n",
       "A data.frame: 4 × 1\n",
       "\n",
       "| SEASONS &lt;chr&gt; |\n",
       "|---|\n",
       "| Winter |\n",
       "| Spring |\n",
       "| Summer |\n",
       "| Autumn |\n",
       "\n"
      ],
      "text/plain": [
       "  SEASONS\n",
       "1 Winter \n",
       "2 Spring \n",
       "3 Summer \n",
       "4 Autumn "
      ]
     },
     "metadata": {},
     "output_type": "display_data"
    }
   ],
   "source": [
    "# provide your solution here\n",
    "dbGetQuery(conn, 'SELECT DISTINCT SEASONS FROM seoul_bike_sharing')"
   ]
  },
  {
   "cell_type": "markdown",
   "metadata": {},
   "source": [
    "## Task 5 - Date Range\n",
    "#### Find the first and last dates in the Seoul Bike Sharing dataset.\n"
   ]
  },
  {
   "cell_type": "markdown",
   "metadata": {},
   "source": [
    "### Solution 5\n"
   ]
  },
  {
   "cell_type": "code",
   "execution_count": 7,
   "metadata": {
    "tags": []
   },
   "outputs": [
    {
     "data": {
      "text/html": [
       "<table>\n",
       "<caption>A data.frame: 1 × 2</caption>\n",
       "<thead>\n",
       "\t<tr><th scope=col>min(DATE)</th><th scope=col>max(DATE)</th></tr>\n",
       "\t<tr><th scope=col>&lt;chr&gt;</th><th scope=col>&lt;chr&gt;</th></tr>\n",
       "</thead>\n",
       "<tbody>\n",
       "\t<tr><td>01/01/2018</td><td>31/12/2017</td></tr>\n",
       "</tbody>\n",
       "</table>\n"
      ],
      "text/latex": [
       "A data.frame: 1 × 2\n",
       "\\begin{tabular}{ll}\n",
       " min(DATE) & max(DATE)\\\\\n",
       " <chr> & <chr>\\\\\n",
       "\\hline\n",
       "\t 01/01/2018 & 31/12/2017\\\\\n",
       "\\end{tabular}\n"
      ],
      "text/markdown": [
       "\n",
       "A data.frame: 1 × 2\n",
       "\n",
       "| min(DATE) &lt;chr&gt; | max(DATE) &lt;chr&gt; |\n",
       "|---|---|\n",
       "| 01/01/2018 | 31/12/2017 |\n",
       "\n"
      ],
      "text/plain": [
       "  min(DATE)  max(DATE) \n",
       "1 01/01/2018 31/12/2017"
      ]
     },
     "metadata": {},
     "output_type": "display_data"
    }
   ],
   "source": [
    "# provide your solution here\n",
    "dbGetQuery(conn, 'SELECT min(DATE), max(DATE) FROM seoul_bike_sharing')"
   ]
  },
  {
   "cell_type": "markdown",
   "metadata": {},
   "source": [
    "## Task 6 - Subquery - 'all-time high'\n",
    "#### determine which date and hour had the most bike rentals.\n"
   ]
  },
  {
   "cell_type": "markdown",
   "metadata": {},
   "source": [
    "### Solution 6\n"
   ]
  },
  {
   "cell_type": "code",
   "execution_count": 8,
   "metadata": {
    "tags": []
   },
   "outputs": [
    {
     "data": {
      "text/html": [
       "<table>\n",
       "<caption>A data.frame: 1 × 3</caption>\n",
       "<thead>\n",
       "\t<tr><th scope=col>MAX(RENTED_BIKE_COUNT)</th><th scope=col>DATE</th><th scope=col>HOUR</th></tr>\n",
       "\t<tr><th scope=col>&lt;int&gt;</th><th scope=col>&lt;chr&gt;</th><th scope=col>&lt;int&gt;</th></tr>\n",
       "</thead>\n",
       "<tbody>\n",
       "\t<tr><td>3556</td><td>19/06/2018</td><td>18</td></tr>\n",
       "</tbody>\n",
       "</table>\n"
      ],
      "text/latex": [
       "A data.frame: 1 × 3\n",
       "\\begin{tabular}{lll}\n",
       " MAX(RENTED\\_BIKE\\_COUNT) & DATE & HOUR\\\\\n",
       " <int> & <chr> & <int>\\\\\n",
       "\\hline\n",
       "\t 3556 & 19/06/2018 & 18\\\\\n",
       "\\end{tabular}\n"
      ],
      "text/markdown": [
       "\n",
       "A data.frame: 1 × 3\n",
       "\n",
       "| MAX(RENTED_BIKE_COUNT) &lt;int&gt; | DATE &lt;chr&gt; | HOUR &lt;int&gt; |\n",
       "|---|---|---|\n",
       "| 3556 | 19/06/2018 | 18 |\n",
       "\n"
      ],
      "text/plain": [
       "  MAX(RENTED_BIKE_COUNT) DATE       HOUR\n",
       "1 3556                   19/06/2018 18  "
      ]
     },
     "metadata": {},
     "output_type": "display_data"
    }
   ],
   "source": [
    "# provide your solution here\n",
    "dbGetQuery(conn, 'SELECT MAX(RENTED_BIKE_COUNT), DATE, HOUR FROM seoul_bike_sharing')"
   ]
  },
  {
   "cell_type": "markdown",
   "metadata": {},
   "source": [
    "## Task 7 - Hourly popularity and temperature by season\n",
    "#### Determine the average hourly temperature and the average number of bike rentals per hour over each season. List the top ten results by average bike count.\n"
   ]
  },
  {
   "cell_type": "markdown",
   "metadata": {},
   "source": [
    "### Solution 7\n"
   ]
  },
  {
   "cell_type": "code",
   "execution_count": 9,
   "metadata": {
    "tags": []
   },
   "outputs": [
    {
     "data": {
      "text/html": [
       "<table>\n",
       "<caption>A data.frame: 10 × 4</caption>\n",
       "<thead>\n",
       "\t<tr><th scope=col>AverageHourlyTemp</th><th scope=col>AverageBike</th><th scope=col>HOUR</th><th scope=col>SEASONS</th></tr>\n",
       "\t<tr><th scope=col>&lt;dbl&gt;</th><th scope=col>&lt;dbl&gt;</th><th scope=col>&lt;int&gt;</th><th scope=col>&lt;chr&gt;</th></tr>\n",
       "</thead>\n",
       "<tbody>\n",
       "\t<tr><td>29.38791</td><td>2135.141</td><td>18</td><td>Summer</td></tr>\n",
       "\t<tr><td>16.03185</td><td>1983.333</td><td>18</td><td>Autumn</td></tr>\n",
       "\t<tr><td>28.27378</td><td>1889.250</td><td>19</td><td>Summer</td></tr>\n",
       "\t<tr><td>27.06630</td><td>1801.924</td><td>20</td><td>Summer</td></tr>\n",
       "\t<tr><td>26.27826</td><td>1754.065</td><td>21</td><td>Summer</td></tr>\n",
       "\t<tr><td>15.97222</td><td>1689.311</td><td>18</td><td>Spring</td></tr>\n",
       "\t<tr><td>25.69891</td><td>1567.870</td><td>22</td><td>Summer</td></tr>\n",
       "\t<tr><td>17.27778</td><td>1562.877</td><td>17</td><td>Autumn</td></tr>\n",
       "\t<tr><td>30.07691</td><td>1526.293</td><td>17</td><td>Summer</td></tr>\n",
       "\t<tr><td>15.06346</td><td>1515.568</td><td>19</td><td>Autumn</td></tr>\n",
       "</tbody>\n",
       "</table>\n"
      ],
      "text/latex": [
       "A data.frame: 10 × 4\n",
       "\\begin{tabular}{llll}\n",
       " AverageHourlyTemp & AverageBike & HOUR & SEASONS\\\\\n",
       " <dbl> & <dbl> & <int> & <chr>\\\\\n",
       "\\hline\n",
       "\t 29.38791 & 2135.141 & 18 & Summer\\\\\n",
       "\t 16.03185 & 1983.333 & 18 & Autumn\\\\\n",
       "\t 28.27378 & 1889.250 & 19 & Summer\\\\\n",
       "\t 27.06630 & 1801.924 & 20 & Summer\\\\\n",
       "\t 26.27826 & 1754.065 & 21 & Summer\\\\\n",
       "\t 15.97222 & 1689.311 & 18 & Spring\\\\\n",
       "\t 25.69891 & 1567.870 & 22 & Summer\\\\\n",
       "\t 17.27778 & 1562.877 & 17 & Autumn\\\\\n",
       "\t 30.07691 & 1526.293 & 17 & Summer\\\\\n",
       "\t 15.06346 & 1515.568 & 19 & Autumn\\\\\n",
       "\\end{tabular}\n"
      ],
      "text/markdown": [
       "\n",
       "A data.frame: 10 × 4\n",
       "\n",
       "| AverageHourlyTemp &lt;dbl&gt; | AverageBike &lt;dbl&gt; | HOUR &lt;int&gt; | SEASONS &lt;chr&gt; |\n",
       "|---|---|---|---|\n",
       "| 29.38791 | 2135.141 | 18 | Summer |\n",
       "| 16.03185 | 1983.333 | 18 | Autumn |\n",
       "| 28.27378 | 1889.250 | 19 | Summer |\n",
       "| 27.06630 | 1801.924 | 20 | Summer |\n",
       "| 26.27826 | 1754.065 | 21 | Summer |\n",
       "| 15.97222 | 1689.311 | 18 | Spring |\n",
       "| 25.69891 | 1567.870 | 22 | Summer |\n",
       "| 17.27778 | 1562.877 | 17 | Autumn |\n",
       "| 30.07691 | 1526.293 | 17 | Summer |\n",
       "| 15.06346 | 1515.568 | 19 | Autumn |\n",
       "\n"
      ],
      "text/plain": [
       "   AverageHourlyTemp AverageBike HOUR SEASONS\n",
       "1  29.38791          2135.141    18   Summer \n",
       "2  16.03185          1983.333    18   Autumn \n",
       "3  28.27378          1889.250    19   Summer \n",
       "4  27.06630          1801.924    20   Summer \n",
       "5  26.27826          1754.065    21   Summer \n",
       "6  15.97222          1689.311    18   Spring \n",
       "7  25.69891          1567.870    22   Summer \n",
       "8  17.27778          1562.877    17   Autumn \n",
       "9  30.07691          1526.293    17   Summer \n",
       "10 15.06346          1515.568    19   Autumn "
      ]
     },
     "metadata": {},
     "output_type": "display_data"
    }
   ],
   "source": [
    "# provide your solution here\n",
    "dbGetQuery(conn, 'SELECT AVG(TEMPERATURE) AS AverageHourlyTemp, AVG(RENTED_BIKE_COUNT) AS AverageBike, HOUR, SEASONS FROM seoul_bike_sharing GROUP BY SEASONS, HOUR ORDER BY AverageBike\n",
    "           DESC LIMIT 10')"
   ]
  },
  {
   "cell_type": "markdown",
   "metadata": {},
   "source": [
    "## Task 8 - Rental Seasonality\n",
    "#### Find the average hourly bike count during each season. \n",
    "Also include the minimum, maximum, and standard deviation of the hourly bike count for each season. \n",
    "\n",
    "> Hint : Use the SQRT(AVG(col*col) - AVG(col)*AVG(col) ) function where col refers to your column name for finding the standard deviation\n"
   ]
  },
  {
   "cell_type": "markdown",
   "metadata": {},
   "source": [
    "### Solution 8\n"
   ]
  },
  {
   "cell_type": "code",
   "execution_count": 51,
   "metadata": {
    "tags": []
   },
   "outputs": [
    {
     "data": {
      "text/html": [
       "<table>\n",
       "<caption>A data.frame: 96 × 4</caption>\n",
       "<thead>\n",
       "\t<tr><th scope=col>AverageBike</th><th scope=col>MinBike</th><th scope=col>MaxBike</th><th scope=col>StandardDev</th></tr>\n",
       "\t<tr><th scope=col>&lt;dbl&gt;</th><th scope=col>&lt;int&gt;</th><th scope=col>&lt;int&gt;</th><th scope=col>&lt;dbl&gt;</th></tr>\n",
       "</thead>\n",
       "<tbody>\n",
       "\t<tr><td> 709.4375</td><td>119</td><td>1336</td><td>219.14298</td></tr>\n",
       "\t<tr><td> 552.5000</td><td>144</td><td>1001</td><td>191.54216</td></tr>\n",
       "\t<tr><td> 377.4750</td><td> 55</td><td> 785</td><td>144.90134</td></tr>\n",
       "\t<tr><td> 256.5500</td><td> 28</td><td> 514</td><td>102.53108</td></tr>\n",
       "\t<tr><td> 169.0250</td><td> 24</td><td> 338</td><td> 58.63957</td></tr>\n",
       "\t<tr><td> 163.4125</td><td> 24</td><td> 264</td><td> 53.88174</td></tr>\n",
       "\t<tr><td> 359.4875</td><td> 23</td><td> 691</td><td>180.27049</td></tr>\n",
       "\t<tr><td> 788.8765</td><td>  5</td><td>1556</td><td>457.96861</td></tr>\n",
       "\t<tr><td>1345.0370</td><td>  6</td><td>2391</td><td>758.35956</td></tr>\n",
       "\t<tr><td> 848.4321</td><td>  5</td><td>1322</td><td>334.52653</td></tr>\n",
       "\t<tr><td> 715.2716</td><td>  2</td><td>1113</td><td>252.56839</td></tr>\n",
       "\t<tr><td> 802.9506</td><td> 20</td><td>1284</td><td>302.57238</td></tr>\n",
       "\t<tr><td> 934.6420</td><td> 17</td><td>1634</td><td>347.69066</td></tr>\n",
       "\t<tr><td>1002.6667</td><td> 18</td><td>1849</td><td>369.30997</td></tr>\n",
       "\t<tr><td>1058.8272</td><td> 17</td><td>1995</td><td>403.85277</td></tr>\n",
       "\t<tr><td>1156.7037</td><td>  8</td><td>2200</td><td>455.21810</td></tr>\n",
       "\t<tr><td>1293.2099</td><td> 14</td><td>2270</td><td>498.10638</td></tr>\n",
       "\t<tr><td>1562.8765</td><td> 23</td><td>2432</td><td>554.31649</td></tr>\n",
       "\t<tr><td>1983.3333</td><td> 40</td><td>3298</td><td>778.44135</td></tr>\n",
       "\t<tr><td>1515.5679</td><td> 19</td><td>2518</td><td>571.14972</td></tr>\n",
       "\t<tr><td>1321.7037</td><td> 12</td><td>2259</td><td>508.99136</td></tr>\n",
       "\t<tr><td>1253.8148</td><td> 21</td><td>2212</td><td>490.92858</td></tr>\n",
       "\t<tr><td>1130.2099</td><td> 14</td><td>1868</td><td>411.96934</td></tr>\n",
       "\t<tr><td> 828.7284</td><td>  4</td><td>1523</td><td>292.97832</td></tr>\n",
       "\t<tr><td> 481.0889</td><td> 22</td><td>1089</td><td>253.38673</td></tr>\n",
       "\t<tr><td> 363.9444</td><td> 23</td><td> 837</td><td>206.04322</td></tr>\n",
       "\t<tr><td> 252.9667</td><td>  9</td><td> 590</td><td>145.32266</td></tr>\n",
       "\t<tr><td> 168.4778</td><td>  2</td><td> 423</td><td>101.20444</td></tr>\n",
       "\t<tr><td> 108.2222</td><td>  2</td><td> 252</td><td> 59.64577</td></tr>\n",
       "\t<tr><td> 116.1778</td><td>  6</td><td> 265</td><td> 64.93117</td></tr>\n",
       "\t<tr><td>⋮</td><td>⋮</td><td>⋮</td><td>⋮</td></tr>\n",
       "\t<tr><td>2135.14130</td><td>17</td><td>3556</td><td>884.08294</td></tr>\n",
       "\t<tr><td>1889.25000</td><td>18</td><td>2984</td><td>728.87994</td></tr>\n",
       "\t<tr><td>1801.92391</td><td>10</td><td>2579</td><td>662.21626</td></tr>\n",
       "\t<tr><td>1754.06522</td><td>17</td><td>2505</td><td>596.13742</td></tr>\n",
       "\t<tr><td>1567.86957</td><td>16</td><td>2309</td><td>516.64344</td></tr>\n",
       "\t<tr><td>1153.90217</td><td>15</td><td>1732</td><td>377.80666</td></tr>\n",
       "\t<tr><td> 165.17778</td><td>42</td><td> 342</td><td> 63.81163</td></tr>\n",
       "\t<tr><td> 159.05556</td><td>43</td><td> 337</td><td> 65.84247</td></tr>\n",
       "\t<tr><td> 117.78889</td><td>38</td><td> 312</td><td> 54.94533</td></tr>\n",
       "\t<tr><td>  77.81111</td><td>21</td><td> 230</td><td> 37.68256</td></tr>\n",
       "\t<tr><td>  50.47778</td><td>20</td><td> 120</td><td> 19.05561</td></tr>\n",
       "\t<tr><td>  51.22222</td><td>13</td><td> 100</td><td> 18.98759</td></tr>\n",
       "\t<tr><td>  92.82222</td><td> 9</td><td> 200</td><td> 45.48372</td></tr>\n",
       "\t<tr><td> 209.56667</td><td> 3</td><td> 498</td><td>125.47121</td></tr>\n",
       "\t<tr><td> 422.20000</td><td> 4</td><td> 937</td><td>253.13778</td></tr>\n",
       "\t<tr><td> 254.60000</td><td> 3</td><td> 509</td><td>111.70276</td></tr>\n",
       "\t<tr><td> 186.40000</td><td> 4</td><td> 339</td><td> 67.98150</td></tr>\n",
       "\t<tr><td> 228.32222</td><td> 9</td><td> 388</td><td> 78.23964</td></tr>\n",
       "\t<tr><td> 263.63333</td><td> 4</td><td> 479</td><td> 88.68163</td></tr>\n",
       "\t<tr><td> 275.25556</td><td> 7</td><td> 606</td><td> 98.32616</td></tr>\n",
       "\t<tr><td> 284.28889</td><td>17</td><td> 611</td><td>105.02394</td></tr>\n",
       "\t<tr><td> 298.64444</td><td> 7</td><td> 621</td><td>117.54473</td></tr>\n",
       "\t<tr><td> 308.57778</td><td> 9</td><td> 688</td><td>126.50569</td></tr>\n",
       "\t<tr><td> 342.51111</td><td> 8</td><td> 646</td><td>131.99514</td></tr>\n",
       "\t<tr><td> 438.30000</td><td>11</td><td> 929</td><td>216.66413</td></tr>\n",
       "\t<tr><td> 304.03333</td><td>19</td><td> 619</td><td>140.32070</td></tr>\n",
       "\t<tr><td> 243.23333</td><td> 8</td><td> 483</td><td> 96.22694</td></tr>\n",
       "\t<tr><td> 240.50000</td><td>10</td><td> 512</td><td> 98.08061</td></tr>\n",
       "\t<tr><td> 225.13333</td><td>13</td><td> 461</td><td> 91.87687</td></tr>\n",
       "\t<tr><td> 173.43333</td><td>23</td><td> 366</td><td> 67.49684</td></tr>\n",
       "</tbody>\n",
       "</table>\n"
      ],
      "text/latex": [
       "A data.frame: 96 × 4\n",
       "\\begin{tabular}{llll}\n",
       " AverageBike & MinBike & MaxBike & StandardDev\\\\\n",
       " <dbl> & <int> & <int> & <dbl>\\\\\n",
       "\\hline\n",
       "\t  709.4375 & 119 & 1336 & 219.14298\\\\\n",
       "\t  552.5000 & 144 & 1001 & 191.54216\\\\\n",
       "\t  377.4750 &  55 &  785 & 144.90134\\\\\n",
       "\t  256.5500 &  28 &  514 & 102.53108\\\\\n",
       "\t  169.0250 &  24 &  338 &  58.63957\\\\\n",
       "\t  163.4125 &  24 &  264 &  53.88174\\\\\n",
       "\t  359.4875 &  23 &  691 & 180.27049\\\\\n",
       "\t  788.8765 &   5 & 1556 & 457.96861\\\\\n",
       "\t 1345.0370 &   6 & 2391 & 758.35956\\\\\n",
       "\t  848.4321 &   5 & 1322 & 334.52653\\\\\n",
       "\t  715.2716 &   2 & 1113 & 252.56839\\\\\n",
       "\t  802.9506 &  20 & 1284 & 302.57238\\\\\n",
       "\t  934.6420 &  17 & 1634 & 347.69066\\\\\n",
       "\t 1002.6667 &  18 & 1849 & 369.30997\\\\\n",
       "\t 1058.8272 &  17 & 1995 & 403.85277\\\\\n",
       "\t 1156.7037 &   8 & 2200 & 455.21810\\\\\n",
       "\t 1293.2099 &  14 & 2270 & 498.10638\\\\\n",
       "\t 1562.8765 &  23 & 2432 & 554.31649\\\\\n",
       "\t 1983.3333 &  40 & 3298 & 778.44135\\\\\n",
       "\t 1515.5679 &  19 & 2518 & 571.14972\\\\\n",
       "\t 1321.7037 &  12 & 2259 & 508.99136\\\\\n",
       "\t 1253.8148 &  21 & 2212 & 490.92858\\\\\n",
       "\t 1130.2099 &  14 & 1868 & 411.96934\\\\\n",
       "\t  828.7284 &   4 & 1523 & 292.97832\\\\\n",
       "\t  481.0889 &  22 & 1089 & 253.38673\\\\\n",
       "\t  363.9444 &  23 &  837 & 206.04322\\\\\n",
       "\t  252.9667 &   9 &  590 & 145.32266\\\\\n",
       "\t  168.4778 &   2 &  423 & 101.20444\\\\\n",
       "\t  108.2222 &   2 &  252 &  59.64577\\\\\n",
       "\t  116.1778 &   6 &  265 &  64.93117\\\\\n",
       "\t ⋮ & ⋮ & ⋮ & ⋮\\\\\n",
       "\t 2135.14130 & 17 & 3556 & 884.08294\\\\\n",
       "\t 1889.25000 & 18 & 2984 & 728.87994\\\\\n",
       "\t 1801.92391 & 10 & 2579 & 662.21626\\\\\n",
       "\t 1754.06522 & 17 & 2505 & 596.13742\\\\\n",
       "\t 1567.86957 & 16 & 2309 & 516.64344\\\\\n",
       "\t 1153.90217 & 15 & 1732 & 377.80666\\\\\n",
       "\t  165.17778 & 42 &  342 &  63.81163\\\\\n",
       "\t  159.05556 & 43 &  337 &  65.84247\\\\\n",
       "\t  117.78889 & 38 &  312 &  54.94533\\\\\n",
       "\t   77.81111 & 21 &  230 &  37.68256\\\\\n",
       "\t   50.47778 & 20 &  120 &  19.05561\\\\\n",
       "\t   51.22222 & 13 &  100 &  18.98759\\\\\n",
       "\t   92.82222 &  9 &  200 &  45.48372\\\\\n",
       "\t  209.56667 &  3 &  498 & 125.47121\\\\\n",
       "\t  422.20000 &  4 &  937 & 253.13778\\\\\n",
       "\t  254.60000 &  3 &  509 & 111.70276\\\\\n",
       "\t  186.40000 &  4 &  339 &  67.98150\\\\\n",
       "\t  228.32222 &  9 &  388 &  78.23964\\\\\n",
       "\t  263.63333 &  4 &  479 &  88.68163\\\\\n",
       "\t  275.25556 &  7 &  606 &  98.32616\\\\\n",
       "\t  284.28889 & 17 &  611 & 105.02394\\\\\n",
       "\t  298.64444 &  7 &  621 & 117.54473\\\\\n",
       "\t  308.57778 &  9 &  688 & 126.50569\\\\\n",
       "\t  342.51111 &  8 &  646 & 131.99514\\\\\n",
       "\t  438.30000 & 11 &  929 & 216.66413\\\\\n",
       "\t  304.03333 & 19 &  619 & 140.32070\\\\\n",
       "\t  243.23333 &  8 &  483 &  96.22694\\\\\n",
       "\t  240.50000 & 10 &  512 &  98.08061\\\\\n",
       "\t  225.13333 & 13 &  461 &  91.87687\\\\\n",
       "\t  173.43333 & 23 &  366 &  67.49684\\\\\n",
       "\\end{tabular}\n"
      ],
      "text/markdown": [
       "\n",
       "A data.frame: 96 × 4\n",
       "\n",
       "| AverageBike &lt;dbl&gt; | MinBike &lt;int&gt; | MaxBike &lt;int&gt; | StandardDev &lt;dbl&gt; |\n",
       "|---|---|---|---|\n",
       "|  709.4375 | 119 | 1336 | 219.14298 |\n",
       "|  552.5000 | 144 | 1001 | 191.54216 |\n",
       "|  377.4750 |  55 |  785 | 144.90134 |\n",
       "|  256.5500 |  28 |  514 | 102.53108 |\n",
       "|  169.0250 |  24 |  338 |  58.63957 |\n",
       "|  163.4125 |  24 |  264 |  53.88174 |\n",
       "|  359.4875 |  23 |  691 | 180.27049 |\n",
       "|  788.8765 |   5 | 1556 | 457.96861 |\n",
       "| 1345.0370 |   6 | 2391 | 758.35956 |\n",
       "|  848.4321 |   5 | 1322 | 334.52653 |\n",
       "|  715.2716 |   2 | 1113 | 252.56839 |\n",
       "|  802.9506 |  20 | 1284 | 302.57238 |\n",
       "|  934.6420 |  17 | 1634 | 347.69066 |\n",
       "| 1002.6667 |  18 | 1849 | 369.30997 |\n",
       "| 1058.8272 |  17 | 1995 | 403.85277 |\n",
       "| 1156.7037 |   8 | 2200 | 455.21810 |\n",
       "| 1293.2099 |  14 | 2270 | 498.10638 |\n",
       "| 1562.8765 |  23 | 2432 | 554.31649 |\n",
       "| 1983.3333 |  40 | 3298 | 778.44135 |\n",
       "| 1515.5679 |  19 | 2518 | 571.14972 |\n",
       "| 1321.7037 |  12 | 2259 | 508.99136 |\n",
       "| 1253.8148 |  21 | 2212 | 490.92858 |\n",
       "| 1130.2099 |  14 | 1868 | 411.96934 |\n",
       "|  828.7284 |   4 | 1523 | 292.97832 |\n",
       "|  481.0889 |  22 | 1089 | 253.38673 |\n",
       "|  363.9444 |  23 |  837 | 206.04322 |\n",
       "|  252.9667 |   9 |  590 | 145.32266 |\n",
       "|  168.4778 |   2 |  423 | 101.20444 |\n",
       "|  108.2222 |   2 |  252 |  59.64577 |\n",
       "|  116.1778 |   6 |  265 |  64.93117 |\n",
       "| ⋮ | ⋮ | ⋮ | ⋮ |\n",
       "| 2135.14130 | 17 | 3556 | 884.08294 |\n",
       "| 1889.25000 | 18 | 2984 | 728.87994 |\n",
       "| 1801.92391 | 10 | 2579 | 662.21626 |\n",
       "| 1754.06522 | 17 | 2505 | 596.13742 |\n",
       "| 1567.86957 | 16 | 2309 | 516.64344 |\n",
       "| 1153.90217 | 15 | 1732 | 377.80666 |\n",
       "|  165.17778 | 42 |  342 |  63.81163 |\n",
       "|  159.05556 | 43 |  337 |  65.84247 |\n",
       "|  117.78889 | 38 |  312 |  54.94533 |\n",
       "|   77.81111 | 21 |  230 |  37.68256 |\n",
       "|   50.47778 | 20 |  120 |  19.05561 |\n",
       "|   51.22222 | 13 |  100 |  18.98759 |\n",
       "|   92.82222 |  9 |  200 |  45.48372 |\n",
       "|  209.56667 |  3 |  498 | 125.47121 |\n",
       "|  422.20000 |  4 |  937 | 253.13778 |\n",
       "|  254.60000 |  3 |  509 | 111.70276 |\n",
       "|  186.40000 |  4 |  339 |  67.98150 |\n",
       "|  228.32222 |  9 |  388 |  78.23964 |\n",
       "|  263.63333 |  4 |  479 |  88.68163 |\n",
       "|  275.25556 |  7 |  606 |  98.32616 |\n",
       "|  284.28889 | 17 |  611 | 105.02394 |\n",
       "|  298.64444 |  7 |  621 | 117.54473 |\n",
       "|  308.57778 |  9 |  688 | 126.50569 |\n",
       "|  342.51111 |  8 |  646 | 131.99514 |\n",
       "|  438.30000 | 11 |  929 | 216.66413 |\n",
       "|  304.03333 | 19 |  619 | 140.32070 |\n",
       "|  243.23333 |  8 |  483 |  96.22694 |\n",
       "|  240.50000 | 10 |  512 |  98.08061 |\n",
       "|  225.13333 | 13 |  461 |  91.87687 |\n",
       "|  173.43333 | 23 |  366 |  67.49684 |\n",
       "\n"
      ],
      "text/plain": [
       "   AverageBike MinBike MaxBike StandardDev\n",
       "1   709.4375   119     1336    219.14298  \n",
       "2   552.5000   144     1001    191.54216  \n",
       "3   377.4750    55      785    144.90134  \n",
       "4   256.5500    28      514    102.53108  \n",
       "5   169.0250    24      338     58.63957  \n",
       "6   163.4125    24      264     53.88174  \n",
       "7   359.4875    23      691    180.27049  \n",
       "8   788.8765     5     1556    457.96861  \n",
       "9  1345.0370     6     2391    758.35956  \n",
       "10  848.4321     5     1322    334.52653  \n",
       "11  715.2716     2     1113    252.56839  \n",
       "12  802.9506    20     1284    302.57238  \n",
       "13  934.6420    17     1634    347.69066  \n",
       "14 1002.6667    18     1849    369.30997  \n",
       "15 1058.8272    17     1995    403.85277  \n",
       "16 1156.7037     8     2200    455.21810  \n",
       "17 1293.2099    14     2270    498.10638  \n",
       "18 1562.8765    23     2432    554.31649  \n",
       "19 1983.3333    40     3298    778.44135  \n",
       "20 1515.5679    19     2518    571.14972  \n",
       "21 1321.7037    12     2259    508.99136  \n",
       "22 1253.8148    21     2212    490.92858  \n",
       "23 1130.2099    14     1868    411.96934  \n",
       "24  828.7284     4     1523    292.97832  \n",
       "25  481.0889    22     1089    253.38673  \n",
       "26  363.9444    23      837    206.04322  \n",
       "27  252.9667     9      590    145.32266  \n",
       "28  168.4778     2      423    101.20444  \n",
       "29  108.2222     2      252     59.64577  \n",
       "30  116.1778     6      265     64.93117  \n",
       "⋮  ⋮           ⋮       ⋮       ⋮          \n",
       "67 2135.14130  17      3556    884.08294  \n",
       "68 1889.25000  18      2984    728.87994  \n",
       "69 1801.92391  10      2579    662.21626  \n",
       "70 1754.06522  17      2505    596.13742  \n",
       "71 1567.86957  16      2309    516.64344  \n",
       "72 1153.90217  15      1732    377.80666  \n",
       "73  165.17778  42       342     63.81163  \n",
       "74  159.05556  43       337     65.84247  \n",
       "75  117.78889  38       312     54.94533  \n",
       "76   77.81111  21       230     37.68256  \n",
       "77   50.47778  20       120     19.05561  \n",
       "78   51.22222  13       100     18.98759  \n",
       "79   92.82222   9       200     45.48372  \n",
       "80  209.56667   3       498    125.47121  \n",
       "81  422.20000   4       937    253.13778  \n",
       "82  254.60000   3       509    111.70276  \n",
       "83  186.40000   4       339     67.98150  \n",
       "84  228.32222   9       388     78.23964  \n",
       "85  263.63333   4       479     88.68163  \n",
       "86  275.25556   7       606     98.32616  \n",
       "87  284.28889  17       611    105.02394  \n",
       "88  298.64444   7       621    117.54473  \n",
       "89  308.57778   9       688    126.50569  \n",
       "90  342.51111   8       646    131.99514  \n",
       "91  438.30000  11       929    216.66413  \n",
       "92  304.03333  19       619    140.32070  \n",
       "93  243.23333   8       483     96.22694  \n",
       "94  240.50000  10       512     98.08061  \n",
       "95  225.13333  13       461     91.87687  \n",
       "96  173.43333  23       366     67.49684  "
      ]
     },
     "metadata": {},
     "output_type": "display_data"
    }
   ],
   "source": [
    "# provide your solution here\n",
    "dbGetQuery(conn, 'SELECT AVG(RENTED_BIKE_COUNT) AS AverageBike, MIN(RENTED_BIKE_COUNT) AS MinBike, MAX(RENTED_BIKE_COUNT)AS MaxBike, \n",
    "SQRT(AVG(RENTED_BIKE_COUNT*RENTED_BIKE_COUNT) - AVG(RENTED_BIKE_COUNT)*AVG(RENTED_BIKE_COUNT)) AS StandardDev\n",
    "       FROM seoul_bike_sharing GROUP BY SEASONS, HOUR')"
   ]
  },
  {
   "cell_type": "markdown",
   "metadata": {},
   "source": [
    "Let's explore a bit and see what might be the most significant contributing factors in terms of the provided data.\n"
   ]
  },
  {
   "cell_type": "markdown",
   "metadata": {},
   "source": [
    "## Task 9 - Weather Seasonality\n",
    "#### Consider the weather over each season. On average, what were the TEMPERATURE, HUMIDITY, WIND_SPEED, VISIBILITY, DEW_POINT_TEMPERATURE, SOLAR_RADIATION, RAINFALL, and SNOWFALL per season?\n",
    "Include the average bike count as well , and rank the results by average bike count so you can see if it is correlated with the weather at all. \n"
   ]
  },
  {
   "cell_type": "markdown",
   "metadata": {},
   "source": [
    "### Solution 9\n"
   ]
  },
  {
   "cell_type": "code",
   "execution_count": 10,
   "metadata": {
    "tags": []
   },
   "outputs": [
    {
     "data": {
      "text/html": [
       "<table>\n",
       "<caption>A data.frame: 4 × 9</caption>\n",
       "<thead>\n",
       "\t<tr><th scope=col>AverageTemp</th><th scope=col>AverageHumidity</th><th scope=col>AvgWind</th><th scope=col>AvgVisibility</th><th scope=col>AvgDew</th><th scope=col>AvgSolar</th><th scope=col>AvgRain</th><th scope=col>AvgSnow</th><th scope=col>SEASONS</th></tr>\n",
       "\t<tr><th scope=col>&lt;dbl&gt;</th><th scope=col>&lt;dbl&gt;</th><th scope=col>&lt;dbl&gt;</th><th scope=col>&lt;dbl&gt;</th><th scope=col>&lt;dbl&gt;</th><th scope=col>&lt;dbl&gt;</th><th scope=col>&lt;dbl&gt;</th><th scope=col>&lt;dbl&gt;</th><th scope=col>&lt;chr&gt;</th></tr>\n",
       "</thead>\n",
       "<tbody>\n",
       "\t<tr><td>13.821580</td><td>59.04491</td><td>1.492101</td><td>1558.174</td><td>  5.150594</td><td>0.5227827</td><td>0.11765617</td><td>0.06350026</td><td>Autumn</td></tr>\n",
       "\t<tr><td>13.021685</td><td>58.75833</td><td>1.857778</td><td>1240.912</td><td>  4.091389</td><td>0.6803009</td><td>0.18694444</td><td>0.00000000</td><td>Spring</td></tr>\n",
       "\t<tr><td>26.587711</td><td>64.98143</td><td>1.609420</td><td>1501.745</td><td> 18.750136</td><td>0.7612545</td><td>0.25348732</td><td>0.00000000</td><td>Summer</td></tr>\n",
       "\t<tr><td>-2.540463</td><td>49.74491</td><td>1.922685</td><td>1445.987</td><td>-12.416667</td><td>0.2981806</td><td>0.03282407</td><td>0.24750000</td><td>Winter</td></tr>\n",
       "</tbody>\n",
       "</table>\n"
      ],
      "text/latex": [
       "A data.frame: 4 × 9\n",
       "\\begin{tabular}{lllllllll}\n",
       " AverageTemp & AverageHumidity & AvgWind & AvgVisibility & AvgDew & AvgSolar & AvgRain & AvgSnow & SEASONS\\\\\n",
       " <dbl> & <dbl> & <dbl> & <dbl> & <dbl> & <dbl> & <dbl> & <dbl> & <chr>\\\\\n",
       "\\hline\n",
       "\t 13.821580 & 59.04491 & 1.492101 & 1558.174 &   5.150594 & 0.5227827 & 0.11765617 & 0.06350026 & Autumn\\\\\n",
       "\t 13.021685 & 58.75833 & 1.857778 & 1240.912 &   4.091389 & 0.6803009 & 0.18694444 & 0.00000000 & Spring\\\\\n",
       "\t 26.587711 & 64.98143 & 1.609420 & 1501.745 &  18.750136 & 0.7612545 & 0.25348732 & 0.00000000 & Summer\\\\\n",
       "\t -2.540463 & 49.74491 & 1.922685 & 1445.987 & -12.416667 & 0.2981806 & 0.03282407 & 0.24750000 & Winter\\\\\n",
       "\\end{tabular}\n"
      ],
      "text/markdown": [
       "\n",
       "A data.frame: 4 × 9\n",
       "\n",
       "| AverageTemp &lt;dbl&gt; | AverageHumidity &lt;dbl&gt; | AvgWind &lt;dbl&gt; | AvgVisibility &lt;dbl&gt; | AvgDew &lt;dbl&gt; | AvgSolar &lt;dbl&gt; | AvgRain &lt;dbl&gt; | AvgSnow &lt;dbl&gt; | SEASONS &lt;chr&gt; |\n",
       "|---|---|---|---|---|---|---|---|---|\n",
       "| 13.821580 | 59.04491 | 1.492101 | 1558.174 |   5.150594 | 0.5227827 | 0.11765617 | 0.06350026 | Autumn |\n",
       "| 13.021685 | 58.75833 | 1.857778 | 1240.912 |   4.091389 | 0.6803009 | 0.18694444 | 0.00000000 | Spring |\n",
       "| 26.587711 | 64.98143 | 1.609420 | 1501.745 |  18.750136 | 0.7612545 | 0.25348732 | 0.00000000 | Summer |\n",
       "| -2.540463 | 49.74491 | 1.922685 | 1445.987 | -12.416667 | 0.2981806 | 0.03282407 | 0.24750000 | Winter |\n",
       "\n"
      ],
      "text/plain": [
       "  AverageTemp AverageHumidity AvgWind  AvgVisibility AvgDew     AvgSolar \n",
       "1 13.821580   59.04491        1.492101 1558.174        5.150594 0.5227827\n",
       "2 13.021685   58.75833        1.857778 1240.912        4.091389 0.6803009\n",
       "3 26.587711   64.98143        1.609420 1501.745       18.750136 0.7612545\n",
       "4 -2.540463   49.74491        1.922685 1445.987      -12.416667 0.2981806\n",
       "  AvgRain    AvgSnow    SEASONS\n",
       "1 0.11765617 0.06350026 Autumn \n",
       "2 0.18694444 0.00000000 Spring \n",
       "3 0.25348732 0.00000000 Summer \n",
       "4 0.03282407 0.24750000 Winter "
      ]
     },
     "metadata": {},
     "output_type": "display_data"
    }
   ],
   "source": [
    "# provide your solution here\n",
    "dbGetQuery(conn, 'SELECT AVG(TEMPERATURE) AS AverageTemp, AVG(HUMIDITY) as AverageHumidity, AVG(WIND_SPEED) as AvgWind, \n",
    "AVG(VISIBILITY) as AvgVisibility, AVG(DEW_POINT_TEMPERATURE) as AvgDew, AVG(SOLAR_RADIATION) as AvgSolar, AVG(RAINFALL) as AvgRain, \n",
    "AVG(SNOWFALL) as AvgSnow, SEASONS FROM seoul_bike_sharing GROUP BY SEASONS')\n"
   ]
  },
  {
   "cell_type": "markdown",
   "metadata": {},
   "source": [
    "## Task 10 - Total Bike Count and City Info for Seoul\n",
    "#### Use an implicit join across the WORLD_CITIES and the BIKE_SHARING_SYSTEMS tables to determine the total number of bikes avaialble in Seoul, plus the following city information about Seoul: CITY, COUNTRY, LAT, LON, POPULATION, in a single view.\n",
    "Notice that in this case, the CITY column will work for the WORLD_CITIES table, but in general you would have to use the CITY_ASCII column.\n"
   ]
  },
  {
   "cell_type": "markdown",
   "metadata": {},
   "source": [
    "### Solution 10\n"
   ]
  },
  {
   "cell_type": "code",
   "execution_count": 12,
   "metadata": {
    "tags": []
   },
   "outputs": [
    {
     "data": {
      "text/html": [
       "<table>\n",
       "<caption>A data.frame: 1 × 6</caption>\n",
       "<thead>\n",
       "\t<tr><th scope=col>CITY_ASCII</th><th scope=col>COUNTRY</th><th scope=col>LAT</th><th scope=col>LNG</th><th scope=col>POPULATION</th><th scope=col>TOTAL_BICYCLES</th></tr>\n",
       "\t<tr><th scope=col>&lt;chr&gt;</th><th scope=col>&lt;chr&gt;</th><th scope=col>&lt;dbl&gt;</th><th scope=col>&lt;dbl&gt;</th><th scope=col>&lt;dbl&gt;</th><th scope=col>&lt;int&gt;</th></tr>\n",
       "</thead>\n",
       "<tbody>\n",
       "\t<tr><td>Seoul</td><td>South Korea</td><td>37.5833</td><td>127</td><td>21794000</td><td>20000</td></tr>\n",
       "</tbody>\n",
       "</table>\n"
      ],
      "text/latex": [
       "A data.frame: 1 × 6\n",
       "\\begin{tabular}{llllll}\n",
       " CITY\\_ASCII & COUNTRY & LAT & LNG & POPULATION & TOTAL\\_BICYCLES\\\\\n",
       " <chr> & <chr> & <dbl> & <dbl> & <dbl> & <int>\\\\\n",
       "\\hline\n",
       "\t Seoul & South Korea & 37.5833 & 127 & 21794000 & 20000\\\\\n",
       "\\end{tabular}\n"
      ],
      "text/markdown": [
       "\n",
       "A data.frame: 1 × 6\n",
       "\n",
       "| CITY_ASCII &lt;chr&gt; | COUNTRY &lt;chr&gt; | LAT &lt;dbl&gt; | LNG &lt;dbl&gt; | POPULATION &lt;dbl&gt; | TOTAL_BICYCLES &lt;int&gt; |\n",
       "|---|---|---|---|---|---|\n",
       "| Seoul | South Korea | 37.5833 | 127 | 21794000 | 20000 |\n",
       "\n"
      ],
      "text/plain": [
       "  CITY_ASCII COUNTRY     LAT     LNG POPULATION TOTAL_BICYCLES\n",
       "1 Seoul      South Korea 37.5833 127 21794000   20000         "
      ]
     },
     "metadata": {},
     "output_type": "display_data"
    }
   ],
   "source": [
    "# provide your solution here\n",
    "dbGetQuery(conn, \"SELECT WORLD_CITIES.CITY_ASCII, BIKE_SHARING_SYSTEMS.COUNTRY, WORLD_CITIES.LAT, WORLD_CITIES.LNG, WORLD_CITIES.POPULATION,\n",
    "                 SUM(BIKE_SHARING_SYSTEMS.BICYCLES) AS TOTAL_BICYCLES FROM WORLD_CITIES\n",
    "                    INNER JOIN BIKE_SHARING_SYSTEMS ON WORLD_CITIES.CITY_ASCII = BIKE_SHARING_SYSTEMS.CITY\n",
    "                WHERE WORLD_CITIES.CITY_ASCII = 'Seoul'\")"
   ]
  },
  {
   "cell_type": "markdown",
   "metadata": {},
   "source": [
    "## Task 11 - Find all city names and coordinates with comparable bike scale to Seoul's bike sharing system\n",
    "#### Find all cities with total bike counts between 15000 and 20000. Return the city and country names, plus the coordinates (LAT, LNG), population, and number of bicycles for each city.\n",
    "Later we will ask you to visualize these similar cities on leaflet, with some weather data.\n"
   ]
  },
  {
   "cell_type": "markdown",
   "metadata": {},
   "source": [
    "### Solution 11\n"
   ]
  },
  {
   "cell_type": "code",
   "execution_count": 23,
   "metadata": {
    "tags": []
   },
   "outputs": [
    {
     "data": {
      "text/html": [
       "<table>\n",
       "<caption>A data.frame: 7 × 6</caption>\n",
       "<thead>\n",
       "\t<tr><th scope=col>CITY_ASCII</th><th scope=col>COUNTRY</th><th scope=col>LAT</th><th scope=col>LNG</th><th scope=col>POPULATION</th><th scope=col>BICYCLES</th></tr>\n",
       "\t<tr><th scope=col>&lt;chr&gt;</th><th scope=col>&lt;chr&gt;</th><th scope=col>&lt;dbl&gt;</th><th scope=col>&lt;dbl&gt;</th><th scope=col>&lt;dbl&gt;</th><th scope=col>&lt;int&gt;</th></tr>\n",
       "</thead>\n",
       "<tbody>\n",
       "\t<tr><td>Beijing </td><td>China      </td><td>39.9050</td><td>116.3914</td><td>19433000</td><td>16000</td></tr>\n",
       "\t<tr><td>Ningbo  </td><td>China      </td><td>29.8750</td><td>121.5492</td><td> 7639000</td><td>15000</td></tr>\n",
       "\t<tr><td>Shanghai</td><td>China      </td><td>31.1667</td><td>121.4667</td><td>22120000</td><td>19165</td></tr>\n",
       "\t<tr><td>Weifang </td><td>China      </td><td>36.7167</td><td>119.1000</td><td> 9373000</td><td>20000</td></tr>\n",
       "\t<tr><td>Xi'an   </td><td>China      </td><td>34.2667</td><td>108.9000</td><td> 7135000</td><td>20000</td></tr>\n",
       "\t<tr><td>Zhuzhou </td><td>China      </td><td>27.8407</td><td>113.1469</td><td> 3855609</td><td>20000</td></tr>\n",
       "\t<tr><td>Seoul   </td><td>South Korea</td><td>37.5833</td><td>127.0000</td><td>21794000</td><td>20000</td></tr>\n",
       "</tbody>\n",
       "</table>\n"
      ],
      "text/latex": [
       "A data.frame: 7 × 6\n",
       "\\begin{tabular}{llllll}\n",
       " CITY\\_ASCII & COUNTRY & LAT & LNG & POPULATION & BICYCLES\\\\\n",
       " <chr> & <chr> & <dbl> & <dbl> & <dbl> & <int>\\\\\n",
       "\\hline\n",
       "\t Beijing  & China       & 39.9050 & 116.3914 & 19433000 & 16000\\\\\n",
       "\t Ningbo   & China       & 29.8750 & 121.5492 &  7639000 & 15000\\\\\n",
       "\t Shanghai & China       & 31.1667 & 121.4667 & 22120000 & 19165\\\\\n",
       "\t Weifang  & China       & 36.7167 & 119.1000 &  9373000 & 20000\\\\\n",
       "\t Xi'an    & China       & 34.2667 & 108.9000 &  7135000 & 20000\\\\\n",
       "\t Zhuzhou  & China       & 27.8407 & 113.1469 &  3855609 & 20000\\\\\n",
       "\t Seoul    & South Korea & 37.5833 & 127.0000 & 21794000 & 20000\\\\\n",
       "\\end{tabular}\n"
      ],
      "text/markdown": [
       "\n",
       "A data.frame: 7 × 6\n",
       "\n",
       "| CITY_ASCII &lt;chr&gt; | COUNTRY &lt;chr&gt; | LAT &lt;dbl&gt; | LNG &lt;dbl&gt; | POPULATION &lt;dbl&gt; | BICYCLES &lt;int&gt; |\n",
       "|---|---|---|---|---|---|\n",
       "| Beijing  | China       | 39.9050 | 116.3914 | 19433000 | 16000 |\n",
       "| Ningbo   | China       | 29.8750 | 121.5492 |  7639000 | 15000 |\n",
       "| Shanghai | China       | 31.1667 | 121.4667 | 22120000 | 19165 |\n",
       "| Weifang  | China       | 36.7167 | 119.1000 |  9373000 | 20000 |\n",
       "| Xi'an    | China       | 34.2667 | 108.9000 |  7135000 | 20000 |\n",
       "| Zhuzhou  | China       | 27.8407 | 113.1469 |  3855609 | 20000 |\n",
       "| Seoul    | South Korea | 37.5833 | 127.0000 | 21794000 | 20000 |\n",
       "\n"
      ],
      "text/plain": [
       "  CITY_ASCII COUNTRY     LAT     LNG      POPULATION BICYCLES\n",
       "1 Beijing    China       39.9050 116.3914 19433000   16000   \n",
       "2 Ningbo     China       29.8750 121.5492  7639000   15000   \n",
       "3 Shanghai   China       31.1667 121.4667 22120000   19165   \n",
       "4 Weifang    China       36.7167 119.1000  9373000   20000   \n",
       "5 Xi'an      China       34.2667 108.9000  7135000   20000   \n",
       "6 Zhuzhou    China       27.8407 113.1469  3855609   20000   \n",
       "7 Seoul      South Korea 37.5833 127.0000 21794000   20000   "
      ]
     },
     "metadata": {},
     "output_type": "display_data"
    }
   ],
   "source": [
    "# provide your solution here\n",
    "dbGetQuery(conn, \"SELECT WORLD_CITIES.CITY_ASCII, BIKE_SHARING_SYSTEMS.COUNTRY, WORLD_CITIES.LAT, WORLD_CITIES.LNG, \n",
    "WORLD_CITIES.POPULATION,BIKE_SHARING_SYSTEMS.BICYCLES FROM BIKE_SHARING_SYSTEMS\n",
    "            INNER JOIN WORLD_CITIES ON BIKE_SHARING_SYSTEMS.CITY = WORLD_CITIES.CITY_ASCII\n",
    "            WHERE BIKE_SHARING_SYSTEMS.BICYCLES BETWEEN 15000 AND 20000\")"
   ]
  },
  {
   "cell_type": "code",
   "execution_count": null,
   "metadata": {},
   "outputs": [],
   "source": [
    "close(conn)"
   ]
  },
  {
   "cell_type": "markdown",
   "metadata": {},
   "source": [
    "## Author(s)\n",
    "\n",
    "<h4> Jeff Grossman </h4>\n",
    "<h4> Lakshmi Holla </h4>\n",
    "\n",
    "\n",
    "## Other Contributor(s)\n",
    "\n",
    "<h4>  Malika Singla </h4>\n",
    "\n",
    "## Change log\n",
    "\n",
    "| Date (YYYY-MM-DD) | Version | Changed By | Change Description                 |\n",
    "| ----------------- | ------- | ---------- | ---------------------------------- |\n",
    "| 2022-03-03        | 1.0     |Lakshmi Holla  | Created lab using sqlite3          |\n",
    "\n",
    "## <h3 align=\"center\"> © IBM Corporation 2022. All rights reserved. <h3/>\n"
   ]
  }
 ],
 "metadata": {
  "kernelspec": {
   "display_name": "R",
   "language": "R",
   "name": "conda-env-r-r"
  },
  "language_info": {
   "codemirror_mode": "r",
   "file_extension": ".r",
   "mimetype": "text/x-r-source",
   "name": "R",
   "pygments_lexer": "r",
   "version": "3.5.1"
  }
 },
 "nbformat": 4,
 "nbformat_minor": 4
}
