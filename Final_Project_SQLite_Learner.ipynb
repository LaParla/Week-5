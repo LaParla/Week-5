{
 "cells": [
  {
   "cell_type": "markdown",
   "metadata": {},
   "source": [
    "<center>\n",
    "    <img src=\"https://cf-courses-data.s3.us.cloud-object-storage.appdomain.cloud/assets/logos/SN_web_lightmode.png\" width=\"300\">\n",
    "</center>\n",
    "\n",
    "# Assignment: Notebook for Peer Assignment\n",
    "\n",
    "Estimated time needed: 45 minutes\n"
   ]
  },
  {
   "cell_type": "markdown",
   "metadata": {},
   "source": [
    "# Assignment Scenario\n",
    "\n",
    "Congratulations! You have just been hired by a US Venture Capital firm as a data analyst.\n",
    "\n",
    "The company is considering foreign grain markets to help meet its supply chain requirements for its recent investments in the microbrewery and microdistillery industry, which is involved with the production and distribution of craft beers and spirits.\n",
    "\n",
    "Your first task is to provide a high level analysis of crop production in Canada. Your stakeholders want to understand the current and historical performance of certain crop types in terms of supply and price volatility. For now they are mainly interested in a macro-view of Canada's crop farming industry, and how it relates to the relative value of the Canadian and US dollars.\n"
   ]
  },
  {
   "cell_type": "markdown",
   "metadata": {},
   "source": [
    "# Introduction\n",
    "\n",
    "Using this R notebook you will:\n",
    "\n",
    "1.  Understand four datasets\n",
    "2.  Load the datasets into four separate tables in a database\n",
    "3.  Execute SQL queries to answer assignment questions\n",
    "\n",
    "You have already encountered two of these datasets in the previous practice lab. You will be able to reuse much of the work you did there to prepare your database tables for executing SQL queries.\n"
   ]
  },
  {
   "cell_type": "markdown",
   "metadata": {},
   "source": [
    "# Understand the datasets\n",
    "\n",
    "To complete the assignment problems in this notebook you will be using subsetted snapshots of two datasets from Statistics Canada, and one from the Bank of Canada. The links to the prepared datasets are provided in the next section; the interested student can explore the landing pages for the source datasets as follows:\n",
    "\n",
    "1.  <a href=\"https://www150.statcan.gc.ca/t1/tbl1/en/tv.action?utm_medium=Exinfluencer&utm_source=Exinfluencer&utm_content=000026UJ&utm_term=10006555&utm_id=NA-SkillsNetwork-Channel-SkillsNetworkCoursesIBMRP0203ENSkillsNetwork23863830-2021-01-01&pid=3210035901\">Canadian Principal Crops (Data & Metadata)</a>\n",
    "2.  <a href=\"https://www150.statcan.gc.ca/t1/tbl1/en/tv.action?utm_medium=Exinfluencer&utm_source=Exinfluencer&utm_content=000026UJ&utm_term=10006555&utm_id=NA-SkillsNetwork-Channel-SkillsNetworkCoursesIBMRP0203ENSkillsNetwork23863830-2021-01-01&pid=3210007701\">Farm product prices (Data & Metadata)</a>\n",
    "3.  <a href=\"https://www.bankofcanada.ca/rates/exchange/daily-exchange-rates?utm_medium=Exinfluencer&utm_source=Exinfluencer&utm_content=000026UJ&utm_term=10006555&utm_id=NA-SkillsNetwork-Channel-SkillsNetworkCoursesIBMRP0203ENSkillsNetwork23863830-2021-01-01\">Bank of Canada daily average exchange rates</a>\n",
    "\n",
    "### 1. Canadian Principal Crops Data \\*\n",
    "\n",
    "This dataset contains agricultural production measures for the principle crops grown in Canada, including a breakdown by province and teritory, for each year from 1908 to 2020.\n",
    "\n",
    "For this assignment you will use a preprocessed snapshot of this dataset (see below).\n",
    "\n",
    "A detailed description of this dataset can be obtained from the StatsCan Data Portal at:\n",
    "[https://www150.statcan.gc.ca/t1/tbl1/en/tv.action?pid=3210035901](https://www150.statcan.gc.ca/t1/tbl1/en/tv.action?utm_medium=Exinfluencer&utm_source=Exinfluencer&utm_content=000026UJ&utm_term=10006555&utm_id=NA-SkillsNetwork-Channel-SkillsNetworkCoursesIBMRP0203ENSkillsNetwork23863830-2021-01-01&pid=3210035901)\\\n",
    "Detailed information is included in the metadata file and as header text in the data file, which can be downloaded - look for the 'download options' link.\n",
    "\n",
    "### 2. Farm product prices\n",
    "\n",
    "This dataset contains monthly average farm product prices for Canadian crops and livestock by province and teritory, from 1980 to 2020 (or 'last year', whichever is greatest).\n",
    "\n",
    "For this assignment you will use a preprocessed snapshot of this dataset (see below).\n",
    "\n",
    "A description of this dataset can be obtained from the StatsCan Data Portal at:\n",
    "[https://www150.statcan.gc.ca/t1/tbl1/en/tv.action?pid=3210007701](https://www150.statcan.gc.ca/t1/tbl1/en/tv.action?utm_medium=Exinfluencer&utm_source=Exinfluencer&utm_content=000026UJ&utm_term=10006555&utm_id=NA-SkillsNetwork-Channel-SkillsNetworkCoursesIBMRP0203ENSkillsNetwork23863830-2021-01-01&pid=3210007701)\n",
    "The information is included in the metadata file, which can be downloaded - look for the 'download options' link.\n",
    "\n",
    "### 3. Bank of Canada daily average exchange rates \\*\n",
    "\n",
    "This dataset contains the daily average exchange rates for multiple foreign currencies. Exchange rates are expressed as 1 unit of the foreign currency converted into Canadian dollars. It includes only the latest four years of data, and the rates are published once each business day by 16:30 ET.\n",
    "\n",
    "For this assignment you will use a snapshot of this dataset with only the USD-CAD exchange rates included (see next section). We have also prepared a monthly averaged version which you will be using below.\n",
    "\n",
    "A brief description of this dataset and the original dataset can be obtained from the Bank of Canada Data Portal at:\n",
    "[https://www.bankofcanada.ca/rates/exchange/daily-exchange-rates/](https://www.bankofcanada.ca/rates/exchange/daily-exchange-rates/?utm_medium=Exinfluencer&utm_source=Exinfluencer&utm_content=000026UJ&utm_term=10006555&utm_id=NA-SkillsNetwork-Channel-SkillsNetworkCoursesIBMRP0203ENSkillsNetwork23863830-2021-01-01)\n",
    "\n",
    "( \\* these datasets are the same as the ones you used in the practice lab)\n"
   ]
  },
  {
   "cell_type": "markdown",
   "metadata": {},
   "source": [
    "### Dataset URLs\n",
    "\n",
    "1.  Annual Crop Data: <https://cf-courses-data.s3.us.cloud-object-storage.appdomain.cloud/IBM-RP0203EN-SkillsNetwork/labs/Final%20Project/Annual_Crop_Data.csv>\n",
    "\n",
    "2.  Farm product prices: <https://cf-courses-data.s3.us.cloud-object-storage.appdomain.cloud/IBM-RP0203EN-SkillsNetwork/labs/Final%20Project/Monthly_Farm_Prices.csv>\n",
    "\n",
    "3.  Daily FX Data: <https://cf-courses-data.s3.us.cloud-object-storage.appdomain.cloud/IBM-RP0203EN-SkillsNetwork/labs/Final%20Project/Daily_FX.csv>\n",
    "\n",
    "4.  Monthly FX Data: <https://cf-courses-data.s3.us.cloud-object-storage.appdomain.cloud/IBM-RP0203EN-SkillsNetwork/labs/Final%20Project/Monthly_FX.csv>\n",
    "\n",
    "<span style=\"color:red\">**IMPORTANT:**</span> You will be loading these datasets directly into R data frames from these URLs instead of from the StatsCan and Bank of Canada portals. The versions provided at these URLs are simplified and subsetted versions of the original datasets.\n"
   ]
  },
  {
   "cell_type": "markdown",
   "metadata": {},
   "source": [
    "#### Now let's load these datasets into four separate tables.\n",
    "\n",
    "Let's first load the RSQLite package:\n"
   ]
  },
  {
   "cell_type": "code",
   "execution_count": 1,
   "metadata": {
    "tags": []
   },
   "outputs": [
    {
     "name": "stderr",
     "output_type": "stream",
     "text": [
      "also installing the dependencies ‘fastmap’, ‘bit’, ‘rlang’, ‘cachem’, ‘bit64’, ‘blob’, ‘DBI’, ‘memoise’, ‘cpp11’\n",
      "\n",
      "Updating HTML index of packages in '.Library'\n",
      "Making 'packages.html' ... done\n"
     ]
    }
   ],
   "source": [
    "install.packages(c('RSQLite'), repos = 'https://cran.rstudio.com',dependecies=TRUE)"
   ]
  },
  {
   "cell_type": "markdown",
   "metadata": {},
   "source": [
    "#### Restart Kernel\n",
    "\n",
    "After installing the RSQLite package, it is necessary to restart R Kernel. Click **Kernel** > **Restart Kernel** from the main menu. This will register the newly installed packages. Now proceed to load the RSQLite package. \n"
   ]
  },
  {
   "cell_type": "code",
   "execution_count": 42,
   "metadata": {
    "tags": []
   },
   "outputs": [],
   "source": [
    "library(\"RSQLite\")"
   ]
  },
  {
   "cell_type": "markdown",
   "metadata": {},
   "source": [
    "## Problem 1\n",
    "\n",
    "#### Create tables\n",
    "\n",
    "Establish a connection **conn** to the RSQLite database **FinalDB.sqlite**, and create the following four tables.\n",
    "\n",
    "1.  **CROP_DATA**\n",
    "2.  **FARM_PRICES**\n",
    "3.  **DAILY_FX**\n",
    "4.  **MONTHLY_FX**\n",
    "\n",
    "The previous practice lab will help you accomplish this.\n"
   ]
  },
  {
   "cell_type": "code",
   "execution_count": 43,
   "metadata": {
    "tags": []
   },
   "outputs": [],
   "source": [
    "# Write your query here\n",
    "conn <- dbConnect(RSQLite::SQLite(),\"FinalProject.sqlite\")"
   ]
  },
  {
   "cell_type": "code",
   "execution_count": 44,
   "metadata": {
    "tags": []
   },
   "outputs": [
    {
     "ename": "ERROR",
     "evalue": "Error: table CROP_DATA already exists\n",
     "execution_count": 44,
     "output_type": "error",
     "traceback": [
      "Error: table CROP_DATA already exists\nTraceback:\n",
      "1. dbExecute(conn, \"CREATE TABLE CROP_DATA (\\nCD_ID INTERGER NOT NULL, \\nYEAR DATE NOT NULL, \\nCROP_TYPE VARCHAR (20) NOT NULL, \\nGEO VARCHAR (20) NOT NULL, \\nSEEDED_AREA INTERGER NOT NULL, \\nHARVESTED_AREA INTERGER NOT NULL,\\nPRODUCTION INTERGER NOT NULL,\\nAVG_YIELD INTERGER NOT NULL,\\nPRIMARY KEY (CD_ID))\", \n .     errors = FALSE)",
      "2. dbExecute(conn, \"CREATE TABLE CROP_DATA (\\nCD_ID INTERGER NOT NULL, \\nYEAR DATE NOT NULL, \\nCROP_TYPE VARCHAR (20) NOT NULL, \\nGEO VARCHAR (20) NOT NULL, \\nSEEDED_AREA INTERGER NOT NULL, \\nHARVESTED_AREA INTERGER NOT NULL,\\nPRODUCTION INTERGER NOT NULL,\\nAVG_YIELD INTERGER NOT NULL,\\nPRIMARY KEY (CD_ID))\", \n .     errors = FALSE)",
      "3. dbSendStatement(conn, statement, ...)",
      "4. dbSendStatement(conn, statement, ...)",
      "5. dbSendQuery(conn, statement, ...)",
      "6. dbSendQuery(conn, statement, ...)",
      "7. .local(conn, statement, ...)",
      "8. new(\"SQLiteResult\", sql = statement, ptr = result_create(conn@ptr, \n .     statement), conn = conn, bigint = conn@bigint)",
      "9. initialize(value, ...)",
      "10. initialize(value, ...)",
      "11. result_create(conn@ptr, statement)"
     ]
    }
   ],
   "source": [
    "#CROP_DATA\n",
    "df1 <- dbExecute(conn,\"CREATE TABLE CROP_DATA (\n",
    "CD_ID INTERGER NOT NULL, \n",
    "YEAR DATE NOT NULL, \n",
    "CROP_TYPE VARCHAR (20) NOT NULL, \n",
    "GEO VARCHAR (20) NOT NULL, \n",
    "SEEDED_AREA INTERGER NOT NULL, \n",
    "HARVESTED_AREA INTERGER NOT NULL,\n",
    "PRODUCTION INTERGER NOT NULL,\n",
    "AVG_YIELD INTERGER NOT NULL,\n",
    "PRIMARY KEY (CD_ID))\",\n",
    "                 errors=FALSE\n",
    "                 )\n",
    "\n",
    "if (df1 == -1){\n",
    "    cat (\"An error has occurred.\\n\")\n",
    "    msg <- odbcGetErrMsg(conn)\n",
    "    print (msg)\n",
    "    } else {\n",
    "    cat (\"Table was created successfully.\\n\")}"
   ]
  },
  {
   "cell_type": "code",
   "execution_count": 6,
   "metadata": {
    "tags": []
   },
   "outputs": [
    {
     "name": "stdout",
     "output_type": "stream",
     "text": [
      "Table was created successfully.\n"
     ]
    }
   ],
   "source": [
    "#FARM_PRICES\n",
    "df2 <- dbExecute(conn,\"CREATE TABLE FARM_PRICES (\n",
    "CD_ID INTERGER NOT NULL,\n",
    "DATE DATE NOT NULL,\n",
    "CROP_TYPE VARCHAR (20) NOT NULL,\n",
    "GEO VARCHAR (20) NOT NULL,\n",
    "PRICE_PRERMT INTERGER NOT NULL,\n",
    "PRIMARY KEY (CD_ID))\",\n",
    "                 errors=FALSE\n",
    "                 )\n",
    "\n",
    "if (df2 == -1){\n",
    "    cat (\"An error has occurred.\\n\")\n",
    "    msg <- odbcGetErrMsg(conn)\n",
    "    print (msg)\n",
    "    } else {\n",
    "    cat (\"Table was created successfully.\\n\")}"
   ]
  },
  {
   "cell_type": "code",
   "execution_count": 7,
   "metadata": {
    "tags": []
   },
   "outputs": [
    {
     "name": "stdout",
     "output_type": "stream",
     "text": [
      "Table was created successfully.\n"
     ]
    }
   ],
   "source": [
    "#DAILY_FX\n",
    "df3 <- dbExecute(conn,\"CREATE TABLE DAILY_FX (\n",
    "DFX_ID INTERGER NOT NULL,\n",
    "DATE DATE NOT NULL,\n",
    "FXUSDCAD INTERGER NOT NULL,\n",
    "PRIMARY KEY (DFX_ID))\",\n",
    "                 errors=FALSE\n",
    "                 )\n",
    "\n",
    "if (df3 == -1){\n",
    "    cat (\"An error has occurred.\\n\")\n",
    "    msg <- odbcGetErrMsg(conn)\n",
    "    print (msg)\n",
    "    } else {\n",
    "    cat (\"Table was created successfully.\\n\")}"
   ]
  },
  {
   "cell_type": "code",
   "execution_count": 8,
   "metadata": {
    "tags": []
   },
   "outputs": [
    {
     "name": "stdout",
     "output_type": "stream",
     "text": [
      "Table was created successfully.\n"
     ]
    }
   ],
   "source": [
    "#MONTHLY_FX\n",
    "df4 <- dbExecute(conn, \"CREATE TABLE MONTHLY_FX (\n",
    "DFX_ID INTERGER NOT NULL,\n",
    "DATE DATE NOT NULL,\n",
    "FXUSDCAD INTERGER NOT NULL,\n",
    "PRIMARY KEY (DFX_ID))\",\n",
    "                 errors=FALSE\n",
    "                 )\n",
    "\n",
    "if (df3 == -1){\n",
    "    cat (\"An error has occurred.\\n\")\n",
    "    msg <- odbcGetErrMsg(conn)\n",
    "    print (msg)\n",
    "    } else {\n",
    "    cat (\"Table was created successfully.\\n\")}"
   ]
  },
  {
   "cell_type": "code",
   "execution_count": 45,
   "metadata": {
    "tags": []
   },
   "outputs": [
    {
     "data": {
      "text/html": [
       "<style>\n",
       ".list-inline {list-style: none; margin:0; padding: 0}\n",
       ".list-inline>li {display: inline-block}\n",
       ".list-inline>li:not(:last-child)::after {content: \"\\00b7\"; padding: 0 .5ex}\n",
       "</style>\n",
       "<ol class=list-inline><li>'CROP_DATA'</li><li>'DAILY_FX'</li><li>'FARM_PRICES'</li><li>'MONTHLY_FX'</li></ol>\n"
      ],
      "text/latex": [
       "\\begin{enumerate*}\n",
       "\\item 'CROP\\_DATA'\n",
       "\\item 'DAILY\\_FX'\n",
       "\\item 'FARM\\_PRICES'\n",
       "\\item 'MONTHLY\\_FX'\n",
       "\\end{enumerate*}\n"
      ],
      "text/markdown": [
       "1. 'CROP_DATA'\n",
       "2. 'DAILY_FX'\n",
       "3. 'FARM_PRICES'\n",
       "4. 'MONTHLY_FX'\n",
       "\n",
       "\n"
      ],
      "text/plain": [
       "[1] \"CROP_DATA\"   \"DAILY_FX\"    \"FARM_PRICES\" \"MONTHLY_FX\" "
      ]
     },
     "metadata": {},
     "output_type": "display_data"
    }
   ],
   "source": [
    "#check list of tables in the present db.\n",
    "dbListTables(conn)"
   ]
  },
  {
   "cell_type": "markdown",
   "metadata": {},
   "source": [
    "## Problem 2\n",
    "\n",
    "#### Read Datasets and load your tables in database\n",
    "\n",
    "Read the datasets into R dataframes using the urls provided above. Then load your tables in database.\n"
   ]
  },
  {
   "cell_type": "code",
   "execution_count": 11,
   "metadata": {
    "tags": []
   },
   "outputs": [],
   "source": [
    "# Write your query here\n",
    "crop_df <- read.csv ('https://cf-courses-data.s3.us.cloud-object-storage.appdomain.cloud/IBM-RP0203EN-SkillsNetwork/labs/Final%20Project/Annual_Crop_Data.csv')\n",
    "farm_df <- read.csv ('https://cf-courses-data.s3.us.cloud-object-storage.appdomain.cloud/IBM-RP0203EN-SkillsNetwork/labs/Final%20Project/Monthly_Farm_Prices.csv')\n",
    "daily_df <- read.csv ('https://cf-courses-data.s3.us.cloud-object-storage.appdomain.cloud/IBM-RP0203EN-SkillsNetwork/labs/Final%20Project/Daily_FX.csv')\n",
    "monthly_df <- read.csv ('https://cf-courses-data.s3.us.cloud-object-storage.appdomain.cloud/IBM-RP0203EN-SkillsNetwork/labs/Final%20Project/Monthly_FX.csv')\n",
    "\n",
    "dbWriteTable(conn, \"CROP_DATA\", crop_df, overwrite = TRUE, header = TRUE)\n",
    "dbWriteTable(conn, \"FARM_PRICES\", farm_df, overwrite = TRUE, header = TRUE)\n",
    "dbWriteTable(conn, \"DAILY_FX\", daily_df, overwrite = TRUE, header = TRUE)\n",
    "dbWriteTable(conn, \"MONTHLY_FX\", monthly_df, overwrite = TRUE, header = TRUE)"
   ]
  },
  {
   "cell_type": "markdown",
   "metadata": {},
   "source": [
    "## Now execute SQL queries using the RSQLite R package to solve the assignment problems.\n",
    "\n",
    "## Problem 3\n",
    "\n",
    "#### How many records are in the farm prices dataset?\n"
   ]
  },
  {
   "cell_type": "code",
   "execution_count": 46,
   "metadata": {
    "tags": []
   },
   "outputs": [
    {
     "data": {
      "text/html": [
       "<table>\n",
       "<caption>A data.frame: 1 × 1</caption>\n",
       "<thead>\n",
       "\t<tr><th scope=col>COUNT(CD_ID)</th></tr>\n",
       "\t<tr><th scope=col>&lt;int&gt;</th></tr>\n",
       "</thead>\n",
       "<tbody>\n",
       "\t<tr><td>2678</td></tr>\n",
       "</tbody>\n",
       "</table>\n"
      ],
      "text/latex": [
       "A data.frame: 1 × 1\n",
       "\\begin{tabular}{l}\n",
       " COUNT(CD\\_ID)\\\\\n",
       " <int>\\\\\n",
       "\\hline\n",
       "\t 2678\\\\\n",
       "\\end{tabular}\n"
      ],
      "text/markdown": [
       "\n",
       "A data.frame: 1 × 1\n",
       "\n",
       "| COUNT(CD_ID) &lt;int&gt; |\n",
       "|---|\n",
       "| 2678 |\n",
       "\n"
      ],
      "text/plain": [
       "  COUNT(CD_ID)\n",
       "1 2678        "
      ]
     },
     "metadata": {},
     "output_type": "display_data"
    }
   ],
   "source": [
    "# Write your query here\n",
    "dbGetQuery(conn, 'SELECT COUNT(CD_ID) FROM FARM_PRICES')"
   ]
  },
  {
   "cell_type": "markdown",
   "metadata": {},
   "source": [
    "## Problem 4\n",
    "\n",
    "#### Which geographies are included in the farm prices dataset?\n"
   ]
  },
  {
   "cell_type": "code",
   "execution_count": 47,
   "metadata": {
    "tags": []
   },
   "outputs": [
    {
     "data": {
      "text/html": [
       "<table>\n",
       "<caption>A data.frame: 2 × 1</caption>\n",
       "<thead>\n",
       "\t<tr><th scope=col>GEO</th></tr>\n",
       "\t<tr><th scope=col>&lt;chr&gt;</th></tr>\n",
       "</thead>\n",
       "<tbody>\n",
       "\t<tr><td>Alberta     </td></tr>\n",
       "\t<tr><td>Saskatchewan</td></tr>\n",
       "</tbody>\n",
       "</table>\n"
      ],
      "text/latex": [
       "A data.frame: 2 × 1\n",
       "\\begin{tabular}{l}\n",
       " GEO\\\\\n",
       " <chr>\\\\\n",
       "\\hline\n",
       "\t Alberta     \\\\\n",
       "\t Saskatchewan\\\\\n",
       "\\end{tabular}\n"
      ],
      "text/markdown": [
       "\n",
       "A data.frame: 2 × 1\n",
       "\n",
       "| GEO &lt;chr&gt; |\n",
       "|---|\n",
       "| Alberta      |\n",
       "| Saskatchewan |\n",
       "\n"
      ],
      "text/plain": [
       "  GEO         \n",
       "1 Alberta     \n",
       "2 Saskatchewan"
      ]
     },
     "metadata": {},
     "output_type": "display_data"
    }
   ],
   "source": [
    "# Write your query here\n",
    "dbGetQuery (conn, 'SELECT DISTINCT(GEO) FROM FARM_PRICES')"
   ]
  },
  {
   "cell_type": "markdown",
   "metadata": {},
   "source": [
    "## Problem 5\n",
    "\n",
    "#### How many hectares of Rye were harvested in Canada in 1968?\n"
   ]
  },
  {
   "cell_type": "code",
   "execution_count": 50,
   "metadata": {
    "tags": []
   },
   "outputs": [
    {
     "data": {
      "text/html": [
       "<table>\n",
       "<caption>A data.frame: 1 × 1</caption>\n",
       "<thead>\n",
       "\t<tr><th scope=col>TOTAL_HARVEST</th></tr>\n",
       "\t<tr><th scope=col>&lt;int&gt;</th></tr>\n",
       "</thead>\n",
       "<tbody>\n",
       "\t<tr><td>274100</td></tr>\n",
       "</tbody>\n",
       "</table>\n"
      ],
      "text/latex": [
       "A data.frame: 1 × 1\n",
       "\\begin{tabular}{l}\n",
       " TOTAL\\_HARVEST\\\\\n",
       " <int>\\\\\n",
       "\\hline\n",
       "\t 274100\\\\\n",
       "\\end{tabular}\n"
      ],
      "text/markdown": [
       "\n",
       "A data.frame: 1 × 1\n",
       "\n",
       "| TOTAL_HARVEST &lt;int&gt; |\n",
       "|---|\n",
       "| 274100 |\n",
       "\n"
      ],
      "text/plain": [
       "  TOTAL_HARVEST\n",
       "1 274100       "
      ]
     },
     "metadata": {},
     "output_type": "display_data"
    }
   ],
   "source": [
    "# Write your query here\n",
    "query <- \"SELECT SUM(HARVESTED_AREA) AS TOTAL_HARVEST \n",
    "FROM CROP_DATA \n",
    "WHERE YEAR LIKE '%1968%' AND\n",
    "GEO = 'Canada' AND\n",
    "CROP_TYPE = 'Rye'\"\n",
    "result <- dbGetQuery(conn, query)\n",
    "result"
   ]
  },
  {
   "cell_type": "markdown",
   "metadata": {},
   "source": [
    "## Problem 6\n",
    "\n",
    "#### Query and display the first 6 rows of the farm prices table for Rye.\n"
   ]
  },
  {
   "cell_type": "code",
   "execution_count": 53,
   "metadata": {
    "tags": []
   },
   "outputs": [
    {
     "data": {
      "text/html": [
       "<table>\n",
       "<caption>A data.frame: 6 × 5</caption>\n",
       "<thead>\n",
       "\t<tr><th scope=col>CD_ID</th><th scope=col>DATE</th><th scope=col>CROP_TYPE</th><th scope=col>GEO</th><th scope=col>PRICE_PRERMT</th></tr>\n",
       "\t<tr><th scope=col>&lt;int&gt;</th><th scope=col>&lt;chr&gt;</th><th scope=col>&lt;chr&gt;</th><th scope=col>&lt;chr&gt;</th><th scope=col>&lt;dbl&gt;</th></tr>\n",
       "</thead>\n",
       "<tbody>\n",
       "\t<tr><td> 4</td><td>1985-01-01</td><td>Rye</td><td>Alberta     </td><td>100.77</td></tr>\n",
       "\t<tr><td> 5</td><td>1985-01-01</td><td>Rye</td><td>Saskatchewan</td><td>109.75</td></tr>\n",
       "\t<tr><td>10</td><td>1985-02-01</td><td>Rye</td><td>Alberta     </td><td> 95.05</td></tr>\n",
       "\t<tr><td>11</td><td>1985-02-01</td><td>Rye</td><td>Saskatchewan</td><td>103.46</td></tr>\n",
       "\t<tr><td>16</td><td>1985-03-01</td><td>Rye</td><td>Alberta     </td><td> 96.77</td></tr>\n",
       "\t<tr><td>17</td><td>1985-03-01</td><td>Rye</td><td>Saskatchewan</td><td>106.38</td></tr>\n",
       "</tbody>\n",
       "</table>\n"
      ],
      "text/latex": [
       "A data.frame: 6 × 5\n",
       "\\begin{tabular}{lllll}\n",
       " CD\\_ID & DATE & CROP\\_TYPE & GEO & PRICE\\_PRERMT\\\\\n",
       " <int> & <chr> & <chr> & <chr> & <dbl>\\\\\n",
       "\\hline\n",
       "\t  4 & 1985-01-01 & Rye & Alberta      & 100.77\\\\\n",
       "\t  5 & 1985-01-01 & Rye & Saskatchewan & 109.75\\\\\n",
       "\t 10 & 1985-02-01 & Rye & Alberta      &  95.05\\\\\n",
       "\t 11 & 1985-02-01 & Rye & Saskatchewan & 103.46\\\\\n",
       "\t 16 & 1985-03-01 & Rye & Alberta      &  96.77\\\\\n",
       "\t 17 & 1985-03-01 & Rye & Saskatchewan & 106.38\\\\\n",
       "\\end{tabular}\n"
      ],
      "text/markdown": [
       "\n",
       "A data.frame: 6 × 5\n",
       "\n",
       "| CD_ID &lt;int&gt; | DATE &lt;chr&gt; | CROP_TYPE &lt;chr&gt; | GEO &lt;chr&gt; | PRICE_PRERMT &lt;dbl&gt; |\n",
       "|---|---|---|---|---|\n",
       "|  4 | 1985-01-01 | Rye | Alberta      | 100.77 |\n",
       "|  5 | 1985-01-01 | Rye | Saskatchewan | 109.75 |\n",
       "| 10 | 1985-02-01 | Rye | Alberta      |  95.05 |\n",
       "| 11 | 1985-02-01 | Rye | Saskatchewan | 103.46 |\n",
       "| 16 | 1985-03-01 | Rye | Alberta      |  96.77 |\n",
       "| 17 | 1985-03-01 | Rye | Saskatchewan | 106.38 |\n",
       "\n"
      ],
      "text/plain": [
       "  CD_ID DATE       CROP_TYPE GEO          PRICE_PRERMT\n",
       "1  4    1985-01-01 Rye       Alberta      100.77      \n",
       "2  5    1985-01-01 Rye       Saskatchewan 109.75      \n",
       "3 10    1985-02-01 Rye       Alberta       95.05      \n",
       "4 11    1985-02-01 Rye       Saskatchewan 103.46      \n",
       "5 16    1985-03-01 Rye       Alberta       96.77      \n",
       "6 17    1985-03-01 Rye       Saskatchewan 106.38      "
      ]
     },
     "metadata": {},
     "output_type": "display_data"
    }
   ],
   "source": [
    "# Wriet your query here\n",
    "dbGetQuery(conn, \"SELECT * FROM FARM_PRICES WHERE CROP_TYPE = 'Rye' LIMIT 6\")"
   ]
  },
  {
   "cell_type": "markdown",
   "metadata": {},
   "source": [
    "## Problem 7\n",
    "\n",
    "#### Which provinces grew Barley?\n"
   ]
  },
  {
   "cell_type": "code",
   "execution_count": 58,
   "metadata": {
    "tags": []
   },
   "outputs": [
    {
     "data": {
      "text/html": [
       "<table>\n",
       "<caption>A data.frame: 2 × 1</caption>\n",
       "<thead>\n",
       "\t<tr><th scope=col>GEO</th></tr>\n",
       "\t<tr><th scope=col>&lt;chr&gt;</th></tr>\n",
       "</thead>\n",
       "<tbody>\n",
       "\t<tr><td>Alberta     </td></tr>\n",
       "\t<tr><td>Saskatchewan</td></tr>\n",
       "</tbody>\n",
       "</table>\n"
      ],
      "text/latex": [
       "A data.frame: 2 × 1\n",
       "\\begin{tabular}{l}\n",
       " GEO\\\\\n",
       " <chr>\\\\\n",
       "\\hline\n",
       "\t Alberta     \\\\\n",
       "\t Saskatchewan\\\\\n",
       "\\end{tabular}\n"
      ],
      "text/markdown": [
       "\n",
       "A data.frame: 2 × 1\n",
       "\n",
       "| GEO &lt;chr&gt; |\n",
       "|---|\n",
       "| Alberta      |\n",
       "| Saskatchewan |\n",
       "\n"
      ],
      "text/plain": [
       "  GEO         \n",
       "1 Alberta     \n",
       "2 Saskatchewan"
      ]
     },
     "metadata": {},
     "output_type": "display_data"
    },
    {
     "data": {
      "text/html": [
       "<table>\n",
       "<caption>A data.frame: 3 × 1</caption>\n",
       "<thead>\n",
       "\t<tr><th scope=col>GEO</th></tr>\n",
       "\t<tr><th scope=col>&lt;chr&gt;</th></tr>\n",
       "</thead>\n",
       "<tbody>\n",
       "\t<tr><td>Alberta     </td></tr>\n",
       "\t<tr><td>Canada      </td></tr>\n",
       "\t<tr><td>Saskatchewan</td></tr>\n",
       "</tbody>\n",
       "</table>\n"
      ],
      "text/latex": [
       "A data.frame: 3 × 1\n",
       "\\begin{tabular}{l}\n",
       " GEO\\\\\n",
       " <chr>\\\\\n",
       "\\hline\n",
       "\t Alberta     \\\\\n",
       "\t Canada      \\\\\n",
       "\t Saskatchewan\\\\\n",
       "\\end{tabular}\n"
      ],
      "text/markdown": [
       "\n",
       "A data.frame: 3 × 1\n",
       "\n",
       "| GEO &lt;chr&gt; |\n",
       "|---|\n",
       "| Alberta      |\n",
       "| Canada       |\n",
       "| Saskatchewan |\n",
       "\n"
      ],
      "text/plain": [
       "  GEO         \n",
       "1 Alberta     \n",
       "2 Canada      \n",
       "3 Saskatchewan"
      ]
     },
     "metadata": {},
     "output_type": "display_data"
    }
   ],
   "source": [
    "# Write your query here\n",
    "dbGetQuery(conn,\"SELECT DISTINCT(GEO) FROM FARM_PRICES WHERE CROP_TYPE = 'Barley'\")\n",
    "dbGetQuery(conn,\"SELECT DISTINCT(GEO) FROM CROP_DATA WHERE CROP_TYPE = 'Barley'\")"
   ]
  },
  {
   "cell_type": "markdown",
   "metadata": {},
   "source": [
    "## Problem 8\n",
    "\n",
    "#### Find the first and last dates for the farm prices data.\n"
   ]
  },
  {
   "cell_type": "code",
   "execution_count": 60,
   "metadata": {
    "tags": []
   },
   "outputs": [
    {
     "data": {
      "text/html": [
       "<table>\n",
       "<caption>A data.frame: 1 × 2</caption>\n",
       "<thead>\n",
       "\t<tr><th scope=col>FIRST_DATE</th><th scope=col>LAST_DATE</th></tr>\n",
       "\t<tr><th scope=col>&lt;chr&gt;</th><th scope=col>&lt;chr&gt;</th></tr>\n",
       "</thead>\n",
       "<tbody>\n",
       "\t<tr><td>1985-01-01</td><td>2020-12-01</td></tr>\n",
       "</tbody>\n",
       "</table>\n"
      ],
      "text/latex": [
       "A data.frame: 1 × 2\n",
       "\\begin{tabular}{ll}\n",
       " FIRST\\_DATE & LAST\\_DATE\\\\\n",
       " <chr> & <chr>\\\\\n",
       "\\hline\n",
       "\t 1985-01-01 & 2020-12-01\\\\\n",
       "\\end{tabular}\n"
      ],
      "text/markdown": [
       "\n",
       "A data.frame: 1 × 2\n",
       "\n",
       "| FIRST_DATE &lt;chr&gt; | LAST_DATE &lt;chr&gt; |\n",
       "|---|---|\n",
       "| 1985-01-01 | 2020-12-01 |\n",
       "\n"
      ],
      "text/plain": [
       "  FIRST_DATE LAST_DATE \n",
       "1 1985-01-01 2020-12-01"
      ]
     },
     "metadata": {},
     "output_type": "display_data"
    }
   ],
   "source": [
    "# Write your query here\n",
    "dbGetQuery(conn, 'SELECT min(DATE) FIRST_DATE, max(DATE) LAST_DATE FROM FARM_PRICES')"
   ]
  },
  {
   "cell_type": "markdown",
   "metadata": {},
   "source": [
    "## Problem 9\n",
    "\n",
    "#### Which crops have ever reached a farm price greater than or equal to $350 per metric tonne?\n"
   ]
  },
  {
   "cell_type": "code",
   "execution_count": 62,
   "metadata": {
    "tags": []
   },
   "outputs": [
    {
     "data": {
      "text/html": [
       "<table>\n",
       "<caption>A data.frame: 1 × 1</caption>\n",
       "<thead>\n",
       "\t<tr><th scope=col>CROP_TYPE</th></tr>\n",
       "\t<tr><th scope=col>&lt;chr&gt;</th></tr>\n",
       "</thead>\n",
       "<tbody>\n",
       "\t<tr><td>Canola</td></tr>\n",
       "</tbody>\n",
       "</table>\n"
      ],
      "text/latex": [
       "A data.frame: 1 × 1\n",
       "\\begin{tabular}{l}\n",
       " CROP\\_TYPE\\\\\n",
       " <chr>\\\\\n",
       "\\hline\n",
       "\t Canola\\\\\n",
       "\\end{tabular}\n"
      ],
      "text/markdown": [
       "\n",
       "A data.frame: 1 × 1\n",
       "\n",
       "| CROP_TYPE &lt;chr&gt; |\n",
       "|---|\n",
       "| Canola |\n",
       "\n"
      ],
      "text/plain": [
       "  CROP_TYPE\n",
       "1 Canola   "
      ]
     },
     "metadata": {},
     "output_type": "display_data"
    }
   ],
   "source": [
    "# Write your query here\n",
    "dbGetQuery(conn, \"SELECT DISTINCT(CROP_TYPE) FROM FARM_PRICES WHERE PRICE_PRERMT >= 350\")"
   ]
  },
  {
   "cell_type": "markdown",
   "metadata": {},
   "source": [
    "## Problem 10\n",
    "\n",
    "#### Rank the crop types harvested in Saskatchewan in the year 2000 by their average yield. Which crop performed best?\n"
   ]
  },
  {
   "cell_type": "code",
   "execution_count": 88,
   "metadata": {
    "tags": []
   },
   "outputs": [
    {
     "data": {
      "text/html": [
       "<table>\n",
       "<caption>A data.frame: 4 × 2</caption>\n",
       "<thead>\n",
       "\t<tr><th scope=col>CROP_TYPE</th><th scope=col>AVG_YIELD</th></tr>\n",
       "\t<tr><th scope=col>&lt;chr&gt;</th><th scope=col>&lt;int&gt;</th></tr>\n",
       "</thead>\n",
       "<tbody>\n",
       "\t<tr><td>Barley</td><td>2800</td></tr>\n",
       "\t<tr><td>Wheat </td><td>2200</td></tr>\n",
       "\t<tr><td>Rye   </td><td>2100</td></tr>\n",
       "\t<tr><td>Canola</td><td>1400</td></tr>\n",
       "</tbody>\n",
       "</table>\n"
      ],
      "text/latex": [
       "A data.frame: 4 × 2\n",
       "\\begin{tabular}{ll}\n",
       " CROP\\_TYPE & AVG\\_YIELD\\\\\n",
       " <chr> & <int>\\\\\n",
       "\\hline\n",
       "\t Barley & 2800\\\\\n",
       "\t Wheat  & 2200\\\\\n",
       "\t Rye    & 2100\\\\\n",
       "\t Canola & 1400\\\\\n",
       "\\end{tabular}\n"
      ],
      "text/markdown": [
       "\n",
       "A data.frame: 4 × 2\n",
       "\n",
       "| CROP_TYPE &lt;chr&gt; | AVG_YIELD &lt;int&gt; |\n",
       "|---|---|\n",
       "| Barley | 2800 |\n",
       "| Wheat  | 2200 |\n",
       "| Rye    | 2100 |\n",
       "| Canola | 1400 |\n",
       "\n"
      ],
      "text/plain": [
       "  CROP_TYPE AVG_YIELD\n",
       "1 Barley    2800     \n",
       "2 Wheat     2200     \n",
       "3 Rye       2100     \n",
       "4 Canola    1400     "
      ]
     },
     "metadata": {},
     "output_type": "display_data"
    }
   ],
   "source": [
    "# Write your query here\n",
    "dbGetQuery(conn, \"SELECT CROP_TYPE, AVG_YIELD FROM CROP_DATA WHERE YEAR LIKE '%2000%' and GEO = 'Saskatchewan' ORDER BY AVG_YIELD DESC\")"
   ]
  },
  {
   "cell_type": "markdown",
   "metadata": {},
   "source": [
    "## Problem 11\n",
    "\n",
    "#### Rank the crops and geographies by their average yield (KG per hectare) since the year 2000. Which crop and province had the highest average yield since the year 2000?\n"
   ]
  },
  {
   "cell_type": "code",
   "execution_count": 92,
   "metadata": {
    "tags": []
   },
   "outputs": [
    {
     "data": {
      "text/html": [
       "<table>\n",
       "<caption>A data.frame: 10 × 4</caption>\n",
       "<thead>\n",
       "\t<tr><th scope=col>YEAR</th><th scope=col>CROP_TYPE</th><th scope=col>GEO</th><th scope=col>AVG_YIELD</th></tr>\n",
       "\t<tr><th scope=col>&lt;chr&gt;</th><th scope=col>&lt;chr&gt;</th><th scope=col>&lt;chr&gt;</th><th scope=col>&lt;int&gt;</th></tr>\n",
       "</thead>\n",
       "<tbody>\n",
       "\t<tr><td>2013-12-31</td><td>Barley</td><td>Alberta</td><td>4100</td></tr>\n",
       "\t<tr><td>2016-12-31</td><td>Barley</td><td>Alberta</td><td>4100</td></tr>\n",
       "\t<tr><td>2020-12-31</td><td>Barley</td><td>Alberta</td><td>3980</td></tr>\n",
       "\t<tr><td>2013-12-31</td><td>Wheat </td><td>Alberta</td><td>3900</td></tr>\n",
       "\t<tr><td>2016-12-31</td><td>Barley</td><td>Canada </td><td>3900</td></tr>\n",
       "\t<tr><td>2016-12-31</td><td>Wheat </td><td>Alberta</td><td>3900</td></tr>\n",
       "\t<tr><td>2017-12-31</td><td>Barley</td><td>Alberta</td><td>3900</td></tr>\n",
       "\t<tr><td>2019-12-31</td><td>Barley</td><td>Alberta</td><td>3890</td></tr>\n",
       "\t<tr><td>2020-12-31</td><td>Barley</td><td>Canada </td><td>3820</td></tr>\n",
       "\t<tr><td>2019-12-31</td><td>Barley</td><td>Canada </td><td>3810</td></tr>\n",
       "</tbody>\n",
       "</table>\n"
      ],
      "text/latex": [
       "A data.frame: 10 × 4\n",
       "\\begin{tabular}{llll}\n",
       " YEAR & CROP\\_TYPE & GEO & AVG\\_YIELD\\\\\n",
       " <chr> & <chr> & <chr> & <int>\\\\\n",
       "\\hline\n",
       "\t 2013-12-31 & Barley & Alberta & 4100\\\\\n",
       "\t 2016-12-31 & Barley & Alberta & 4100\\\\\n",
       "\t 2020-12-31 & Barley & Alberta & 3980\\\\\n",
       "\t 2013-12-31 & Wheat  & Alberta & 3900\\\\\n",
       "\t 2016-12-31 & Barley & Canada  & 3900\\\\\n",
       "\t 2016-12-31 & Wheat  & Alberta & 3900\\\\\n",
       "\t 2017-12-31 & Barley & Alberta & 3900\\\\\n",
       "\t 2019-12-31 & Barley & Alberta & 3890\\\\\n",
       "\t 2020-12-31 & Barley & Canada  & 3820\\\\\n",
       "\t 2019-12-31 & Barley & Canada  & 3810\\\\\n",
       "\\end{tabular}\n"
      ],
      "text/markdown": [
       "\n",
       "A data.frame: 10 × 4\n",
       "\n",
       "| YEAR &lt;chr&gt; | CROP_TYPE &lt;chr&gt; | GEO &lt;chr&gt; | AVG_YIELD &lt;int&gt; |\n",
       "|---|---|---|---|\n",
       "| 2013-12-31 | Barley | Alberta | 4100 |\n",
       "| 2016-12-31 | Barley | Alberta | 4100 |\n",
       "| 2020-12-31 | Barley | Alberta | 3980 |\n",
       "| 2013-12-31 | Wheat  | Alberta | 3900 |\n",
       "| 2016-12-31 | Barley | Canada  | 3900 |\n",
       "| 2016-12-31 | Wheat  | Alberta | 3900 |\n",
       "| 2017-12-31 | Barley | Alberta | 3900 |\n",
       "| 2019-12-31 | Barley | Alberta | 3890 |\n",
       "| 2020-12-31 | Barley | Canada  | 3820 |\n",
       "| 2019-12-31 | Barley | Canada  | 3810 |\n",
       "\n"
      ],
      "text/plain": [
       "   YEAR       CROP_TYPE GEO     AVG_YIELD\n",
       "1  2013-12-31 Barley    Alberta 4100     \n",
       "2  2016-12-31 Barley    Alberta 4100     \n",
       "3  2020-12-31 Barley    Alberta 3980     \n",
       "4  2013-12-31 Wheat     Alberta 3900     \n",
       "5  2016-12-31 Barley    Canada  3900     \n",
       "6  2016-12-31 Wheat     Alberta 3900     \n",
       "7  2017-12-31 Barley    Alberta 3900     \n",
       "8  2019-12-31 Barley    Alberta 3890     \n",
       "9  2020-12-31 Barley    Canada  3820     \n",
       "10 2019-12-31 Barley    Canada  3810     "
      ]
     },
     "metadata": {},
     "output_type": "display_data"
    }
   ],
   "source": [
    "# Write your query here\n",
    "dbGetQuery (conn, \"SELECT YEAR,CROP_TYPE, GEO, AVG_YIELD FROM CROP_DATA WHERE YEAR >= 2000 ORDER BY AVG_YIELD DESC LIMIT 10\")"
   ]
  },
  {
   "cell_type": "markdown",
   "metadata": {},
   "source": [
    "## Problem 12\n",
    "\n",
    "#### Use a subquery to determine how much wheat was harvested in Canada in the most recent year of the data.\n"
   ]
  },
  {
   "cell_type": "code",
   "execution_count": 113,
   "metadata": {
    "tags": []
   },
   "outputs": [
    {
     "data": {
      "text/html": [
       "<table>\n",
       "<caption>A data.frame: 1 × 4</caption>\n",
       "<thead>\n",
       "\t<tr><th scope=col>GEO</th><th scope=col>CROP_TYPE</th><th scope=col>YEAR</th><th scope=col>HARVESTED_AREA</th></tr>\n",
       "\t<tr><th scope=col>&lt;chr&gt;</th><th scope=col>&lt;chr&gt;</th><th scope=col>&lt;chr&gt;</th><th scope=col>&lt;int&gt;</th></tr>\n",
       "</thead>\n",
       "<tbody>\n",
       "\t<tr><td>Canada</td><td>Wheat</td><td>2020-12-31</td><td>10017800</td></tr>\n",
       "</tbody>\n",
       "</table>\n"
      ],
      "text/latex": [
       "A data.frame: 1 × 4\n",
       "\\begin{tabular}{llll}\n",
       " GEO & CROP\\_TYPE & YEAR & HARVESTED\\_AREA\\\\\n",
       " <chr> & <chr> & <chr> & <int>\\\\\n",
       "\\hline\n",
       "\t Canada & Wheat & 2020-12-31 & 10017800\\\\\n",
       "\\end{tabular}\n"
      ],
      "text/markdown": [
       "\n",
       "A data.frame: 1 × 4\n",
       "\n",
       "| GEO &lt;chr&gt; | CROP_TYPE &lt;chr&gt; | YEAR &lt;chr&gt; | HARVESTED_AREA &lt;int&gt; |\n",
       "|---|---|---|---|\n",
       "| Canada | Wheat | 2020-12-31 | 10017800 |\n",
       "\n"
      ],
      "text/plain": [
       "  GEO    CROP_TYPE YEAR       HARVESTED_AREA\n",
       "1 Canada Wheat     2020-12-31 10017800      "
      ]
     },
     "metadata": {},
     "output_type": "display_data"
    }
   ],
   "source": [
    "dbGetQuery(conn, \"SELECT GEO,CROP_TYPE,YEAR,HARVESTED_AREA FROM CROP_DATA WHERE GEO = 'Canada' AND CROP_TYPE = 'Wheat' AND YEAR = (SELECT MAX(YEAR) FROM CROP_DATA)\")"
   ]
  },
  {
   "cell_type": "markdown",
   "metadata": {},
   "source": [
    "## Problem 13\n",
    "\n",
    "#### Use an implicit inner join to calculate the monthly price per metric tonne of Canola grown in Saskatchewan in both Canadian and US dollars. Display the most recent 6 months of the data.\n"
   ]
  },
  {
   "cell_type": "code",
   "execution_count": 125,
   "metadata": {
    "tags": []
   },
   "outputs": [
    {
     "data": {
      "text/html": [
       "<table>\n",
       "<caption>A data.frame: 6 × 8</caption>\n",
       "<thead>\n",
       "\t<tr><th scope=col>CD_ID</th><th scope=col>DATE</th><th scope=col>CROP_TYPE</th><th scope=col>GEO</th><th scope=col>PRICE_PRERMT</th><th scope=col>DFX_ID</th><th scope=col>DATE</th><th scope=col>FXUSDCAD</th></tr>\n",
       "\t<tr><th scope=col>&lt;int&gt;</th><th scope=col>&lt;chr&gt;</th><th scope=col>&lt;chr&gt;</th><th scope=col>&lt;chr&gt;</th><th scope=col>&lt;dbl&gt;</th><th scope=col>&lt;int&gt;</th><th scope=col>&lt;chr&gt;</th><th scope=col>&lt;dbl&gt;</th></tr>\n",
       "</thead>\n",
       "<tbody>\n",
       "\t<tr><td>2673</td><td>2020-12-01</td><td>Canola</td><td>Saskatchewan</td><td>507.33</td><td>47</td><td>2020-12-01</td><td>1.280771</td></tr>\n",
       "\t<tr><td>2666</td><td>2020-11-01</td><td>Canola</td><td>Saskatchewan</td><td>495.64</td><td>46</td><td>2020-11-01</td><td>1.306820</td></tr>\n",
       "\t<tr><td>2659</td><td>2020-10-01</td><td>Canola</td><td>Saskatchewan</td><td>474.80</td><td>45</td><td>2020-10-01</td><td>1.321471</td></tr>\n",
       "\t<tr><td>2652</td><td>2020-09-01</td><td>Canola</td><td>Saskatchewan</td><td>463.52</td><td>44</td><td>2020-09-01</td><td>1.322810</td></tr>\n",
       "\t<tr><td>2645</td><td>2020-08-01</td><td>Canola</td><td>Saskatchewan</td><td>464.60</td><td>43</td><td>2020-08-01</td><td>1.322205</td></tr>\n",
       "\t<tr><td>2639</td><td>2020-07-01</td><td>Canola</td><td>Saskatchewan</td><td>462.88</td><td>42</td><td>2020-07-01</td><td>1.349850</td></tr>\n",
       "</tbody>\n",
       "</table>\n"
      ],
      "text/latex": [
       "A data.frame: 6 × 8\n",
       "\\begin{tabular}{llllllll}\n",
       " CD\\_ID & DATE & CROP\\_TYPE & GEO & PRICE\\_PRERMT & DFX\\_ID & DATE & FXUSDCAD\\\\\n",
       " <int> & <chr> & <chr> & <chr> & <dbl> & <int> & <chr> & <dbl>\\\\\n",
       "\\hline\n",
       "\t 2673 & 2020-12-01 & Canola & Saskatchewan & 507.33 & 47 & 2020-12-01 & 1.280771\\\\\n",
       "\t 2666 & 2020-11-01 & Canola & Saskatchewan & 495.64 & 46 & 2020-11-01 & 1.306820\\\\\n",
       "\t 2659 & 2020-10-01 & Canola & Saskatchewan & 474.80 & 45 & 2020-10-01 & 1.321471\\\\\n",
       "\t 2652 & 2020-09-01 & Canola & Saskatchewan & 463.52 & 44 & 2020-09-01 & 1.322810\\\\\n",
       "\t 2645 & 2020-08-01 & Canola & Saskatchewan & 464.60 & 43 & 2020-08-01 & 1.322205\\\\\n",
       "\t 2639 & 2020-07-01 & Canola & Saskatchewan & 462.88 & 42 & 2020-07-01 & 1.349850\\\\\n",
       "\\end{tabular}\n"
      ],
      "text/markdown": [
       "\n",
       "A data.frame: 6 × 8\n",
       "\n",
       "| CD_ID &lt;int&gt; | DATE &lt;chr&gt; | CROP_TYPE &lt;chr&gt; | GEO &lt;chr&gt; | PRICE_PRERMT &lt;dbl&gt; | DFX_ID &lt;int&gt; | DATE &lt;chr&gt; | FXUSDCAD &lt;dbl&gt; |\n",
       "|---|---|---|---|---|---|---|---|\n",
       "| 2673 | 2020-12-01 | Canola | Saskatchewan | 507.33 | 47 | 2020-12-01 | 1.280771 |\n",
       "| 2666 | 2020-11-01 | Canola | Saskatchewan | 495.64 | 46 | 2020-11-01 | 1.306820 |\n",
       "| 2659 | 2020-10-01 | Canola | Saskatchewan | 474.80 | 45 | 2020-10-01 | 1.321471 |\n",
       "| 2652 | 2020-09-01 | Canola | Saskatchewan | 463.52 | 44 | 2020-09-01 | 1.322810 |\n",
       "| 2645 | 2020-08-01 | Canola | Saskatchewan | 464.60 | 43 | 2020-08-01 | 1.322205 |\n",
       "| 2639 | 2020-07-01 | Canola | Saskatchewan | 462.88 | 42 | 2020-07-01 | 1.349850 |\n",
       "\n"
      ],
      "text/plain": [
       "  CD_ID DATE       CROP_TYPE GEO          PRICE_PRERMT DFX_ID DATE      \n",
       "1 2673  2020-12-01 Canola    Saskatchewan 507.33       47     2020-12-01\n",
       "2 2666  2020-11-01 Canola    Saskatchewan 495.64       46     2020-11-01\n",
       "3 2659  2020-10-01 Canola    Saskatchewan 474.80       45     2020-10-01\n",
       "4 2652  2020-09-01 Canola    Saskatchewan 463.52       44     2020-09-01\n",
       "5 2645  2020-08-01 Canola    Saskatchewan 464.60       43     2020-08-01\n",
       "6 2639  2020-07-01 Canola    Saskatchewan 462.88       42     2020-07-01\n",
       "  FXUSDCAD\n",
       "1 1.280771\n",
       "2 1.306820\n",
       "3 1.321471\n",
       "4 1.322810\n",
       "5 1.322205\n",
       "6 1.349850"
      ]
     },
     "metadata": {},
     "output_type": "display_data"
    }
   ],
   "source": [
    "# Write your query here\n",
    "dbGetQuery(conn, \"SELECT FARM_PRICES.CD_ID, FARM_PRICES.DATE, FARM_PRICES.CROP_TYPE, FARM_PRICES.GEO, FARM_PRICES.PRICE_PRERMT, \n",
    "MONTHLY_FX.DFX_ID, MONTHLY_FX.DATE, MONTHLY_FX.FXUSDCAD FROM FARM_PRICES, MONTHLY_FX\n",
    "WHERE MONTHLY_FX.DATE = FARM_PRICES.DATE \n",
    "AND FARM_PRICES.GEO = 'Saskatchewan'\n",
    "AND FARM_PRICES.CROP_TYPE = 'Canola'\n",
    "ORDER BY FARM_PRICES.DATE DESC LIMIT 6\")"
   ]
  },
  {
   "cell_type": "markdown",
   "metadata": {},
   "source": [
    "## Author(s)\n",
    "\n",
    "<h4> Jeff Grossman </h4>\n",
    "\n",
    "<h4> D.M. Naidu </h4>\n",
    "\n",
    "## Contributor(s)\n",
    "\n",
    "<h4> Rav Ahuja </h4>\n",
    "\n",
    "<h4> Lakshmi Holla </h4>\n",
    "\n",
    "\n",
    "## Change log\n",
    "\n",
    "| Date       | Version | Changed by    | Change Description                        |\n",
    "| ---------- | ------- | ------------- | ----------------------------------------- |\n",
    "| 2022-03-03 | 1.0     | D.M. Naidu    | Converted intial version to RSQLite       |\n",
    "\n",
    "## <h3 align=\"center\"> © IBM Corporation 2022. All rights reserved. <h3/>\n"
   ]
  }
 ],
 "metadata": {
  "kernelspec": {
   "display_name": "R",
   "language": "R",
   "name": "conda-env-r-r"
  },
  "language_info": {
   "codemirror_mode": "r",
   "file_extension": ".r",
   "mimetype": "text/x-r-source",
   "name": "R",
   "pygments_lexer": "r",
   "version": "3.5.1"
  }
 },
 "nbformat": 4,
 "nbformat_minor": 4
}
