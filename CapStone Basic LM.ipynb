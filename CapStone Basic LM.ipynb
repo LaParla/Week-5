{
 "cells": [
  {
   "cell_type": "markdown",
   "metadata": {},
   "source": [
    "<center>\n",
    "<img src=\"https://cf-courses-data.s3.us.cloud-object-storage.appdomain.cloud/IBMDeveloperSkillsNetwork-RP0321EN-SkillsNetwork/labs/module_1/images/SN_web_lightmode.png\" width=\"300\"> \n",
    "</center>\n"
   ]
  },
  {
   "cell_type": "markdown",
   "metadata": {},
   "source": [
    "<h1>Predict Hourly Rented Bike Count using Basic Linear Regression Models</h1>\n",
    "\n",
    "Estimated time needed: **90** minutes\n"
   ]
  },
  {
   "cell_type": "markdown",
   "metadata": {},
   "source": [
    "## Lab Overview:\n",
    "\n",
    "Now that you have performed exploratory analysis on the bike sharing demand dataset and obtained some insights on the attributes, it's time to build predictive models to predict the hourly rented bike count using related weather and date information.\n",
    "\n",
    "In this lab, you will be asked to use `tidymodels` to build some baseline linear regression models:\n",
    "- **TASK: Split data into training and testing datasets**\n",
    "- **TASK: Build a linear regression model using only the weather variables**\n",
    "- **TASK: Build a linear regression model using both weather and date variables**\n",
    "- **TASK: Evaluate the models and identify important variables**\n",
    "\n",
    "Let's start!\n"
   ]
  },
  {
   "cell_type": "markdown",
   "metadata": {},
   "source": [
    "The tidyverse and the tidymodels packages can be used to produce high quality statistical and machine learning models. The Tidyverse library is a useful tool that provides various tools for data visualization, data manipulation, and read various datasets into a data frame; our Jupyter notebook platforms have a built-in Tidymodels, Tidyverse and rlang libraries, so we do not need to install these packages prior to loading library. However, if you decide to run this lab on your RStudio Desktop locally on your machine, you can remove the commented lines of code to install these packages before loading.\n"
   ]
  },
  {
   "cell_type": "code",
   "execution_count": null,
   "metadata": {},
   "outputs": [],
   "source": [
    "# It may take several minutes to install those libraries in Watson Studio\n",
    "# install.packages(\"rlang\")\n",
    "# install.packages(\"tidymodels\")"
   ]
  },
  {
   "cell_type": "code",
   "execution_count": 12,
   "metadata": {
    "tags": []
   },
   "outputs": [],
   "source": [
    "library(\"tidymodels\")\n",
    "library(\"tidyverse\")\n",
    "library(\"stringr\")"
   ]
  },
  {
   "cell_type": "markdown",
   "metadata": {},
   "source": [
    "The `seoul_bike_sharing_converted_normalized.csv` will be our main dataset which has following variables:\n",
    "\n",
    "The response variable:\n",
    "- `RENTED BIKE COUNT`- Count of bikes rented at each hour\n",
    "\n",
    "Weather predictor variables:\n",
    "- `TEMPERATURE` - Temperature in Celsius\n",
    "- `HUMIDITY` - Unit is `%`\n",
    "- `WIND_SPEED` - Unit is `m/s`\n",
    "- `VISIBILITY` - Multiplied by 10m\n",
    "- `DEW_POINT_TEMPERATURE` - The temperature to which the air would have to cool down in order to reach saturation, unit is Celsius\n",
    "- `SOLAR_RADIATION` - MJ/m2\n",
    "- `RAINFALL` - mm\n",
    "- `SNOWFALL` - cm\n",
    "\n",
    "Date/time predictor variables:\n",
    "- `DATE` - Year-month-day\n",
    "- `HOUR`- Hour of he day\n",
    "- `FUNCTIONAL DAY` - NoFunc(Non Functional Hours), Fun(Functional hours)\n",
    "- `HOLIDAY` - Holiday/No holiday\n",
    "- `SEASONS` - Winter, Spring, Summer, Autumn\n"
   ]
  },
  {
   "cell_type": "markdown",
   "metadata": {},
   "source": [
    "Let's read the dataset as a dataframe first:\n"
   ]
  },
  {
   "cell_type": "code",
   "execution_count": 13,
   "metadata": {
    "tags": []
   },
   "outputs": [
    {
     "name": "stderr",
     "output_type": "stream",
     "text": [
      "Parsed with column specification:\n",
      "cols(\n",
      "  .default = col_double(),\n",
      "  DATE = col_character(),\n",
      "  FUNCTIONING_DAY = col_character()\n",
      ")\n",
      "See spec(...) for full column specifications.\n"
     ]
    },
    {
     "data": {
      "text/plain": [
       "cols(\n",
       "  DATE = col_character(),\n",
       "  RENTED_BIKE_COUNT = col_double(),\n",
       "  TEMPERATURE = col_double(),\n",
       "  HUMIDITY = col_double(),\n",
       "  WIND_SPEED = col_double(),\n",
       "  VISIBILITY = col_double(),\n",
       "  DEW_POINT_TEMPERATURE = col_double(),\n",
       "  SOLAR_RADIATION = col_double(),\n",
       "  RAINFALL = col_double(),\n",
       "  SNOWFALL = col_double(),\n",
       "  FUNCTIONING_DAY = col_character(),\n",
       "  `0` = col_double(),\n",
       "  `1` = col_double(),\n",
       "  `10` = col_double(),\n",
       "  `11` = col_double(),\n",
       "  `12` = col_double(),\n",
       "  `13` = col_double(),\n",
       "  `14` = col_double(),\n",
       "  `15` = col_double(),\n",
       "  `16` = col_double(),\n",
       "  `17` = col_double(),\n",
       "  `18` = col_double(),\n",
       "  `19` = col_double(),\n",
       "  `2` = col_double(),\n",
       "  `20` = col_double(),\n",
       "  `21` = col_double(),\n",
       "  `22` = col_double(),\n",
       "  `23` = col_double(),\n",
       "  `3` = col_double(),\n",
       "  `4` = col_double(),\n",
       "  `5` = col_double(),\n",
       "  `6` = col_double(),\n",
       "  `7` = col_double(),\n",
       "  `8` = col_double(),\n",
       "  `9` = col_double(),\n",
       "  AUTUMN = col_double(),\n",
       "  SPRING = col_double(),\n",
       "  SUMMER = col_double(),\n",
       "  WINTER = col_double(),\n",
       "  HOLIDAY = col_double(),\n",
       "  NO_HOLIDAY = col_double()\n",
       ")"
      ]
     },
     "metadata": {},
     "output_type": "display_data"
    }
   ],
   "source": [
    "# Dataset URL\n",
    "dataset_url <- \"https://cf-courses-data.s3.us.cloud-object-storage.appdomain.cloud/IBMDeveloperSkillsNetwork-RP0321EN-SkillsNetwork/labs/datasets/seoul_bike_sharing_converted_normalized.csv\"\n",
    "bike_sharing_df <- read_csv(dataset_url)\n",
    "spec(bike_sharing_df)"
   ]
  },
  {
   "cell_type": "markdown",
   "metadata": {},
   "source": [
    "We won't be using the `DATE` column, because 'as is', it basically acts like an data entry index. (However, given more time, we could use the `DATE` colum to create a 'day of week' or 'isWeekend' column, which we might expect has an affect on preferred bike rental times.) We also do not need the `FUNCTIONAL DAY` column because it only has one distinct value remaining (`YES`) after missing value processing.\n"
   ]
  },
  {
   "cell_type": "code",
   "execution_count": 14,
   "metadata": {
    "tags": []
   },
   "outputs": [],
   "source": [
    "bike_sharing_df <- bike_sharing_df %>% \n",
    "                   select(-DATE, -FUNCTIONING_DAY)"
   ]
  },
  {
   "cell_type": "markdown",
   "metadata": {},
   "source": [
    "# TASK: Split training and testing data\n"
   ]
  },
  {
   "cell_type": "markdown",
   "metadata": {},
   "source": [
    "First, we need to split the full dataset into training and testing datasets.\n",
    "\n",
    "The training dataset will be used for fitting regression models, and the testing dataset will be used to evaluate the trained models.\n"
   ]
  },
  {
   "cell_type": "markdown",
   "metadata": {},
   "source": [
    "_TODO:_ Use the `initial_split()`, `training()`, and `testing()` functions to generate a training dataset consisting of 75% of the original dataset, and a testing dataset using the remaining 25%. \n"
   ]
  },
  {
   "cell_type": "code",
   "execution_count": 15,
   "metadata": {
    "tags": []
   },
   "outputs": [],
   "source": [
    "# Use the `initial_split()`, `training()`, and `testing()` functions to split the dataset\n",
    "# With seed 1234\n",
    "set.seed(1234)\n",
    "# prop = 3/4\n",
    "bike_split <- initial_split(bike_sharing_df, prop = 3/4)\n",
    "# train_data \n",
    "bike_train <- training(bike_split)\n",
    "# test_data\n",
    "bike_test <- testing(bike_split)"
   ]
  },
  {
   "cell_type": "markdown",
   "metadata": {},
   "source": [
    "# TASK: Build a linear regression model using weather variables only\n"
   ]
  },
  {
   "cell_type": "markdown",
   "metadata": {},
   "source": [
    "As you could imagine, weather conditions may affect people's bike renting decisions. For example, on a cold and rainy day, you may choose alternate transportation such as a bus or taxi.  While on a nice sunny day, you may want to rent a bike for a short-distance travel.\n"
   ]
  },
  {
   "cell_type": "markdown",
   "metadata": {},
   "source": [
    "Thus, can we predict a city's bike-sharing demand based on its local weather information? Let's try to build a regression model to do that.\n"
   ]
  },
  {
   "cell_type": "markdown",
   "metadata": {},
   "source": [
    "_TODO:_ Build a linear regression model called `lm_model_weather` using the following variables:\n",
    "\n",
    "- `TEMPERATURE` - Temperature in Celsius\n",
    "- `HUMIDITY` - Unit is `%`\n",
    "- `WIND_SPEED` - Unit is `m/s`\n",
    "- `VISIBILITY` - Multiplied by 10m\n",
    "- `DEW_POINT_TEMPERATURE` - The temperature to which the air would have to cool down in order to reach saturation, unit is Celsius\n",
    "- `SOLAR_RADIATION` - MJ/m2\n",
    "- `RAINFALL` - mm\n",
    "- `SNOWFALL` - cm\n"
   ]
  },
  {
   "cell_type": "markdown",
   "metadata": {},
   "source": [
    "Define a linear regression model specification.\n"
   ]
  },
  {
   "cell_type": "code",
   "execution_count": 16,
   "metadata": {
    "tags": []
   },
   "outputs": [
    {
     "data": {
      "text/plain": [
       "Linear Regression Model Specification (regression)\n",
       "\n",
       "Computational engine: lm \n"
      ]
     },
     "metadata": {},
     "output_type": "display_data"
    }
   ],
   "source": [
    "# Use `linear_reg()` with engine `lm` and mode `regression`\n",
    "# Pick linear regression\n",
    "lm_spec <- linear_reg() %>%\n",
    "  # Set engine'\n",
    "  set_engine(engine = \"lm\")\n",
    "\n",
    "# Print the linear function\n",
    "lm_spec\n"
   ]
  },
  {
   "cell_type": "markdown",
   "metadata": {},
   "source": [
    "Fit a model with the response variable `RENTED_BIKE_COUNT` and predictor variables `TEMPERATURE + HUMIDITY + WIND_SPEED + VISIBILITY + DEW_POINT_TEMPERATURE + SOLAR_RADIATION + RAINFALL + SNOWFALL`\n"
   ]
  },
  {
   "cell_type": "code",
   "execution_count": 17,
   "metadata": {
    "tags": []
   },
   "outputs": [],
   "source": [
    "# Fit the model called `lm_model_weather`\n",
    "# RENTED_BIKE_COUNT ~ TEMPERATURE + HUMIDITY + WIND_SPEED + VISIBILITY + DEW_POINT_TEMPERATURE + SOLAR_RADIATION + RAINFALL + SNOWFALL,  with the training data\n",
    "lm_model_weather <- lm_spec %>% \n",
    "    fit(RENTED_BIKE_COUNT ~ TEMPERATURE + HUMIDITY + WIND_SPEED + VISIBILITY + DEW_POINT_TEMPERATURE + SOLAR_RADIATION + RAINFALL + SNOWFALL, data = bike_train)"
   ]
  },
  {
   "cell_type": "markdown",
   "metadata": {},
   "source": [
    "Print the fit summary for the `lm_model_weather` model.\n"
   ]
  },
  {
   "cell_type": "code",
   "execution_count": 18,
   "metadata": {
    "tags": []
   },
   "outputs": [
    {
     "name": "stdout",
     "output_type": "stream",
     "text": [
      "\n",
      "Call:\n",
      "stats::lm(formula = formula, data = data)\n",
      "\n",
      "Coefficients:\n",
      "          (Intercept)            TEMPERATURE               HUMIDITY  \n",
      "              147.647               2452.112               -895.830  \n",
      "           WIND_SPEED             VISIBILITY  DEW_POINT_TEMPERATURE  \n",
      "              402.183                  5.356               -368.982  \n",
      "      SOLAR_RADIATION               RAINFALL               SNOWFALL  \n",
      "             -435.703              -1771.467                354.761  \n",
      "\n"
     ]
    }
   ],
   "source": [
    "print(lm_model_weather$fit)"
   ]
  },
  {
   "cell_type": "markdown",
   "metadata": {},
   "source": [
    "You should see the model details such as formula, residuals, and coefficients.\n"
   ]
  },
  {
   "cell_type": "markdown",
   "metadata": {},
   "source": [
    "# TASK: Build a linear regression model using all variables\n"
   ]
  },
  {
   "cell_type": "markdown",
   "metadata": {},
   "source": [
    "In addition to weather, there could be other factors that may affect bike rental demand, such as the time of a day or if today is a holiday or not.\n"
   ]
  },
  {
   "cell_type": "markdown",
   "metadata": {},
   "source": [
    "Next, let's build a linear regression model using all variables (weather + date/time) in this task.\n"
   ]
  },
  {
   "cell_type": "markdown",
   "metadata": {},
   "source": [
    "_TODO:_ Build a linear regression model called `lm_model_all` using all variables `RENTED_BIKE_COUNT ~ .`\n"
   ]
  },
  {
   "cell_type": "code",
   "execution_count": 19,
   "metadata": {
    "tags": []
   },
   "outputs": [],
   "source": [
    "# Fit the model called `lm_model_all`\n",
    "# `RENTED_BIKE_COUNT ~ .` means use all other variables except for the response variable\n",
    "lm_spec_all <- linear_reg() %>%\n",
    "  # Set engine'\n",
    "  set_engine(engine = \"lm\")\n",
    "\n",
    "lm_model_all <- lm_spec %>% \n",
    "    fit( RENTED_BIKE_COUNT ~ ., data = bike_train)\n"
   ]
  },
  {
   "cell_type": "markdown",
   "metadata": {},
   "source": [
    "Print the fit summary for `lm_model_all`.\n"
   ]
  },
  {
   "cell_type": "code",
   "execution_count": 20,
   "metadata": {
    "tags": []
   },
   "outputs": [
    {
     "data": {
      "text/plain": [
       "\n",
       "Call:\n",
       "stats::lm(formula = formula, data = data)\n",
       "\n",
       "Residuals:\n",
       "     Min       1Q   Median       3Q      Max \n",
       "-1390.19  -220.95    -9.08   202.68  1774.61 \n",
       "\n",
       "Coefficients: (3 not defined because of singularities)\n",
       "                       Estimate Std. Error t value Pr(>|t|)    \n",
       "(Intercept)             216.584     50.673   4.274 1.95e-05 ***\n",
       "TEMPERATURE             810.604    209.034   3.878 0.000106 ***\n",
       "HUMIDITY               -920.587     97.243  -9.467  < 2e-16 ***\n",
       "WIND_SPEED               -9.313     40.268  -0.231 0.817101    \n",
       "VISIBILITY               24.368     20.235   1.204 0.228533    \n",
       "DEW_POINT_TEMPERATURE   632.384    217.478   2.908 0.003652 ** \n",
       "SOLAR_RADIATION         249.752     41.347   6.040 1.62e-09 ***\n",
       "RAINFALL              -1982.940    143.642 -13.805  < 2e-16 ***\n",
       "SNOWFALL                232.451    104.609   2.222 0.026312 *  \n",
       "`0`                     -12.500     34.010  -0.368 0.713234    \n",
       "`1`                    -125.701     34.579  -3.635 0.000280 ***\n",
       "`10`                   -222.233     33.316  -6.671 2.76e-11 ***\n",
       "`11`                   -231.428     33.981  -6.811 1.06e-11 ***\n",
       "`12`                   -194.605     34.559  -5.631 1.87e-08 ***\n",
       "`13`                   -189.528     35.199  -5.385 7.53e-08 ***\n",
       "`14`                   -183.060     35.246  -5.194 2.12e-07 ***\n",
       "`15`                   -103.127     35.096  -2.938 0.003311 ** \n",
       "`16`                     43.598     34.230   1.274 0.202829    \n",
       "`17`                    306.732     34.272   8.950  < 2e-16 ***\n",
       "`18`                    782.842     34.512  22.683  < 2e-16 ***\n",
       "`19`                    519.456     34.541  15.039  < 2e-16 ***\n",
       "`2`                    -259.946     34.575  -7.518 6.32e-14 ***\n",
       "`20`                    394.635     34.729  11.363  < 2e-16 ***\n",
       "`21`                    430.185     34.337  12.528  < 2e-16 ***\n",
       "`22`                    322.664     33.935   9.508  < 2e-16 ***\n",
       "`23`                     90.181     33.974   2.654 0.007965 ** \n",
       "`3`                    -327.245     33.890  -9.656  < 2e-16 ***\n",
       "`4`                    -389.558     34.033 -11.447  < 2e-16 ***\n",
       "`5`                    -379.055     33.818 -11.209  < 2e-16 ***\n",
       "`6`                    -216.689     34.166  -6.342 2.42e-10 ***\n",
       "`7`                     110.492     33.930   3.256 0.001134 ** \n",
       "`8`                     502.354     33.506  14.993  < 2e-16 ***\n",
       "`9`                          NA         NA      NA       NA    \n",
       "AUTUMN                  357.978     19.997  17.902  < 2e-16 ***\n",
       "SPRING                  194.421     19.218  10.117  < 2e-16 ***\n",
       "SUMMER                  172.901     29.043   5.953 2.77e-09 ***\n",
       "WINTER                       NA         NA      NA       NA    \n",
       "HOLIDAY                -129.167     22.447  -5.754 9.11e-09 ***\n",
       "NO_HOLIDAY                   NA         NA      NA       NA    \n",
       "---\n",
       "Signif. codes:  0 ‘***’ 0.001 ‘**’ 0.01 ‘*’ 0.05 ‘.’ 0.1 ‘ ’ 1\n",
       "\n",
       "Residual standard error: 376.4 on 6313 degrees of freedom\n",
       "Multiple R-squared:  0.6622,\tAdjusted R-squared:  0.6603 \n",
       "F-statistic: 353.5 on 35 and 6313 DF,  p-value: < 2.2e-16\n"
      ]
     },
     "metadata": {},
     "output_type": "display_data"
    }
   ],
   "source": [
    "summary(lm_model_all$fit)"
   ]
  },
  {
   "cell_type": "markdown",
   "metadata": {},
   "source": [
    "Now you have built two basic linear regression models with different predictor variables, let's evaluate which model has better performance,\n"
   ]
  },
  {
   "cell_type": "markdown",
   "metadata": {},
   "source": [
    "# TASK: Model evaluation and identification of important variables\n"
   ]
  },
  {
   "cell_type": "markdown",
   "metadata": {},
   "source": [
    "Now that you have built two regression models, `lm_model_weather` and `lm_model_all`, with different predictor variables, you need to compare their performance to see which one is better.\n"
   ]
  },
  {
   "cell_type": "markdown",
   "metadata": {},
   "source": [
    "In this project, you will be asked to use very important metrics that are often used in Statistics to determine the performance of a model:\n",
    "\n",
    "1.  R^2 / R-squared \n",
    "2.  Root Mean Squared Error (RMSE)\n",
    "\n",
    "**R-squared**\n",
    "\n",
    "<p>R squared, also known as the coefficient of determination, is a measure to indicate how close the data is to the fitted regression line. The value of R-squared is the percentage of variation of the response variable (y) that is explained by a linear model.</p>\n",
    "\n",
    "**Root Mean Squared Error (RMSE)**\n",
    "$$\n",
    "RMSE = \\sqrt{MSE}\n",
    "$$\n",
    "\n",
    "As you know, the Mean Squared Error measures the average of the squares of errors, where 'error' is the difference between the actual value ($y$) and the estimated value ($ŷ$). \n",
    "Another metric that is related to MSE is **Root Mean Squared Error (RMSE)** and is simply the square root of MSE.\n"
   ]
  },
  {
   "cell_type": "markdown",
   "metadata": {},
   "source": [
    "We first need to test the `lm_model_weather` and `lm_model_all` models against the test dataset `test_data`, and generate `RENTED_BIKE_COUNT` prediction results.\n"
   ]
  },
  {
   "cell_type": "markdown",
   "metadata": {},
   "source": [
    "_TODO:_ Make predictions on the testing dataset using both `lm_model_weather` and `lm_model_all` models\n"
   ]
  },
  {
   "cell_type": "code",
   "execution_count": 21,
   "metadata": {
    "tags": []
   },
   "outputs": [
    {
     "name": "stderr",
     "output_type": "stream",
     "text": [
      "Warning message in predict.lm(object = object$fit, newdata = new_data, type = \"response\"):\n",
      "“prediction from a rank-deficient fit may be misleading”"
     ]
    },
    {
     "data": {
      "text/html": [
       "<table>\n",
       "<caption>A tibble: 2116 × 1</caption>\n",
       "<thead>\n",
       "\t<tr><th scope=col>.pred</th></tr>\n",
       "\t<tr><th scope=col>&lt;dbl&gt;</th></tr>\n",
       "</thead>\n",
       "<tbody>\n",
       "\t<tr><td> 274.35313</td></tr>\n",
       "\t<tr><td> 378.17573</td></tr>\n",
       "\t<tr><td> 312.99169</td></tr>\n",
       "\t<tr><td> 336.77659</td></tr>\n",
       "\t<tr><td> 631.85599</td></tr>\n",
       "\t<tr><td> 638.04893</td></tr>\n",
       "\t<tr><td> 661.52564</td></tr>\n",
       "\t<tr><td> 343.39046</td></tr>\n",
       "\t<tr><td> 131.59972</td></tr>\n",
       "\t<tr><td>  89.35074</td></tr>\n",
       "\t<tr><td> -27.51928</td></tr>\n",
       "\t<tr><td>-103.03963</td></tr>\n",
       "\t<tr><td> -78.94306</td></tr>\n",
       "\t<tr><td> -12.71063</td></tr>\n",
       "\t<tr><td> -57.23004</td></tr>\n",
       "\t<tr><td> -29.09339</td></tr>\n",
       "\t<tr><td> 694.50316</td></tr>\n",
       "\t<tr><td> 660.96343</td></tr>\n",
       "\t<tr><td> 260.37368</td></tr>\n",
       "\t<tr><td> 205.35640</td></tr>\n",
       "\t<tr><td> 272.81352</td></tr>\n",
       "\t<tr><td> 191.71567</td></tr>\n",
       "\t<tr><td> 320.88911</td></tr>\n",
       "\t<tr><td> 278.22875</td></tr>\n",
       "\t<tr><td> 809.92363</td></tr>\n",
       "\t<tr><td> 690.56623</td></tr>\n",
       "\t<tr><td> 315.71733</td></tr>\n",
       "\t<tr><td> 303.09602</td></tr>\n",
       "\t<tr><td> 458.96004</td></tr>\n",
       "\t<tr><td> 542.65560</td></tr>\n",
       "\t<tr><td>⋮</td></tr>\n",
       "\t<tr><td>104.9772</td></tr>\n",
       "\t<tr><td>321.4493</td></tr>\n",
       "\t<tr><td>430.1040</td></tr>\n",
       "\t<tr><td>693.7085</td></tr>\n",
       "\t<tr><td>788.7575</td></tr>\n",
       "\t<tr><td>866.7545</td></tr>\n",
       "\t<tr><td>754.7145</td></tr>\n",
       "\t<tr><td>304.9152</td></tr>\n",
       "\t<tr><td> 91.1970</td></tr>\n",
       "\t<tr><td>584.5029</td></tr>\n",
       "\t<tr><td>786.6954</td></tr>\n",
       "\t<tr><td>782.0602</td></tr>\n",
       "\t<tr><td>667.8315</td></tr>\n",
       "\t<tr><td>719.6416</td></tr>\n",
       "\t<tr><td>792.3701</td></tr>\n",
       "\t<tr><td>986.1180</td></tr>\n",
       "\t<tr><td>768.0460</td></tr>\n",
       "\t<tr><td>665.3432</td></tr>\n",
       "\t<tr><td>630.4957</td></tr>\n",
       "\t<tr><td>878.4050</td></tr>\n",
       "\t<tr><td>860.4584</td></tr>\n",
       "\t<tr><td>785.7339</td></tr>\n",
       "\t<tr><td>737.7787</td></tr>\n",
       "\t<tr><td>144.1409</td></tr>\n",
       "\t<tr><td>132.3326</td></tr>\n",
       "\t<tr><td>519.2258</td></tr>\n",
       "\t<tr><td>808.1787</td></tr>\n",
       "\t<tr><td>796.7544</td></tr>\n",
       "\t<tr><td>552.4960</td></tr>\n",
       "\t<tr><td>538.8885</td></tr>\n",
       "</tbody>\n",
       "</table>\n"
      ],
      "text/latex": [
       "A tibble: 2116 × 1\n",
       "\\begin{tabular}{l}\n",
       " .pred\\\\\n",
       " <dbl>\\\\\n",
       "\\hline\n",
       "\t  274.35313\\\\\n",
       "\t  378.17573\\\\\n",
       "\t  312.99169\\\\\n",
       "\t  336.77659\\\\\n",
       "\t  631.85599\\\\\n",
       "\t  638.04893\\\\\n",
       "\t  661.52564\\\\\n",
       "\t  343.39046\\\\\n",
       "\t  131.59972\\\\\n",
       "\t   89.35074\\\\\n",
       "\t  -27.51928\\\\\n",
       "\t -103.03963\\\\\n",
       "\t  -78.94306\\\\\n",
       "\t  -12.71063\\\\\n",
       "\t  -57.23004\\\\\n",
       "\t  -29.09339\\\\\n",
       "\t  694.50316\\\\\n",
       "\t  660.96343\\\\\n",
       "\t  260.37368\\\\\n",
       "\t  205.35640\\\\\n",
       "\t  272.81352\\\\\n",
       "\t  191.71567\\\\\n",
       "\t  320.88911\\\\\n",
       "\t  278.22875\\\\\n",
       "\t  809.92363\\\\\n",
       "\t  690.56623\\\\\n",
       "\t  315.71733\\\\\n",
       "\t  303.09602\\\\\n",
       "\t  458.96004\\\\\n",
       "\t  542.65560\\\\\n",
       "\t ⋮\\\\\n",
       "\t 104.9772\\\\\n",
       "\t 321.4493\\\\\n",
       "\t 430.1040\\\\\n",
       "\t 693.7085\\\\\n",
       "\t 788.7575\\\\\n",
       "\t 866.7545\\\\\n",
       "\t 754.7145\\\\\n",
       "\t 304.9152\\\\\n",
       "\t  91.1970\\\\\n",
       "\t 584.5029\\\\\n",
       "\t 786.6954\\\\\n",
       "\t 782.0602\\\\\n",
       "\t 667.8315\\\\\n",
       "\t 719.6416\\\\\n",
       "\t 792.3701\\\\\n",
       "\t 986.1180\\\\\n",
       "\t 768.0460\\\\\n",
       "\t 665.3432\\\\\n",
       "\t 630.4957\\\\\n",
       "\t 878.4050\\\\\n",
       "\t 860.4584\\\\\n",
       "\t 785.7339\\\\\n",
       "\t 737.7787\\\\\n",
       "\t 144.1409\\\\\n",
       "\t 132.3326\\\\\n",
       "\t 519.2258\\\\\n",
       "\t 808.1787\\\\\n",
       "\t 796.7544\\\\\n",
       "\t 552.4960\\\\\n",
       "\t 538.8885\\\\\n",
       "\\end{tabular}\n"
      ],
      "text/markdown": [
       "\n",
       "A tibble: 2116 × 1\n",
       "\n",
       "| .pred &lt;dbl&gt; |\n",
       "|---|\n",
       "|  274.35313 |\n",
       "|  378.17573 |\n",
       "|  312.99169 |\n",
       "|  336.77659 |\n",
       "|  631.85599 |\n",
       "|  638.04893 |\n",
       "|  661.52564 |\n",
       "|  343.39046 |\n",
       "|  131.59972 |\n",
       "|   89.35074 |\n",
       "|  -27.51928 |\n",
       "| -103.03963 |\n",
       "|  -78.94306 |\n",
       "|  -12.71063 |\n",
       "|  -57.23004 |\n",
       "|  -29.09339 |\n",
       "|  694.50316 |\n",
       "|  660.96343 |\n",
       "|  260.37368 |\n",
       "|  205.35640 |\n",
       "|  272.81352 |\n",
       "|  191.71567 |\n",
       "|  320.88911 |\n",
       "|  278.22875 |\n",
       "|  809.92363 |\n",
       "|  690.56623 |\n",
       "|  315.71733 |\n",
       "|  303.09602 |\n",
       "|  458.96004 |\n",
       "|  542.65560 |\n",
       "| ⋮ |\n",
       "| 104.9772 |\n",
       "| 321.4493 |\n",
       "| 430.1040 |\n",
       "| 693.7085 |\n",
       "| 788.7575 |\n",
       "| 866.7545 |\n",
       "| 754.7145 |\n",
       "| 304.9152 |\n",
       "|  91.1970 |\n",
       "| 584.5029 |\n",
       "| 786.6954 |\n",
       "| 782.0602 |\n",
       "| 667.8315 |\n",
       "| 719.6416 |\n",
       "| 792.3701 |\n",
       "| 986.1180 |\n",
       "| 768.0460 |\n",
       "| 665.3432 |\n",
       "| 630.4957 |\n",
       "| 878.4050 |\n",
       "| 860.4584 |\n",
       "| 785.7339 |\n",
       "| 737.7787 |\n",
       "| 144.1409 |\n",
       "| 132.3326 |\n",
       "| 519.2258 |\n",
       "| 808.1787 |\n",
       "| 796.7544 |\n",
       "| 552.4960 |\n",
       "| 538.8885 |\n",
       "\n"
      ],
      "text/plain": [
       "     .pred     \n",
       "1     274.35313\n",
       "2     378.17573\n",
       "3     312.99169\n",
       "4     336.77659\n",
       "5     631.85599\n",
       "6     638.04893\n",
       "7     661.52564\n",
       "8     343.39046\n",
       "9     131.59972\n",
       "10     89.35074\n",
       "11    -27.51928\n",
       "12   -103.03963\n",
       "13    -78.94306\n",
       "14    -12.71063\n",
       "15    -57.23004\n",
       "16    -29.09339\n",
       "17    694.50316\n",
       "18    660.96343\n",
       "19    260.37368\n",
       "20    205.35640\n",
       "21    272.81352\n",
       "22    191.71567\n",
       "23    320.88911\n",
       "24    278.22875\n",
       "25    809.92363\n",
       "26    690.56623\n",
       "27    315.71733\n",
       "28    303.09602\n",
       "29    458.96004\n",
       "30    542.65560\n",
       "⋮    ⋮         \n",
       "2087 104.9772  \n",
       "2088 321.4493  \n",
       "2089 430.1040  \n",
       "2090 693.7085  \n",
       "2091 788.7575  \n",
       "2092 866.7545  \n",
       "2093 754.7145  \n",
       "2094 304.9152  \n",
       "2095  91.1970  \n",
       "2096 584.5029  \n",
       "2097 786.6954  \n",
       "2098 782.0602  \n",
       "2099 667.8315  \n",
       "2100 719.6416  \n",
       "2101 792.3701  \n",
       "2102 986.1180  \n",
       "2103 768.0460  \n",
       "2104 665.3432  \n",
       "2105 630.4957  \n",
       "2106 878.4050  \n",
       "2107 860.4584  \n",
       "2108 785.7339  \n",
       "2109 737.7787  \n",
       "2110 144.1409  \n",
       "2111 132.3326  \n",
       "2112 519.2258  \n",
       "2113 808.1787  \n",
       "2114 796.7544  \n",
       "2115 552.4960  \n",
       "2116 538.8885  "
      ]
     },
     "metadata": {},
     "output_type": "display_data"
    },
    {
     "data": {
      "text/html": [
       "<table>\n",
       "<caption>A tibble: 2116 × 1</caption>\n",
       "<thead>\n",
       "\t<tr><th scope=col>.pred</th></tr>\n",
       "\t<tr><th scope=col>&lt;dbl&gt;</th></tr>\n",
       "</thead>\n",
       "<tbody>\n",
       "\t<tr><td> -78.24847</td></tr>\n",
       "\t<tr><td>-191.16239</td></tr>\n",
       "\t<tr><td> -25.99046</td></tr>\n",
       "\t<tr><td> 251.97376</td></tr>\n",
       "\t<tr><td> 330.23653</td></tr>\n",
       "\t<tr><td> 347.24700</td></tr>\n",
       "\t<tr><td> 326.01356</td></tr>\n",
       "\t<tr><td> 533.77371</td></tr>\n",
       "\t<tr><td> 583.69919</td></tr>\n",
       "\t<tr><td> 435.01665</td></tr>\n",
       "\t<tr><td>  60.95455</td></tr>\n",
       "\t<tr><td>-195.92707</td></tr>\n",
       "\t<tr><td>-345.59776</td></tr>\n",
       "\t<tr><td>-389.96710</td></tr>\n",
       "\t<tr><td>-308.20597</td></tr>\n",
       "\t<tr><td>  25.47046</td></tr>\n",
       "\t<tr><td> 481.47237</td></tr>\n",
       "\t<tr><td> 704.33410</td></tr>\n",
       "\t<tr><td>-219.32812</td></tr>\n",
       "\t<tr><td> -37.70652</td></tr>\n",
       "\t<tr><td>  34.71532</td></tr>\n",
       "\t<tr><td>-185.00520</td></tr>\n",
       "\t<tr><td> 227.53143</td></tr>\n",
       "\t<tr><td> 591.86556</td></tr>\n",
       "\t<tr><td> 677.94948</td></tr>\n",
       "\t<tr><td>1110.09530</td></tr>\n",
       "\t<tr><td> 482.28951</td></tr>\n",
       "\t<tr><td> 243.48754</td></tr>\n",
       "\t<tr><td>  76.18884</td></tr>\n",
       "\t<tr><td> 267.02170</td></tr>\n",
       "\t<tr><td>⋮</td></tr>\n",
       "\t<tr><td> 912.076699</td></tr>\n",
       "\t<tr><td> 529.868236</td></tr>\n",
       "\t<tr><td> 696.589887</td></tr>\n",
       "\t<tr><td> 856.005954</td></tr>\n",
       "\t<tr><td> 946.862794</td></tr>\n",
       "\t<tr><td>1051.321220</td></tr>\n",
       "\t<tr><td>1211.561521</td></tr>\n",
       "\t<tr><td> 618.061256</td></tr>\n",
       "\t<tr><td>   4.200139</td></tr>\n",
       "\t<tr><td> 783.681907</td></tr>\n",
       "\t<tr><td>1326.601221</td></tr>\n",
       "\t<tr><td> 794.475768</td></tr>\n",
       "\t<tr><td> 393.072470</td></tr>\n",
       "\t<tr><td> 922.565934</td></tr>\n",
       "\t<tr><td> 684.802982</td></tr>\n",
       "\t<tr><td> 958.969659</td></tr>\n",
       "\t<tr><td>1244.434458</td></tr>\n",
       "\t<tr><td> 771.666167</td></tr>\n",
       "\t<tr><td> 435.503805</td></tr>\n",
       "\t<tr><td> 695.732236</td></tr>\n",
       "\t<tr><td> 789.067132</td></tr>\n",
       "\t<tr><td> 865.240272</td></tr>\n",
       "\t<tr><td>1132.021583</td></tr>\n",
       "\t<tr><td> 245.240138</td></tr>\n",
       "\t<tr><td> 947.301292</td></tr>\n",
       "\t<tr><td> 643.372588</td></tr>\n",
       "\t<tr><td> 863.544763</td></tr>\n",
       "\t<tr><td>1328.288290</td></tr>\n",
       "\t<tr><td>1043.032452</td></tr>\n",
       "\t<tr><td> 794.637962</td></tr>\n",
       "</tbody>\n",
       "</table>\n"
      ],
      "text/latex": [
       "A tibble: 2116 × 1\n",
       "\\begin{tabular}{l}\n",
       " .pred\\\\\n",
       " <dbl>\\\\\n",
       "\\hline\n",
       "\t  -78.24847\\\\\n",
       "\t -191.16239\\\\\n",
       "\t  -25.99046\\\\\n",
       "\t  251.97376\\\\\n",
       "\t  330.23653\\\\\n",
       "\t  347.24700\\\\\n",
       "\t  326.01356\\\\\n",
       "\t  533.77371\\\\\n",
       "\t  583.69919\\\\\n",
       "\t  435.01665\\\\\n",
       "\t   60.95455\\\\\n",
       "\t -195.92707\\\\\n",
       "\t -345.59776\\\\\n",
       "\t -389.96710\\\\\n",
       "\t -308.20597\\\\\n",
       "\t   25.47046\\\\\n",
       "\t  481.47237\\\\\n",
       "\t  704.33410\\\\\n",
       "\t -219.32812\\\\\n",
       "\t  -37.70652\\\\\n",
       "\t   34.71532\\\\\n",
       "\t -185.00520\\\\\n",
       "\t  227.53143\\\\\n",
       "\t  591.86556\\\\\n",
       "\t  677.94948\\\\\n",
       "\t 1110.09530\\\\\n",
       "\t  482.28951\\\\\n",
       "\t  243.48754\\\\\n",
       "\t   76.18884\\\\\n",
       "\t  267.02170\\\\\n",
       "\t ⋮\\\\\n",
       "\t  912.076699\\\\\n",
       "\t  529.868236\\\\\n",
       "\t  696.589887\\\\\n",
       "\t  856.005954\\\\\n",
       "\t  946.862794\\\\\n",
       "\t 1051.321220\\\\\n",
       "\t 1211.561521\\\\\n",
       "\t  618.061256\\\\\n",
       "\t    4.200139\\\\\n",
       "\t  783.681907\\\\\n",
       "\t 1326.601221\\\\\n",
       "\t  794.475768\\\\\n",
       "\t  393.072470\\\\\n",
       "\t  922.565934\\\\\n",
       "\t  684.802982\\\\\n",
       "\t  958.969659\\\\\n",
       "\t 1244.434458\\\\\n",
       "\t  771.666167\\\\\n",
       "\t  435.503805\\\\\n",
       "\t  695.732236\\\\\n",
       "\t  789.067132\\\\\n",
       "\t  865.240272\\\\\n",
       "\t 1132.021583\\\\\n",
       "\t  245.240138\\\\\n",
       "\t  947.301292\\\\\n",
       "\t  643.372588\\\\\n",
       "\t  863.544763\\\\\n",
       "\t 1328.288290\\\\\n",
       "\t 1043.032452\\\\\n",
       "\t  794.637962\\\\\n",
       "\\end{tabular}\n"
      ],
      "text/markdown": [
       "\n",
       "A tibble: 2116 × 1\n",
       "\n",
       "| .pred &lt;dbl&gt; |\n",
       "|---|\n",
       "|  -78.24847 |\n",
       "| -191.16239 |\n",
       "|  -25.99046 |\n",
       "|  251.97376 |\n",
       "|  330.23653 |\n",
       "|  347.24700 |\n",
       "|  326.01356 |\n",
       "|  533.77371 |\n",
       "|  583.69919 |\n",
       "|  435.01665 |\n",
       "|   60.95455 |\n",
       "| -195.92707 |\n",
       "| -345.59776 |\n",
       "| -389.96710 |\n",
       "| -308.20597 |\n",
       "|   25.47046 |\n",
       "|  481.47237 |\n",
       "|  704.33410 |\n",
       "| -219.32812 |\n",
       "|  -37.70652 |\n",
       "|   34.71532 |\n",
       "| -185.00520 |\n",
       "|  227.53143 |\n",
       "|  591.86556 |\n",
       "|  677.94948 |\n",
       "| 1110.09530 |\n",
       "|  482.28951 |\n",
       "|  243.48754 |\n",
       "|   76.18884 |\n",
       "|  267.02170 |\n",
       "| ⋮ |\n",
       "|  912.076699 |\n",
       "|  529.868236 |\n",
       "|  696.589887 |\n",
       "|  856.005954 |\n",
       "|  946.862794 |\n",
       "| 1051.321220 |\n",
       "| 1211.561521 |\n",
       "|  618.061256 |\n",
       "|    4.200139 |\n",
       "|  783.681907 |\n",
       "| 1326.601221 |\n",
       "|  794.475768 |\n",
       "|  393.072470 |\n",
       "|  922.565934 |\n",
       "|  684.802982 |\n",
       "|  958.969659 |\n",
       "| 1244.434458 |\n",
       "|  771.666167 |\n",
       "|  435.503805 |\n",
       "|  695.732236 |\n",
       "|  789.067132 |\n",
       "|  865.240272 |\n",
       "| 1132.021583 |\n",
       "|  245.240138 |\n",
       "|  947.301292 |\n",
       "|  643.372588 |\n",
       "|  863.544763 |\n",
       "| 1328.288290 |\n",
       "| 1043.032452 |\n",
       "|  794.637962 |\n",
       "\n"
      ],
      "text/plain": [
       "     .pred      \n",
       "1     -78.24847 \n",
       "2    -191.16239 \n",
       "3     -25.99046 \n",
       "4     251.97376 \n",
       "5     330.23653 \n",
       "6     347.24700 \n",
       "7     326.01356 \n",
       "8     533.77371 \n",
       "9     583.69919 \n",
       "10    435.01665 \n",
       "11     60.95455 \n",
       "12   -195.92707 \n",
       "13   -345.59776 \n",
       "14   -389.96710 \n",
       "15   -308.20597 \n",
       "16     25.47046 \n",
       "17    481.47237 \n",
       "18    704.33410 \n",
       "19   -219.32812 \n",
       "20    -37.70652 \n",
       "21     34.71532 \n",
       "22   -185.00520 \n",
       "23    227.53143 \n",
       "24    591.86556 \n",
       "25    677.94948 \n",
       "26   1110.09530 \n",
       "27    482.28951 \n",
       "28    243.48754 \n",
       "29     76.18884 \n",
       "30    267.02170 \n",
       "⋮    ⋮          \n",
       "2087  912.076699\n",
       "2088  529.868236\n",
       "2089  696.589887\n",
       "2090  856.005954\n",
       "2091  946.862794\n",
       "2092 1051.321220\n",
       "2093 1211.561521\n",
       "2094  618.061256\n",
       "2095    4.200139\n",
       "2096  783.681907\n",
       "2097 1326.601221\n",
       "2098  794.475768\n",
       "2099  393.072470\n",
       "2100  922.565934\n",
       "2101  684.802982\n",
       "2102  958.969659\n",
       "2103 1244.434458\n",
       "2104  771.666167\n",
       "2105  435.503805\n",
       "2106  695.732236\n",
       "2107  789.067132\n",
       "2108  865.240272\n",
       "2109 1132.021583\n",
       "2110  245.240138\n",
       "2111  947.301292\n",
       "2112  643.372588\n",
       "2113  863.544763\n",
       "2114 1328.288290\n",
       "2115 1043.032452\n",
       "2116  794.637962"
      ]
     },
     "metadata": {},
     "output_type": "display_data"
    }
   ],
   "source": [
    "# Use predict() function to generate test results for `lm_model_weather` and `lm_model_all`\n",
    "# and generate two test results dataframe with a truth column:\n",
    "test_results_weather <- predict(lm_model_weather, bike_test)\n",
    "test_results_all <- predict(lm_model_all, bike_test)\n",
    "# test_results_weather for lm_model_weather model\n",
    "test_results_weather\n",
    "# test_results_all for lm_model_all\n",
    "test_results_all"
   ]
  },
  {
   "cell_type": "markdown",
   "metadata": {},
   "source": [
    "NOTE: if you happen to see a warning like : `prediction from a rank-deficient fit may be misleading`, it may be casued by collinearity in the predictor variables. Collinearity means that one predictor variable can be predicted from other predictor variables to some degree. For example, `RAINFALL` could be predicted by `HUMIDITY`.\n",
    "\n",
    "But dont worry, you will address `glmnet` models (Lasso and Elastic-Net Regularized Generalized Linear Models) instead of regular `regression` models to solve this issue and futher improve the model performance.\n"
   ]
  },
  {
   "cell_type": "markdown",
   "metadata": {},
   "source": [
    "Next, let's calculate and print the R-squared and RMSE for the two test results\n"
   ]
  },
  {
   "cell_type": "markdown",
   "metadata": {},
   "source": [
    "_TODO:_ Use `rsq()` and `rmse()` functions to calculate R-squared and RMSE metrics for the two test results\n"
   ]
  },
  {
   "cell_type": "code",
   "execution_count": 37,
   "metadata": {
    "tags": []
   },
   "outputs": [
    {
     "ename": "ERROR",
     "evalue": "Error in ~truth: object 'truth' not found\n",
     "execution_count": 37,
     "output_type": "error",
     "traceback": [
      "Error in ~truth: object 'truth' not found\nTraceback:\n",
      "1. rsq(test_results_weather, truth = truth, estimate = .pred)",
      "2. rsq.data.frame(test_results_weather, truth = truth, estimate = .pred)",
      "3. metric_summarizer(metric_nm = \"rsq\", metric_fn = rsq_vec, data = data, \n .     truth = !!enquo(truth), estimate = !!enquo(estimate), na_rm = na_rm, \n .     ... = ...)",
      "4. dplyr::summarise(data, .metric = metric_nm, .estimator = eval_tidy(finalize_estimator_expr), \n .     .estimate = metric_fn(truth = !!truth, estimate = !!estimate, \n .         !!!spliceable_estimator(estimator), na_rm = na_rm, !!!metric_fn_options))",
      "5. summarise.tbl_df(data, .metric = metric_nm, .estimator = eval_tidy(finalize_estimator_expr), \n .     .estimate = metric_fn(truth = !!truth, estimate = !!estimate, \n .         !!!spliceable_estimator(estimator), na_rm = na_rm, !!!metric_fn_options))",
      "6. summarise_impl(.data, dots, environment(), caller_env())",
      "7. eval_tidy(finalize_estimator_expr)",
      "8. finalize_estimator(~truth, estimator, metric_nm)",
      "9. finalize_estimator_internal(metric_dispatcher, x, estimator)",
      "10. finalize_estimator_internal.default(metric_dispatcher, x, estimator)",
      "11. finalize_estimator_default(x, estimator)",
      "12. ~truth"
     ]
    }
   ],
   "source": [
    "# rsq_weather <- rsq(...)\n",
    "# rsq_all <- rsq(...)\n",
    "\n",
    "rsq_weather <- rsq(test_results_weather, truth=truth, estimate = .pred) \n",
    "rsq_weather\n",
    "\n",
    "rsq_all <- rsq(test_results_all, truth=truth, estimate = .pred)\n",
    "rsq_all\n",
    "\n",
    "\n",
    "# rmse_weather <- rmse(...)\n",
    "# rmse_all <- rmse(...)\n",
    "\n",
    "rmse_weather <- rmse(test_results_weather, truth=truth, estimate = .pred)\n",
    "rmse_weather\n",
    "\n",
    "rmse_all <- rmse(test_results_all, truth=truth, estimate = .pred)\n",
    "rmse_all"
   ]
  },
  {
   "cell_type": "markdown",
   "metadata": {},
   "source": [
    "From these tables, you should find that the test results from `lm_model_all` are much better. It means that using both weather and datetime variables in the model generates better prediction results.\n"
   ]
  },
  {
   "cell_type": "markdown",
   "metadata": {},
   "source": [
    "Since `lm_model_all` has many predictor variables, let's check which predictor variables have larger coefficients. Variables with larger coefficients in the model means they attribute more in the prediction of `RENTED_BIKE_COUNT`. In addition, since all predictor variables are normalized to the same scale, 0 to 1, we thus can compare their coefficients directly.\n"
   ]
  },
  {
   "cell_type": "markdown",
   "metadata": {},
   "source": [
    "You could try building another regression model using the non-normalized `seoul_bike_sharing_converted.csv` dataset, and you would find that the coefficients are much different.\n"
   ]
  },
  {
   "cell_type": "markdown",
   "metadata": {},
   "source": [
    "First let's print all coefficients:\n"
   ]
  },
  {
   "cell_type": "code",
   "execution_count": 23,
   "metadata": {
    "tags": []
   },
   "outputs": [
    {
     "data": {
      "text/html": [
       "<style>\n",
       ".dl-inline {width: auto; margin:0; padding: 0}\n",
       ".dl-inline>dt, .dl-inline>dd {float: none; width: auto; display: inline-block}\n",
       ".dl-inline>dt::after {content: \":\\0020\"; padding-right: .5ex}\n",
       ".dl-inline>dt:not(:first-of-type) {padding-left: .5ex}\n",
       "</style><dl class=dl-inline><dt>(Intercept)</dt><dd>216.584058520425</dd><dt>TEMPERATURE</dt><dd>810.603986705408</dd><dt>HUMIDITY</dt><dd>-920.586909252077</dd><dt>WIND_SPEED</dt><dd>-9.31331872226891</dd><dt>VISIBILITY</dt><dd>24.3680486652167</dd><dt>DEW_POINT_TEMPERATURE</dt><dd>632.384298001056</dd><dt>SOLAR_RADIATION</dt><dd>249.752454216444</dd><dt>RAINFALL</dt><dd>-1982.94042307599</dd><dt>SNOWFALL</dt><dd>232.450789844669</dd><dt>`0`</dt><dd>-12.4998037292523</dd><dt>`1`</dt><dd>-125.701499472983</dd><dt>`10`</dt><dd>-222.233261805256</dd><dt>`11`</dt><dd>-231.428410797234</dd><dt>`12`</dt><dd>-194.605041418871</dd><dt>`13`</dt><dd>-189.528425634735</dd><dt>`14`</dt><dd>-183.060291143358</dd><dt>`15`</dt><dd>-103.126884840928</dd><dt>`16`</dt><dd>43.597895314446</dd><dt>`17`</dt><dd>306.732435423589</dd><dt>`18`</dt><dd>782.84150725653</dd><dt>`19`</dt><dd>519.455508376907</dd><dt>`2`</dt><dd>-259.946174337005</dd><dt>`20`</dt><dd>394.634675841615</dd><dt>`21`</dt><dd>430.185214830003</dd><dt>`22`</dt><dd>322.663948586527</dd><dt>`23`</dt><dd>90.1808026195376</dd><dt>`3`</dt><dd>-327.244954867547</dd><dt>`4`</dt><dd>-389.558392056447</dd><dt>`5`</dt><dd>-379.055208923381</dd><dt>`6`</dt><dd>-216.689105145966</dd><dt>`7`</dt><dd>110.491958873144</dd><dt>`8`</dt><dd>502.353807713109</dd><dt>`9`</dt><dd>&lt;NA&gt;</dd><dt>AUTUMN</dt><dd>357.978264973985</dd><dt>SPRING</dt><dd>194.421437093438</dd><dt>SUMMER</dt><dd>172.901302381773</dd><dt>WINTER</dt><dd>&lt;NA&gt;</dd><dt>HOLIDAY</dt><dd>-129.167077549417</dd><dt>NO_HOLIDAY</dt><dd>&lt;NA&gt;</dd></dl>\n"
      ],
      "text/latex": [
       "\\begin{description*}\n",
       "\\item[(Intercept)] 216.584058520425\n",
       "\\item[TEMPERATURE] 810.603986705408\n",
       "\\item[HUMIDITY] -920.586909252077\n",
       "\\item[WIND\\textbackslash{}\\_SPEED] -9.31331872226891\n",
       "\\item[VISIBILITY] 24.3680486652167\n",
       "\\item[DEW\\textbackslash{}\\_POINT\\textbackslash{}\\_TEMPERATURE] 632.384298001056\n",
       "\\item[SOLAR\\textbackslash{}\\_RADIATION] 249.752454216444\n",
       "\\item[RAINFALL] -1982.94042307599\n",
       "\\item[SNOWFALL] 232.450789844669\n",
       "\\item[`0`] -12.4998037292523\n",
       "\\item[`1`] -125.701499472983\n",
       "\\item[`10`] -222.233261805256\n",
       "\\item[`11`] -231.428410797234\n",
       "\\item[`12`] -194.605041418871\n",
       "\\item[`13`] -189.528425634735\n",
       "\\item[`14`] -183.060291143358\n",
       "\\item[`15`] -103.126884840928\n",
       "\\item[`16`] 43.597895314446\n",
       "\\item[`17`] 306.732435423589\n",
       "\\item[`18`] 782.84150725653\n",
       "\\item[`19`] 519.455508376907\n",
       "\\item[`2`] -259.946174337005\n",
       "\\item[`20`] 394.634675841615\n",
       "\\item[`21`] 430.185214830003\n",
       "\\item[`22`] 322.663948586527\n",
       "\\item[`23`] 90.1808026195376\n",
       "\\item[`3`] -327.244954867547\n",
       "\\item[`4`] -389.558392056447\n",
       "\\item[`5`] -379.055208923381\n",
       "\\item[`6`] -216.689105145966\n",
       "\\item[`7`] 110.491958873144\n",
       "\\item[`8`] 502.353807713109\n",
       "\\item[`9`] <NA>\n",
       "\\item[AUTUMN] 357.978264973985\n",
       "\\item[SPRING] 194.421437093438\n",
       "\\item[SUMMER] 172.901302381773\n",
       "\\item[WINTER] <NA>\n",
       "\\item[HOLIDAY] -129.167077549417\n",
       "\\item[NO\\textbackslash{}\\_HOLIDAY] <NA>\n",
       "\\end{description*}\n"
      ],
      "text/markdown": [
       "(Intercept)\n",
       ":   216.584058520425TEMPERATURE\n",
       ":   810.603986705408HUMIDITY\n",
       ":   -920.586909252077WIND_SPEED\n",
       ":   -9.31331872226891VISIBILITY\n",
       ":   24.3680486652167DEW_POINT_TEMPERATURE\n",
       ":   632.384298001056SOLAR_RADIATION\n",
       ":   249.752454216444RAINFALL\n",
       ":   -1982.94042307599SNOWFALL\n",
       ":   232.450789844669`0`\n",
       ":   -12.4998037292523`1`\n",
       ":   -125.701499472983`10`\n",
       ":   -222.233261805256`11`\n",
       ":   -231.428410797234`12`\n",
       ":   -194.605041418871`13`\n",
       ":   -189.528425634735`14`\n",
       ":   -183.060291143358`15`\n",
       ":   -103.126884840928`16`\n",
       ":   43.597895314446`17`\n",
       ":   306.732435423589`18`\n",
       ":   782.84150725653`19`\n",
       ":   519.455508376907`2`\n",
       ":   -259.946174337005`20`\n",
       ":   394.634675841615`21`\n",
       ":   430.185214830003`22`\n",
       ":   322.663948586527`23`\n",
       ":   90.1808026195376`3`\n",
       ":   -327.244954867547`4`\n",
       ":   -389.558392056447`5`\n",
       ":   -379.055208923381`6`\n",
       ":   -216.689105145966`7`\n",
       ":   110.491958873144`8`\n",
       ":   502.353807713109`9`\n",
       ":   &lt;NA&gt;AUTUMN\n",
       ":   357.978264973985SPRING\n",
       ":   194.421437093438SUMMER\n",
       ":   172.901302381773WINTER\n",
       ":   &lt;NA&gt;HOLIDAY\n",
       ":   -129.167077549417NO_HOLIDAY\n",
       ":   &lt;NA&gt;\n",
       "\n"
      ],
      "text/plain": [
       "          (Intercept)           TEMPERATURE              HUMIDITY \n",
       "           216.584059            810.603987           -920.586909 \n",
       "           WIND_SPEED            VISIBILITY DEW_POINT_TEMPERATURE \n",
       "            -9.313319             24.368049            632.384298 \n",
       "      SOLAR_RADIATION              RAINFALL              SNOWFALL \n",
       "           249.752454          -1982.940423            232.450790 \n",
       "                  `0`                   `1`                  `10` \n",
       "           -12.499804           -125.701499           -222.233262 \n",
       "                 `11`                  `12`                  `13` \n",
       "          -231.428411           -194.605041           -189.528426 \n",
       "                 `14`                  `15`                  `16` \n",
       "          -183.060291           -103.126885             43.597895 \n",
       "                 `17`                  `18`                  `19` \n",
       "           306.732435            782.841507            519.455508 \n",
       "                  `2`                  `20`                  `21` \n",
       "          -259.946174            394.634676            430.185215 \n",
       "                 `22`                  `23`                   `3` \n",
       "           322.663949             90.180803           -327.244955 \n",
       "                  `4`                   `5`                   `6` \n",
       "          -389.558392           -379.055209           -216.689105 \n",
       "                  `7`                   `8`                   `9` \n",
       "           110.491959            502.353808                    NA \n",
       "               AUTUMN                SPRING                SUMMER \n",
       "           357.978265            194.421437            172.901302 \n",
       "               WINTER               HOLIDAY            NO_HOLIDAY \n",
       "                   NA           -129.167078                    NA "
      ]
     },
     "metadata": {},
     "output_type": "display_data"
    }
   ],
   "source": [
    "lm_model_all$fit$coefficients"
   ]
  },
  {
   "cell_type": "markdown",
   "metadata": {},
   "source": [
    "hmm, it's not very clear to compare the coefficients from a long and unsorted list. Next, you need to sort and visualize them using a bar chart\n"
   ]
  },
  {
   "cell_type": "markdown",
   "metadata": {},
   "source": [
    "_TODO:_ Sort the coefficient list in descending order and visualize the result using `ggplot` and `geom_bar` \n"
   ]
  },
  {
   "cell_type": "code",
   "execution_count": 29,
   "metadata": {
    "tags": []
   },
   "outputs": [],
   "source": [
    "# Sort coefficient list\n",
    "sorted_coef <- sort(abs(lm_model_all$fit$coefficients), decreasing=TRUE)\n",
    "coef_df <- as.data.frame(sorted_coef)\n",
    "coef_df$var <- row.names(coef_df)"
   ]
  },
  {
   "cell_type": "code",
   "execution_count": 31,
   "metadata": {
    "tags": []
   },
   "outputs": [
    {
     "data": {},
     "metadata": {},
     "output_type": "display_data"
    },
    {
     "data": {
      "image/png": "[encoded data removed]",
      "text/plain": [
       "plot without title"
      ]
     },
     "metadata": {},
     "output_type": "display_data",
     "source": "R display func"
    }
   ],
   "source": [
    "# Visualize the list using ggplot and geom_bar\n",
    "ggplot(coef_df, aes(x = var, y = sorted_coef)) + # swap x = var with x = sorted_coef\n",
    "  geom_bar(stat = \"identity\") +\n",
    "  xlab(\"Coefficient value\") + # update x-axis label\n",
    "  ylab(\"Coefficient name\") + # update y-axis label\n",
    "  ggtitle(\"Sorted coefficients\") +\n",
    "  coord_flip()"
   ]
  },
  {
   "cell_type": "markdown",
   "metadata": {},
   "source": [
    "You should see a sorted coefficient bar chart like the following example: \n"
   ]
  },
  {
   "cell_type": "markdown",
   "metadata": {},
   "source": [
    "<a href=\"https://cognitiveclass.ai/\">\n",
    "    <img src=\"https://cf-courses-data.s3.us.cloud-object-storage.appdomain.cloud/IBMDeveloperSkillsNetwork-RP0321EN-SkillsNetwork/labs/module_4/images/coefficient_chart.png\" width=\"600\" align=\"center\">\n",
    "</a>\n"
   ]
  },
  {
   "cell_type": "markdown",
   "metadata": {},
   "source": [
    "Mark down these 'top-ranked variables by coefficient', which will be used for model refinments in the next labs.\n"
   ]
  },
  {
   "cell_type": "markdown",
   "metadata": {},
   "source": [
    "Note that here the main reason we use absolute value is to easily identify important variables, i.e. variables with large magnitudes, no matter it's negative or positive. If we want to interprete the model then it's better to seperate the positive and negative coefficients.\n"
   ]
  },
  {
   "cell_type": "markdown",
   "metadata": {},
   "source": [
    "# Next Steps\n"
   ]
  },
  {
   "cell_type": "markdown",
   "metadata": {},
   "source": [
    "Great! Now you have built a baseline linear regression model to predict hourly bike rent count, with reasonably good performance. In the next lab, you will be refining the baseline model to improve its performance.\n"
   ]
  },
  {
   "cell_type": "markdown",
   "metadata": {},
   "source": [
    "## Authors\n",
    "\n",
    "<a href=\"https://www.linkedin.com/in/yan-luo-96288783/\" target=\"_blank\">Yan Luo</a>\n"
   ]
  },
  {
   "cell_type": "markdown",
   "metadata": {},
   "source": [
    "### Other Contributors\n",
    "\n",
    "Jeff Grossman\n"
   ]
  },
  {
   "cell_type": "markdown",
   "metadata": {},
   "source": [
    "## Change Log\n",
    "\n",
    "| Date (YYYY-MM-DD) | Version | Changed By | Change Description           |\n",
    "| ----------------- | ------- | ---------- | ---------------------------- |\n",
    "| 2021-04-08        | 1.0     | Yan        | Initial version created      |\n",
    "|                   |         |            |                              |\n",
    "|                   |         |            |                              |\n",
    "\n",
    "## <h3 align=\"center\"> © IBM Corporation 2021. All rights reserved. <h3/>\n"
   ]
  }
 ],
 "metadata": {
  "kernelspec": {
   "display_name": "R",
   "language": "R",
   "name": "conda-env-r-r"
  },
  "language_info": {
   "codemirror_mode": "r",
   "file_extension": ".r",
   "mimetype": "text/x-r-source",
   "name": "R",
   "pygments_lexer": "r",
   "version": "3.5.1"
  }
 },
 "nbformat": 4,
 "nbformat_minor": 4
}
