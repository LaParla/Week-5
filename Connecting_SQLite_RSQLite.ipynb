{
 "cells": [
  {
   "cell_type": "markdown",
   "metadata": {},
   "source": [
    "<p style=\"text-align:center\">\n",
    "    <a href=\"https://skills.network\" target=\"_blank\">\n",
    "    <img src=\"https://cf-courses-data.s3.us.cloud-object-storage.appdomain.cloud/assets/logos/SN_web_lightmode.png\" width=\"200\" alt=\"Skills Network Logo\">\n",
    "    </a>\n",
    "</p>\n",
    "\n",
    "<h1 align=center><font size = 5>Hands-on Lab: Accessing Your Database with RSQLite</h1>\n"
   ]
  },
  {
   "cell_type": "markdown",
   "metadata": {},
   "source": [
    "### Welcome!\n",
    "\n",
    "In this hands-on lab, you will learn how to connect and discover metadata from database servers with R using RSQLite.\n"
   ]
  },
  {
   "cell_type": "markdown",
   "metadata": {},
   "source": [
    "<div class=\"alert alert-block alert-info\" style=\"margin-top: 20px\">\n",
    "<h3>Tasks</h3>\n",
    "<ol><ol><ol>\n",
    "<li><a href=\"https://#ref6a\">Prerequisites</a></li>\n",
    "<li><a href=\"https://#ref6b\">Create an R notebook</a></li>\n",
    "<li><a href=\"https://#ref6c\">Load RSQLIte</a></li>\n",
    "<li><a href=\"https://#ref6e\">Create a database connection</a></li>\n",
    "<li><a href=\"https://#ref6f\">Connection attributes</a></li>\n",
    "<li><a href=\"https://#ref6g\">Connection metadata</a></li>\n",
    "<li><a href=\"https://#ref6h\">Supported data types</a></li>\n",
    "<li><a href=\"https://#ref6i\">List of tables</a></li>\n",
    "<li><a href=\"https://#ref6j\">Columns in a table</a></li>\n",
    "<li><a href=\"https://#ref6k\">Disconnect</a></li>\n",
    "<li><a href=\"https://#ref6l\">Practice exercises</a></li>\n",
    "</ol></ol></ol>\n",
    "<br>\n",
    "Estimated Time Needed: <strong>15 min</strong>\n",
    "</div>\n"
   ]
  },
  {
   "cell_type": "markdown",
   "metadata": {},
   "source": [
    "<a id=\"ref6a\"></a>\n",
    "\n",
    "<h3>a. Prerequisites</h3>\n"
   ]
  },
  {
   "cell_type": "markdown",
   "metadata": {},
   "source": [
    "In this lab, you will use Jupyter Notebooks within Skills Network (SN) Labs to access data in an SQLite database  using RSQLite.\n"
   ]
  },
  {
   "cell_type": "markdown",
   "metadata": {},
   "source": [
    "<a id=\"ref6b\"></a>\n",
    "\n",
    "<h3>b. Create an R notebook</h3>\n"
   ]
  },
  {
   "cell_type": "markdown",
   "metadata": {},
   "source": [
    "Make sure that the notebook kernel has been set to use R (using the dropdown in the top right corner).\n",
    "\n",
    "<img src=\"https://cf-courses-data.s3.us.cloud-object-storage.appdomain.cloud/IBMDeveloperSkillsNetwork-RP0103EN-SkillsNetwork/labs/Lab%20-%20Accessing%20Your%20Database%20with%20RODBC/kernel.png\">\n"
   ]
  },
  {
   "cell_type": "markdown",
   "metadata": {},
   "source": [
    "<a id=\"ref6c\"></a>\n",
    "\n",
    "<h3>c. Load RSQLite</h3>\n"
   ]
  },
  {
   "cell_type": "markdown",
   "metadata": {},
   "source": [
    "The RSQlite  package needs to be installed in your notebook. Let’s load the RSQLite package by clicking on the following cell and executing it (Shift+Enter):\n"
   ]
  },
  {
   "cell_type": "code",
   "execution_count": 1,
   "metadata": {
    "tags": []
   },
   "outputs": [
    {
     "name": "stderr",
     "output_type": "stream",
     "text": [
      "also installing the dependencies ‘fastmap’, ‘bit’, ‘rlang’, ‘cachem’, ‘bit64’, ‘blob’, ‘DBI’, ‘memoise’, ‘cpp11’\n",
      "\n",
      "Updating HTML index of packages in '.Library'\n",
      "Making 'packages.html' ... done\n"
     ]
    }
   ],
   "source": [
    "install.packages(\"RSQLite\")"
   ]
  },
  {
   "cell_type": "markdown",
   "metadata": {},
   "source": [
    "#### Restart Kernel\n",
    "\n",
    "After installing the RSQLite package, it is necessary to restart R Kernel. Click **Kernel** > **Restart Kernel** from the main menu. This will register the newly installed packages. Now proceed to load the RSQLite package. \n"
   ]
  },
  {
   "cell_type": "code",
   "execution_count": 1,
   "metadata": {
    "tags": []
   },
   "outputs": [],
   "source": [
    "library(\"RSQLite\")\n"
   ]
  },
  {
   "cell_type": "markdown",
   "metadata": {},
   "source": [
    "<a id=\"ref6e\"></a>\n",
    "\n",
    "<h3>b. Create a database connection</h3>\n"
   ]
  },
  {
   "cell_type": "markdown",
   "metadata": {},
   "source": [
    "You will use the **dbConnect() method to connect to a database in SQLite Database server**. You need to load the RSQLite driver to the connect method and pass the name of the Database in the dbconnect() method. You can give any database name. If the database does not exist, a database would be created in the SQLite database server with that name.\n"
   ]
  },
  {
   "cell_type": "code",
   "execution_count": 5,
   "metadata": {
    "tags": []
   },
   "outputs": [
    {
     "data": {
      "text/plain": [
       "<SQLiteConnection>\n",
       "  Path: /resources/labs/RP0203EN/TestDB.sqlite\n",
       "  Extensions: TRUE"
      ]
     },
     "metadata": {},
     "output_type": "display_data"
    }
   ],
   "source": [
    "conn <- dbConnect(RSQLite::SQLite(),\"TestDB.sqlite\")\n",
    "conn"
   ]
  },
  {
   "cell_type": "markdown",
   "metadata": {},
   "source": [
    "<a id=\"ref6f\"></a>\n",
    "\n",
    "<h3>c. Connection attributes</h3>\n"
   ]
  },
  {
   "cell_type": "markdown",
   "metadata": {},
   "source": [
    "Let’s examine the connection attributes using the attributes() method and passing the connection object as argument:\n"
   ]
  },
  {
   "cell_type": "code",
   "execution_count": 6,
   "metadata": {
    "tags": []
   },
   "outputs": [
    {
     "data": {
      "text/plain": [
       "$ptr\n",
       "<pointer: 0x557d018452c0>\n",
       "\n",
       "$dbname\n",
       "[1] \"/resources/labs/RP0203EN/TestDB.sqlite\"\n",
       "\n",
       "$loadable.extensions\n",
       "[1] TRUE\n",
       "\n",
       "$flags\n",
       "[1] 70\n",
       "\n",
       "$vfs\n",
       "[1] \"\"\n",
       "\n",
       "$ref\n",
       "<environment: 0x557d02682c50>\n",
       "\n",
       "$bigint\n",
       "[1] \"integer64\"\n",
       "\n",
       "$extended_types\n",
       "[1] FALSE\n",
       "\n",
       "$class\n",
       "[1] \"SQLiteConnection\"\n",
       "attr(,\"package\")\n",
       "[1] \"RSQLite\"\n"
      ]
     },
     "metadata": {},
     "output_type": "display_data"
    }
   ],
   "source": [
    "attributes(conn)"
   ]
  },
  {
   "cell_type": "markdown",
   "metadata": {},
   "source": [
    "<a id=\"ref6g\"></a>\n",
    "\n",
    "<h3>d. Connection metadata</h3>\n"
   ]
  },
  {
   "cell_type": "markdown",
   "metadata": {},
   "source": [
    "Now let's review the connection metadata using the `dbGetInfo()` function:\n"
   ]
  },
  {
   "cell_type": "code",
   "execution_count": 10,
   "metadata": {
    "tags": []
   },
   "outputs": [],
   "source": [
    "con.info <- dbGetInfo(conn)"
   ]
  },
  {
   "cell_type": "markdown",
   "metadata": {},
   "source": [
    "You can print the database version and name using the `db.version` and `dbname` attributes of the connection metadata.\n"
   ]
  },
  {
   "cell_type": "code",
   "execution_count": 11,
   "metadata": {
    "tags": []
   },
   "outputs": [
    {
     "name": "stdout",
     "output_type": "stream",
     "text": [
      "$db.version\n",
      "[1] \"3.45.0\"\n",
      "\n",
      "$dbname\n",
      "[1] \"/resources/labs/RP0203EN/TestDB.sqlite\"\n",
      "\n"
     ]
    }
   ],
   "source": [
    "print(con.info[\"db.version\"])\n",
    "print(con.info[\"dbname\"])"
   ]
  },
  {
   "cell_type": "markdown",
   "metadata": {},
   "source": [
    "<a id=\"ref6h\"></a>\n",
    "\n",
    "<h3>e. Supported data types</h3>\n"
   ]
  },
  {
   "cell_type": "markdown",
   "metadata": {},
   "source": [
    "Let’s now examine the data types supported by the database. You will use the **dbDataType() function to display the data types** by passing the driver information and the argument whose datatype needs to be determined.\n"
   ]
  },
  {
   "cell_type": "code",
   "execution_count": 12,
   "metadata": {
    "tags": []
   },
   "outputs": [
    {
     "data": {
      "text/html": [
       "'REAL'"
      ],
      "text/latex": [
       "'REAL'"
      ],
      "text/markdown": [
       "'REAL'"
      ],
      "text/plain": [
       "[1] \"REAL\""
      ]
     },
     "metadata": {},
     "output_type": "display_data"
    },
    {
     "data": {
      "text/html": [
       "'INTEGER'"
      ],
      "text/latex": [
       "'INTEGER'"
      ],
      "text/markdown": [
       "'INTEGER'"
      ],
      "text/plain": [
       "[1] \"INTEGER\""
      ]
     },
     "metadata": {},
     "output_type": "display_data"
    },
    {
     "data": {
      "text/html": [
       "'TEXT'"
      ],
      "text/latex": [
       "'TEXT'"
      ],
      "text/markdown": [
       "'TEXT'"
      ],
      "text/plain": [
       "[1] \"TEXT\""
      ]
     },
     "metadata": {},
     "output_type": "display_data"
    },
    {
     "data": {
      "text/html": [
       "'INTEGER'"
      ],
      "text/latex": [
       "'INTEGER'"
      ],
      "text/markdown": [
       "'INTEGER'"
      ],
      "text/plain": [
       "[1] \"INTEGER\""
      ]
     },
     "metadata": {},
     "output_type": "display_data"
    },
    {
     "data": {
      "text/html": [
       "'BLOB'"
      ],
      "text/latex": [
       "'BLOB'"
      ],
      "text/markdown": [
       "'BLOB'"
      ],
      "text/plain": [
       "[1] \"BLOB\""
      ]
     },
     "metadata": {},
     "output_type": "display_data"
    },
    {
     "data": {
      "text/html": [
       "<style>\n",
       ".dl-inline {width: auto; margin:0; padding: 0}\n",
       ".dl-inline>dt, .dl-inline>dd {float: none; width: auto; display: inline-block}\n",
       ".dl-inline>dt::after {content: \":\\0020\"; padding-right: .5ex}\n",
       ".dl-inline>dt:not(:first-of-type) {padding-left: .5ex}\n",
       "</style><dl class=dl-inline><dt>lat</dt><dd>'REAL'</dd><dt>long</dt><dd>'REAL'</dd><dt>depth</dt><dd>'INTEGER'</dd><dt>mag</dt><dd>'REAL'</dd><dt>stations</dt><dd>'INTEGER'</dd></dl>\n"
      ],
      "text/latex": [
       "\\begin{description*}\n",
       "\\item[lat] 'REAL'\n",
       "\\item[long] 'REAL'\n",
       "\\item[depth] 'INTEGER'\n",
       "\\item[mag] 'REAL'\n",
       "\\item[stations] 'INTEGER'\n",
       "\\end{description*}\n"
      ],
      "text/markdown": [
       "lat\n",
       ":   'REAL'long\n",
       ":   'REAL'depth\n",
       ":   'INTEGER'mag\n",
       ":   'REAL'stations\n",
       ":   'INTEGER'\n",
       "\n"
      ],
      "text/plain": [
       "      lat      long     depth       mag  stations \n",
       "   \"REAL\"    \"REAL\" \"INTEGER\"    \"REAL\" \"INTEGER\" "
      ]
     },
     "metadata": {},
     "output_type": "display_data"
    }
   ],
   "source": [
    "dbDataType(RSQLite::SQLite(), 1)\n",
    "dbDataType(RSQLite::SQLite(), 1L)\n",
    "dbDataType(RSQLite::SQLite(), \"1\")\n",
    "dbDataType(RSQLite::SQLite(), TRUE)\n",
    "dbDataType(RSQLite::SQLite(), list(raw(1)))\n",
    "\n",
    "sapply(datasets::quakes, dbDataType, dbObj = RSQLite::SQLite())"
   ]
  },
  {
   "cell_type": "markdown",
   "metadata": {},
   "source": [
    "<a id=\"ref6i\"></a>\n",
    "\n",
    "<h3>f. List of tables</h3>\n"
   ]
  },
  {
   "cell_type": "markdown",
   "metadata": {},
   "source": [
    "You will use the dbListTables() function to return a list of tabless (i.e. TABLEs, VIEWs, ALIASes, etc.). Initially there will be no tables in the sqlite db which you have created. So, you will use the dbWriteTable() function to create a table in the database by passing the connection object, name of the table and an R dataset name. Here, you will create a **table called 'mtcars' in the dataset mtcars.**\n"
   ]
  },
  {
   "cell_type": "code",
   "execution_count": 19,
   "metadata": {
    "tags": []
   },
   "outputs": [
    {
     "data": {
      "text/html": [
       "'mtcars'"
      ],
      "text/latex": [
       "'mtcars'"
      ],
      "text/markdown": [
       "'mtcars'"
      ],
      "text/plain": [
       "[1] \"mtcars\""
      ]
     },
     "metadata": {},
     "output_type": "display_data"
    },
    {
     "ename": "ERROR",
     "evalue": "Error: Table mtcars exists in database, and both overwrite and append are FALSE\n",
     "execution_count": 19,
     "output_type": "error",
     "traceback": [
      "Error: Table mtcars exists in database, and both overwrite and append are FALSE\nTraceback:\n",
      "1. dbWriteTable(conn, \"mtcars\", mtcars)",
      "2. dbWriteTable(conn, \"mtcars\", mtcars)",
      "3. .local(conn, name, value, ...)",
      "4. stop(\"Table \", name, \" exists in database, and both overwrite and\", \n .     \" append are FALSE\", call. = FALSE)"
     ]
    }
   ],
   "source": [
    "dbListTables(conn)\n",
    "dbWriteTable(conn, \"mtcars\", mtcars)"
   ]
  },
  {
   "cell_type": "markdown",
   "metadata": {},
   "source": [
    "You will again use the dbListTables() after creating a table in the database:\n"
   ]
  },
  {
   "cell_type": "code",
   "execution_count": 18,
   "metadata": {
    "tags": []
   },
   "outputs": [
    {
     "data": {
      "text/html": [
       "'mtcars'"
      ],
      "text/latex": [
       "'mtcars'"
      ],
      "text/markdown": [
       "'mtcars'"
      ],
      "text/plain": [
       "[1] \"mtcars\""
      ]
     },
     "metadata": {},
     "output_type": "display_data"
    }
   ],
   "source": [
    "dbListTables(conn)"
   ]
  },
  {
   "cell_type": "markdown",
   "metadata": {},
   "source": [
    "<a id=\"ref6j\"></a>\n",
    "\n",
    "<h3>g. Columns in a table</h3>\n"
   ]
  },
  {
   "cell_type": "markdown",
   "metadata": {},
   "source": [
    "Next, let’s look at column metadata for columns in the table **mtcars**:\n"
   ]
  },
  {
   "cell_type": "code",
   "execution_count": 20,
   "metadata": {
    "tags": []
   },
   "outputs": [
    {
     "name": "stdout",
     "output_type": "stream",
     "text": [
      "\n",
      "Column info for table mtcars :\n",
      "   name   type\n",
      "1   mpg double\n",
      "2   cyl double\n",
      "3  disp double\n",
      "4    hp double\n",
      "5  drat double\n",
      "6    wt double\n",
      "7  qsec double\n",
      "8    vs double\n",
      "9    am double\n",
      "10 gear double\n",
      "11 carb double\n"
     ]
    }
   ],
   "source": [
    "tables1 = dbListTables(conn)\n",
    "for (table in tables1){  \n",
    "        cat (\"\\nColumn info for table\", table, \":\\n\")\n",
    "        col.detail <- dbColumnInfo(dbSendQuery(con,paste( \"select * from\",table)))\n",
    "        print(col.detail)\n",
    "}"
   ]
  },
  {
   "cell_type": "markdown",
   "metadata": {},
   "source": [
    "<a id=\"ref6k\"></a>\n",
    "\n",
    "<h3>h. Disconnect</h3>\n"
   ]
  },
  {
   "cell_type": "markdown",
   "metadata": {},
   "source": [
    "Finally, as a best practice you should close the database connection once you're done with it.\n"
   ]
  },
  {
   "cell_type": "code",
   "execution_count": 22,
   "metadata": {
    "tags": []
   },
   "outputs": [
    {
     "name": "stderr",
     "output_type": "stream",
     "text": [
      "Warning message in connection_release(conn@ptr):\n",
      "“Already disconnected”"
     ]
    }
   ],
   "source": [
    "dbDisconnect(conn)"
   ]
  },
  {
   "cell_type": "markdown",
   "metadata": {},
   "source": [
    "<a id=\"ref6l\"></a>\n",
    "\n",
    "### Practise exercises\n"
   ]
  },
  {
   "cell_type": "markdown",
   "metadata": {},
   "source": [
    "##### Task 1: Connect to an SQLite database named **MyDB**\n"
   ]
  },
  {
   "cell_type": "code",
   "execution_count": 24,
   "metadata": {
    "tags": []
   },
   "outputs": [
    {
     "data": {
      "text/plain": [
       "<SQLiteConnection>\n",
       "  Path: MyDB.sqlite\n",
       "  Extensions: TRUE"
      ]
     },
     "metadata": {},
     "output_type": "display_data"
    }
   ],
   "source": [
    "# Write your code here\n",
    "con <- dbConnect(RSQLite::SQLite(),\"MyDB.sqlite\")\n",
    "con"
   ]
  },
  {
   "cell_type": "markdown",
   "metadata": {},
   "source": [
    "<details>\n",
    "<summary>Click here to view/hide hint</summary>\n",
    "<p>\n",
    "    \n",
    "```\n",
    "Fill in the ...\n",
    "\n",
    "con <- dbConnect(RSQLite::...,\"<Write the name of the SQLite database>\")\n",
    "con\n",
    "```\n",
    "\n",
    "</details>\n"
   ]
  },
  {
   "cell_type": "markdown",
   "metadata": {},
   "source": [
    "<details>\n",
    "<summary>Click here to view/hide solution</summary>\n",
    "<p>\n",
    "\n",
    "```\n",
    "con <- dbConnect(RSQLite::SQLite(),\"MyDB.sqlite\")\n",
    "con\n",
    "```\n",
    "\n",
    "</details>\n"
   ]
  },
  {
   "cell_type": "markdown",
   "metadata": {},
   "source": [
    "##### Task 2: Display the attributes of the connection object\n"
   ]
  },
  {
   "cell_type": "code",
   "execution_count": 25,
   "metadata": {
    "tags": []
   },
   "outputs": [
    {
     "data": {
      "text/plain": [
       "$ptr\n",
       "<pointer: 0x557d0172d220>\n",
       "\n",
       "$dbname\n",
       "[1] \"MyDB.sqlite\"\n",
       "\n",
       "$loadable.extensions\n",
       "[1] TRUE\n",
       "\n",
       "$flags\n",
       "[1] 70\n",
       "\n",
       "$vfs\n",
       "[1] \"\"\n",
       "\n",
       "$ref\n",
       "<environment: 0x557d01617508>\n",
       "\n",
       "$bigint\n",
       "[1] \"integer64\"\n",
       "\n",
       "$extended_types\n",
       "[1] FALSE\n",
       "\n",
       "$class\n",
       "[1] \"SQLiteConnection\"\n",
       "attr(,\"package\")\n",
       "[1] \"RSQLite\"\n"
      ]
     },
     "metadata": {},
     "output_type": "display_data"
    }
   ],
   "source": [
    "# Write your code here\n",
    "attributes(con)"
   ]
  },
  {
   "cell_type": "markdown",
   "metadata": {},
   "source": [
    "<details>\n",
    "<summary>Click here to view/hide hint</summary>\n",
    "<p>\n",
    "\n",
    "```\n",
    "Fill in the ...\n",
    "attributes(...)\n",
    "```\n",
    "\n",
    "</details>\n"
   ]
  },
  {
   "cell_type": "markdown",
   "metadata": {},
   "source": [
    "<details>\n",
    "<summary>Click here to view/hide solution</summary>\n",
    "<p>\n",
    "\n",
    "```\n",
    "attributes(con)\n",
    "```\n",
    "\n",
    "</details>\n"
   ]
  },
  {
   "cell_type": "markdown",
   "metadata": {},
   "source": [
    "##### Task 3: Review the connection metadata using the dbGetInfo() function\n"
   ]
  },
  {
   "cell_type": "code",
   "execution_count": 28,
   "metadata": {
    "tags": []
   },
   "outputs": [
    {
     "name": "stdout",
     "output_type": "stream",
     "text": [
      "$db.version\n",
      "[1] \"3.45.0\"\n",
      "\n",
      "$dbname\n",
      "[1] \"MyDB.sqlite\"\n",
      "\n"
     ]
    }
   ],
   "source": [
    "# Write your code here\n",
    "con.info <- dbGetInfo(con)\n",
    "print(con.info[\"db.version\"])\n",
    "print(con.info[\"dbname\"])"
   ]
  },
  {
   "cell_type": "markdown",
   "metadata": {},
   "source": [
    "<details>\n",
    "<summary>Click here to view/hide hint</summary>\n",
    "\n",
    "```\n",
    "Fill in the ...\n",
    "con.info <- dbGetInfo(...)\n",
    "print(con.info[\"<Write the attribute to display database version>\"])\n",
    "print(con.info[\"<Write the attribute to display database name>\"])\n",
    "\n",
    "```\n",
    "</details>\n"
   ]
  },
  {
   "cell_type": "markdown",
   "metadata": {},
   "source": [
    "<details>\n",
    "<summary>Click here to view/hide solution</summary>\n",
    "<p>\n",
    "\n",
    "```\n",
    "con.info <- dbGetInfo(con) \n",
    "print(con.info[\"db.version\"])\n",
    "print(con.info[\"dbname\"] )\n",
    "```\n",
    "\n",
    "</details>\n"
   ]
  },
  {
   "cell_type": "markdown",
   "metadata": {},
   "source": [
    "##### Task 4: Examine the data types supported by the database by checking the data types of the following literals:\n",
    "##### \"yes\", 350, FALSE, list(1,2,3)\n"
   ]
  },
  {
   "cell_type": "code",
   "execution_count": 29,
   "metadata": {
    "tags": []
   },
   "outputs": [
    {
     "data": {
      "text/html": [
       "'TEXT'"
      ],
      "text/latex": [
       "'TEXT'"
      ],
      "text/markdown": [
       "'TEXT'"
      ],
      "text/plain": [
       "[1] \"TEXT\""
      ]
     },
     "metadata": {},
     "output_type": "display_data"
    },
    {
     "data": {
      "text/html": [
       "'REAL'"
      ],
      "text/latex": [
       "'REAL'"
      ],
      "text/markdown": [
       "'REAL'"
      ],
      "text/plain": [
       "[1] \"REAL\""
      ]
     },
     "metadata": {},
     "output_type": "display_data"
    },
    {
     "data": {
      "text/html": [
       "'INTEGER'"
      ],
      "text/latex": [
       "'INTEGER'"
      ],
      "text/markdown": [
       "'INTEGER'"
      ],
      "text/plain": [
       "[1] \"INTEGER\""
      ]
     },
     "metadata": {},
     "output_type": "display_data"
    },
    {
     "data": {
      "text/html": [
       "'BLOB'"
      ],
      "text/latex": [
       "'BLOB'"
      ],
      "text/markdown": [
       "'BLOB'"
      ],
      "text/plain": [
       "[1] \"BLOB\""
      ]
     },
     "metadata": {},
     "output_type": "display_data"
    },
    {
     "data": {
      "text/html": [
       "<style>\n",
       ".dl-inline {width: auto; margin:0; padding: 0}\n",
       ".dl-inline>dt, .dl-inline>dd {float: none; width: auto; display: inline-block}\n",
       ".dl-inline>dt::after {content: \":\\0020\"; padding-right: .5ex}\n",
       ".dl-inline>dt:not(:first-of-type) {padding-left: .5ex}\n",
       "</style><dl class=dl-inline><dt>lat</dt><dd>'REAL'</dd><dt>long</dt><dd>'REAL'</dd><dt>depth</dt><dd>'INTEGER'</dd><dt>mag</dt><dd>'REAL'</dd><dt>stations</dt><dd>'INTEGER'</dd></dl>\n"
      ],
      "text/latex": [
       "\\begin{description*}\n",
       "\\item[lat] 'REAL'\n",
       "\\item[long] 'REAL'\n",
       "\\item[depth] 'INTEGER'\n",
       "\\item[mag] 'REAL'\n",
       "\\item[stations] 'INTEGER'\n",
       "\\end{description*}\n"
      ],
      "text/markdown": [
       "lat\n",
       ":   'REAL'long\n",
       ":   'REAL'depth\n",
       ":   'INTEGER'mag\n",
       ":   'REAL'stations\n",
       ":   'INTEGER'\n",
       "\n"
      ],
      "text/plain": [
       "      lat      long     depth       mag  stations \n",
       "   \"REAL\"    \"REAL\" \"INTEGER\"    \"REAL\" \"INTEGER\" "
      ]
     },
     "metadata": {},
     "output_type": "display_data"
    }
   ],
   "source": [
    "# Write your code here\n",
    "dbDataType(RSQLite::SQLite(), \"yes\")\n",
    "dbDataType(RSQLite::SQLite(), 350)\n",
    "dbDataType(RSQLite::SQLite(), FALSE)\n",
    "dbDataType(RSQLite::SQLite(), list(1,2,3))\n",
    "\n",
    "sapply(datasets::quakes, dbDataType, dbObj = RSQLite::SQLite())"
   ]
  },
  {
   "cell_type": "markdown",
   "metadata": {},
   "source": [
    "<details>\n",
    "<summary>Click here to view/hide hint</summary>\n",
    "<p>\n",
    "\n",
    "```\n",
    "Fill in the ...\n",
    "dbDataType(RSQLite::..., <Write the argument whose datatype has to be determined>)\n",
    "```\n",
    "\n",
    "</details>\n"
   ]
  },
  {
   "cell_type": "markdown",
   "metadata": {},
   "source": [
    "<details>\n",
    "<summary>Click here to view/hide solution</summary>\n",
    "<p>\n",
    "\n",
    "```\n",
    "dbDataType(RSQLite::SQLite(), \"yes\")\n",
    "dbDataType(RSQLite::SQLite(), 350)\n",
    "dbDataType(RSQLite::SQLite(), FALSE)\n",
    "dbDataType(RSQLite::SQLite(), list(1,2,3))\n",
    "\n",
    "sapply(datasets::quakes, dbDataType, dbObj = RSQLite::SQLite())\n",
    "```\n",
    "</details>\n"
   ]
  },
  {
   "cell_type": "markdown",
   "metadata": {},
   "source": [
    "##### Task 5: Create a table named **MyData** in the data set 'iris'\n"
   ]
  },
  {
   "cell_type": "code",
   "execution_count": 30,
   "metadata": {
    "tags": []
   },
   "outputs": [],
   "source": [
    "# Write your code here\n",
    "dbWriteTable(con,\"MyData\",iris)"
   ]
  },
  {
   "cell_type": "markdown",
   "metadata": {},
   "source": [
    "<details>\n",
    "<summary>Click here to view/hide hint</summary>\n",
    "<p>\n",
    "\n",
    "```\n",
    "Fill in the ...\n",
    "dbWriteTable(con, \"<Write the name of the table to be created>\", iris)\n",
    "```\n",
    "\n",
    "</details>\n"
   ]
  },
  {
   "cell_type": "markdown",
   "metadata": {},
   "source": [
    "<details>\n",
    "<summary>Click here to view/hide solution</summary>\n",
    "<p>\n",
    "\n",
    "```\n",
    "\n",
    "dbWriteTable(con, \"MyData\", iris)\n",
    "\n",
    "```\n",
    "\n",
    "</details>\n"
   ]
  },
  {
   "cell_type": "markdown",
   "metadata": {},
   "source": [
    "##### Task 6: List the tables in the dataset 'iris'\n"
   ]
  },
  {
   "cell_type": "code",
   "execution_count": null,
   "metadata": {},
   "outputs": [],
   "source": [
    "# Write your code here\n"
   ]
  },
  {
   "cell_type": "markdown",
   "metadata": {},
   "source": [
    "<details>\n",
    "<summary>Click here to view/hide hint</summary>\n",
    "<p>\n",
    "\n",
    "```\n",
    "Fill in the ...\n",
    "dbListTables(...)\n",
    "```\n",
    "\n",
    "</details>\n"
   ]
  },
  {
   "cell_type": "markdown",
   "metadata": {},
   "source": [
    "<details>\n",
    "<summary>Click here to view/hide solution</summary>\n",
    "<p>\n",
    "\n",
    "```\n",
    "dbListTables(con)\n",
    "```\n",
    "\n",
    "</details>\n"
   ]
  },
  {
   "cell_type": "markdown",
   "metadata": {},
   "source": [
    "##### Task 7: Display the column metadata for columns in the table **MyData**\n"
   ]
  },
  {
   "cell_type": "code",
   "execution_count": null,
   "metadata": {},
   "outputs": [],
   "source": [
    "# Write your code here"
   ]
  },
  {
   "cell_type": "markdown",
   "metadata": {},
   "source": [
    "<details>\n",
    "<summary>Click here to view/hide hint</summary>\n",
    "<p>\n",
    "\n",
    "```\n",
    "# Fill in the ...\n",
    "tables1 = dbListTables(<Write your code here>)\n",
    "for (table in tables1){  \n",
    "        cat (\"\\nColumn info for table\", <Write your code here>, \":\\n\")\n",
    "        col.detail <- dbColumnInfo(dbSendQuery(<Write your code here>)))\n",
    "        print(col.detail)\n",
    "\n",
    "```\n",
    "\n",
    "</details>\n"
   ]
  },
  {
   "cell_type": "markdown",
   "metadata": {},
   "source": [
    "<details>\n",
    "<summary>Click here to view/hide solution</summary>\n",
    "<p>\n",
    "\n",
    "```\n",
    "tables1 = dbListTables(con)\n",
    "for (table in tables1){  \n",
    "        cat (\"\\nColumn info for table\", table, \":\\n\")\n",
    "        col.detail <- dbColumnInfo(dbSendQuery(con,paste( \"select * from\",table)))\n",
    "        print(col.detail)\n",
    "}\n",
    "```\n",
    "\n",
    "</details>\n"
   ]
  },
  {
   "cell_type": "markdown",
   "metadata": {},
   "source": [
    "##### Task 8: Disconnect from the database\n"
   ]
  },
  {
   "cell_type": "code",
   "execution_count": null,
   "metadata": {},
   "outputs": [],
   "source": [
    "# Write your code here"
   ]
  },
  {
   "cell_type": "markdown",
   "metadata": {},
   "source": [
    "<details>\n",
    "<summary>Click here to view/hide hint</summary>\n",
    "<p>\n",
    "\n",
    "```\n",
    "Fill in the ...\n",
    "dbDisconnect(...)\n",
    "```\n",
    "\n",
    "</details>\n"
   ]
  },
  {
   "cell_type": "markdown",
   "metadata": {},
   "source": [
    "<details>\n",
    "<summary>Click here to view/hide solution</summary>\n",
    "<p>\n",
    "\n",
    "```\n",
    "dbDisconnect(con)\n",
    "```\n",
    "\n",
    "</details>\n"
   ]
  },
  {
   "cell_type": "markdown",
   "metadata": {},
   "source": [
    "<a id=\"ref6o\"></a>\n",
    "\n",
    "<h3>Summary</h3>\n"
   ]
  },
  {
   "cell_type": "markdown",
   "metadata": {},
   "source": [
    "In this lab you accessed data in a SQlite database using RSQLIte  connection from a R notebook in Jupyter, and discovered different metadata.\n"
   ]
  },
  {
   "cell_type": "markdown",
   "metadata": {},
   "source": [
    "<hr>\n"
   ]
  },
  {
   "cell_type": "markdown",
   "metadata": {},
   "source": [
    "#### Thank you for completing this lab on getting connected and querying databases using RSQLite.\n"
   ]
  },
  {
   "cell_type": "markdown",
   "metadata": {},
   "source": [
    "<hr>\n",
    "\n",
    "## Authors\n",
    "\n",
    "*   [Lakshmi Holla](https://www.linkedin.com/in/lakshmi-holla-b39062149/?utm_medium=Exinfluencer&utm_source=Exinfluencer&utm_content=000026UJ&utm_term=10006555&utm_id=NA-SkillsNetwork-Channel-SkillsNetworkCoursesIBMDeveloperSkillsNetworkRP0103ENSkillsNetwork23619267-2022-01-01)\n",
    "* [Shreya Khurana](https://www.linkedin.com/in/shreya-khurana-437211237/?utm_medium=Exinfluencer&utm_source=Exinfluencer&utm_content=000026UJ&utm_term=10006555&utm_id=NA-SkillsNetwork-Channel-SkillsNetworkCoursesIBMDeveloperSkillsNetworkRP0103ENSkillsNetwork896-2023-01-01)\n",
    "\n",
    "<!--\n",
    "## Changelog\n",
    "\n",
    "| Date (YYYY-MM-DD) | Version | Changed By    | Change Description                    |\n",
    "| ----------------- | ------- | ------------- | ------------------------------------- |\n",
    "| 2023-08-08   | 1.1     | Shreya Khurana        | Created revised version of the lab|\n",
    "| 2022-03-08        | 1.0     | Lakshmi Holla | Created Initial Version using RSQLite |\n",
    "-->\n",
    "</hr>\n",
    "\n",
    "<h2 align=center><font size = 5>Copyright &copy; IBM Corporation. All rights reserved.</h2>\n"
   ]
  }
 ],
 "metadata": {
  "kernelspec": {
   "display_name": "R",
   "language": "R",
   "name": "conda-env-r-r"
  },
  "language_info": {
   "codemirror_mode": "r",
   "file_extension": ".r",
   "mimetype": "text/x-r-source",
   "name": "R",
   "pygments_lexer": "r",
   "version": "3.5.1"
  }
 },
 "nbformat": 4,
 "nbformat_minor": 4
}
