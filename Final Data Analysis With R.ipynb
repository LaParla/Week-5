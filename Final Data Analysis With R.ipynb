{
 "cells": [
  {
   "cell_type": "markdown",
   "metadata": {},
   "source": [
    "<center><img src=\"https://cf-courses-data.s3.us.cloud-object-storage.appdomain.cloud/assets/logos/SN_web_lightmode.png\" width=\"300\"></center><br/>\n",
    "\n",
    "# Assignment: Notebook for Peer Assignment\n",
    "\n",
    "Estimated time needed: 60 minutes\n"
   ]
  },
  {
   "cell_type": "markdown",
   "metadata": {},
   "source": [
    "# Assignment Scenario\n",
    "\n",
    "Congratulations! You have just been hired by a US Weather forecast firm as a data scientist.\n",
    "\n",
    "The company is considering the weather condition to help predict the possibility of precipitations, which involves using various local climatological variables, including temperature, wind speed, humidity, dew point, and pressure. The data you will be handling was collected by a NOAA weather station located at the John F. Kennedy International Airport in Queens, New York.\n",
    "\n",
    "Your task is to provide a high level analysis of weather data in JFK Airport. Your stakeholders want to understand the current and historical record of precipitations based on different variables. For now they are mainly interested in a macro-view of JFK Airport Weather, and how it relates to the possibility to rain because it will affect flight delays and etc.\n"
   ]
  },
  {
   "cell_type": "markdown",
   "metadata": {},
   "source": [
    "# Introduction\n",
    "\n",
    "This project relates to the NOAA Weather Dataset - JFK Airport (New York). The original dataset contains 114,546 hourly observations of 12 local climatological variables (such as temperature and wind speed) collected at JFK airport. This dataset can be obtained for free from the IBM Developer [Data Asset Exchange](https://developer.ibm.com/exchanges/data/all/jfk-weather-data/). \n",
    "\n",
    "For this project, you will be using a subset dataset, which contains 5727 rows (about 5% or original rows) and 9 columns. The end goal will be to predict the precipitation using some of the available features. In this project, you will practice reading data files, preprocessing data, creating models, improving models and evaluating them to ultimately choose the best model.\n",
    "\n"
   ]
  },
  {
   "cell_type": "markdown",
   "metadata": {},
   "source": [
    "\n",
    "## Table of Contents:\n",
    "\n",
    "Using this R notebook you will complete **10 tasks**:\n",
    "* [0. Import Modules](#cell0)\n",
    "* [1. Download and Unzip NOAA Weather Dataset](#cell1)\n",
    "* [2. Read Dataset into Project](#cell2)\n",
    "* [3. Select Subset of Columns](#cell3)\n",
    "* [4. Clean Up Columns](#cell4)\n",
    "* [5. Convert Columns to Numerical Types](#cell5)\n",
    "* [6. Rename Columns](#cell6)\n",
    "* [7. Exploratory Data Analysis](#cell7)\n",
    "* [8. Linear Regression](#cell8)\n",
    "* [9. Improve the Model](#cell9)\n",
    "* [10. Find Best Model](#cell10)\n",
    "\n",
    "\n",
    "<a id=\"cell0\"></a>\n",
    "## 0. Import required modules\n",
    "\n",
    "Tidymodels is a collection of packages that use tidyverse principles to easily do the entire modeling process from preprocessing initial data, to creating a model, to tunning hyperparameters. The tidymodels packages can be used to produce high quality statistical and machine learning models. Our Jupyter notebook platforms have a built-in Tidyverse, Tidymodels and rlang packages so we do not need to install these packages prior to loading library. However, if you decide to run this lab on your RStudio Desktop locally on your machine, you can remove the commented lines of code to install these packages before loading.\n",
    " \n"
   ]
  },
  {
   "cell_type": "code",
   "execution_count": null,
   "metadata": {},
   "outputs": [],
   "source": [
    "# Install tidymodels if you haven't done so\n",
    "# install.packages(\"rlang\")\n",
    "# install.packages(\"tidymodels\")"
   ]
  },
  {
   "cell_type": "markdown",
   "metadata": {},
   "source": [
    "**Note: After installing the packages, restart the kernel. Without installing the packages again, load them. Tidyverse and Tidymodels will be the two main packages you will use.**\n"
   ]
  },
  {
   "cell_type": "code",
   "execution_count": 4,
   "metadata": {
    "tags": []
   },
   "outputs": [
    {
     "name": "stderr",
     "output_type": "stream",
     "text": [
      "── Attaching packages ────────────────────────────────────── tidymodels 0.1.0 ──\n",
      "✔ broom     0.5.6      ✔ recipes   0.1.12\n",
      "✔ dials     0.0.6      ✔ rsample   0.0.5 \n",
      "✔ dplyr     0.8.5      ✔ tibble    3.0.1 \n",
      "✔ ggplot2   3.3.0      ✔ tune      0.1.0 \n",
      "✔ infer     0.5.1      ✔ workflows 0.1.1 \n",
      "✔ parsnip   0.1.0      ✔ yardstick 0.0.6 \n",
      "✔ purrr     0.3.4      \n",
      "── Conflicts ───────────────────────────────────────── tidymodels_conflicts() ──\n",
      "✖ purrr::discard()  masks scales::discard()\n",
      "✖ dplyr::filter()   masks stats::filter()\n",
      "✖ dplyr::lag()      masks stats::lag()\n",
      "✖ ggplot2::margin() masks dials::margin()\n",
      "✖ recipes::step()   masks stats::step()\n",
      "── Attaching packages ─────────────────────────────────────── tidyverse 1.3.0 ──\n",
      "✔ readr   1.3.1     ✔ forcats 0.5.0\n",
      "✔ stringr 1.4.0     \n",
      "── Conflicts ────────────────────────────────────────── tidyverse_conflicts() ──\n",
      "✖ readr::col_factor() masks scales::col_factor()\n",
      "✖ purrr::discard()    masks scales::discard()\n",
      "✖ dplyr::filter()     masks stats::filter()\n",
      "✖ stringr::fixed()    masks recipes::fixed()\n",
      "✖ dplyr::lag()        masks stats::lag()\n",
      "✖ ggplot2::margin()   masks dials::margin()\n",
      "✖ readr::spec()       masks yardstick::spec()\n"
     ]
    }
   ],
   "source": [
    "# Library for modeling\n",
    "library(tidymodels)\n",
    "\n",
    "# Load tidyverse\n",
    "library(tidyverse)"
   ]
  },
  {
   "cell_type": "markdown",
   "metadata": {},
   "source": [
    "\n",
    "### Understand the Dataset\n",
    "\n",
    "The original NOAA JFK dataset contains 114,546 hourly observations of various local climatological variables (including temperature, wind speed, humidity, dew point, and pressure). \n",
    "\n",
    "In this project you will use a sample dataset, which is around 293 KB. [Link to the sample dataset](https://dax-cdn.cdn.appdomain.cloud/dax-noaa-weather-data-jfk-airport/1.1.4/noaa-weather-sample-data.tar.gz).\n",
    "\n",
    "The sample contains 5727 rows (about 5% or original rows) and 9 columns, which are:\n",
    "- DATE\n",
    "- HOURLYDewPointTempF\n",
    "- HOURLYRelativeHumidity\n",
    "- HOURLYDRYBULBTEMPF\n",
    "- HOURLYWETBULBTEMPF\n",
    "- HOURLYPrecip\n",
    "- HOURLYWindSpeed\n",
    "- HOURLYSeaLevelPressure\n",
    "- HOURLYStationPressure\n",
    "\n",
    "The original dataset is much bigger. Feel free to explore the original dataset. [Link to the original dataset.](https://dax-cdn.cdn.appdomain.cloud/dax-noaa-weather-data-jfk-airport/1.1.4/noaa_weather.html) \n",
    "\n",
    "For more information about the dataset, checkout the [preview](https://dax-cdn.cdn.appdomain.cloud/dax-noaa-weather-data-jfk-airport/1.1.4/data-preview/index.html?_ga=2.176781478.281508226.1616293518-1509963377.1616117067&cm_mc_uid=90945889198916153255549&cm_mc_sid_50200000=64650651616293516933) of NOAA Weather - JFK Airport.\n"
   ]
  },
  {
   "cell_type": "markdown",
   "metadata": {},
   "source": [
    "<a id=\"cell1\"></a>\n",
    "\n",
    "## 1. Download NOAA Weather Dataset\n",
    "\n",
    "Use the `download.file()` function to download the sample dataset from the URL below.\n",
    "\n",
    "URL = 'https://dax-cdn.cdn.appdomain.cloud/dax-noaa-weather-data-jfk-airport/1.1.4/noaa-weather-sample-data.tar.gz'\n"
   ]
  },
  {
   "cell_type": "code",
   "execution_count": 46,
   "metadata": {
    "tags": []
   },
   "outputs": [],
   "source": [
    "url <- \"https://dax-cdn.cdn.appdomain.cloud/dax-noaa-weather-data-jfk-airport/1.1.4/noaa-weather-sample-data.tar.gz\"\n",
    "\n",
    "download.file(url, destfile = \"noaa-weather-sample-data.tar.gz\")"
   ]
  },
  {
   "cell_type": "markdown",
   "metadata": {},
   "source": [
    "Untar the zipped file.\n"
   ]
  },
  {
   "cell_type": "code",
   "execution_count": 4,
   "metadata": {
    "tags": []
   },
   "outputs": [
    {
     "name": "stderr",
     "output_type": "stream",
     "text": [
      "Warning message in untar2(tarfile, files, list, exdir, restore_times):\n",
      "“using pax extended headers”"
     ]
    }
   ],
   "source": [
    "untar(\"noaa-weather-sample-data.tar.gz\", tar = \"internal\")"
   ]
  },
  {
   "cell_type": "markdown",
   "metadata": {},
   "source": [
    "<a id=\"cell2\"></a>\n",
    "## 2. Extract and Read into Project\n",
    "We start by reading in the raw dataset. You should specify the file name as \"noaa-weather-sample-data/jfk_weather_sample.csv\".\n"
   ]
  },
  {
   "cell_type": "code",
   "execution_count": 1,
   "metadata": {
    "tags": []
   },
   "outputs": [],
   "source": [
    "weather_data <- read.csv(\"noaa-weather-sample-data/jfk_weather_sample.csv\")"
   ]
  },
  {
   "cell_type": "markdown",
   "metadata": {},
   "source": [
    "Next, display the first few rows of the dataframe.\n"
   ]
  },
  {
   "cell_type": "code",
   "execution_count": 2,
   "metadata": {
    "tags": []
   },
   "outputs": [
    {
     "data": {
      "text/html": [
       "<table>\n",
       "<caption>A data.frame: 6 × 9</caption>\n",
       "<thead>\n",
       "\t<tr><th></th><th scope=col>DATE</th><th scope=col>HOURLYDewPointTempF</th><th scope=col>HOURLYRelativeHumidity</th><th scope=col>HOURLYDRYBULBTEMPF</th><th scope=col>HOURLYWETBULBTEMPF</th><th scope=col>HOURLYPrecip</th><th scope=col>HOURLYWindSpeed</th><th scope=col>HOURLYSeaLevelPressure</th><th scope=col>HOURLYStationPressure</th></tr>\n",
       "\t<tr><th></th><th scope=col>&lt;fct&gt;</th><th scope=col>&lt;fct&gt;</th><th scope=col>&lt;int&gt;</th><th scope=col>&lt;int&gt;</th><th scope=col>&lt;int&gt;</th><th scope=col>&lt;fct&gt;</th><th scope=col>&lt;int&gt;</th><th scope=col>&lt;dbl&gt;</th><th scope=col>&lt;dbl&gt;</th></tr>\n",
       "</thead>\n",
       "<tbody>\n",
       "\t<tr><th scope=row>1</th><td>2015-07-25T13:51:00Z</td><td>60</td><td>46</td><td>83</td><td>68</td><td>0.00</td><td>13</td><td>30.01</td><td>29.99</td></tr>\n",
       "\t<tr><th scope=row>2</th><td>2016-11-18T23:51:00Z</td><td>34</td><td>48</td><td>53</td><td>44</td><td>0.00</td><td> 6</td><td>30.05</td><td>30.03</td></tr>\n",
       "\t<tr><th scope=row>3</th><td>2013-01-06T08:51:00Z</td><td>33</td><td>89</td><td>36</td><td>35</td><td>0.00</td><td>13</td><td>30.14</td><td>30.12</td></tr>\n",
       "\t<tr><th scope=row>4</th><td>2011-01-27T16:51:00Z</td><td>18</td><td>48</td><td>36</td><td>30</td><td>0.00</td><td>14</td><td>29.82</td><td>29.80</td></tr>\n",
       "\t<tr><th scope=row>5</th><td>2015-01-03T12:16:00Z</td><td>27</td><td>61</td><td>39</td><td>34</td><td>T   </td><td>11</td><td>   NA</td><td>30.50</td></tr>\n",
       "\t<tr><th scope=row>6</th><td>2013-02-15T20:51:00Z</td><td>35</td><td>79</td><td>41</td><td>38</td><td>0.00</td><td> 6</td><td>29.94</td><td>29.92</td></tr>\n",
       "</tbody>\n",
       "</table>\n"
      ],
      "text/latex": [
       "A data.frame: 6 × 9\n",
       "\\begin{tabular}{r|lllllllll}\n",
       "  & DATE & HOURLYDewPointTempF & HOURLYRelativeHumidity & HOURLYDRYBULBTEMPF & HOURLYWETBULBTEMPF & HOURLYPrecip & HOURLYWindSpeed & HOURLYSeaLevelPressure & HOURLYStationPressure\\\\\n",
       "  & <fct> & <fct> & <int> & <int> & <int> & <fct> & <int> & <dbl> & <dbl>\\\\\n",
       "\\hline\n",
       "\t1 & 2015-07-25T13:51:00Z & 60 & 46 & 83 & 68 & 0.00 & 13 & 30.01 & 29.99\\\\\n",
       "\t2 & 2016-11-18T23:51:00Z & 34 & 48 & 53 & 44 & 0.00 &  6 & 30.05 & 30.03\\\\\n",
       "\t3 & 2013-01-06T08:51:00Z & 33 & 89 & 36 & 35 & 0.00 & 13 & 30.14 & 30.12\\\\\n",
       "\t4 & 2011-01-27T16:51:00Z & 18 & 48 & 36 & 30 & 0.00 & 14 & 29.82 & 29.80\\\\\n",
       "\t5 & 2015-01-03T12:16:00Z & 27 & 61 & 39 & 34 & T    & 11 &    NA & 30.50\\\\\n",
       "\t6 & 2013-02-15T20:51:00Z & 35 & 79 & 41 & 38 & 0.00 &  6 & 29.94 & 29.92\\\\\n",
       "\\end{tabular}\n"
      ],
      "text/markdown": [
       "\n",
       "A data.frame: 6 × 9\n",
       "\n",
       "| <!--/--> | DATE &lt;fct&gt; | HOURLYDewPointTempF &lt;fct&gt; | HOURLYRelativeHumidity &lt;int&gt; | HOURLYDRYBULBTEMPF &lt;int&gt; | HOURLYWETBULBTEMPF &lt;int&gt; | HOURLYPrecip &lt;fct&gt; | HOURLYWindSpeed &lt;int&gt; | HOURLYSeaLevelPressure &lt;dbl&gt; | HOURLYStationPressure &lt;dbl&gt; |\n",
       "|---|---|---|---|---|---|---|---|---|---|\n",
       "| 1 | 2015-07-25T13:51:00Z | 60 | 46 | 83 | 68 | 0.00 | 13 | 30.01 | 29.99 |\n",
       "| 2 | 2016-11-18T23:51:00Z | 34 | 48 | 53 | 44 | 0.00 |  6 | 30.05 | 30.03 |\n",
       "| 3 | 2013-01-06T08:51:00Z | 33 | 89 | 36 | 35 | 0.00 | 13 | 30.14 | 30.12 |\n",
       "| 4 | 2011-01-27T16:51:00Z | 18 | 48 | 36 | 30 | 0.00 | 14 | 29.82 | 29.80 |\n",
       "| 5 | 2015-01-03T12:16:00Z | 27 | 61 | 39 | 34 | T    | 11 |    NA | 30.50 |\n",
       "| 6 | 2013-02-15T20:51:00Z | 35 | 79 | 41 | 38 | 0.00 |  6 | 29.94 | 29.92 |\n",
       "\n"
      ],
      "text/plain": [
       "  DATE                 HOURLYDewPointTempF HOURLYRelativeHumidity\n",
       "1 2015-07-25T13:51:00Z 60                  46                    \n",
       "2 2016-11-18T23:51:00Z 34                  48                    \n",
       "3 2013-01-06T08:51:00Z 33                  89                    \n",
       "4 2011-01-27T16:51:00Z 18                  48                    \n",
       "5 2015-01-03T12:16:00Z 27                  61                    \n",
       "6 2013-02-15T20:51:00Z 35                  79                    \n",
       "  HOURLYDRYBULBTEMPF HOURLYWETBULBTEMPF HOURLYPrecip HOURLYWindSpeed\n",
       "1 83                 68                 0.00         13             \n",
       "2 53                 44                 0.00          6             \n",
       "3 36                 35                 0.00         13             \n",
       "4 36                 30                 0.00         14             \n",
       "5 39                 34                 T            11             \n",
       "6 41                 38                 0.00          6             \n",
       "  HOURLYSeaLevelPressure HOURLYStationPressure\n",
       "1 30.01                  29.99                \n",
       "2 30.05                  30.03                \n",
       "3 30.14                  30.12                \n",
       "4 29.82                  29.80                \n",
       "5    NA                  30.50                \n",
       "6 29.94                  29.92                "
      ]
     },
     "metadata": {},
     "output_type": "display_data"
    }
   ],
   "source": [
    "head(weather_data)"
   ]
  },
  {
   "cell_type": "markdown",
   "metadata": {},
   "source": [
    "Also, take a `glimpse` of the dataset to see the different column data types and make sure it is the correct subset dataset with about 5700 rows and 9 columns.\n"
   ]
  },
  {
   "cell_type": "code",
   "execution_count": 5,
   "metadata": {
    "tags": []
   },
   "outputs": [
    {
     "name": "stdout",
     "output_type": "stream",
     "text": [
      "Rows: 5,727\n",
      "Columns: 9\n",
      "$ DATE                   <fct> 2015-07-25T13:51:00Z, 2016-11-18T23:51:00Z, 20…\n",
      "$ HOURLYDewPointTempF    <fct> 60, 34, 33, 18, 27, 35, 4, 14, 51, 71, 76, 19,…\n",
      "$ HOURLYRelativeHumidity <int> 46, 48, 89, 48, 61, 79, 51, 65, 90, 94, 79, 37…\n",
      "$ HOURLYDRYBULBTEMPF     <int> 83, 53, 36, 36, 39, 41, 19, 24, 54, 73, 83, 44…\n",
      "$ HOURLYWETBULBTEMPF     <int> 68, 44, 35, 30, 34, 38, 15, 21, 52, 72, 78, 35…\n",
      "$ HOURLYPrecip           <fct> 0.00, 0.00, 0.00, 0.00, T, 0.00, 0.00, 0.00, 0…\n",
      "$ HOURLYWindSpeed        <int> 13, 6, 13, 14, 11, 6, 0, 11, 11, 5, 21, 7, 17,…\n",
      "$ HOURLYSeaLevelPressure <dbl> 30.01, 30.05, 30.14, 29.82, NA, 29.94, 30.42, …\n",
      "$ HOURLYStationPressure  <dbl> 29.99, 30.03, 30.12, 29.80, 30.50, 29.92, 30.4…\n"
     ]
    }
   ],
   "source": [
    "glimpse(weather_data)"
   ]
  },
  {
   "cell_type": "markdown",
   "metadata": {},
   "source": [
    "<a id=\"cell3\"></a>\n",
    "## 3. Select Subset of Columns\n",
    "\n",
    "The end goal of this project will be to predict `HOURLYprecip` (precipitation) using a few other variables. Before you can do this, you first need to preprocess the dataset. Section 3 to section 6 focuses on preprocessing.\n",
    "\n",
    "The first step in preprocessing is to select a subset of data columns and inspect the column types.\n",
    "\n",
    "The key columns that we will explore in this project are:\n",
    "- HOURLYRelativeHumidity\n",
    "- HOURLYDRYBULBTEMPF\n",
    "- HOURLYPrecip\n",
    "- HOURLYWindSpeed\n",
    "- HOURLYStationPressure\n",
    "\n",
    "Data Glossary:\n",
    "- 'HOURLYRelativeHumidity' is the relative humidity given to the nearest whole percentage.\n",
    "- 'HOURLYDRYBULBTEMPF' is the dry-bulb temperature and is commonly used as the standard air temperature reported. It is given here in whole degrees Fahrenheit.\n",
    "- 'HOURLYPrecip' is the amount of precipitation in inches to hundredths over the past hour. For certain automated stations, precipitation will be reported at sub-hourly intervals (e.g. every 15 or 20 minutes) as an accumulated amount of all precipitation within the preceding hour. A “T” indicates a trace amount of precipitation.\n",
    "- 'HOURLYWindSpeed' is the speed of the wind at the time of observation given in miles per hour (mph).\n",
    "- 'HOURLYStationPressure' is the atmospheric pressure observed at the station during the time of observation. Given in inches of Mercury (in Hg).\n",
    "\n",
    "`Select` those five columns and store the modified dataframe as a new variable.\n"
   ]
  },
  {
   "cell_type": "code",
   "execution_count": 6,
   "metadata": {
    "tags": []
   },
   "outputs": [],
   "source": [
    "sub_weather_data <- weather_data %>% \n",
    "                    select(c(HOURLYRelativeHumidity,HOURLYDRYBULBTEMPF,HOURLYPrecip,HOURLYWindSpeed,HOURLYStationPressure))"
   ]
  },
  {
   "cell_type": "markdown",
   "metadata": {},
   "source": [
    "Show the first 10 rows of this new dataframe.\n"
   ]
  },
  {
   "cell_type": "code",
   "execution_count": 7,
   "metadata": {
    "tags": []
   },
   "outputs": [
    {
     "data": {
      "text/html": [
       "<table>\n",
       "<caption>A data.frame: 10 × 5</caption>\n",
       "<thead>\n",
       "\t<tr><th></th><th scope=col>HOURLYRelativeHumidity</th><th scope=col>HOURLYDRYBULBTEMPF</th><th scope=col>HOURLYPrecip</th><th scope=col>HOURLYWindSpeed</th><th scope=col>HOURLYStationPressure</th></tr>\n",
       "\t<tr><th></th><th scope=col>&lt;int&gt;</th><th scope=col>&lt;int&gt;</th><th scope=col>&lt;fct&gt;</th><th scope=col>&lt;int&gt;</th><th scope=col>&lt;dbl&gt;</th></tr>\n",
       "</thead>\n",
       "<tbody>\n",
       "\t<tr><th scope=row>1</th><td>46</td><td>83</td><td>0.00</td><td>13</td><td>29.99</td></tr>\n",
       "\t<tr><th scope=row>2</th><td>48</td><td>53</td><td>0.00</td><td> 6</td><td>30.03</td></tr>\n",
       "\t<tr><th scope=row>3</th><td>89</td><td>36</td><td>0.00</td><td>13</td><td>30.12</td></tr>\n",
       "\t<tr><th scope=row>4</th><td>48</td><td>36</td><td>0.00</td><td>14</td><td>29.80</td></tr>\n",
       "\t<tr><th scope=row>5</th><td>61</td><td>39</td><td>T   </td><td>11</td><td>30.50</td></tr>\n",
       "\t<tr><th scope=row>6</th><td>79</td><td>41</td><td>0.00</td><td> 6</td><td>29.92</td></tr>\n",
       "\t<tr><th scope=row>7</th><td>51</td><td>19</td><td>0.00</td><td> 0</td><td>30.40</td></tr>\n",
       "\t<tr><th scope=row>8</th><td>65</td><td>24</td><td>0.00</td><td>11</td><td>30.35</td></tr>\n",
       "\t<tr><th scope=row>9</th><td>90</td><td>54</td><td>0.06</td><td>11</td><td>30.03</td></tr>\n",
       "\t<tr><th scope=row>10</th><td>94</td><td>73</td><td>NA  </td><td> 5</td><td>29.91</td></tr>\n",
       "</tbody>\n",
       "</table>\n"
      ],
      "text/latex": [
       "A data.frame: 10 × 5\n",
       "\\begin{tabular}{r|lllll}\n",
       "  & HOURLYRelativeHumidity & HOURLYDRYBULBTEMPF & HOURLYPrecip & HOURLYWindSpeed & HOURLYStationPressure\\\\\n",
       "  & <int> & <int> & <fct> & <int> & <dbl>\\\\\n",
       "\\hline\n",
       "\t1 & 46 & 83 & 0.00 & 13 & 29.99\\\\\n",
       "\t2 & 48 & 53 & 0.00 &  6 & 30.03\\\\\n",
       "\t3 & 89 & 36 & 0.00 & 13 & 30.12\\\\\n",
       "\t4 & 48 & 36 & 0.00 & 14 & 29.80\\\\\n",
       "\t5 & 61 & 39 & T    & 11 & 30.50\\\\\n",
       "\t6 & 79 & 41 & 0.00 &  6 & 29.92\\\\\n",
       "\t7 & 51 & 19 & 0.00 &  0 & 30.40\\\\\n",
       "\t8 & 65 & 24 & 0.00 & 11 & 30.35\\\\\n",
       "\t9 & 90 & 54 & 0.06 & 11 & 30.03\\\\\n",
       "\t10 & 94 & 73 & NA   &  5 & 29.91\\\\\n",
       "\\end{tabular}\n"
      ],
      "text/markdown": [
       "\n",
       "A data.frame: 10 × 5\n",
       "\n",
       "| <!--/--> | HOURLYRelativeHumidity &lt;int&gt; | HOURLYDRYBULBTEMPF &lt;int&gt; | HOURLYPrecip &lt;fct&gt; | HOURLYWindSpeed &lt;int&gt; | HOURLYStationPressure &lt;dbl&gt; |\n",
       "|---|---|---|---|---|---|\n",
       "| 1 | 46 | 83 | 0.00 | 13 | 29.99 |\n",
       "| 2 | 48 | 53 | 0.00 |  6 | 30.03 |\n",
       "| 3 | 89 | 36 | 0.00 | 13 | 30.12 |\n",
       "| 4 | 48 | 36 | 0.00 | 14 | 29.80 |\n",
       "| 5 | 61 | 39 | T    | 11 | 30.50 |\n",
       "| 6 | 79 | 41 | 0.00 |  6 | 29.92 |\n",
       "| 7 | 51 | 19 | 0.00 |  0 | 30.40 |\n",
       "| 8 | 65 | 24 | 0.00 | 11 | 30.35 |\n",
       "| 9 | 90 | 54 | 0.06 | 11 | 30.03 |\n",
       "| 10 | 94 | 73 | NA   |  5 | 29.91 |\n",
       "\n"
      ],
      "text/plain": [
       "   HOURLYRelativeHumidity HOURLYDRYBULBTEMPF HOURLYPrecip HOURLYWindSpeed\n",
       "1  46                     83                 0.00         13             \n",
       "2  48                     53                 0.00          6             \n",
       "3  89                     36                 0.00         13             \n",
       "4  48                     36                 0.00         14             \n",
       "5  61                     39                 T            11             \n",
       "6  79                     41                 0.00          6             \n",
       "7  51                     19                 0.00          0             \n",
       "8  65                     24                 0.00         11             \n",
       "9  90                     54                 0.06         11             \n",
       "10 94                     73                 NA            5             \n",
       "   HOURLYStationPressure\n",
       "1  29.99                \n",
       "2  30.03                \n",
       "3  30.12                \n",
       "4  29.80                \n",
       "5  30.50                \n",
       "6  29.92                \n",
       "7  30.40                \n",
       "8  30.35                \n",
       "9  30.03                \n",
       "10 29.91                "
      ]
     },
     "metadata": {},
     "output_type": "display_data"
    }
   ],
   "source": [
    "head(sub_weather_data,10)"
   ]
  },
  {
   "cell_type": "markdown",
   "metadata": {},
   "source": [
    "<a id=\"cell4\"></a>\n",
    "## 4. Clean Up Columns\n",
    "\n",
    "From the dataframe preview above, we can see that the column `HOURLYPrecip` - which is the hourly measure of precipitation levels - contains both `NA` and `T` values. `T` specifies *trace amounts of precipitation* (meaning essentially no precipitation), while `NA` means *not available*, and is used to denote missing values. Additionally, some values also have \"s\" at the end of them, indicating that the precipitation was snow. \n",
    "\n",
    "Inspect the unique values present in the column `HOURLYPrecip` (with `unique(dataframe$column)`) to see these values.\n"
   ]
  },
  {
   "cell_type": "code",
   "execution_count": 8,
   "metadata": {
    "tags": []
   },
   "outputs": [
    {
     "data": {
      "text/html": [
       "<style>\n",
       ".list-inline {list-style: none; margin:0; padding: 0}\n",
       ".list-inline>li {display: inline-block}\n",
       ".list-inline>li:not(:last-child)::after {content: \"\\00b7\"; padding: 0 .5ex}\n",
       "</style>\n",
       "<ol class=list-inline><li>0.00</li><li>T</li><li>0.06</li><li>&lt;NA&gt;</li><li>0.03</li><li>0.02</li><li>0.08</li><li>0.01</li><li>0.07</li><li>0.16</li><li>0.09</li><li>0.22</li><li>0.02s</li><li>0.24</li><li>0.18</li><li>0.05</li><li>0.04</li><li>0.09s</li><li>0.11</li><li>0.14</li><li>0.25</li><li>0.10</li><li>0.01s</li><li>0.58</li><li>0.12</li><li>0.13</li><li>0.46</li><li>1.07</li><li>1.19</li><li>0.34</li><li>0.20</li><li>0.36s</li><li>0.42</li><li>0.17</li><li>0.27</li><li>0.35</li><li>0.31</li><li>0.33</li><li>0.23</li><li>0.26</li><li>0.28</li><li>0.75</li><li>0.19</li><li>0.36</li><li>0.03s</li><li>0.07s</li><li>0.54</li><li>0.59</li><li>0.21</li></ol>\n",
       "\n",
       "<details>\n",
       "\t<summary style=display:list-item;cursor:pointer>\n",
       "\t\t<strong>Levels</strong>:\n",
       "\t</summary>\n",
       "\t<style>\n",
       "\t.list-inline {list-style: none; margin:0; padding: 0}\n",
       "\t.list-inline>li {display: inline-block}\n",
       "\t.list-inline>li:not(:last-child)::after {content: \"\\00b7\"; padding: 0 .5ex}\n",
       "\t</style>\n",
       "\t<ol class=list-inline><li>'0.00'</li><li>'0.01'</li><li>'0.01s'</li><li>'0.02'</li><li>'0.02s'</li><li>'0.03'</li><li>'0.03s'</li><li>'0.04'</li><li>'0.05'</li><li>'0.06'</li><li>'0.07'</li><li>'0.07s'</li><li>'0.08'</li><li>'0.09'</li><li>'0.09s'</li><li>'0.10'</li><li>'0.11'</li><li>'0.12'</li><li>'0.13'</li><li>'0.14'</li><li>'0.16'</li><li>'0.17'</li><li>'0.18'</li><li>'0.19'</li><li>'0.20'</li><li>'0.21'</li><li>'0.22'</li><li>'0.23'</li><li>'0.24'</li><li>'0.25'</li><li>'0.26'</li><li>'0.27'</li><li>'0.28'</li><li>'0.31'</li><li>'0.33'</li><li>'0.34'</li><li>'0.35'</li><li>'0.36'</li><li>'0.36s'</li><li>'0.42'</li><li>'0.46'</li><li>'0.54'</li><li>'0.58'</li><li>'0.59'</li><li>'0.75'</li><li>'1.07'</li><li>'1.19'</li><li>'T'</li></ol>\n",
       "</details>"
      ],
      "text/latex": [
       "\\begin{enumerate*}\n",
       "\\item 0.00\n",
       "\\item T\n",
       "\\item 0.06\n",
       "\\item <NA>\n",
       "\\item 0.03\n",
       "\\item 0.02\n",
       "\\item 0.08\n",
       "\\item 0.01\n",
       "\\item 0.07\n",
       "\\item 0.16\n",
       "\\item 0.09\n",
       "\\item 0.22\n",
       "\\item 0.02s\n",
       "\\item 0.24\n",
       "\\item 0.18\n",
       "\\item 0.05\n",
       "\\item 0.04\n",
       "\\item 0.09s\n",
       "\\item 0.11\n",
       "\\item 0.14\n",
       "\\item 0.25\n",
       "\\item 0.10\n",
       "\\item 0.01s\n",
       "\\item 0.58\n",
       "\\item 0.12\n",
       "\\item 0.13\n",
       "\\item 0.46\n",
       "\\item 1.07\n",
       "\\item 1.19\n",
       "\\item 0.34\n",
       "\\item 0.20\n",
       "\\item 0.36s\n",
       "\\item 0.42\n",
       "\\item 0.17\n",
       "\\item 0.27\n",
       "\\item 0.35\n",
       "\\item 0.31\n",
       "\\item 0.33\n",
       "\\item 0.23\n",
       "\\item 0.26\n",
       "\\item 0.28\n",
       "\\item 0.75\n",
       "\\item 0.19\n",
       "\\item 0.36\n",
       "\\item 0.03s\n",
       "\\item 0.07s\n",
       "\\item 0.54\n",
       "\\item 0.59\n",
       "\\item 0.21\n",
       "\\end{enumerate*}\n",
       "\n",
       "\\emph{Levels}: \\begin{enumerate*}\n",
       "\\item '0.00'\n",
       "\\item '0.01'\n",
       "\\item '0.01s'\n",
       "\\item '0.02'\n",
       "\\item '0.02s'\n",
       "\\item '0.03'\n",
       "\\item '0.03s'\n",
       "\\item '0.04'\n",
       "\\item '0.05'\n",
       "\\item '0.06'\n",
       "\\item '0.07'\n",
       "\\item '0.07s'\n",
       "\\item '0.08'\n",
       "\\item '0.09'\n",
       "\\item '0.09s'\n",
       "\\item '0.10'\n",
       "\\item '0.11'\n",
       "\\item '0.12'\n",
       "\\item '0.13'\n",
       "\\item '0.14'\n",
       "\\item '0.16'\n",
       "\\item '0.17'\n",
       "\\item '0.18'\n",
       "\\item '0.19'\n",
       "\\item '0.20'\n",
       "\\item '0.21'\n",
       "\\item '0.22'\n",
       "\\item '0.23'\n",
       "\\item '0.24'\n",
       "\\item '0.25'\n",
       "\\item '0.26'\n",
       "\\item '0.27'\n",
       "\\item '0.28'\n",
       "\\item '0.31'\n",
       "\\item '0.33'\n",
       "\\item '0.34'\n",
       "\\item '0.35'\n",
       "\\item '0.36'\n",
       "\\item '0.36s'\n",
       "\\item '0.42'\n",
       "\\item '0.46'\n",
       "\\item '0.54'\n",
       "\\item '0.58'\n",
       "\\item '0.59'\n",
       "\\item '0.75'\n",
       "\\item '1.07'\n",
       "\\item '1.19'\n",
       "\\item 'T'\n",
       "\\end{enumerate*}\n"
      ],
      "text/markdown": [
       "1. 0.00\n",
       "2. T\n",
       "3. 0.06\n",
       "4. &lt;NA&gt;\n",
       "5. 0.03\n",
       "6. 0.02\n",
       "7. 0.08\n",
       "8. 0.01\n",
       "9. 0.07\n",
       "10. 0.16\n",
       "11. 0.09\n",
       "12. 0.22\n",
       "13. 0.02s\n",
       "14. 0.24\n",
       "15. 0.18\n",
       "16. 0.05\n",
       "17. 0.04\n",
       "18. 0.09s\n",
       "19. 0.11\n",
       "20. 0.14\n",
       "21. 0.25\n",
       "22. 0.10\n",
       "23. 0.01s\n",
       "24. 0.58\n",
       "25. 0.12\n",
       "26. 0.13\n",
       "27. 0.46\n",
       "28. 1.07\n",
       "29. 1.19\n",
       "30. 0.34\n",
       "31. 0.20\n",
       "32. 0.36s\n",
       "33. 0.42\n",
       "34. 0.17\n",
       "35. 0.27\n",
       "36. 0.35\n",
       "37. 0.31\n",
       "38. 0.33\n",
       "39. 0.23\n",
       "40. 0.26\n",
       "41. 0.28\n",
       "42. 0.75\n",
       "43. 0.19\n",
       "44. 0.36\n",
       "45. 0.03s\n",
       "46. 0.07s\n",
       "47. 0.54\n",
       "48. 0.59\n",
       "49. 0.21\n",
       "\n",
       "\n",
       "\n",
       "**Levels**: 1. '0.00'\n",
       "2. '0.01'\n",
       "3. '0.01s'\n",
       "4. '0.02'\n",
       "5. '0.02s'\n",
       "6. '0.03'\n",
       "7. '0.03s'\n",
       "8. '0.04'\n",
       "9. '0.05'\n",
       "10. '0.06'\n",
       "11. '0.07'\n",
       "12. '0.07s'\n",
       "13. '0.08'\n",
       "14. '0.09'\n",
       "15. '0.09s'\n",
       "16. '0.10'\n",
       "17. '0.11'\n",
       "18. '0.12'\n",
       "19. '0.13'\n",
       "20. '0.14'\n",
       "21. '0.16'\n",
       "22. '0.17'\n",
       "23. '0.18'\n",
       "24. '0.19'\n",
       "25. '0.20'\n",
       "26. '0.21'\n",
       "27. '0.22'\n",
       "28. '0.23'\n",
       "29. '0.24'\n",
       "30. '0.25'\n",
       "31. '0.26'\n",
       "32. '0.27'\n",
       "33. '0.28'\n",
       "34. '0.31'\n",
       "35. '0.33'\n",
       "36. '0.34'\n",
       "37. '0.35'\n",
       "38. '0.36'\n",
       "39. '0.36s'\n",
       "40. '0.42'\n",
       "41. '0.46'\n",
       "42. '0.54'\n",
       "43. '0.58'\n",
       "44. '0.59'\n",
       "45. '0.75'\n",
       "46. '1.07'\n",
       "47. '1.19'\n",
       "48. 'T'\n",
       "\n",
       "\n"
      ],
      "text/plain": [
       " [1] 0.00  T     0.06  <NA>  0.03  0.02  0.08  0.01  0.07  0.16  0.09  0.22 \n",
       "[13] 0.02s 0.24  0.18  0.05  0.04  0.09s 0.11  0.14  0.25  0.10  0.01s 0.58 \n",
       "[25] 0.12  0.13  0.46  1.07  1.19  0.34  0.20  0.36s 0.42  0.17  0.27  0.35 \n",
       "[37] 0.31  0.33  0.23  0.26  0.28  0.75  0.19  0.36  0.03s 0.07s 0.54  0.59 \n",
       "[49] 0.21 \n",
       "48 Levels: 0.00 0.01 0.01s 0.02 0.02s 0.03 0.03s 0.04 0.05 0.06 0.07 ... T"
      ]
     },
     "metadata": {},
     "output_type": "display_data"
    }
   ],
   "source": [
    "unique(sub_weather_data$HOURLYPrecip)"
   ]
  },
  {
   "cell_type": "markdown",
   "metadata": {},
   "source": [
    "Having characters in values (like the \"T\" and \"s\" that you see in the unique values) will cause problems when you create a model because values for precipitation should be numerical. So you need to fix these values that have characters. \n",
    "\n",
    "Now, for the column `HOURLYPrecip`:\n",
    "1. Replace all the `T` values with \"0.0\" and \n",
    "2. Remove \"s\" from values like \"0.02s\". In R, you can use the method `str_remove(column, pattern = \"s$\")` to remove the character \"s\" from the end of values. The \"$\" tells R to match to the end of values. The `pattern` is a regex pattern. Look at [here](https://www.rdocumentation.org/packages/stringi/versions/1.5.3/topics/about_search_regex) for more information about regex and matching to strings in R.\n",
    "\n",
    "Remember that you can use `tidyverse`'s  `mutate()` to update columns.\n",
    "\n",
    "You can check your work by checking if unique values of `HOURLYPrecip` still contain any `T` or `s`. Store the modified dataframe as a new variable.\n"
   ]
  },
  {
   "cell_type": "code",
   "execution_count": 9,
   "metadata": {
    "tags": []
   },
   "outputs": [
    {
     "name": "stderr",
     "output_type": "stream",
     "text": [
      "Warning message in `[<-.factor`(`*tmp*`, sub_weather_data$HOURLYPrecip == \"T\", value = 0):\n",
      "“invalid factor level, NA generated”"
     ]
    }
   ],
   "source": [
    "sub_weather_data$HOURLYPrecip[sub_weather_data$HOURLYPrecip == \"T\"] <- 0 \n",
    "sub_weather_data$HOURLYPrecip <- str_remove(sub_weather_data$HOURLYPrecip, pattern = \"s$\")"
   ]
  },
  {
   "cell_type": "code",
   "execution_count": 10,
   "metadata": {
    "tags": []
   },
   "outputs": [],
   "source": [
    "sub_weather_data2 <- sub_weather_data %>% replace_na(list(HOURLYRelativeHumidity = 0,\n",
    "                                                          HOURLYDRYBULBTEMPF = 0,\n",
    "                                                          HOURLYPrecip = 0,\n",
    "                                                          HOURLYWindSpeed = 0,\n",
    "                                                          HOURLYStationPressure = 0))"
   ]
  },
  {
   "cell_type": "markdown",
   "metadata": {},
   "source": [
    "<a id=\"cell5\"></a>\n",
    "## 5. Convert Columns to Numerical Types\n",
    "Now that you have removed the characters in the `HOURLYPrecip` column, you can safely covert the column to a numeric type.\n",
    "\n",
    "First, check the types of the columns. You will notice that all are `dbl` (double or numeric) except for `HOURLYPrecip`, which is `chr` (character or string). Use the `glimpse` function from Tidyverse.\n"
   ]
  },
  {
   "cell_type": "code",
   "execution_count": 11,
   "metadata": {
    "tags": []
   },
   "outputs": [
    {
     "name": "stdout",
     "output_type": "stream",
     "text": [
      "Rows: 5,727\n",
      "Columns: 5\n",
      "$ HOURLYRelativeHumidity <dbl> 46, 48, 89, 48, 61, 79, 51, 65, 90, 94, 79, 37…\n",
      "$ HOURLYDRYBULBTEMPF     <dbl> 83, 53, 36, 36, 39, 41, 19, 24, 54, 73, 83, 44…\n",
      "$ HOURLYPrecip           <chr> \"0.00\", \"0.00\", \"0.00\", \"0.00\", \"0\", \"0.00\", \"…\n",
      "$ HOURLYWindSpeed        <dbl> 13, 6, 13, 14, 11, 6, 0, 11, 11, 5, 21, 7, 17,…\n",
      "$ HOURLYStationPressure  <dbl> 29.99, 30.03, 30.12, 29.80, 30.50, 29.92, 30.4…\n"
     ]
    }
   ],
   "source": [
    "glimpse(sub_weather_data2)"
   ]
  },
  {
   "cell_type": "markdown",
   "metadata": {},
   "source": [
    "Convert `HOURLYPrecip` to the `numeric` type and store the cleaned dataframe as a new variable.\n"
   ]
  },
  {
   "cell_type": "code",
   "execution_count": 12,
   "metadata": {
    "tags": []
   },
   "outputs": [],
   "source": [
    "sub_weather_data2$HOURLYPrecip <- (as.numeric(sub_weather_data2$HOURLYPrecip))"
   ]
  },
  {
   "cell_type": "markdown",
   "metadata": {},
   "source": [
    "We can now see that all fields have numerical data type.\n"
   ]
  },
  {
   "cell_type": "code",
   "execution_count": 13,
   "metadata": {
    "tags": []
   },
   "outputs": [
    {
     "name": "stdout",
     "output_type": "stream",
     "text": [
      "Rows: 5,727\n",
      "Columns: 5\n",
      "$ HOURLYRelativeHumidity <dbl> 46, 48, 89, 48, 61, 79, 51, 65, 90, 94, 79, 37…\n",
      "$ HOURLYDRYBULBTEMPF     <dbl> 83, 53, 36, 36, 39, 41, 19, 24, 54, 73, 83, 44…\n",
      "$ HOURLYPrecip           <dbl> 0.00, 0.00, 0.00, 0.00, 0.00, 0.00, 0.00, 0.00…\n",
      "$ HOURLYWindSpeed        <dbl> 13, 6, 13, 14, 11, 6, 0, 11, 11, 5, 21, 7, 17,…\n",
      "$ HOURLYStationPressure  <dbl> 29.99, 30.03, 30.12, 29.80, 30.50, 29.92, 30.4…\n"
     ]
    }
   ],
   "source": [
    "glimpse(sub_weather_data2)"
   ]
  },
  {
   "cell_type": "markdown",
   "metadata": {},
   "source": [
    "<a id=\"cell6\"></a>\n",
    "## 6. Rename Columns\n",
    "Let's rename the following columns as:\n",
    "- 'HOURLYRelativeHumidity' to 'relative_humidity'\n",
    "- 'HOURLYDRYBULBTEMPF' to 'dry_bulb_temp_f'\n",
    "- 'HOURLYPrecip' to 'precip'\n",
    "- 'HOURLYWindSpeed' to 'wind_speed'\n",
    "- 'HOURLYStationPressure' to 'station_pressure'\n",
    "\n",
    "You can use `dplyr::rename()`. Then, store the final dataframe as a new variable.\n"
   ]
  },
  {
   "cell_type": "code",
   "execution_count": 14,
   "metadata": {
    "tags": []
   },
   "outputs": [],
   "source": [
    "sub_weather_data2 <- sub_weather_data2 %>% \n",
    "                        rename(\"relative_humidity\" = \"HOURLYRelativeHumidity\", \"dry_bulb_temp_f\" = \"HOURLYDRYBULBTEMPF\", \"precip\" = \"HOURLYPrecip\",\n",
    "                               \"wind_speed\" = \"HOURLYWindSpeed\", \"station_pressure\" = \"HOURLYStationPressure\")"
   ]
  },
  {
   "cell_type": "code",
   "execution_count": 15,
   "metadata": {
    "tags": []
   },
   "outputs": [
    {
     "data": {
      "text/html": [
       "<table>\n",
       "<caption>A data.frame: 6 × 5</caption>\n",
       "<thead>\n",
       "\t<tr><th></th><th scope=col>relative_humidity</th><th scope=col>dry_bulb_temp_f</th><th scope=col>precip</th><th scope=col>wind_speed</th><th scope=col>station_pressure</th></tr>\n",
       "\t<tr><th></th><th scope=col>&lt;dbl&gt;</th><th scope=col>&lt;dbl&gt;</th><th scope=col>&lt;dbl&gt;</th><th scope=col>&lt;dbl&gt;</th><th scope=col>&lt;dbl&gt;</th></tr>\n",
       "</thead>\n",
       "<tbody>\n",
       "\t<tr><th scope=row>1</th><td>46</td><td>83</td><td>0</td><td>13</td><td>29.99</td></tr>\n",
       "\t<tr><th scope=row>2</th><td>48</td><td>53</td><td>0</td><td> 6</td><td>30.03</td></tr>\n",
       "\t<tr><th scope=row>3</th><td>89</td><td>36</td><td>0</td><td>13</td><td>30.12</td></tr>\n",
       "\t<tr><th scope=row>4</th><td>48</td><td>36</td><td>0</td><td>14</td><td>29.80</td></tr>\n",
       "\t<tr><th scope=row>5</th><td>61</td><td>39</td><td>0</td><td>11</td><td>30.50</td></tr>\n",
       "\t<tr><th scope=row>6</th><td>79</td><td>41</td><td>0</td><td> 6</td><td>29.92</td></tr>\n",
       "</tbody>\n",
       "</table>\n"
      ],
      "text/latex": [
       "A data.frame: 6 × 5\n",
       "\\begin{tabular}{r|lllll}\n",
       "  & relative\\_humidity & dry\\_bulb\\_temp\\_f & precip & wind\\_speed & station\\_pressure\\\\\n",
       "  & <dbl> & <dbl> & <dbl> & <dbl> & <dbl>\\\\\n",
       "\\hline\n",
       "\t1 & 46 & 83 & 0 & 13 & 29.99\\\\\n",
       "\t2 & 48 & 53 & 0 &  6 & 30.03\\\\\n",
       "\t3 & 89 & 36 & 0 & 13 & 30.12\\\\\n",
       "\t4 & 48 & 36 & 0 & 14 & 29.80\\\\\n",
       "\t5 & 61 & 39 & 0 & 11 & 30.50\\\\\n",
       "\t6 & 79 & 41 & 0 &  6 & 29.92\\\\\n",
       "\\end{tabular}\n"
      ],
      "text/markdown": [
       "\n",
       "A data.frame: 6 × 5\n",
       "\n",
       "| <!--/--> | relative_humidity &lt;dbl&gt; | dry_bulb_temp_f &lt;dbl&gt; | precip &lt;dbl&gt; | wind_speed &lt;dbl&gt; | station_pressure &lt;dbl&gt; |\n",
       "|---|---|---|---|---|---|\n",
       "| 1 | 46 | 83 | 0 | 13 | 29.99 |\n",
       "| 2 | 48 | 53 | 0 |  6 | 30.03 |\n",
       "| 3 | 89 | 36 | 0 | 13 | 30.12 |\n",
       "| 4 | 48 | 36 | 0 | 14 | 29.80 |\n",
       "| 5 | 61 | 39 | 0 | 11 | 30.50 |\n",
       "| 6 | 79 | 41 | 0 |  6 | 29.92 |\n",
       "\n"
      ],
      "text/plain": [
       "  relative_humidity dry_bulb_temp_f precip wind_speed station_pressure\n",
       "1 46                83              0      13         29.99           \n",
       "2 48                53              0       6         30.03           \n",
       "3 89                36              0      13         30.12           \n",
       "4 48                36              0      14         29.80           \n",
       "5 61                39              0      11         30.50           \n",
       "6 79                41              0       6         29.92           "
      ]
     },
     "metadata": {},
     "output_type": "display_data"
    }
   ],
   "source": [
    "head(sub_weather_data2)"
   ]
  },
  {
   "cell_type": "markdown",
   "metadata": {},
   "source": [
    "<a id=\"cell7\"></a>\n",
    "## 7. Exploratory Data Analysis\n",
    "Now that you have finished preprocessing the dataset, you can can start exploring the columns more.\n",
    "\n",
    "First, split the data into a training and testing set. Splitting a dataset is done randomly, so to have reproducible results set the seed = 1234. Also, use 80% of the data for training.\n"
   ]
  },
  {
   "cell_type": "code",
   "execution_count": 16,
   "metadata": {
    "tags": []
   },
   "outputs": [],
   "source": [
    "set.seed(1234)\n",
    "weather_split <- initial_split(sub_weather_data2, prop = 0.8)\n",
    "weather_train <- training(weather_split)\n",
    "weather_test <- testing(weather_split)"
   ]
  },
  {
   "cell_type": "markdown",
   "metadata": {},
   "source": [
    "Next, looking at just the **training set**, plot histograms or box plots of the variables (`relative_humidity`, `dry_bulb_temp_f`, `precip`, `wind_speed`,  `station_pressure`) for an intial look of their distributions using `tidyverse`'s `ggplot`. Leave the testing set as is because it is good practice to not see the testing set until evaluating the final model.\n"
   ]
  },
  {
   "cell_type": "code",
   "execution_count": 17,
   "metadata": {
    "tags": []
   },
   "outputs": [
    {
     "data": {},
     "metadata": {},
     "output_type": "display_data"
    },
    {
     "data": {
      "image/png": "[encoded data removed]",
      "text/plain": [
       "plot without title"
      ]
     },
     "metadata": {},
     "output_type": "display_data",
     "source": "R display func"
    }
   ],
   "source": [
    "ggplot(data = weather_train, mapping = aes(x = relative_humidity)) +\n",
    "    geom_histogram(bins = 15, color = \"white\", fill = \"pink\")"
   ]
  },
  {
   "cell_type": "code",
   "execution_count": 18,
   "metadata": {
    "tags": []
   },
   "outputs": [
    {
     "data": {},
     "metadata": {},
     "output_type": "display_data"
    },
    {
     "data": {
      "image/png": "[encoded data removed]",
      "text/plain": [
       "plot without title"
      ]
     },
     "metadata": {},
     "output_type": "display_data",
     "source": "R display func"
    }
   ],
   "source": [
    "ggplot(data = weather_train, mapping = aes(x = dry_bulb_temp_f)) +\n",
    "    geom_histogram(bins = 15, color = \"white\", fill = \"pink\")"
   ]
  },
  {
   "cell_type": "code",
   "execution_count": 19,
   "metadata": {
    "tags": []
   },
   "outputs": [
    {
     "data": {},
     "metadata": {},
     "output_type": "display_data"
    },
    {
     "data": {
      "image/png": "[encoded data removed]",
      "text/plain": [
       "plot without title"
      ]
     },
     "metadata": {},
     "output_type": "display_data",
     "source": "R display func"
    }
   ],
   "source": [
    "ggplot(data = weather_train, mapping = aes(x = precip)) +\n",
    "    geom_histogram(bins = 15, color = \"white\", fill = \"pink\")"
   ]
  },
  {
   "cell_type": "code",
   "execution_count": 20,
   "metadata": {
    "tags": []
   },
   "outputs": [
    {
     "data": {},
     "metadata": {},
     "output_type": "display_data"
    },
    {
     "data": {
      "image/png": "[encoded data removed]",
      "text/plain": [
       "plot without title"
      ]
     },
     "metadata": {},
     "output_type": "display_data",
     "source": "R display func"
    }
   ],
   "source": [
    "ggplot(data = weather_train, mapping = aes(x = wind_speed)) +\n",
    "    geom_histogram(bins = 15, color = \"white\", fill = \"pink\")"
   ]
  },
  {
   "cell_type": "code",
   "execution_count": 21,
   "metadata": {
    "tags": []
   },
   "outputs": [
    {
     "data": {},
     "metadata": {},
     "output_type": "display_data"
    },
    {
     "data": {
      "image/png": "[encoded data removed]",
      "text/plain": [
       "plot without title"
      ]
     },
     "metadata": {},
     "output_type": "display_data",
     "source": "R display func"
    }
   ],
   "source": [
    "\n",
    "\n",
    "ggplot(data = weather_train, mapping = aes(x = station_pressure)) +\n",
    "    geom_histogram(bins = 15, color = \"white\", fill = \"pink\")"
   ]
  },
  {
   "cell_type": "markdown",
   "metadata": {},
   "source": [
    "<a id=\"cell8\"></a>\n",
    "## 8. Linear Regression \n",
    "After exploring the dataset more, you are now ready to start creating models to predict the precipitation (`precip`).\n",
    "\n",
    "Create simple linear regression models where `precip` is the response variable and each of `relative_humidity`, `dry_bulb_temp_f`,`wind_speed` or `station_pressure` will be a predictor variable, e.g. `precip ~ relative_humidity`, `precip ~ dry_bulb_temp_f`, etc. for a total of four simple models. \n",
    "Additionally, visualize each simple model with a scatter plot.\n"
   ]
  },
  {
   "cell_type": "code",
   "execution_count": 22,
   "metadata": {
    "tags": []
   },
   "outputs": [
    {
     "name": "stderr",
     "output_type": "stream",
     "text": [
      "`geom_smooth()` using formula 'y ~ x'\n"
     ]
    },
    {
     "data": {},
     "metadata": {},
     "output_type": "display_data"
    },
    {
     "data": {
      "image/png": "[encoded data removed]",
      "text/plain": [
       "plot without title"
      ]
     },
     "metadata": {},
     "output_type": "display_data",
     "source": "R display func"
    }
   ],
   "source": [
    "model1 <- lm(precip ~ relative_humidity, data = weather_train)\n",
    "ggplot(weather_train, aes(x = relative_humidity, y = precip)) +\n",
    "    geom_point() +\n",
    "    stat_smooth(method = \"lm\", col = \"red\")"
   ]
  },
  {
   "cell_type": "code",
   "execution_count": 23,
   "metadata": {
    "tags": []
   },
   "outputs": [
    {
     "name": "stderr",
     "output_type": "stream",
     "text": [
      "`geom_smooth()` using formula 'y ~ x'\n"
     ]
    },
    {
     "data": {},
     "metadata": {},
     "output_type": "display_data"
    },
    {
     "data": {
      "image/png": "[encoded data removed]",
      "text/plain": [
       "plot without title"
      ]
     },
     "metadata": {},
     "output_type": "display_data",
     "source": "R display func"
    }
   ],
   "source": [
    "model2 <- lm(precip ~ dry_bulb_temp_f, data = weather_train)\n",
    "ggplot(weather_train, aes(x = dry_bulb_temp_f, y = precip)) +\n",
    "    geom_point() +\n",
    "    stat_smooth(method = \"lm\", col = \"blue\")"
   ]
  },
  {
   "cell_type": "code",
   "execution_count": 24,
   "metadata": {
    "tags": []
   },
   "outputs": [
    {
     "name": "stderr",
     "output_type": "stream",
     "text": [
      "`geom_smooth()` using formula 'y ~ x'\n"
     ]
    },
    {
     "data": {},
     "metadata": {},
     "output_type": "display_data"
    },
    {
     "data": {
      "image/png": "[encoded data removed]",
      "text/plain": [
       "plot without title"
      ]
     },
     "metadata": {},
     "output_type": "display_data",
     "source": "R display func"
    }
   ],
   "source": [
    "model3 <- lm(precip ~ wind_speed, data = weather_train)\n",
    "ggplot(weather_train, aes(x = wind_speed, y = precip)) +\n",
    "    geom_point() +\n",
    "    stat_smooth(method = \"lm\", col = \"green\")"
   ]
  },
  {
   "cell_type": "code",
   "execution_count": 25,
   "metadata": {
    "tags": []
   },
   "outputs": [
    {
     "name": "stderr",
     "output_type": "stream",
     "text": [
      "`geom_smooth()` using formula 'y ~ x'\n"
     ]
    },
    {
     "data": {},
     "metadata": {},
     "output_type": "display_data"
    },
    {
     "data": {
      "image/png": "[encoded data removed]",
      "text/plain": [
       "plot without title"
      ]
     },
     "metadata": {},
     "output_type": "display_data",
     "source": "R display func"
    }
   ],
   "source": [
    "model4 <- lm(precip ~ station_pressure, data = weather_train)\n",
    "ggplot(weather_train, aes(x = station_pressure, y = precip)) +\n",
    "    geom_point() +\n",
    "    stat_smooth(method = \"lm\", col = \"red\")"
   ]
  },
  {
   "cell_type": "markdown",
   "metadata": {},
   "source": [
    "<a id=\"cell9\"></a>\n",
    "## 9. Improve the Model\n",
    "Now, try improving the simple models you created in the previous section. \n",
    "\n",
    "Create at least two more models, each model should use at least one of the different techniques:\n",
    "1. Add more features/predictors\n",
    "2. Add regularization (L1, L2 or a mix)\n",
    "3. Add a polynomial component\n",
    "\n",
    "Also, for each of the models you create, check the model performance using the **training set** and a metric like MSE, RMSE, or R-squared.\n",
    "\n",
    "Consider using `tidymodels` if you choose to add regularization and tune lambda.\n"
   ]
  },
  {
   "cell_type": "code",
   "execution_count": 40,
   "metadata": {
    "tags": []
   },
   "outputs": [
    {
     "data": {
      "text/plain": [
       "\n",
       "Call:\n",
       "lm(formula = precip ~ relative_humidity + dry_bulb_temp_f + wind_speed + \n",
       "    station_pressure, data = weather_train)\n",
       "\n",
       "Residuals:\n",
       "     Min       1Q   Median       3Q      Max \n",
       "-0.04646 -0.00818 -0.00347  0.00122  1.16907 \n",
       "\n",
       "Coefficients:\n",
       "                    Estimate Std. Error t value Pr(>|t|)    \n",
       "(Intercept)       -1.188e-03  3.074e-03  -0.386    0.699    \n",
       "relative_humidity  3.333e-04  2.666e-05  12.501  < 2e-16 ***\n",
       "dry_bulb_temp_f   -1.866e-05  3.111e-05  -0.600    0.549    \n",
       "wind_speed         5.978e-04  8.542e-05   6.998 2.97e-12 ***\n",
       "station_pressure  -7.329e-04  1.333e-04  -5.499 4.03e-08 ***\n",
       "---\n",
       "Signif. codes:  0 ‘***’ 0.001 ‘**’ 0.01 ‘*’ 0.05 ‘.’ 0.1 ‘ ’ 1\n",
       "\n",
       "Residual standard error: 0.03537 on 4577 degrees of freedom\n",
       "Multiple R-squared:  0.03758,\tAdjusted R-squared:  0.03674 \n",
       "F-statistic: 44.68 on 4 and 4577 DF,  p-value: < 2.2e-16\n"
      ]
     },
     "metadata": {},
     "output_type": "display_data"
    },
    {
     "data": {
      "text/html": [
       "0.00124948792575451"
      ],
      "text/latex": [
       "0.00124948792575451"
      ],
      "text/markdown": [
       "0.00124948792575451"
      ],
      "text/plain": [
       "[1] 0.001249488"
      ]
     },
     "metadata": {},
     "output_type": "display_data"
    },
    {
     "data": {
      "text/html": [
       "0.0353480964940761"
      ],
      "text/latex": [
       "0.0353480964940761"
      ],
      "text/markdown": [
       "0.0353480964940761"
      ],
      "text/plain": [
       "[1] 0.0353481"
      ]
     },
     "metadata": {},
     "output_type": "display_data"
    },
    {
     "data": {
      "text/html": [
       "0.037583604444057"
      ],
      "text/latex": [
       "0.037583604444057"
      ],
      "text/markdown": [
       "0.037583604444057"
      ],
      "text/plain": [
       "[1] 0.0375836"
      ]
     },
     "metadata": {},
     "output_type": "display_data"
    }
   ],
   "source": [
    "mlr <- lm(precip ~ relative_humidity + dry_bulb_temp_f + wind_speed + station_pressure, data = weather_train)\n",
    "summary(mlr)\n",
    "\n",
    "mse_mlr <- mean(mlr$residuals^2)\n",
    "mse_mlr\n",
    "\n",
    "rmse_mlr <- sqrt(mse_mlr)\n",
    "rmse_mlr\n",
    "\n",
    "summary(mlr)$r.squared"
   ]
  },
  {
   "cell_type": "code",
   "execution_count": 38,
   "metadata": {
    "tags": []
   },
   "outputs": [
    {
     "data": {
      "text/plain": [
       "\n",
       "Call:\n",
       "lm(formula = precip ~ poly(relative_humidity, 3), data = weather_train)\n",
       "\n",
       "Residuals:\n",
       "     Min       1Q   Median       3Q      Max \n",
       "-0.02881 -0.00605 -0.00058  0.00122  1.16760 \n",
       "\n",
       "Coefficients:\n",
       "                             Estimate Std. Error t value Pr(>|t|)    \n",
       "(Intercept)                 0.0046966  0.0005204   9.025  < 2e-16 ***\n",
       "poly(relative_humidity, 3)1 0.3708498  0.0352266  10.528  < 2e-16 ***\n",
       "poly(relative_humidity, 3)2 0.2959331  0.0352266   8.401  < 2e-16 ***\n",
       "poly(relative_humidity, 3)3 0.2067060  0.0352266   5.868 4.72e-09 ***\n",
       "---\n",
       "Signif. codes:  0 ‘***’ 0.001 ‘**’ 0.01 ‘*’ 0.05 ‘.’ 0.1 ‘ ’ 1\n",
       "\n",
       "Residual standard error: 0.03523 on 4578 degrees of freedom\n",
       "Multiple R-squared:  0.04502,\tAdjusted R-squared:  0.0444 \n",
       "F-statistic: 71.95 on 3 and 4578 DF,  p-value: < 2.2e-16\n"
      ]
     },
     "metadata": {},
     "output_type": "display_data"
    },
    {
     "data": {
      "text/html": [
       "0.00123982867587584"
      ],
      "text/latex": [
       "0.00123982867587584"
      ],
      "text/markdown": [
       "0.00123982867587584"
      ],
      "text/plain": [
       "[1] 0.001239829"
      ]
     },
     "metadata": {},
     "output_type": "display_data"
    },
    {
     "data": {
      "text/html": [
       "0.0352112010001908"
      ],
      "text/latex": [
       "0.0352112010001908"
      ],
      "text/markdown": [
       "0.0352112010001908"
      ],
      "text/plain": [
       "[1] 0.0352112"
      ]
     },
     "metadata": {},
     "output_type": "display_data"
    },
    {
     "data": {
      "text/html": [
       "0.0450236286815027"
      ],
      "text/latex": [
       "0.0450236286815027"
      ],
      "text/markdown": [
       "0.0450236286815027"
      ],
      "text/plain": [
       "[1] 0.04502363"
      ]
     },
     "metadata": {},
     "output_type": "display_data"
    }
   ],
   "source": [
    "poly_reg <- lm(precip ~ poly(relative_humidity, 3), data = weather_train)\n",
    "summary(poly_reg)\n",
    "\n",
    "mse_poly <- mean(poly_reg$residuals^2)\n",
    "mse_poly\n",
    "\n",
    "rmse_poly <- sqrt(mse_poly)\n",
    "rmse_poly\n",
    "\n",
    "summary(poly_reg)$r.squared"
   ]
  },
  {
   "cell_type": "code",
   "execution_count": 28,
   "metadata": {
    "tags": []
   },
   "outputs": [
    {
     "data": {
      "text/html": [
       "<table>\n",
       "<caption>A tibble: 266 × 5</caption>\n",
       "<thead>\n",
       "\t<tr><th scope=col>term</th><th scope=col>step</th><th scope=col>estimate</th><th scope=col>lambda</th><th scope=col>dev.ratio</th></tr>\n",
       "\t<tr><th scope=col>&lt;chr&gt;</th><th scope=col>&lt;dbl&gt;</th><th scope=col>&lt;dbl&gt;</th><th scope=col>&lt;dbl&gt;</th><th scope=col>&lt;dbl&gt;</th></tr>\n",
       "</thead>\n",
       "<tbody>\n",
       "\t<tr><td>(Intercept)      </td><td> 1</td><td> 4.696639e-03</td><td>0.005478611</td><td>0.000000000</td></tr>\n",
       "\t<tr><td>(Intercept)      </td><td> 2</td><td> 3.294427e-03</td><td>0.004991907</td><td>0.003925226</td></tr>\n",
       "\t<tr><td>relative_humidity</td><td> 2</td><td> 2.153281e-05</td><td>0.004991907</td><td>0.003925226</td></tr>\n",
       "\t<tr><td>(Intercept)      </td><td> 3</td><td> 2.016783e-03</td><td>0.004548439</td><td>0.007184018</td></tr>\n",
       "\t<tr><td>relative_humidity</td><td> 3</td><td> 4.115270e-05</td><td>0.004548439</td><td>0.007184018</td></tr>\n",
       "\t<tr><td>(Intercept)      </td><td> 4</td><td> 8.526414e-04</td><td>0.004144369</td><td>0.009889524</td></tr>\n",
       "\t<tr><td>relative_humidity</td><td> 4</td><td> 5.902961e-05</td><td>0.004144369</td><td>0.009889524</td></tr>\n",
       "\t<tr><td>(Intercept)      </td><td> 5</td><td>-2.080809e-04</td><td>0.003776194</td><td>0.012135683</td></tr>\n",
       "\t<tr><td>relative_humidity</td><td> 5</td><td> 7.531839e-05</td><td>0.003776194</td><td>0.012135683</td></tr>\n",
       "\t<tr><td>(Intercept)      </td><td> 6</td><td>-1.174572e-03</td><td>0.003440728</td><td>0.014000484</td></tr>\n",
       "\t<tr><td>relative_humidity</td><td> 6</td><td> 9.016012e-05</td><td>0.003440728</td><td>0.014000484</td></tr>\n",
       "\t<tr><td>(Intercept)      </td><td> 7</td><td>-2.055202e-03</td><td>0.003135063</td><td>0.015548674</td></tr>\n",
       "\t<tr><td>relative_humidity</td><td> 7</td><td> 1.036834e-04</td><td>0.003135063</td><td>0.015548674</td></tr>\n",
       "\t<tr><td>(Intercept)      </td><td> 8</td><td>-2.857599e-03</td><td>0.002856553</td><td>0.016834008</td></tr>\n",
       "\t<tr><td>relative_humidity</td><td> 8</td><td> 1.160052e-04</td><td>0.002856553</td><td>0.016834008</td></tr>\n",
       "\t<tr><td>(Intercept)      </td><td> 9</td><td>-3.688506e-03</td><td>0.002602784</td><td>0.018130507</td></tr>\n",
       "\t<tr><td>relative_humidity</td><td> 9</td><td> 1.273918e-04</td><td>0.002602784</td><td>0.018130507</td></tr>\n",
       "\t<tr><td>wind_speed       </td><td> 9</td><td> 8.184838e-06</td><td>0.002602784</td><td>0.018130507</td></tr>\n",
       "\t<tr><td>(Intercept)      </td><td>10</td><td>-4.821141e-03</td><td>0.002371560</td><td>0.020031434</td></tr>\n",
       "\t<tr><td>relative_humidity</td><td>10</td><td> 1.383668e-04</td><td>0.002371560</td><td>0.020031434</td></tr>\n",
       "\t<tr><td>wind_speed       </td><td>10</td><td> 4.644413e-05</td><td>0.002371560</td><td>0.020031434</td></tr>\n",
       "\t<tr><td>(Intercept)      </td><td>11</td><td>-5.853156e-03</td><td>0.002160877</td><td>0.021609617</td></tr>\n",
       "\t<tr><td>relative_humidity</td><td>11</td><td> 1.483668e-04</td><td>0.002160877</td><td>0.021609617</td></tr>\n",
       "\t<tr><td>wind_speed       </td><td>11</td><td> 8.130457e-05</td><td>0.002160877</td><td>0.021609617</td></tr>\n",
       "\t<tr><td>(Intercept)      </td><td>12</td><td>-6.793489e-03</td><td>0.001968911</td><td>0.022919852</td></tr>\n",
       "\t<tr><td>relative_humidity</td><td>12</td><td> 1.574784e-04</td><td>0.001968911</td><td>0.022919852</td></tr>\n",
       "\t<tr><td>wind_speed       </td><td>12</td><td> 1.130681e-04</td><td>0.001968911</td><td>0.022919852</td></tr>\n",
       "\t<tr><td>(Intercept)      </td><td>13</td><td>-7.650286e-03</td><td>0.001793998</td><td>0.024007632</td></tr>\n",
       "\t<tr><td>relative_humidity</td><td>13</td><td> 1.657806e-04</td><td>0.001793998</td><td>0.024007632</td></tr>\n",
       "\t<tr><td>wind_speed       </td><td>13</td><td> 1.420098e-04</td><td>0.001793998</td><td>0.024007632</td></tr>\n",
       "\t<tr><td>⋮</td><td>⋮</td><td>⋮</td><td>⋮</td><td>⋮</td></tr>\n",
       "\t<tr><td>(Intercept)      </td><td>58</td><td>-1.320255e-03</td><td>2.726718e-05</td><td>0.03757963</td></tr>\n",
       "\t<tr><td>relative_humidity</td><td>58</td><td> 3.304984e-04</td><td>2.726718e-05</td><td>0.03757963</td></tr>\n",
       "\t<tr><td>dry_bulb_temp_f  </td><td>58</td><td>-1.766663e-05</td><td>2.726718e-05</td><td>0.03757963</td></tr>\n",
       "\t<tr><td>wind_speed       </td><td>58</td><td> 5.906410e-04</td><td>2.726718e-05</td><td>0.03757963</td></tr>\n",
       "\t<tr><td>station_pressure </td><td>58</td><td>-7.212177e-04</td><td>2.726718e-05</td><td>0.03757963</td></tr>\n",
       "\t<tr><td>(Intercept)      </td><td>59</td><td>-1.308486e-03</td><td>2.484484e-05</td><td>0.03758030</td></tr>\n",
       "\t<tr><td>relative_humidity</td><td>59</td><td> 3.307485e-04</td><td>2.484484e-05</td><td>0.03758030</td></tr>\n",
       "\t<tr><td>dry_bulb_temp_f  </td><td>59</td><td>-1.775507e-05</td><td>2.484484e-05</td><td>0.03758030</td></tr>\n",
       "\t<tr><td>wind_speed       </td><td>59</td><td> 5.912745e-04</td><td>2.484484e-05</td><td>0.03758030</td></tr>\n",
       "\t<tr><td>station_pressure </td><td>59</td><td>-7.222542e-04</td><td>2.484484e-05</td><td>0.03758030</td></tr>\n",
       "\t<tr><td>(Intercept)      </td><td>60</td><td>-1.297764e-03</td><td>2.263769e-05</td><td>0.03758086</td></tr>\n",
       "\t<tr><td>relative_humidity</td><td>60</td><td> 3.309763e-04</td><td>2.263769e-05</td><td>0.03758086</td></tr>\n",
       "\t<tr><td>dry_bulb_temp_f  </td><td>60</td><td>-1.783566e-05</td><td>2.263769e-05</td><td>0.03758086</td></tr>\n",
       "\t<tr><td>wind_speed       </td><td>60</td><td> 5.918517e-04</td><td>2.263769e-05</td><td>0.03758086</td></tr>\n",
       "\t<tr><td>station_pressure </td><td>60</td><td>-7.231986e-04</td><td>2.263769e-05</td><td>0.03758086</td></tr>\n",
       "\t<tr><td>(Intercept)      </td><td>61</td><td>-1.287994e-03</td><td>2.062662e-05</td><td>0.03758133</td></tr>\n",
       "\t<tr><td>relative_humidity</td><td>61</td><td> 3.311839e-04</td><td>2.062662e-05</td><td>0.03758133</td></tr>\n",
       "\t<tr><td>dry_bulb_temp_f  </td><td>61</td><td>-1.790908e-05</td><td>2.062662e-05</td><td>0.03758133</td></tr>\n",
       "\t<tr><td>wind_speed       </td><td>61</td><td> 5.923776e-04</td><td>2.062662e-05</td><td>0.03758133</td></tr>\n",
       "\t<tr><td>station_pressure </td><td>61</td><td>-7.240591e-04</td><td>2.062662e-05</td><td>0.03758133</td></tr>\n",
       "\t<tr><td>(Intercept)      </td><td>62</td><td>-1.279091e-03</td><td>1.879421e-05</td><td>0.03758171</td></tr>\n",
       "\t<tr><td>relative_humidity</td><td>62</td><td> 3.313730e-04</td><td>1.879421e-05</td><td>0.03758171</td></tr>\n",
       "\t<tr><td>dry_bulb_temp_f  </td><td>62</td><td>-1.797599e-05</td><td>1.879421e-05</td><td>0.03758171</td></tr>\n",
       "\t<tr><td>wind_speed       </td><td>62</td><td> 5.928568e-04</td><td>1.879421e-05</td><td>0.03758171</td></tr>\n",
       "\t<tr><td>station_pressure </td><td>62</td><td>-7.248432e-04</td><td>1.879421e-05</td><td>0.03758171</td></tr>\n",
       "\t<tr><td>(Intercept)      </td><td>63</td><td>-1.270980e-03</td><td>1.712458e-05</td><td>0.03758204</td></tr>\n",
       "\t<tr><td>relative_humidity</td><td>63</td><td> 3.315454e-04</td><td>1.712458e-05</td><td>0.03758204</td></tr>\n",
       "\t<tr><td>dry_bulb_temp_f  </td><td>63</td><td>-1.803695e-05</td><td>1.712458e-05</td><td>0.03758204</td></tr>\n",
       "\t<tr><td>wind_speed       </td><td>63</td><td> 5.932935e-04</td><td>1.712458e-05</td><td>0.03758204</td></tr>\n",
       "\t<tr><td>station_pressure </td><td>63</td><td>-7.255577e-04</td><td>1.712458e-05</td><td>0.03758204</td></tr>\n",
       "</tbody>\n",
       "</table>\n"
      ],
      "text/latex": [
       "A tibble: 266 × 5\n",
       "\\begin{tabular}{lllll}\n",
       " term & step & estimate & lambda & dev.ratio\\\\\n",
       " <chr> & <dbl> & <dbl> & <dbl> & <dbl>\\\\\n",
       "\\hline\n",
       "\t (Intercept)       &  1 &  4.696639e-03 & 0.005478611 & 0.000000000\\\\\n",
       "\t (Intercept)       &  2 &  3.294427e-03 & 0.004991907 & 0.003925226\\\\\n",
       "\t relative\\_humidity &  2 &  2.153281e-05 & 0.004991907 & 0.003925226\\\\\n",
       "\t (Intercept)       &  3 &  2.016783e-03 & 0.004548439 & 0.007184018\\\\\n",
       "\t relative\\_humidity &  3 &  4.115270e-05 & 0.004548439 & 0.007184018\\\\\n",
       "\t (Intercept)       &  4 &  8.526414e-04 & 0.004144369 & 0.009889524\\\\\n",
       "\t relative\\_humidity &  4 &  5.902961e-05 & 0.004144369 & 0.009889524\\\\\n",
       "\t (Intercept)       &  5 & -2.080809e-04 & 0.003776194 & 0.012135683\\\\\n",
       "\t relative\\_humidity &  5 &  7.531839e-05 & 0.003776194 & 0.012135683\\\\\n",
       "\t (Intercept)       &  6 & -1.174572e-03 & 0.003440728 & 0.014000484\\\\\n",
       "\t relative\\_humidity &  6 &  9.016012e-05 & 0.003440728 & 0.014000484\\\\\n",
       "\t (Intercept)       &  7 & -2.055202e-03 & 0.003135063 & 0.015548674\\\\\n",
       "\t relative\\_humidity &  7 &  1.036834e-04 & 0.003135063 & 0.015548674\\\\\n",
       "\t (Intercept)       &  8 & -2.857599e-03 & 0.002856553 & 0.016834008\\\\\n",
       "\t relative\\_humidity &  8 &  1.160052e-04 & 0.002856553 & 0.016834008\\\\\n",
       "\t (Intercept)       &  9 & -3.688506e-03 & 0.002602784 & 0.018130507\\\\\n",
       "\t relative\\_humidity &  9 &  1.273918e-04 & 0.002602784 & 0.018130507\\\\\n",
       "\t wind\\_speed        &  9 &  8.184838e-06 & 0.002602784 & 0.018130507\\\\\n",
       "\t (Intercept)       & 10 & -4.821141e-03 & 0.002371560 & 0.020031434\\\\\n",
       "\t relative\\_humidity & 10 &  1.383668e-04 & 0.002371560 & 0.020031434\\\\\n",
       "\t wind\\_speed        & 10 &  4.644413e-05 & 0.002371560 & 0.020031434\\\\\n",
       "\t (Intercept)       & 11 & -5.853156e-03 & 0.002160877 & 0.021609617\\\\\n",
       "\t relative\\_humidity & 11 &  1.483668e-04 & 0.002160877 & 0.021609617\\\\\n",
       "\t wind\\_speed        & 11 &  8.130457e-05 & 0.002160877 & 0.021609617\\\\\n",
       "\t (Intercept)       & 12 & -6.793489e-03 & 0.001968911 & 0.022919852\\\\\n",
       "\t relative\\_humidity & 12 &  1.574784e-04 & 0.001968911 & 0.022919852\\\\\n",
       "\t wind\\_speed        & 12 &  1.130681e-04 & 0.001968911 & 0.022919852\\\\\n",
       "\t (Intercept)       & 13 & -7.650286e-03 & 0.001793998 & 0.024007632\\\\\n",
       "\t relative\\_humidity & 13 &  1.657806e-04 & 0.001793998 & 0.024007632\\\\\n",
       "\t wind\\_speed        & 13 &  1.420098e-04 & 0.001793998 & 0.024007632\\\\\n",
       "\t ⋮ & ⋮ & ⋮ & ⋮ & ⋮\\\\\n",
       "\t (Intercept)       & 58 & -1.320255e-03 & 2.726718e-05 & 0.03757963\\\\\n",
       "\t relative\\_humidity & 58 &  3.304984e-04 & 2.726718e-05 & 0.03757963\\\\\n",
       "\t dry\\_bulb\\_temp\\_f   & 58 & -1.766663e-05 & 2.726718e-05 & 0.03757963\\\\\n",
       "\t wind\\_speed        & 58 &  5.906410e-04 & 2.726718e-05 & 0.03757963\\\\\n",
       "\t station\\_pressure  & 58 & -7.212177e-04 & 2.726718e-05 & 0.03757963\\\\\n",
       "\t (Intercept)       & 59 & -1.308486e-03 & 2.484484e-05 & 0.03758030\\\\\n",
       "\t relative\\_humidity & 59 &  3.307485e-04 & 2.484484e-05 & 0.03758030\\\\\n",
       "\t dry\\_bulb\\_temp\\_f   & 59 & -1.775507e-05 & 2.484484e-05 & 0.03758030\\\\\n",
       "\t wind\\_speed        & 59 &  5.912745e-04 & 2.484484e-05 & 0.03758030\\\\\n",
       "\t station\\_pressure  & 59 & -7.222542e-04 & 2.484484e-05 & 0.03758030\\\\\n",
       "\t (Intercept)       & 60 & -1.297764e-03 & 2.263769e-05 & 0.03758086\\\\\n",
       "\t relative\\_humidity & 60 &  3.309763e-04 & 2.263769e-05 & 0.03758086\\\\\n",
       "\t dry\\_bulb\\_temp\\_f   & 60 & -1.783566e-05 & 2.263769e-05 & 0.03758086\\\\\n",
       "\t wind\\_speed        & 60 &  5.918517e-04 & 2.263769e-05 & 0.03758086\\\\\n",
       "\t station\\_pressure  & 60 & -7.231986e-04 & 2.263769e-05 & 0.03758086\\\\\n",
       "\t (Intercept)       & 61 & -1.287994e-03 & 2.062662e-05 & 0.03758133\\\\\n",
       "\t relative\\_humidity & 61 &  3.311839e-04 & 2.062662e-05 & 0.03758133\\\\\n",
       "\t dry\\_bulb\\_temp\\_f   & 61 & -1.790908e-05 & 2.062662e-05 & 0.03758133\\\\\n",
       "\t wind\\_speed        & 61 &  5.923776e-04 & 2.062662e-05 & 0.03758133\\\\\n",
       "\t station\\_pressure  & 61 & -7.240591e-04 & 2.062662e-05 & 0.03758133\\\\\n",
       "\t (Intercept)       & 62 & -1.279091e-03 & 1.879421e-05 & 0.03758171\\\\\n",
       "\t relative\\_humidity & 62 &  3.313730e-04 & 1.879421e-05 & 0.03758171\\\\\n",
       "\t dry\\_bulb\\_temp\\_f   & 62 & -1.797599e-05 & 1.879421e-05 & 0.03758171\\\\\n",
       "\t wind\\_speed        & 62 &  5.928568e-04 & 1.879421e-05 & 0.03758171\\\\\n",
       "\t station\\_pressure  & 62 & -7.248432e-04 & 1.879421e-05 & 0.03758171\\\\\n",
       "\t (Intercept)       & 63 & -1.270980e-03 & 1.712458e-05 & 0.03758204\\\\\n",
       "\t relative\\_humidity & 63 &  3.315454e-04 & 1.712458e-05 & 0.03758204\\\\\n",
       "\t dry\\_bulb\\_temp\\_f   & 63 & -1.803695e-05 & 1.712458e-05 & 0.03758204\\\\\n",
       "\t wind\\_speed        & 63 &  5.932935e-04 & 1.712458e-05 & 0.03758204\\\\\n",
       "\t station\\_pressure  & 63 & -7.255577e-04 & 1.712458e-05 & 0.03758204\\\\\n",
       "\\end{tabular}\n"
      ],
      "text/markdown": [
       "\n",
       "A tibble: 266 × 5\n",
       "\n",
       "| term &lt;chr&gt; | step &lt;dbl&gt; | estimate &lt;dbl&gt; | lambda &lt;dbl&gt; | dev.ratio &lt;dbl&gt; |\n",
       "|---|---|---|---|---|\n",
       "| (Intercept)       |  1 |  4.696639e-03 | 0.005478611 | 0.000000000 |\n",
       "| (Intercept)       |  2 |  3.294427e-03 | 0.004991907 | 0.003925226 |\n",
       "| relative_humidity |  2 |  2.153281e-05 | 0.004991907 | 0.003925226 |\n",
       "| (Intercept)       |  3 |  2.016783e-03 | 0.004548439 | 0.007184018 |\n",
       "| relative_humidity |  3 |  4.115270e-05 | 0.004548439 | 0.007184018 |\n",
       "| (Intercept)       |  4 |  8.526414e-04 | 0.004144369 | 0.009889524 |\n",
       "| relative_humidity |  4 |  5.902961e-05 | 0.004144369 | 0.009889524 |\n",
       "| (Intercept)       |  5 | -2.080809e-04 | 0.003776194 | 0.012135683 |\n",
       "| relative_humidity |  5 |  7.531839e-05 | 0.003776194 | 0.012135683 |\n",
       "| (Intercept)       |  6 | -1.174572e-03 | 0.003440728 | 0.014000484 |\n",
       "| relative_humidity |  6 |  9.016012e-05 | 0.003440728 | 0.014000484 |\n",
       "| (Intercept)       |  7 | -2.055202e-03 | 0.003135063 | 0.015548674 |\n",
       "| relative_humidity |  7 |  1.036834e-04 | 0.003135063 | 0.015548674 |\n",
       "| (Intercept)       |  8 | -2.857599e-03 | 0.002856553 | 0.016834008 |\n",
       "| relative_humidity |  8 |  1.160052e-04 | 0.002856553 | 0.016834008 |\n",
       "| (Intercept)       |  9 | -3.688506e-03 | 0.002602784 | 0.018130507 |\n",
       "| relative_humidity |  9 |  1.273918e-04 | 0.002602784 | 0.018130507 |\n",
       "| wind_speed        |  9 |  8.184838e-06 | 0.002602784 | 0.018130507 |\n",
       "| (Intercept)       | 10 | -4.821141e-03 | 0.002371560 | 0.020031434 |\n",
       "| relative_humidity | 10 |  1.383668e-04 | 0.002371560 | 0.020031434 |\n",
       "| wind_speed        | 10 |  4.644413e-05 | 0.002371560 | 0.020031434 |\n",
       "| (Intercept)       | 11 | -5.853156e-03 | 0.002160877 | 0.021609617 |\n",
       "| relative_humidity | 11 |  1.483668e-04 | 0.002160877 | 0.021609617 |\n",
       "| wind_speed        | 11 |  8.130457e-05 | 0.002160877 | 0.021609617 |\n",
       "| (Intercept)       | 12 | -6.793489e-03 | 0.001968911 | 0.022919852 |\n",
       "| relative_humidity | 12 |  1.574784e-04 | 0.001968911 | 0.022919852 |\n",
       "| wind_speed        | 12 |  1.130681e-04 | 0.001968911 | 0.022919852 |\n",
       "| (Intercept)       | 13 | -7.650286e-03 | 0.001793998 | 0.024007632 |\n",
       "| relative_humidity | 13 |  1.657806e-04 | 0.001793998 | 0.024007632 |\n",
       "| wind_speed        | 13 |  1.420098e-04 | 0.001793998 | 0.024007632 |\n",
       "| ⋮ | ⋮ | ⋮ | ⋮ | ⋮ |\n",
       "| (Intercept)       | 58 | -1.320255e-03 | 2.726718e-05 | 0.03757963 |\n",
       "| relative_humidity | 58 |  3.304984e-04 | 2.726718e-05 | 0.03757963 |\n",
       "| dry_bulb_temp_f   | 58 | -1.766663e-05 | 2.726718e-05 | 0.03757963 |\n",
       "| wind_speed        | 58 |  5.906410e-04 | 2.726718e-05 | 0.03757963 |\n",
       "| station_pressure  | 58 | -7.212177e-04 | 2.726718e-05 | 0.03757963 |\n",
       "| (Intercept)       | 59 | -1.308486e-03 | 2.484484e-05 | 0.03758030 |\n",
       "| relative_humidity | 59 |  3.307485e-04 | 2.484484e-05 | 0.03758030 |\n",
       "| dry_bulb_temp_f   | 59 | -1.775507e-05 | 2.484484e-05 | 0.03758030 |\n",
       "| wind_speed        | 59 |  5.912745e-04 | 2.484484e-05 | 0.03758030 |\n",
       "| station_pressure  | 59 | -7.222542e-04 | 2.484484e-05 | 0.03758030 |\n",
       "| (Intercept)       | 60 | -1.297764e-03 | 2.263769e-05 | 0.03758086 |\n",
       "| relative_humidity | 60 |  3.309763e-04 | 2.263769e-05 | 0.03758086 |\n",
       "| dry_bulb_temp_f   | 60 | -1.783566e-05 | 2.263769e-05 | 0.03758086 |\n",
       "| wind_speed        | 60 |  5.918517e-04 | 2.263769e-05 | 0.03758086 |\n",
       "| station_pressure  | 60 | -7.231986e-04 | 2.263769e-05 | 0.03758086 |\n",
       "| (Intercept)       | 61 | -1.287994e-03 | 2.062662e-05 | 0.03758133 |\n",
       "| relative_humidity | 61 |  3.311839e-04 | 2.062662e-05 | 0.03758133 |\n",
       "| dry_bulb_temp_f   | 61 | -1.790908e-05 | 2.062662e-05 | 0.03758133 |\n",
       "| wind_speed        | 61 |  5.923776e-04 | 2.062662e-05 | 0.03758133 |\n",
       "| station_pressure  | 61 | -7.240591e-04 | 2.062662e-05 | 0.03758133 |\n",
       "| (Intercept)       | 62 | -1.279091e-03 | 1.879421e-05 | 0.03758171 |\n",
       "| relative_humidity | 62 |  3.313730e-04 | 1.879421e-05 | 0.03758171 |\n",
       "| dry_bulb_temp_f   | 62 | -1.797599e-05 | 1.879421e-05 | 0.03758171 |\n",
       "| wind_speed        | 62 |  5.928568e-04 | 1.879421e-05 | 0.03758171 |\n",
       "| station_pressure  | 62 | -7.248432e-04 | 1.879421e-05 | 0.03758171 |\n",
       "| (Intercept)       | 63 | -1.270980e-03 | 1.712458e-05 | 0.03758204 |\n",
       "| relative_humidity | 63 |  3.315454e-04 | 1.712458e-05 | 0.03758204 |\n",
       "| dry_bulb_temp_f   | 63 | -1.803695e-05 | 1.712458e-05 | 0.03758204 |\n",
       "| wind_speed        | 63 |  5.932935e-04 | 1.712458e-05 | 0.03758204 |\n",
       "| station_pressure  | 63 | -7.255577e-04 | 1.712458e-05 | 0.03758204 |\n",
       "\n"
      ],
      "text/plain": [
       "    term              step estimate      lambda       dev.ratio  \n",
       "1   (Intercept)        1    4.696639e-03 0.005478611  0.000000000\n",
       "2   (Intercept)        2    3.294427e-03 0.004991907  0.003925226\n",
       "3   relative_humidity  2    2.153281e-05 0.004991907  0.003925226\n",
       "4   (Intercept)        3    2.016783e-03 0.004548439  0.007184018\n",
       "5   relative_humidity  3    4.115270e-05 0.004548439  0.007184018\n",
       "6   (Intercept)        4    8.526414e-04 0.004144369  0.009889524\n",
       "7   relative_humidity  4    5.902961e-05 0.004144369  0.009889524\n",
       "8   (Intercept)        5   -2.080809e-04 0.003776194  0.012135683\n",
       "9   relative_humidity  5    7.531839e-05 0.003776194  0.012135683\n",
       "10  (Intercept)        6   -1.174572e-03 0.003440728  0.014000484\n",
       "11  relative_humidity  6    9.016012e-05 0.003440728  0.014000484\n",
       "12  (Intercept)        7   -2.055202e-03 0.003135063  0.015548674\n",
       "13  relative_humidity  7    1.036834e-04 0.003135063  0.015548674\n",
       "14  (Intercept)        8   -2.857599e-03 0.002856553  0.016834008\n",
       "15  relative_humidity  8    1.160052e-04 0.002856553  0.016834008\n",
       "16  (Intercept)        9   -3.688506e-03 0.002602784  0.018130507\n",
       "17  relative_humidity  9    1.273918e-04 0.002602784  0.018130507\n",
       "18  wind_speed         9    8.184838e-06 0.002602784  0.018130507\n",
       "19  (Intercept)       10   -4.821141e-03 0.002371560  0.020031434\n",
       "20  relative_humidity 10    1.383668e-04 0.002371560  0.020031434\n",
       "21  wind_speed        10    4.644413e-05 0.002371560  0.020031434\n",
       "22  (Intercept)       11   -5.853156e-03 0.002160877  0.021609617\n",
       "23  relative_humidity 11    1.483668e-04 0.002160877  0.021609617\n",
       "24  wind_speed        11    8.130457e-05 0.002160877  0.021609617\n",
       "25  (Intercept)       12   -6.793489e-03 0.001968911  0.022919852\n",
       "26  relative_humidity 12    1.574784e-04 0.001968911  0.022919852\n",
       "27  wind_speed        12    1.130681e-04 0.001968911  0.022919852\n",
       "28  (Intercept)       13   -7.650286e-03 0.001793998  0.024007632\n",
       "29  relative_humidity 13    1.657806e-04 0.001793998  0.024007632\n",
       "30  wind_speed        13    1.420098e-04 0.001793998  0.024007632\n",
       "⋮   ⋮                 ⋮    ⋮             ⋮            ⋮          \n",
       "237 (Intercept)       58   -1.320255e-03 2.726718e-05 0.03757963 \n",
       "238 relative_humidity 58    3.304984e-04 2.726718e-05 0.03757963 \n",
       "239 dry_bulb_temp_f   58   -1.766663e-05 2.726718e-05 0.03757963 \n",
       "240 wind_speed        58    5.906410e-04 2.726718e-05 0.03757963 \n",
       "241 station_pressure  58   -7.212177e-04 2.726718e-05 0.03757963 \n",
       "242 (Intercept)       59   -1.308486e-03 2.484484e-05 0.03758030 \n",
       "243 relative_humidity 59    3.307485e-04 2.484484e-05 0.03758030 \n",
       "244 dry_bulb_temp_f   59   -1.775507e-05 2.484484e-05 0.03758030 \n",
       "245 wind_speed        59    5.912745e-04 2.484484e-05 0.03758030 \n",
       "246 station_pressure  59   -7.222542e-04 2.484484e-05 0.03758030 \n",
       "247 (Intercept)       60   -1.297764e-03 2.263769e-05 0.03758086 \n",
       "248 relative_humidity 60    3.309763e-04 2.263769e-05 0.03758086 \n",
       "249 dry_bulb_temp_f   60   -1.783566e-05 2.263769e-05 0.03758086 \n",
       "250 wind_speed        60    5.918517e-04 2.263769e-05 0.03758086 \n",
       "251 station_pressure  60   -7.231986e-04 2.263769e-05 0.03758086 \n",
       "252 (Intercept)       61   -1.287994e-03 2.062662e-05 0.03758133 \n",
       "253 relative_humidity 61    3.311839e-04 2.062662e-05 0.03758133 \n",
       "254 dry_bulb_temp_f   61   -1.790908e-05 2.062662e-05 0.03758133 \n",
       "255 wind_speed        61    5.923776e-04 2.062662e-05 0.03758133 \n",
       "256 station_pressure  61   -7.240591e-04 2.062662e-05 0.03758133 \n",
       "257 (Intercept)       62   -1.279091e-03 1.879421e-05 0.03758171 \n",
       "258 relative_humidity 62    3.313730e-04 1.879421e-05 0.03758171 \n",
       "259 dry_bulb_temp_f   62   -1.797599e-05 1.879421e-05 0.03758171 \n",
       "260 wind_speed        62    5.928568e-04 1.879421e-05 0.03758171 \n",
       "261 station_pressure  62   -7.248432e-04 1.879421e-05 0.03758171 \n",
       "262 (Intercept)       63   -1.270980e-03 1.712458e-05 0.03758204 \n",
       "263 relative_humidity 63    3.315454e-04 1.712458e-05 0.03758204 \n",
       "264 dry_bulb_temp_f   63   -1.803695e-05 1.712458e-05 0.03758204 \n",
       "265 wind_speed        63    5.932935e-04 1.712458e-05 0.03758204 \n",
       "266 station_pressure  63   -7.255577e-04 1.712458e-05 0.03758204 "
      ]
     },
     "metadata": {},
     "output_type": "display_data"
    }
   ],
   "source": [
    "weather_recipe <- \n",
    "    recipe(precip ~ ., data = weather_train)\n",
    "\n",
    "lasso_spec <- linear_reg(penalty = 0.1, mixture = 1) %>%\n",
    "    set_engine(\"glmnet\")\n",
    "\n",
    "lasso_wf <- workflow() %>%\n",
    "    add_recipe(weather_recipe)\n",
    "\n",
    "lasso_fit <- lasso_wf %>%\n",
    "    add_model(lasso_spec) %>%\n",
    "    fit(data = weather_train)\n",
    "\n",
    "lasso_fit %>% \n",
    "    pull_workflow_fit() %>%\n",
    "tidy()\n",
    "\n",
    "lasso_model <- lasso_fit %>% \n",
    "    pull_workflow_fit() %>%\n",
    "tidy()"
   ]
  },
  {
   "cell_type": "code",
   "execution_count": 36,
   "metadata": {
    "tags": []
   },
   "outputs": [
    {
     "name": "stderr",
     "output_type": "stream",
     "text": [
      "! Fold1: internal: A correlation computation is required, but `estimate` is const...\n",
      "! Fold2: internal: A correlation computation is required, but `estimate` is const...\n",
      "! Fold3: internal: A correlation computation is required, but `estimate` is const...\n",
      "! Fold4: internal: A correlation computation is required, but `estimate` is const...\n",
      "! Fold5: internal: A correlation computation is required, but `estimate` is const...\n"
     ]
    },
    {
     "name": "stdout",
     "output_type": "stream",
     "text": [
      "# A tibble: 5 x 6\n",
      "  penalty .metric .estimator   mean     n std_err\n",
      "    <dbl> <chr>   <chr>       <dbl> <int>   <dbl>\n",
      "1 0.00117 rmse    standard   0.0270     5 0.00826\n",
      "2 0.00136 rmse    standard   0.0270     5 0.00828\n",
      "3 0.00159 rmse    standard   0.0270     5 0.00830\n",
      "4 0.001   rmse    standard   0.0270     5 0.00823\n",
      "5 0.00186 rmse    standard   0.0270     5 0.00832\n",
      "# A tibble: 5 x 6\n",
      "  penalty .metric .estimator   mean     n std_err\n",
      "    <dbl> <chr>   <chr>       <dbl> <int>   <dbl>\n",
      "1 0.001   rsq     standard   0.0456     5 0.0138 \n",
      "2 0.00117 rsq     standard   0.0437     5 0.0123 \n",
      "3 0.00136 rsq     standard   0.0414     5 0.0103 \n",
      "4 0.00159 rsq     standard   0.0398     5 0.00902\n",
      "5 0.00404 rsq     standard   0.0384     3 0.00630\n"
     ]
    }
   ],
   "source": [
    "tune_spec <- linear_reg(penalty = tune(), mixture = 1) %>% \n",
    "  set_engine(\"glmnet\")\n",
    "\n",
    "lasso_wf <- workflow() %>%\n",
    "  add_recipe(weather_recipe) %>%\n",
    "  add_model(tune_spec) \n",
    "\n",
    "weather_cvfolds <- vfold_cv(weather_train, v = 5)\n",
    "\n",
    "lambda_grid <- grid_regular(penalty(range = c(-3, 0.3)), levels = 50)\n",
    "\n",
    "lasso_grid <- tune_grid(\n",
    "  lasso_wf,\n",
    "  resamples = weather_cvfolds,\n",
    "  grid = lambda_grid,\n",
    "  metrics = metric_set(rmse, rsq))\n",
    "\n",
    "best_rmse_train <- show_best(lasso_grid, metric = \"rmse\")\n",
    "best_rsq_train <- show_best(lasso_grid, metric = \"rsq\")\n",
    "print(best_rmse)\n",
    "print(best_rsq)"
   ]
  },
  {
   "cell_type": "markdown",
   "metadata": {},
   "source": [
    "<a id=\"cell10\"></a>\n",
    "## 10. Find Best Model\n",
    "Compare the regression metrics of each model from section 9 to find the best model overall. To do this, \n",
    "\n",
    "1. Evaluate the models on the **testing set** using at least one metric (like MSE, RMSE or R-squared).\n",
    "2. After calculating the metrics on the testing set for each model, print them out in as a table to easily compare. You can use something like:\n",
    "```\n",
    "model_names <- c(\"model_1\", \"model_2\", \"model_3\")\n",
    "train_error <- c(\"model_1_value\", \"model_2_value\", \"model_3_value\")\n",
    "test_error <- c(\"model_1_value\", \"model_2_value\", \"model_3_value\")\n",
    "comparison_df <- data.frame(model_names, train_error, test_error)\n",
    "```\n",
    "3. Finally, from the comparison table you create, conclude which model performed the best.\n"
   ]
  },
  {
   "cell_type": "code",
   "execution_count": 42,
   "metadata": {
    "tags": []
   },
   "outputs": [
    {
     "data": {
      "text/plain": [
       "\n",
       "Call:\n",
       "lm(formula = precip ~ relative_humidity + dry_bulb_temp_f + wind_speed + \n",
       "    station_pressure, data = weather_test)\n",
       "\n",
       "Residuals:\n",
       "     Min       1Q   Median       3Q      Max \n",
       "-0.03414 -0.00790 -0.00356  0.00098  0.56678 \n",
       "\n",
       "Coefficients:\n",
       "                    Estimate Std. Error t value Pr(>|t|)    \n",
       "(Intercept)       -9.808e-04  6.278e-03  -0.156  0.87589    \n",
       "relative_humidity  2.587e-04  4.773e-05   5.420 7.28e-08 ***\n",
       "dry_bulb_temp_f    1.060e-04  5.493e-05   1.929  0.05398 .  \n",
       "wind_speed         6.408e-04  1.563e-04   4.101 4.40e-05 ***\n",
       "station_pressure  -8.184e-04  2.558e-04  -3.199  0.00142 ** \n",
       "---\n",
       "Signif. codes:  0 ‘***’ 0.001 ‘**’ 0.01 ‘*’ 0.05 ‘.’ 0.1 ‘ ’ 1\n",
       "\n",
       "Residual standard error: 0.03138 on 1140 degrees of freedom\n",
       "Multiple R-squared:  0.03841,\tAdjusted R-squared:  0.03504 \n",
       "F-statistic: 11.38 on 4 and 1140 DF,  p-value: 4.607e-09\n"
      ]
     },
     "metadata": {},
     "output_type": "display_data"
    },
    {
     "data": {
      "text/html": [
       "0.00124948792575451"
      ],
      "text/latex": [
       "0.00124948792575451"
      ],
      "text/markdown": [
       "0.00124948792575451"
      ],
      "text/plain": [
       "[1] 0.001249488"
      ]
     },
     "metadata": {},
     "output_type": "display_data"
    },
    {
     "data": {
      "text/html": [
       "0.0353480964940761"
      ],
      "text/latex": [
       "0.0353480964940761"
      ],
      "text/markdown": [
       "0.0353480964940761"
      ],
      "text/plain": [
       "[1] 0.0353481"
      ]
     },
     "metadata": {},
     "output_type": "display_data"
    },
    {
     "data": {
      "text/html": [
       "0.0384121557245926"
      ],
      "text/latex": [
       "0.0384121557245926"
      ],
      "text/markdown": [
       "0.0384121557245926"
      ],
      "text/plain": [
       "[1] 0.03841216"
      ]
     },
     "metadata": {},
     "output_type": "display_data"
    }
   ],
   "source": [
    "#Evaluate mlr testing set\n",
    "mlr_test <- lm(precip ~ relative_humidity + dry_bulb_temp_f + wind_speed + station_pressure, data = weather_test)\n",
    "summary(mlr_test)\n",
    "\n",
    "mse_mlr_test <- mean(mlr$residuals^2)\n",
    "mse_mlr_test\n",
    "\n",
    "rmse_mlr_test <- sqrt(mse_mlr)\n",
    "rmse_mlr_test\n",
    "\n",
    "summary(mlr_test)$r.squared"
   ]
  },
  {
   "cell_type": "code",
   "execution_count": 43,
   "metadata": {
    "tags": []
   },
   "outputs": [
    {
     "data": {
      "text/plain": [
       "\n",
       "Call:\n",
       "lm(formula = precip ~ poly(relative_humidity, 3), data = weather_test)\n",
       "\n",
       "Residuals:\n",
       "     Min       1Q   Median       3Q      Max \n",
       "-0.01660 -0.00740 -0.00218  0.00057  0.57010 \n",
       "\n",
       "Coefficients:\n",
       "                             Estimate Std. Error t value Pr(>|t|)    \n",
       "(Intercept)                 0.0044629  0.0009332   4.782 1.96e-06 ***\n",
       "poly(relative_humidity, 3)1 0.1518551  0.0315790   4.809 1.72e-06 ***\n",
       "poly(relative_humidity, 3)2 0.0796063  0.0315790   2.521   0.0118 *  \n",
       "poly(relative_humidity, 3)3 0.0073423  0.0315790   0.233   0.8162    \n",
       "---\n",
       "Signif. codes:  0 ‘***’ 0.001 ‘**’ 0.01 ‘*’ 0.05 ‘.’ 0.1 ‘ ’ 1\n",
       "\n",
       "Residual standard error: 0.03158 on 1141 degrees of freedom\n",
       "Multiple R-squared:  0.02523,\tAdjusted R-squared:  0.02267 \n",
       "F-statistic: 9.844 on 3 and 1141 DF,  p-value: 2.063e-06\n"
      ]
     },
     "metadata": {},
     "output_type": "display_data"
    },
    {
     "data": {
      "text/html": [
       "0.00123982867587584"
      ],
      "text/latex": [
       "0.00123982867587584"
      ],
      "text/markdown": [
       "0.00123982867587584"
      ],
      "text/plain": [
       "[1] 0.001239829"
      ]
     },
     "metadata": {},
     "output_type": "display_data"
    },
    {
     "data": {
      "text/html": [
       "0.0352112010001908"
      ],
      "text/latex": [
       "0.0352112010001908"
      ],
      "text/markdown": [
       "0.0352112010001908"
      ],
      "text/plain": [
       "[1] 0.0352112"
      ]
     },
     "metadata": {},
     "output_type": "display_data"
    },
    {
     "data": {
      "text/html": [
       "0.025230167331236"
      ],
      "text/latex": [
       "0.025230167331236"
      ],
      "text/markdown": [
       "0.025230167331236"
      ],
      "text/plain": [
       "[1] 0.02523017"
      ]
     },
     "metadata": {},
     "output_type": "display_data"
    }
   ],
   "source": [
    "#poly reg testing set\n",
    "poly_reg_test <- lm(precip ~ poly(relative_humidity, 3), data = weather_test)\n",
    "summary(poly_reg_test)\n",
    "\n",
    "mse_poly_test <- mean(poly_reg$residuals^2)\n",
    "mse_poly_test\n",
    "\n",
    "rmse_poly_test <- sqrt(mse_poly)\n",
    "rmse_poly_test\n",
    "\n",
    "summary(poly_reg_test)$r.squared"
   ]
  },
  {
   "cell_type": "code",
   "execution_count": 35,
   "metadata": {
    "tags": []
   },
   "outputs": [
    {
     "data": {
      "text/html": [
       "<table>\n",
       "<caption>A tibble: 280 × 5</caption>\n",
       "<thead>\n",
       "\t<tr><th scope=col>term</th><th scope=col>step</th><th scope=col>estimate</th><th scope=col>lambda</th><th scope=col>dev.ratio</th></tr>\n",
       "\t<tr><th scope=col>&lt;chr&gt;</th><th scope=col>&lt;dbl&gt;</th><th scope=col>&lt;dbl&gt;</th><th scope=col>&lt;dbl&gt;</th><th scope=col>&lt;dbl&gt;</th></tr>\n",
       "</thead>\n",
       "<tbody>\n",
       "\t<tr><td>(Intercept)      </td><td> 1</td><td> 4.462882e-03</td><td>0.004487729</td><td>0.000000000</td></tr>\n",
       "\t<tr><td>(Intercept)      </td><td> 2</td><td> 3.281712e-03</td><td>0.004089052</td><td>0.003354061</td></tr>\n",
       "\t<tr><td>relative_humidity</td><td> 2</td><td> 1.812923e-05</td><td>0.004089052</td><td>0.003354061</td></tr>\n",
       "\t<tr><td>(Intercept)      </td><td> 3</td><td> 2.205473e-03</td><td>0.003725792</td><td>0.006138662</td></tr>\n",
       "\t<tr><td>relative_humidity</td><td> 3</td><td> 3.464790e-05</td><td>0.003725792</td><td>0.006138662</td></tr>\n",
       "\t<tr><td>(Intercept)      </td><td> 4</td><td> 1.224845e-03</td><td>0.003394803</td><td>0.008450486</td></tr>\n",
       "\t<tr><td>relative_humidity</td><td> 4</td><td> 4.969910e-05</td><td>0.003394803</td><td>0.008450486</td></tr>\n",
       "\t<tr><td>(Intercept)      </td><td> 5</td><td> 3.313324e-04</td><td>0.003093218</td><td>0.010369804</td></tr>\n",
       "\t<tr><td>relative_humidity</td><td> 5</td><td> 6.341320e-05</td><td>0.003093218</td><td>0.010369804</td></tr>\n",
       "\t<tr><td>(Intercept)      </td><td> 6</td><td>-4.828026e-04</td><td>0.002818425</td><td>0.011963255</td></tr>\n",
       "\t<tr><td>relative_humidity</td><td> 6</td><td> 7.590897e-05</td><td>0.002818425</td><td>0.011963255</td></tr>\n",
       "\t<tr><td>(Intercept)      </td><td> 7</td><td>-1.740486e-03</td><td>0.002568044</td><td>0.014779108</td></tr>\n",
       "\t<tr><td>relative_humidity</td><td> 7</td><td> 8.838986e-05</td><td>0.002568044</td><td>0.014779108</td></tr>\n",
       "\t<tr><td>wind_speed       </td><td> 7</td><td> 4.142035e-05</td><td>0.002568044</td><td>0.014779108</td></tr>\n",
       "\t<tr><td>(Intercept)      </td><td> 8</td><td>-2.916797e-03</td><td>0.002339906</td><td>0.017200657</td></tr>\n",
       "\t<tr><td>relative_humidity</td><td> 8</td><td> 9.982643e-05</td><td>0.002339906</td><td>0.017200657</td></tr>\n",
       "\t<tr><td>wind_speed       </td><td> 8</td><td> 8.159837e-05</td><td>0.002339906</td><td>0.017200657</td></tr>\n",
       "\t<tr><td>(Intercept)      </td><td> 9</td><td>-3.988607e-03</td><td>0.002132035</td><td>0.019211069</td></tr>\n",
       "\t<tr><td>relative_humidity</td><td> 9</td><td> 1.102470e-04</td><td>0.002132035</td><td>0.019211069</td></tr>\n",
       "\t<tr><td>wind_speed       </td><td> 9</td><td> 1.182071e-04</td><td>0.002132035</td><td>0.019211069</td></tr>\n",
       "\t<tr><td>(Intercept)      </td><td>10</td><td>-4.965201e-03</td><td>0.001942631</td><td>0.020880149</td></tr>\n",
       "\t<tr><td>relative_humidity</td><td>10</td><td> 1.197418e-04</td><td>0.001942631</td><td>0.020880149</td></tr>\n",
       "\t<tr><td>wind_speed       </td><td>10</td><td> 1.515636e-04</td><td>0.001942631</td><td>0.020880149</td></tr>\n",
       "\t<tr><td>(Intercept)      </td><td>11</td><td>-5.855037e-03</td><td>0.001770053</td><td>0.022265848</td></tr>\n",
       "\t<tr><td>relative_humidity</td><td>11</td><td> 1.283932e-04</td><td>0.001770053</td><td>0.022265848</td></tr>\n",
       "\t<tr><td>wind_speed       </td><td>11</td><td> 1.819568e-04</td><td>0.001770053</td><td>0.022265848</td></tr>\n",
       "\t<tr><td>(Intercept)      </td><td>12</td><td>-6.665822e-03</td><td>0.001612806</td><td>0.023416280</td></tr>\n",
       "\t<tr><td>relative_humidity</td><td>12</td><td> 1.362760e-04</td><td>0.001612806</td><td>0.023416280</td></tr>\n",
       "\t<tr><td>wind_speed       </td><td>12</td><td> 2.096500e-04</td><td>0.001612806</td><td>0.023416280</td></tr>\n",
       "\t<tr><td>(Intercept)      </td><td>13</td><td>-7.404579e-03</td><td>0.001469529</td><td>0.024371389</td></tr>\n",
       "\t<tr><td>⋮</td><td>⋮</td><td>⋮</td><td>⋮</td><td>⋮</td></tr>\n",
       "\t<tr><td>(Intercept)      </td><td>58</td><td>-0.0011069975</td><td>2.233553e-05</td><td>0.03840817</td></tr>\n",
       "\t<tr><td>relative_humidity</td><td>58</td><td> 0.0002568166</td><td>2.233553e-05</td><td>0.03840817</td></tr>\n",
       "\t<tr><td>dry_bulb_temp_f  </td><td>58</td><td> 0.0001040715</td><td>2.233553e-05</td><td>0.03840817</td></tr>\n",
       "\t<tr><td>wind_speed       </td><td>58</td><td> 0.0006342881</td><td>2.233553e-05</td><td>0.03840817</td></tr>\n",
       "\t<tr><td>station_pressure </td><td>58</td><td>-0.0008040589</td><td>2.233553e-05</td><td>0.03840817</td></tr>\n",
       "\t<tr><td>(Intercept)      </td><td>59</td><td>-0.0010957823</td><td>2.035131e-05</td><td>0.03840884</td></tr>\n",
       "\t<tr><td>relative_humidity</td><td>59</td><td> 0.0002569806</td><td>2.035131e-05</td><td>0.03840884</td></tr>\n",
       "\t<tr><td>dry_bulb_temp_f  </td><td>59</td><td> 0.0001042396</td><td>2.035131e-05</td><td>0.03840884</td></tr>\n",
       "\t<tr><td>wind_speed       </td><td>59</td><td> 0.0006348707</td><td>2.035131e-05</td><td>0.03840884</td></tr>\n",
       "\t<tr><td>station_pressure </td><td>59</td><td>-0.0008053282</td><td>2.035131e-05</td><td>0.03840884</td></tr>\n",
       "\t<tr><td>(Intercept)      </td><td>60</td><td>-0.0010855635</td><td>1.854335e-05</td><td>0.03840941</td></tr>\n",
       "\t<tr><td>relative_humidity</td><td>60</td><td> 0.0002571301</td><td>1.854335e-05</td><td>0.03840941</td></tr>\n",
       "\t<tr><td>dry_bulb_temp_f  </td><td>60</td><td> 0.0001043929</td><td>1.854335e-05</td><td>0.03840941</td></tr>\n",
       "\t<tr><td>wind_speed       </td><td>60</td><td> 0.0006354015</td><td>1.854335e-05</td><td>0.03840941</td></tr>\n",
       "\t<tr><td>station_pressure </td><td>60</td><td>-0.0008064848</td><td>1.854335e-05</td><td>0.03840941</td></tr>\n",
       "\t<tr><td>(Intercept)      </td><td>61</td><td>-0.0010762525</td><td>1.689601e-05</td><td>0.03840987</td></tr>\n",
       "\t<tr><td>relative_humidity</td><td>61</td><td> 0.0002572664</td><td>1.689601e-05</td><td>0.03840987</td></tr>\n",
       "\t<tr><td>dry_bulb_temp_f  </td><td>61</td><td> 0.0001045325</td><td>1.689601e-05</td><td>0.03840987</td></tr>\n",
       "\t<tr><td>wind_speed       </td><td>61</td><td> 0.0006358852</td><td>1.689601e-05</td><td>0.03840987</td></tr>\n",
       "\t<tr><td>station_pressure </td><td>61</td><td>-0.0008075386</td><td>1.689601e-05</td><td>0.03840987</td></tr>\n",
       "\t<tr><td>(Intercept)      </td><td>62</td><td>-0.0010677687</td><td>1.539502e-05</td><td>0.03841026</td></tr>\n",
       "\t<tr><td>relative_humidity</td><td>62</td><td> 0.0002573905</td><td>1.539502e-05</td><td>0.03841026</td></tr>\n",
       "\t<tr><td>dry_bulb_temp_f  </td><td>62</td><td> 0.0001046597</td><td>1.539502e-05</td><td>0.03841026</td></tr>\n",
       "\t<tr><td>wind_speed       </td><td>62</td><td> 0.0006363259</td><td>1.539502e-05</td><td>0.03841026</td></tr>\n",
       "\t<tr><td>station_pressure </td><td>62</td><td>-0.0008084988</td><td>1.539502e-05</td><td>0.03841026</td></tr>\n",
       "\t<tr><td>(Intercept)      </td><td>63</td><td>-0.0010600385</td><td>1.402737e-05</td><td>0.03841058</td></tr>\n",
       "\t<tr><td>relative_humidity</td><td>63</td><td> 0.0002575035</td><td>1.402737e-05</td><td>0.03841058</td></tr>\n",
       "\t<tr><td>dry_bulb_temp_f  </td><td>63</td><td> 0.0001047757</td><td>1.402737e-05</td><td>0.03841058</td></tr>\n",
       "\t<tr><td>wind_speed       </td><td>63</td><td> 0.0006367275</td><td>1.402737e-05</td><td>0.03841058</td></tr>\n",
       "\t<tr><td>station_pressure </td><td>63</td><td>-0.0008093736</td><td>1.402737e-05</td><td>0.03841058</td></tr>\n",
       "</tbody>\n",
       "</table>\n"
      ],
      "text/latex": [
       "A tibble: 280 × 5\n",
       "\\begin{tabular}{lllll}\n",
       " term & step & estimate & lambda & dev.ratio\\\\\n",
       " <chr> & <dbl> & <dbl> & <dbl> & <dbl>\\\\\n",
       "\\hline\n",
       "\t (Intercept)       &  1 &  4.462882e-03 & 0.004487729 & 0.000000000\\\\\n",
       "\t (Intercept)       &  2 &  3.281712e-03 & 0.004089052 & 0.003354061\\\\\n",
       "\t relative\\_humidity &  2 &  1.812923e-05 & 0.004089052 & 0.003354061\\\\\n",
       "\t (Intercept)       &  3 &  2.205473e-03 & 0.003725792 & 0.006138662\\\\\n",
       "\t relative\\_humidity &  3 &  3.464790e-05 & 0.003725792 & 0.006138662\\\\\n",
       "\t (Intercept)       &  4 &  1.224845e-03 & 0.003394803 & 0.008450486\\\\\n",
       "\t relative\\_humidity &  4 &  4.969910e-05 & 0.003394803 & 0.008450486\\\\\n",
       "\t (Intercept)       &  5 &  3.313324e-04 & 0.003093218 & 0.010369804\\\\\n",
       "\t relative\\_humidity &  5 &  6.341320e-05 & 0.003093218 & 0.010369804\\\\\n",
       "\t (Intercept)       &  6 & -4.828026e-04 & 0.002818425 & 0.011963255\\\\\n",
       "\t relative\\_humidity &  6 &  7.590897e-05 & 0.002818425 & 0.011963255\\\\\n",
       "\t (Intercept)       &  7 & -1.740486e-03 & 0.002568044 & 0.014779108\\\\\n",
       "\t relative\\_humidity &  7 &  8.838986e-05 & 0.002568044 & 0.014779108\\\\\n",
       "\t wind\\_speed        &  7 &  4.142035e-05 & 0.002568044 & 0.014779108\\\\\n",
       "\t (Intercept)       &  8 & -2.916797e-03 & 0.002339906 & 0.017200657\\\\\n",
       "\t relative\\_humidity &  8 &  9.982643e-05 & 0.002339906 & 0.017200657\\\\\n",
       "\t wind\\_speed        &  8 &  8.159837e-05 & 0.002339906 & 0.017200657\\\\\n",
       "\t (Intercept)       &  9 & -3.988607e-03 & 0.002132035 & 0.019211069\\\\\n",
       "\t relative\\_humidity &  9 &  1.102470e-04 & 0.002132035 & 0.019211069\\\\\n",
       "\t wind\\_speed        &  9 &  1.182071e-04 & 0.002132035 & 0.019211069\\\\\n",
       "\t (Intercept)       & 10 & -4.965201e-03 & 0.001942631 & 0.020880149\\\\\n",
       "\t relative\\_humidity & 10 &  1.197418e-04 & 0.001942631 & 0.020880149\\\\\n",
       "\t wind\\_speed        & 10 &  1.515636e-04 & 0.001942631 & 0.020880149\\\\\n",
       "\t (Intercept)       & 11 & -5.855037e-03 & 0.001770053 & 0.022265848\\\\\n",
       "\t relative\\_humidity & 11 &  1.283932e-04 & 0.001770053 & 0.022265848\\\\\n",
       "\t wind\\_speed        & 11 &  1.819568e-04 & 0.001770053 & 0.022265848\\\\\n",
       "\t (Intercept)       & 12 & -6.665822e-03 & 0.001612806 & 0.023416280\\\\\n",
       "\t relative\\_humidity & 12 &  1.362760e-04 & 0.001612806 & 0.023416280\\\\\n",
       "\t wind\\_speed        & 12 &  2.096500e-04 & 0.001612806 & 0.023416280\\\\\n",
       "\t (Intercept)       & 13 & -7.404579e-03 & 0.001469529 & 0.024371389\\\\\n",
       "\t ⋮ & ⋮ & ⋮ & ⋮ & ⋮\\\\\n",
       "\t (Intercept)       & 58 & -0.0011069975 & 2.233553e-05 & 0.03840817\\\\\n",
       "\t relative\\_humidity & 58 &  0.0002568166 & 2.233553e-05 & 0.03840817\\\\\n",
       "\t dry\\_bulb\\_temp\\_f   & 58 &  0.0001040715 & 2.233553e-05 & 0.03840817\\\\\n",
       "\t wind\\_speed        & 58 &  0.0006342881 & 2.233553e-05 & 0.03840817\\\\\n",
       "\t station\\_pressure  & 58 & -0.0008040589 & 2.233553e-05 & 0.03840817\\\\\n",
       "\t (Intercept)       & 59 & -0.0010957823 & 2.035131e-05 & 0.03840884\\\\\n",
       "\t relative\\_humidity & 59 &  0.0002569806 & 2.035131e-05 & 0.03840884\\\\\n",
       "\t dry\\_bulb\\_temp\\_f   & 59 &  0.0001042396 & 2.035131e-05 & 0.03840884\\\\\n",
       "\t wind\\_speed        & 59 &  0.0006348707 & 2.035131e-05 & 0.03840884\\\\\n",
       "\t station\\_pressure  & 59 & -0.0008053282 & 2.035131e-05 & 0.03840884\\\\\n",
       "\t (Intercept)       & 60 & -0.0010855635 & 1.854335e-05 & 0.03840941\\\\\n",
       "\t relative\\_humidity & 60 &  0.0002571301 & 1.854335e-05 & 0.03840941\\\\\n",
       "\t dry\\_bulb\\_temp\\_f   & 60 &  0.0001043929 & 1.854335e-05 & 0.03840941\\\\\n",
       "\t wind\\_speed        & 60 &  0.0006354015 & 1.854335e-05 & 0.03840941\\\\\n",
       "\t station\\_pressure  & 60 & -0.0008064848 & 1.854335e-05 & 0.03840941\\\\\n",
       "\t (Intercept)       & 61 & -0.0010762525 & 1.689601e-05 & 0.03840987\\\\\n",
       "\t relative\\_humidity & 61 &  0.0002572664 & 1.689601e-05 & 0.03840987\\\\\n",
       "\t dry\\_bulb\\_temp\\_f   & 61 &  0.0001045325 & 1.689601e-05 & 0.03840987\\\\\n",
       "\t wind\\_speed        & 61 &  0.0006358852 & 1.689601e-05 & 0.03840987\\\\\n",
       "\t station\\_pressure  & 61 & -0.0008075386 & 1.689601e-05 & 0.03840987\\\\\n",
       "\t (Intercept)       & 62 & -0.0010677687 & 1.539502e-05 & 0.03841026\\\\\n",
       "\t relative\\_humidity & 62 &  0.0002573905 & 1.539502e-05 & 0.03841026\\\\\n",
       "\t dry\\_bulb\\_temp\\_f   & 62 &  0.0001046597 & 1.539502e-05 & 0.03841026\\\\\n",
       "\t wind\\_speed        & 62 &  0.0006363259 & 1.539502e-05 & 0.03841026\\\\\n",
       "\t station\\_pressure  & 62 & -0.0008084988 & 1.539502e-05 & 0.03841026\\\\\n",
       "\t (Intercept)       & 63 & -0.0010600385 & 1.402737e-05 & 0.03841058\\\\\n",
       "\t relative\\_humidity & 63 &  0.0002575035 & 1.402737e-05 & 0.03841058\\\\\n",
       "\t dry\\_bulb\\_temp\\_f   & 63 &  0.0001047757 & 1.402737e-05 & 0.03841058\\\\\n",
       "\t wind\\_speed        & 63 &  0.0006367275 & 1.402737e-05 & 0.03841058\\\\\n",
       "\t station\\_pressure  & 63 & -0.0008093736 & 1.402737e-05 & 0.03841058\\\\\n",
       "\\end{tabular}\n"
      ],
      "text/markdown": [
       "\n",
       "A tibble: 280 × 5\n",
       "\n",
       "| term &lt;chr&gt; | step &lt;dbl&gt; | estimate &lt;dbl&gt; | lambda &lt;dbl&gt; | dev.ratio &lt;dbl&gt; |\n",
       "|---|---|---|---|---|\n",
       "| (Intercept)       |  1 |  4.462882e-03 | 0.004487729 | 0.000000000 |\n",
       "| (Intercept)       |  2 |  3.281712e-03 | 0.004089052 | 0.003354061 |\n",
       "| relative_humidity |  2 |  1.812923e-05 | 0.004089052 | 0.003354061 |\n",
       "| (Intercept)       |  3 |  2.205473e-03 | 0.003725792 | 0.006138662 |\n",
       "| relative_humidity |  3 |  3.464790e-05 | 0.003725792 | 0.006138662 |\n",
       "| (Intercept)       |  4 |  1.224845e-03 | 0.003394803 | 0.008450486 |\n",
       "| relative_humidity |  4 |  4.969910e-05 | 0.003394803 | 0.008450486 |\n",
       "| (Intercept)       |  5 |  3.313324e-04 | 0.003093218 | 0.010369804 |\n",
       "| relative_humidity |  5 |  6.341320e-05 | 0.003093218 | 0.010369804 |\n",
       "| (Intercept)       |  6 | -4.828026e-04 | 0.002818425 | 0.011963255 |\n",
       "| relative_humidity |  6 |  7.590897e-05 | 0.002818425 | 0.011963255 |\n",
       "| (Intercept)       |  7 | -1.740486e-03 | 0.002568044 | 0.014779108 |\n",
       "| relative_humidity |  7 |  8.838986e-05 | 0.002568044 | 0.014779108 |\n",
       "| wind_speed        |  7 |  4.142035e-05 | 0.002568044 | 0.014779108 |\n",
       "| (Intercept)       |  8 | -2.916797e-03 | 0.002339906 | 0.017200657 |\n",
       "| relative_humidity |  8 |  9.982643e-05 | 0.002339906 | 0.017200657 |\n",
       "| wind_speed        |  8 |  8.159837e-05 | 0.002339906 | 0.017200657 |\n",
       "| (Intercept)       |  9 | -3.988607e-03 | 0.002132035 | 0.019211069 |\n",
       "| relative_humidity |  9 |  1.102470e-04 | 0.002132035 | 0.019211069 |\n",
       "| wind_speed        |  9 |  1.182071e-04 | 0.002132035 | 0.019211069 |\n",
       "| (Intercept)       | 10 | -4.965201e-03 | 0.001942631 | 0.020880149 |\n",
       "| relative_humidity | 10 |  1.197418e-04 | 0.001942631 | 0.020880149 |\n",
       "| wind_speed        | 10 |  1.515636e-04 | 0.001942631 | 0.020880149 |\n",
       "| (Intercept)       | 11 | -5.855037e-03 | 0.001770053 | 0.022265848 |\n",
       "| relative_humidity | 11 |  1.283932e-04 | 0.001770053 | 0.022265848 |\n",
       "| wind_speed        | 11 |  1.819568e-04 | 0.001770053 | 0.022265848 |\n",
       "| (Intercept)       | 12 | -6.665822e-03 | 0.001612806 | 0.023416280 |\n",
       "| relative_humidity | 12 |  1.362760e-04 | 0.001612806 | 0.023416280 |\n",
       "| wind_speed        | 12 |  2.096500e-04 | 0.001612806 | 0.023416280 |\n",
       "| (Intercept)       | 13 | -7.404579e-03 | 0.001469529 | 0.024371389 |\n",
       "| ⋮ | ⋮ | ⋮ | ⋮ | ⋮ |\n",
       "| (Intercept)       | 58 | -0.0011069975 | 2.233553e-05 | 0.03840817 |\n",
       "| relative_humidity | 58 |  0.0002568166 | 2.233553e-05 | 0.03840817 |\n",
       "| dry_bulb_temp_f   | 58 |  0.0001040715 | 2.233553e-05 | 0.03840817 |\n",
       "| wind_speed        | 58 |  0.0006342881 | 2.233553e-05 | 0.03840817 |\n",
       "| station_pressure  | 58 | -0.0008040589 | 2.233553e-05 | 0.03840817 |\n",
       "| (Intercept)       | 59 | -0.0010957823 | 2.035131e-05 | 0.03840884 |\n",
       "| relative_humidity | 59 |  0.0002569806 | 2.035131e-05 | 0.03840884 |\n",
       "| dry_bulb_temp_f   | 59 |  0.0001042396 | 2.035131e-05 | 0.03840884 |\n",
       "| wind_speed        | 59 |  0.0006348707 | 2.035131e-05 | 0.03840884 |\n",
       "| station_pressure  | 59 | -0.0008053282 | 2.035131e-05 | 0.03840884 |\n",
       "| (Intercept)       | 60 | -0.0010855635 | 1.854335e-05 | 0.03840941 |\n",
       "| relative_humidity | 60 |  0.0002571301 | 1.854335e-05 | 0.03840941 |\n",
       "| dry_bulb_temp_f   | 60 |  0.0001043929 | 1.854335e-05 | 0.03840941 |\n",
       "| wind_speed        | 60 |  0.0006354015 | 1.854335e-05 | 0.03840941 |\n",
       "| station_pressure  | 60 | -0.0008064848 | 1.854335e-05 | 0.03840941 |\n",
       "| (Intercept)       | 61 | -0.0010762525 | 1.689601e-05 | 0.03840987 |\n",
       "| relative_humidity | 61 |  0.0002572664 | 1.689601e-05 | 0.03840987 |\n",
       "| dry_bulb_temp_f   | 61 |  0.0001045325 | 1.689601e-05 | 0.03840987 |\n",
       "| wind_speed        | 61 |  0.0006358852 | 1.689601e-05 | 0.03840987 |\n",
       "| station_pressure  | 61 | -0.0008075386 | 1.689601e-05 | 0.03840987 |\n",
       "| (Intercept)       | 62 | -0.0010677687 | 1.539502e-05 | 0.03841026 |\n",
       "| relative_humidity | 62 |  0.0002573905 | 1.539502e-05 | 0.03841026 |\n",
       "| dry_bulb_temp_f   | 62 |  0.0001046597 | 1.539502e-05 | 0.03841026 |\n",
       "| wind_speed        | 62 |  0.0006363259 | 1.539502e-05 | 0.03841026 |\n",
       "| station_pressure  | 62 | -0.0008084988 | 1.539502e-05 | 0.03841026 |\n",
       "| (Intercept)       | 63 | -0.0010600385 | 1.402737e-05 | 0.03841058 |\n",
       "| relative_humidity | 63 |  0.0002575035 | 1.402737e-05 | 0.03841058 |\n",
       "| dry_bulb_temp_f   | 63 |  0.0001047757 | 1.402737e-05 | 0.03841058 |\n",
       "| wind_speed        | 63 |  0.0006367275 | 1.402737e-05 | 0.03841058 |\n",
       "| station_pressure  | 63 | -0.0008093736 | 1.402737e-05 | 0.03841058 |\n",
       "\n"
      ],
      "text/plain": [
       "    term              step estimate      lambda       dev.ratio  \n",
       "1   (Intercept)        1    4.462882e-03 0.004487729  0.000000000\n",
       "2   (Intercept)        2    3.281712e-03 0.004089052  0.003354061\n",
       "3   relative_humidity  2    1.812923e-05 0.004089052  0.003354061\n",
       "4   (Intercept)        3    2.205473e-03 0.003725792  0.006138662\n",
       "5   relative_humidity  3    3.464790e-05 0.003725792  0.006138662\n",
       "6   (Intercept)        4    1.224845e-03 0.003394803  0.008450486\n",
       "7   relative_humidity  4    4.969910e-05 0.003394803  0.008450486\n",
       "8   (Intercept)        5    3.313324e-04 0.003093218  0.010369804\n",
       "9   relative_humidity  5    6.341320e-05 0.003093218  0.010369804\n",
       "10  (Intercept)        6   -4.828026e-04 0.002818425  0.011963255\n",
       "11  relative_humidity  6    7.590897e-05 0.002818425  0.011963255\n",
       "12  (Intercept)        7   -1.740486e-03 0.002568044  0.014779108\n",
       "13  relative_humidity  7    8.838986e-05 0.002568044  0.014779108\n",
       "14  wind_speed         7    4.142035e-05 0.002568044  0.014779108\n",
       "15  (Intercept)        8   -2.916797e-03 0.002339906  0.017200657\n",
       "16  relative_humidity  8    9.982643e-05 0.002339906  0.017200657\n",
       "17  wind_speed         8    8.159837e-05 0.002339906  0.017200657\n",
       "18  (Intercept)        9   -3.988607e-03 0.002132035  0.019211069\n",
       "19  relative_humidity  9    1.102470e-04 0.002132035  0.019211069\n",
       "20  wind_speed         9    1.182071e-04 0.002132035  0.019211069\n",
       "21  (Intercept)       10   -4.965201e-03 0.001942631  0.020880149\n",
       "22  relative_humidity 10    1.197418e-04 0.001942631  0.020880149\n",
       "23  wind_speed        10    1.515636e-04 0.001942631  0.020880149\n",
       "24  (Intercept)       11   -5.855037e-03 0.001770053  0.022265848\n",
       "25  relative_humidity 11    1.283932e-04 0.001770053  0.022265848\n",
       "26  wind_speed        11    1.819568e-04 0.001770053  0.022265848\n",
       "27  (Intercept)       12   -6.665822e-03 0.001612806  0.023416280\n",
       "28  relative_humidity 12    1.362760e-04 0.001612806  0.023416280\n",
       "29  wind_speed        12    2.096500e-04 0.001612806  0.023416280\n",
       "30  (Intercept)       13   -7.404579e-03 0.001469529  0.024371389\n",
       "⋮   ⋮                 ⋮    ⋮             ⋮            ⋮          \n",
       "251 (Intercept)       58   -0.0011069975 2.233553e-05 0.03840817 \n",
       "252 relative_humidity 58    0.0002568166 2.233553e-05 0.03840817 \n",
       "253 dry_bulb_temp_f   58    0.0001040715 2.233553e-05 0.03840817 \n",
       "254 wind_speed        58    0.0006342881 2.233553e-05 0.03840817 \n",
       "255 station_pressure  58   -0.0008040589 2.233553e-05 0.03840817 \n",
       "256 (Intercept)       59   -0.0010957823 2.035131e-05 0.03840884 \n",
       "257 relative_humidity 59    0.0002569806 2.035131e-05 0.03840884 \n",
       "258 dry_bulb_temp_f   59    0.0001042396 2.035131e-05 0.03840884 \n",
       "259 wind_speed        59    0.0006348707 2.035131e-05 0.03840884 \n",
       "260 station_pressure  59   -0.0008053282 2.035131e-05 0.03840884 \n",
       "261 (Intercept)       60   -0.0010855635 1.854335e-05 0.03840941 \n",
       "262 relative_humidity 60    0.0002571301 1.854335e-05 0.03840941 \n",
       "263 dry_bulb_temp_f   60    0.0001043929 1.854335e-05 0.03840941 \n",
       "264 wind_speed        60    0.0006354015 1.854335e-05 0.03840941 \n",
       "265 station_pressure  60   -0.0008064848 1.854335e-05 0.03840941 \n",
       "266 (Intercept)       61   -0.0010762525 1.689601e-05 0.03840987 \n",
       "267 relative_humidity 61    0.0002572664 1.689601e-05 0.03840987 \n",
       "268 dry_bulb_temp_f   61    0.0001045325 1.689601e-05 0.03840987 \n",
       "269 wind_speed        61    0.0006358852 1.689601e-05 0.03840987 \n",
       "270 station_pressure  61   -0.0008075386 1.689601e-05 0.03840987 \n",
       "271 (Intercept)       62   -0.0010677687 1.539502e-05 0.03841026 \n",
       "272 relative_humidity 62    0.0002573905 1.539502e-05 0.03841026 \n",
       "273 dry_bulb_temp_f   62    0.0001046597 1.539502e-05 0.03841026 \n",
       "274 wind_speed        62    0.0006363259 1.539502e-05 0.03841026 \n",
       "275 station_pressure  62   -0.0008084988 1.539502e-05 0.03841026 \n",
       "276 (Intercept)       63   -0.0010600385 1.402737e-05 0.03841058 \n",
       "277 relative_humidity 63    0.0002575035 1.402737e-05 0.03841058 \n",
       "278 dry_bulb_temp_f   63    0.0001047757 1.402737e-05 0.03841058 \n",
       "279 wind_speed        63    0.0006367275 1.402737e-05 0.03841058 \n",
       "280 station_pressure  63   -0.0008093736 1.402737e-05 0.03841058 "
      ]
     },
     "metadata": {},
     "output_type": "display_data"
    },
    {
     "name": "stderr",
     "output_type": "stream",
     "text": [
      "! Fold1: internal: A correlation computation is required, but `estimate` is const...\n",
      "! Fold2: internal: A correlation computation is required, but `estimate` is const...\n",
      "! Fold3: internal: A correlation computation is required, but `estimate` is const...\n",
      "! Fold4: internal: A correlation computation is required, but `estimate` is const...\n",
      "! Fold5: internal: A correlation computation is required, but `estimate` is const...\n"
     ]
    },
    {
     "name": "stdout",
     "output_type": "stream",
     "text": [
      "# A tibble: 5 x 6\n",
      "  penalty .metric .estimator   mean     n std_err\n",
      "    <dbl> <chr>   <chr>       <dbl> <int>   <dbl>\n",
      "1 0.00117 rmse    standard   0.0270     5 0.00826\n",
      "2 0.00136 rmse    standard   0.0270     5 0.00828\n",
      "3 0.00159 rmse    standard   0.0270     5 0.00830\n",
      "4 0.001   rmse    standard   0.0270     5 0.00823\n",
      "5 0.00186 rmse    standard   0.0270     5 0.00832\n",
      "# A tibble: 5 x 6\n",
      "  penalty .metric .estimator   mean     n std_err\n",
      "    <dbl> <chr>   <chr>       <dbl> <int>   <dbl>\n",
      "1 0.001   rsq     standard   0.0456     5 0.0138 \n",
      "2 0.00117 rsq     standard   0.0437     5 0.0123 \n",
      "3 0.00136 rsq     standard   0.0414     5 0.0103 \n",
      "4 0.00159 rsq     standard   0.0398     5 0.00902\n",
      "5 0.00404 rsq     standard   0.0384     3 0.00630\n"
     ]
    }
   ],
   "source": [
    "weather_recipe2 <- \n",
    "    recipe(precip ~ ., data = weather_test)\n",
    "\n",
    "lasso_spec <- linear_reg(penalty = 0.1, mixture = 1) %>%\n",
    "    set_engine(\"glmnet\")\n",
    "\n",
    "lasso_wf <- workflow() %>%\n",
    "    add_recipe(weather_recipe2)\n",
    "\n",
    "lasso_fit <- lasso_wf %>%\n",
    "    add_model(lasso_spec) %>%\n",
    "    fit(data = weather_test)\n",
    "\n",
    "lasso_fit %>% \n",
    "    pull_workflow_fit() %>%\n",
    "tidy()\n",
    "\n",
    "lasso_model <- lasso_fit %>% \n",
    "    pull_workflow_fit() %>%\n",
    "tidy()\n",
    "\n",
    "tune_spec <- linear_reg(penalty = tune(), mixture = 1) %>% \n",
    "  set_engine(\"glmnet\")\n",
    "\n",
    "lasso_wf <- workflow() %>%\n",
    "  add_recipe(weather_recipe2) %>%\n",
    "  add_model(tune_spec) \n",
    "\n",
    "weather_cvfolds <- vfold_cv(weather_test, v = 5)\n",
    "\n",
    "lambda_grid <- grid_regular(penalty(range = c(-3, 0.3)), levels = 50)\n",
    "\n",
    "lasso_grid <- tune_grid(\n",
    "  lasso_wf,\n",
    "  resamples = weather_cvfolds,\n",
    "  grid = lambda_grid,\n",
    "  metrics = metric_set(rmse, rsq))\n",
    "\n",
    "best_rmse_test <- show_best(lasso_grid, metric = \"rmse\")\n",
    "best_rsq_test <- show_best(lasso_grid, metric = \"rsq\")\n",
    "print(best_rmse)\n",
    "print(best_rsq)"
   ]
  },
  {
   "cell_type": "code",
   "execution_count": 45,
   "metadata": {
    "tags": []
   },
   "outputs": [],
   "source": [
    "#Table Comparison\n",
    "model_names <- c(\"mlr\", \"poly_reg\", \"lasso\")\n",
    "train_error <- c(\"rmse_mlr\", \"rmse_poly\", \"best_rmse_train\")\n",
    "test_error <- c(\"rmse_mlr_test\", \"rmse_poly_test\", \"best_rmse_test\")\n",
    "comparison_df <- data.frame(model_names, train_error, test_error)"
   ]
  },
  {
   "cell_type": "markdown",
   "metadata": {},
   "source": [
    "## Author(s)\n",
    "\n",
    "<h4> Yiwen Li </h4>\n",
    "\n",
    "## Contributions\n",
    "\n",
    "<h4> Tiffany Zhu </h4>\n",
    "\n",
    "## <h3 align=\"center\"> © IBM Corporation 2021. All rights reserved. <h3/>\n"
   ]
  }
 ],
 "metadata": {
  "kernelspec": {
   "display_name": "R",
   "language": "R",
   "name": "conda-env-r-r"
  },
  "language_info": {
   "codemirror_mode": "r",
   "file_extension": ".r",
   "mimetype": "text/x-r-source",
   "name": "R",
   "pygments_lexer": "r",
   "version": "3.5.1"
  }
 },
 "nbformat": 4,
 "nbformat_minor": 4
}
