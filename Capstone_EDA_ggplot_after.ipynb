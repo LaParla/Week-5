{
 "cells": [
  {
   "cell_type": "markdown",
   "metadata": {},
   "source": [
    "<center>\n",
    "<img src=\"https://cf-courses-data.s3.us.cloud-object-storage.appdomain.cloud/IBMDeveloperSkillsNetwork-RP0321EN-SkillsNetwork/labs/module_1/images/SN_web_lightmode.png\" width=\"300\"> \n",
    "</center>\n"
   ]
  },
  {
   "cell_type": "markdown",
   "metadata": {},
   "source": [
    "<h1>Predict Hourly Rented Bike Count using Basic Linear Regression Models</h1>\n",
    "\n",
    "Estimated time needed: **90** minutes\n"
   ]
  },
  {
   "cell_type": "markdown",
   "metadata": {},
   "source": [
    "## Lab Overview:\n",
    "\n",
    "Now that you have performed exploratory analysis on the bike sharing demand dataset and obtained some insights on the attributes, it's time to build predictive models to predict the hourly rented bike count using related weather and date information.\n",
    "\n",
    "In this lab, you will be asked to use `tidymodels` to build some baseline linear regression models:\n",
    "- **TASK: Split data into training and testing datasets**\n",
    "- **TASK: Build a linear regression model using only the weather variables**\n",
    "- **TASK: Build a linear regression model using both weather and date variables**\n",
    "- **TASK: Evaluate the models and identify important variables**\n",
    "\n",
    "Let's start!\n"
   ]
  },
  {
   "cell_type": "markdown",
   "metadata": {},
   "source": [
    "The tidyverse and the tidymodels packages can be used to produce high quality statistical and machine learning models. The Tidyverse library is a useful tool that provides various tools for data visualization, data manipulation, and read various datasets into a data frame; our Jupyter notebook platforms have a built-in Tidymodels, Tidyverse and rlang libraries, so we do not need to install these packages prior to loading library. However, if you decide to run this lab on your RStudio Desktop locally on your machine, you can remove the commented lines of code to install these packages before loading.\n"
   ]
  },
  {
   "cell_type": "code",
   "execution_count": null,
   "metadata": {},
   "outputs": [],
   "source": [
    "# It may take several minutes to install those libraries in Watson Studio\n",
    "# install.packages(\"rlang\")\n",
    "# install.packages(\"tidymodels\")"
   ]
  },
  {
   "cell_type": "code",
   "execution_count": 1,
   "metadata": {
    "tags": []
   },
   "outputs": [
    {
     "name": "stderr",
     "output_type": "stream",
     "text": [
      "── Attaching packages ────────────────────────────────────── tidymodels 0.1.0 ──\n",
      "✔ broom     0.5.6      ✔ recipes   0.1.12\n",
      "✔ dials     0.0.6      ✔ rsample   0.0.5 \n",
      "✔ dplyr     0.8.5      ✔ tibble    3.0.1 \n",
      "✔ ggplot2   3.3.0      ✔ tune      0.1.0 \n",
      "✔ infer     0.5.1      ✔ workflows 0.1.1 \n",
      "✔ parsnip   0.1.0      ✔ yardstick 0.0.6 \n",
      "✔ purrr     0.3.4      \n",
      "── Conflicts ───────────────────────────────────────── tidymodels_conflicts() ──\n",
      "✖ purrr::discard()  masks scales::discard()\n",
      "✖ dplyr::filter()   masks stats::filter()\n",
      "✖ dplyr::lag()      masks stats::lag()\n",
      "✖ ggplot2::margin() masks dials::margin()\n",
      "✖ recipes::step()   masks stats::step()\n",
      "── Attaching packages ─────────────────────────────────────── tidyverse 1.3.0 ──\n",
      "✔ readr   1.3.1     ✔ forcats 0.5.0\n",
      "✔ stringr 1.4.0     \n",
      "── Conflicts ────────────────────────────────────────── tidyverse_conflicts() ──\n",
      "✖ readr::col_factor() masks scales::col_factor()\n",
      "✖ purrr::discard()    masks scales::discard()\n",
      "✖ dplyr::filter()     masks stats::filter()\n",
      "✖ stringr::fixed()    masks recipes::fixed()\n",
      "✖ dplyr::lag()        masks stats::lag()\n",
      "✖ ggplot2::margin()   masks dials::margin()\n",
      "✖ readr::spec()       masks yardstick::spec()\n"
     ]
    }
   ],
   "source": [
    "library(\"tidymodels\")\n",
    "library(\"tidyverse\")\n",
    "library(\"stringr\")"
   ]
  },
  {
   "cell_type": "markdown",
   "metadata": {},
   "source": [
    "The `seoul_bike_sharing_converted_normalized.csv` will be our main dataset which has following variables:\n",
    "\n",
    "The response variable:\n",
    "- `RENTED BIKE COUNT`- Count of bikes rented at each hour\n",
    "\n",
    "Weather predictor variables:\n",
    "- `TEMPERATURE` - Temperature in Celsius\n",
    "- `HUMIDITY` - Unit is `%`\n",
    "- `WIND_SPEED` - Unit is `m/s`\n",
    "- `VISIBILITY` - Multiplied by 10m\n",
    "- `DEW_POINT_TEMPERATURE` - The temperature to which the air would have to cool down in order to reach saturation, unit is Celsius\n",
    "- `SOLAR_RADIATION` - MJ/m2\n",
    "- `RAINFALL` - mm\n",
    "- `SNOWFALL` - cm\n",
    "\n",
    "Date/time predictor variables:\n",
    "- `DATE` - Year-month-day\n",
    "- `HOUR`- Hour of he day\n",
    "- `FUNCTIONAL DAY` - NoFunc(Non Functional Hours), Fun(Functional hours)\n",
    "- `HOLIDAY` - Holiday/No holiday\n",
    "- `SEASONS` - Winter, Spring, Summer, Autumn\n"
   ]
  },
  {
   "cell_type": "markdown",
   "metadata": {},
   "source": [
    "Let's read the dataset as a dataframe first:\n"
   ]
  },
  {
   "cell_type": "code",
   "execution_count": 2,
   "metadata": {
    "tags": []
   },
   "outputs": [
    {
     "name": "stderr",
     "output_type": "stream",
     "text": [
      "Parsed with column specification:\n",
      "cols(\n",
      "  .default = col_double(),\n",
      "  DATE = col_character(),\n",
      "  FUNCTIONING_DAY = col_character()\n",
      ")\n",
      "See spec(...) for full column specifications.\n"
     ]
    },
    {
     "data": {
      "text/plain": [
       "cols(\n",
       "  DATE = col_character(),\n",
       "  RENTED_BIKE_COUNT = col_double(),\n",
       "  TEMPERATURE = col_double(),\n",
       "  HUMIDITY = col_double(),\n",
       "  WIND_SPEED = col_double(),\n",
       "  VISIBILITY = col_double(),\n",
       "  DEW_POINT_TEMPERATURE = col_double(),\n",
       "  SOLAR_RADIATION = col_double(),\n",
       "  RAINFALL = col_double(),\n",
       "  SNOWFALL = col_double(),\n",
       "  FUNCTIONING_DAY = col_character(),\n",
       "  `0` = col_double(),\n",
       "  `1` = col_double(),\n",
       "  `10` = col_double(),\n",
       "  `11` = col_double(),\n",
       "  `12` = col_double(),\n",
       "  `13` = col_double(),\n",
       "  `14` = col_double(),\n",
       "  `15` = col_double(),\n",
       "  `16` = col_double(),\n",
       "  `17` = col_double(),\n",
       "  `18` = col_double(),\n",
       "  `19` = col_double(),\n",
       "  `2` = col_double(),\n",
       "  `20` = col_double(),\n",
       "  `21` = col_double(),\n",
       "  `22` = col_double(),\n",
       "  `23` = col_double(),\n",
       "  `3` = col_double(),\n",
       "  `4` = col_double(),\n",
       "  `5` = col_double(),\n",
       "  `6` = col_double(),\n",
       "  `7` = col_double(),\n",
       "  `8` = col_double(),\n",
       "  `9` = col_double(),\n",
       "  AUTUMN = col_double(),\n",
       "  SPRING = col_double(),\n",
       "  SUMMER = col_double(),\n",
       "  WINTER = col_double(),\n",
       "  HOLIDAY = col_double(),\n",
       "  NO_HOLIDAY = col_double()\n",
       ")"
      ]
     },
     "metadata": {},
     "output_type": "display_data"
    }
   ],
   "source": [
    "# Dataset URL\n",
    "dataset_url <- \"https://cf-courses-data.s3.us.cloud-object-storage.appdomain.cloud/IBMDeveloperSkillsNetwork-RP0321EN-SkillsNetwork/labs/datasets/seoul_bike_sharing_converted_normalized.csv\"\n",
    "bike_sharing_df <- read_csv(dataset_url)\n",
    "spec(bike_sharing_df)"
   ]
  },
  {
   "cell_type": "code",
   "execution_count": 3,
   "metadata": {
    "tags": []
   },
   "outputs": [],
   "source": [
    "bike_sharing_df <- rename(bike_sharing_df, HOUR_0 = '0',HOUR_1 = '1',HOUR_2 = '2',HOUR_3 = '3',HOUR_4 = '4',HOUR_5 = '5',HOUR_6 = '6',HOUR_7 = '7',HOUR_8 = '8',HOUR_9 = '9',\n",
    "                         HOUR_10 = '10',HOUR_11 = '11',HOUR_12 = '12',HOUR_13 = '13',HOUR_14 = '14',HOUR_15 = '15',HOUR_16 = '16',HOUR_17 = '17',HOUR_18 = '18',HOUR_19 = '19',HOUR_20 = '20',\n",
    "                         HOUR_21 = '21',HOUR_22 = '22',HOUR_23 = '23')"
   ]
  },
  {
   "cell_type": "code",
   "execution_count": 5,
   "metadata": {
    "tags": []
   },
   "outputs": [
    {
     "data": {
      "text/html": [
       "<table>\n",
       "<caption>A tibble: 6 × 41</caption>\n",
       "<thead>\n",
       "\t<tr><th scope=col>DATE</th><th scope=col>RENTED_BIKE_COUNT</th><th scope=col>TEMPERATURE</th><th scope=col>HUMIDITY</th><th scope=col>WIND_SPEED</th><th scope=col>VISIBILITY</th><th scope=col>DEW_POINT_TEMPERATURE</th><th scope=col>SOLAR_RADIATION</th><th scope=col>RAINFALL</th><th scope=col>SNOWFALL</th><th scope=col>⋯</th><th scope=col>HOUR_6</th><th scope=col>HOUR_7</th><th scope=col>HOUR_8</th><th scope=col>HOUR_9</th><th scope=col>AUTUMN</th><th scope=col>SPRING</th><th scope=col>SUMMER</th><th scope=col>WINTER</th><th scope=col>HOLIDAY</th><th scope=col>NO_HOLIDAY</th></tr>\n",
       "\t<tr><th scope=col>&lt;chr&gt;</th><th scope=col>&lt;dbl&gt;</th><th scope=col>&lt;dbl&gt;</th><th scope=col>&lt;dbl&gt;</th><th scope=col>&lt;dbl&gt;</th><th scope=col>&lt;dbl&gt;</th><th scope=col>&lt;dbl&gt;</th><th scope=col>&lt;dbl&gt;</th><th scope=col>&lt;dbl&gt;</th><th scope=col>&lt;dbl&gt;</th><th scope=col>⋯</th><th scope=col>&lt;dbl&gt;</th><th scope=col>&lt;dbl&gt;</th><th scope=col>&lt;dbl&gt;</th><th scope=col>&lt;dbl&gt;</th><th scope=col>&lt;dbl&gt;</th><th scope=col>&lt;dbl&gt;</th><th scope=col>&lt;dbl&gt;</th><th scope=col>&lt;dbl&gt;</th><th scope=col>&lt;dbl&gt;</th><th scope=col>&lt;dbl&gt;</th></tr>\n",
       "</thead>\n",
       "<tbody>\n",
       "\t<tr><td>01/12/2017</td><td>254</td><td>0.2202797</td><td>0.3775510</td><td>0.2972973</td><td>1</td><td>0.2249135</td><td>0</td><td>0</td><td>0</td><td>⋯</td><td>0</td><td>0</td><td>0</td><td>0</td><td>0</td><td>0</td><td>0</td><td>1</td><td>0</td><td>1</td></tr>\n",
       "\t<tr><td>01/12/2017</td><td>204</td><td>0.2150350</td><td>0.3877551</td><td>0.1081081</td><td>1</td><td>0.2249135</td><td>0</td><td>0</td><td>0</td><td>⋯</td><td>0</td><td>0</td><td>0</td><td>0</td><td>0</td><td>0</td><td>0</td><td>1</td><td>0</td><td>1</td></tr>\n",
       "\t<tr><td>01/12/2017</td><td>173</td><td>0.2062937</td><td>0.3979592</td><td>0.1351351</td><td>1</td><td>0.2231834</td><td>0</td><td>0</td><td>0</td><td>⋯</td><td>0</td><td>0</td><td>0</td><td>0</td><td>0</td><td>0</td><td>0</td><td>1</td><td>0</td><td>1</td></tr>\n",
       "\t<tr><td>01/12/2017</td><td>107</td><td>0.2027972</td><td>0.4081633</td><td>0.1216216</td><td>1</td><td>0.2249135</td><td>0</td><td>0</td><td>0</td><td>⋯</td><td>0</td><td>0</td><td>0</td><td>0</td><td>0</td><td>0</td><td>0</td><td>1</td><td>0</td><td>1</td></tr>\n",
       "\t<tr><td>01/12/2017</td><td> 78</td><td>0.2062937</td><td>0.3673469</td><td>0.3108108</td><td>1</td><td>0.2076125</td><td>0</td><td>0</td><td>0</td><td>⋯</td><td>0</td><td>0</td><td>0</td><td>0</td><td>0</td><td>0</td><td>0</td><td>1</td><td>0</td><td>1</td></tr>\n",
       "\t<tr><td>01/12/2017</td><td>100</td><td>0.1993007</td><td>0.3775510</td><td>0.2027027</td><td>1</td><td>0.2058824</td><td>0</td><td>0</td><td>0</td><td>⋯</td><td>0</td><td>0</td><td>0</td><td>0</td><td>0</td><td>0</td><td>0</td><td>1</td><td>0</td><td>1</td></tr>\n",
       "</tbody>\n",
       "</table>\n"
      ],
      "text/latex": [
       "A tibble: 6 × 41\n",
       "\\begin{tabular}{lllllllllllllllllllll}\n",
       " DATE & RENTED\\_BIKE\\_COUNT & TEMPERATURE & HUMIDITY & WIND\\_SPEED & VISIBILITY & DEW\\_POINT\\_TEMPERATURE & SOLAR\\_RADIATION & RAINFALL & SNOWFALL & ⋯ & HOUR\\_6 & HOUR\\_7 & HOUR\\_8 & HOUR\\_9 & AUTUMN & SPRING & SUMMER & WINTER & HOLIDAY & NO\\_HOLIDAY\\\\\n",
       " <chr> & <dbl> & <dbl> & <dbl> & <dbl> & <dbl> & <dbl> & <dbl> & <dbl> & <dbl> & ⋯ & <dbl> & <dbl> & <dbl> & <dbl> & <dbl> & <dbl> & <dbl> & <dbl> & <dbl> & <dbl>\\\\\n",
       "\\hline\n",
       "\t 01/12/2017 & 254 & 0.2202797 & 0.3775510 & 0.2972973 & 1 & 0.2249135 & 0 & 0 & 0 & ⋯ & 0 & 0 & 0 & 0 & 0 & 0 & 0 & 1 & 0 & 1\\\\\n",
       "\t 01/12/2017 & 204 & 0.2150350 & 0.3877551 & 0.1081081 & 1 & 0.2249135 & 0 & 0 & 0 & ⋯ & 0 & 0 & 0 & 0 & 0 & 0 & 0 & 1 & 0 & 1\\\\\n",
       "\t 01/12/2017 & 173 & 0.2062937 & 0.3979592 & 0.1351351 & 1 & 0.2231834 & 0 & 0 & 0 & ⋯ & 0 & 0 & 0 & 0 & 0 & 0 & 0 & 1 & 0 & 1\\\\\n",
       "\t 01/12/2017 & 107 & 0.2027972 & 0.4081633 & 0.1216216 & 1 & 0.2249135 & 0 & 0 & 0 & ⋯ & 0 & 0 & 0 & 0 & 0 & 0 & 0 & 1 & 0 & 1\\\\\n",
       "\t 01/12/2017 &  78 & 0.2062937 & 0.3673469 & 0.3108108 & 1 & 0.2076125 & 0 & 0 & 0 & ⋯ & 0 & 0 & 0 & 0 & 0 & 0 & 0 & 1 & 0 & 1\\\\\n",
       "\t 01/12/2017 & 100 & 0.1993007 & 0.3775510 & 0.2027027 & 1 & 0.2058824 & 0 & 0 & 0 & ⋯ & 0 & 0 & 0 & 0 & 0 & 0 & 0 & 1 & 0 & 1\\\\\n",
       "\\end{tabular}\n"
      ],
      "text/markdown": [
       "\n",
       "A tibble: 6 × 41\n",
       "\n",
       "| DATE &lt;chr&gt; | RENTED_BIKE_COUNT &lt;dbl&gt; | TEMPERATURE &lt;dbl&gt; | HUMIDITY &lt;dbl&gt; | WIND_SPEED &lt;dbl&gt; | VISIBILITY &lt;dbl&gt; | DEW_POINT_TEMPERATURE &lt;dbl&gt; | SOLAR_RADIATION &lt;dbl&gt; | RAINFALL &lt;dbl&gt; | SNOWFALL &lt;dbl&gt; | ⋯ ⋯ | HOUR_6 &lt;dbl&gt; | HOUR_7 &lt;dbl&gt; | HOUR_8 &lt;dbl&gt; | HOUR_9 &lt;dbl&gt; | AUTUMN &lt;dbl&gt; | SPRING &lt;dbl&gt; | SUMMER &lt;dbl&gt; | WINTER &lt;dbl&gt; | HOLIDAY &lt;dbl&gt; | NO_HOLIDAY &lt;dbl&gt; |\n",
       "|---|---|---|---|---|---|---|---|---|---|---|---|---|---|---|---|---|---|---|---|---|\n",
       "| 01/12/2017 | 254 | 0.2202797 | 0.3775510 | 0.2972973 | 1 | 0.2249135 | 0 | 0 | 0 | ⋯ | 0 | 0 | 0 | 0 | 0 | 0 | 0 | 1 | 0 | 1 |\n",
       "| 01/12/2017 | 204 | 0.2150350 | 0.3877551 | 0.1081081 | 1 | 0.2249135 | 0 | 0 | 0 | ⋯ | 0 | 0 | 0 | 0 | 0 | 0 | 0 | 1 | 0 | 1 |\n",
       "| 01/12/2017 | 173 | 0.2062937 | 0.3979592 | 0.1351351 | 1 | 0.2231834 | 0 | 0 | 0 | ⋯ | 0 | 0 | 0 | 0 | 0 | 0 | 0 | 1 | 0 | 1 |\n",
       "| 01/12/2017 | 107 | 0.2027972 | 0.4081633 | 0.1216216 | 1 | 0.2249135 | 0 | 0 | 0 | ⋯ | 0 | 0 | 0 | 0 | 0 | 0 | 0 | 1 | 0 | 1 |\n",
       "| 01/12/2017 |  78 | 0.2062937 | 0.3673469 | 0.3108108 | 1 | 0.2076125 | 0 | 0 | 0 | ⋯ | 0 | 0 | 0 | 0 | 0 | 0 | 0 | 1 | 0 | 1 |\n",
       "| 01/12/2017 | 100 | 0.1993007 | 0.3775510 | 0.2027027 | 1 | 0.2058824 | 0 | 0 | 0 | ⋯ | 0 | 0 | 0 | 0 | 0 | 0 | 0 | 1 | 0 | 1 |\n",
       "\n"
      ],
      "text/plain": [
       "  DATE       RENTED_BIKE_COUNT TEMPERATURE HUMIDITY  WIND_SPEED VISIBILITY\n",
       "1 01/12/2017 254               0.2202797   0.3775510 0.2972973  1         \n",
       "2 01/12/2017 204               0.2150350   0.3877551 0.1081081  1         \n",
       "3 01/12/2017 173               0.2062937   0.3979592 0.1351351  1         \n",
       "4 01/12/2017 107               0.2027972   0.4081633 0.1216216  1         \n",
       "5 01/12/2017  78               0.2062937   0.3673469 0.3108108  1         \n",
       "6 01/12/2017 100               0.1993007   0.3775510 0.2027027  1         \n",
       "  DEW_POINT_TEMPERATURE SOLAR_RADIATION RAINFALL SNOWFALL ⋯ HOUR_6 HOUR_7\n",
       "1 0.2249135             0               0        0        ⋯ 0      0     \n",
       "2 0.2249135             0               0        0        ⋯ 0      0     \n",
       "3 0.2231834             0               0        0        ⋯ 0      0     \n",
       "4 0.2249135             0               0        0        ⋯ 0      0     \n",
       "5 0.2076125             0               0        0        ⋯ 0      0     \n",
       "6 0.2058824             0               0        0        ⋯ 0      0     \n",
       "  HOUR_8 HOUR_9 AUTUMN SPRING SUMMER WINTER HOLIDAY NO_HOLIDAY\n",
       "1 0      0      0      0      0      1      0       1         \n",
       "2 0      0      0      0      0      1      0       1         \n",
       "3 0      0      0      0      0      1      0       1         \n",
       "4 0      0      0      0      0      1      0       1         \n",
       "5 0      0      0      0      0      1      0       1         \n",
       "6 0      0      0      0      0      1      0       1         "
      ]
     },
     "metadata": {},
     "output_type": "display_data"
    }
   ],
   "source": [
    "head(bike_sharing_df)"
   ]
  },
  {
   "cell_type": "markdown",
   "metadata": {},
   "source": [
    "We won't be using the `DATE` column, because 'as is', it basically acts like an data entry index. (However, given more time, we could use the `DATE` colum to create a 'day of week' or 'isWeekend' column, which we might expect has an affect on preferred bike rental times.) We also do not need the `FUNCTIONAL DAY` column because it only has one distinct value remaining (`YES`) after missing value processing.\n"
   ]
  },
  {
   "cell_type": "code",
   "execution_count": 4,
   "metadata": {
    "tags": []
   },
   "outputs": [],
   "source": [
    "bike_sharing_df <- bike_sharing_df %>% \n",
    "  select(-DATE, -FUNCTIONING_DAY)"
   ]
  },
  {
   "cell_type": "markdown",
   "metadata": {},
   "source": [
    "# TASK: Split training and testing data\n"
   ]
  },
  {
   "cell_type": "markdown",
   "metadata": {},
   "source": [
    "First, we need to split the full dataset into training and testing datasets.\n",
    "\n",
    "The training dataset will be used for fitting regression models, and the testing dataset will be used to evaluate the trained models.\n"
   ]
  },
  {
   "cell_type": "markdown",
   "metadata": {},
   "source": [
    "_TODO:_ Use the `initial_split()`, `training()`, and `testing()` functions to generate a training dataset consisting of 75% of the original dataset, and a testing dataset using the remaining 25%. \n"
   ]
  },
  {
   "cell_type": "code",
   "execution_count": 5,
   "metadata": {
    "tags": []
   },
   "outputs": [],
   "source": [
    "# Use the `initial_split()`, `training()`, and `testing()` functions to split the dataset\n",
    "# With seed 1234\n",
    "set.seed(1234)\n",
    "# prop = 3/4\n",
    "bike_split <- initial_split(bike_sharing_df, prop = 3/4)\n",
    "# train_data \n",
    "bike_train <- training(bike_split)\n",
    "# test_data\n",
    "bike_test <- testing(bike_split)"
   ]
  },
  {
   "cell_type": "markdown",
   "metadata": {},
   "source": [
    "# TASK: Build a linear regression model using weather variables only\n"
   ]
  },
  {
   "cell_type": "markdown",
   "metadata": {},
   "source": [
    "As you could imagine, weather conditions may affect people's bike renting decisions. For example, on a cold and rainy day, you may choose alternate transportation such as a bus or taxi.  While on a nice sunny day, you may want to rent a bike for a short-distance travel.\n"
   ]
  },
  {
   "cell_type": "markdown",
   "metadata": {},
   "source": [
    "Thus, can we predict a city's bike-sharing demand based on its local weather information? Let's try to build a regression model to do that.\n"
   ]
  },
  {
   "cell_type": "markdown",
   "metadata": {},
   "source": [
    "_TODO:_ Build a linear regression model called `lm_model_weather` using the following variables:\n",
    "\n",
    "- `TEMPERATURE` - Temperature in Celsius\n",
    "- `HUMIDITY` - Unit is `%`\n",
    "- `WIND_SPEED` - Unit is `m/s`\n",
    "- `VISIBILITY` - Multiplied by 10m\n",
    "- `DEW_POINT_TEMPERATURE` - The temperature to which the air would have to cool down in order to reach saturation, unit is Celsius\n",
    "- `SOLAR_RADIATION` - MJ/m2\n",
    "- `RAINFALL` - mm\n",
    "- `SNOWFALL` - cm\n"
   ]
  },
  {
   "cell_type": "markdown",
   "metadata": {},
   "source": [
    "Define a linear regression model specification.\n"
   ]
  },
  {
   "cell_type": "code",
   "execution_count": null,
   "metadata": {
    "tags": []
   },
   "outputs": [],
   "source": [
    "# Use `linear_reg()` with engine `lm` and mode `regression`\n",
    "# Pick linear regression\n",
    "lm_spec <- linear_reg() %>%\n",
    "  # Set engine'\n",
    "  set_engine(engine = \"lm\")\n",
    "\n",
    "# Print the linear function\n",
    "lm_spec\n"
   ]
  },
  {
   "cell_type": "code",
   "execution_count": 6,
   "metadata": {
    "tags": []
   },
   "outputs": [
    {
     "data": {
      "text/plain": [
       "\n",
       "Call:\n",
       "lm(formula = RENTED_BIKE_COUNT ~ TEMPERATURE + HUMIDITY + WIND_SPEED + \n",
       "    VISIBILITY + DEW_POINT_TEMPERATURE + SOLAR_RADIATION + RAINFALL + \n",
       "    SNOWFALL, data = bike_train)\n",
       "\n",
       "Residuals:\n",
       "     Min       1Q   Median       3Q      Max \n",
       "-1344.44  -300.48   -58.56   208.27  2332.53 \n",
       "\n",
       "Coefficients:\n",
       "                       Estimate Std. Error t value Pr(>|t|)    \n",
       "(Intercept)             147.647     57.417   2.571  0.01015 *  \n",
       "TEMPERATURE            2452.112    259.315   9.456  < 2e-16 ***\n",
       "HUMIDITY               -895.830    124.925  -7.171 8.29e-13 ***\n",
       "WIND_SPEED              402.183     48.218   8.341  < 2e-16 ***\n",
       "VISIBILITY                5.356     24.908   0.215  0.82975    \n",
       "DEW_POINT_TEMPERATURE  -368.982    275.535  -1.339  0.18057    \n",
       "SOLAR_RADIATION        -435.703     35.071 -12.423  < 2e-16 ***\n",
       "RAINFALL              -1771.467    184.470  -9.603  < 2e-16 ***\n",
       "SNOWFALL                354.761    133.992   2.648  0.00813 ** \n",
       "---\n",
       "Signif. codes:  0 ‘***’ 0.001 ‘**’ 0.01 ‘*’ 0.05 ‘.’ 0.1 ‘ ’ 1\n",
       "\n",
       "Residual standard error: 488.6 on 6340 degrees of freedom\n",
       "Multiple R-squared:  0.4281,\tAdjusted R-squared:  0.4274 \n",
       "F-statistic: 593.2 on 8 and 6340 DF,  p-value: < 2.2e-16\n"
      ]
     },
     "metadata": {},
     "output_type": "display_data"
    }
   ],
   "source": [
    "lm_model_weather <- lm(RENTED_BIKE_COUNT ~ TEMPERATURE + HUMIDITY + WIND_SPEED + VISIBILITY + DEW_POINT_TEMPERATURE + SOLAR_RADIATION + RAINFALL + SNOWFALL,\n",
    "                        data = bike_train)\n",
    "summary(lm_model_weather)"
   ]
  },
  {
   "cell_type": "markdown",
   "metadata": {},
   "source": [
    "Fit a model with the response variable `RENTED_BIKE_COUNT` and predictor variables `TEMPERATURE + HUMIDITY + WIND_SPEED + VISIBILITY + DEW_POINT_TEMPERATURE + SOLAR_RADIATION + RAINFALL + SNOWFALL`\n"
   ]
  },
  {
   "cell_type": "markdown",
   "metadata": {},
   "source": [
    "Print the fit summary for the `lm_model_weather` model.\n"
   ]
  },
  {
   "cell_type": "markdown",
   "metadata": {},
   "source": [
    "You should see the model details such as formula, residuals, and coefficients.\n"
   ]
  },
  {
   "cell_type": "markdown",
   "metadata": {},
   "source": [
    "# TASK: Build a linear regression model using all variables\n"
   ]
  },
  {
   "cell_type": "markdown",
   "metadata": {},
   "source": [
    "In addition to weather, there could be other factors that may affect bike rental demand, such as the time of a day or if today is a holiday or not.\n"
   ]
  },
  {
   "cell_type": "markdown",
   "metadata": {},
   "source": [
    "Next, let's build a linear regression model using all variables (weather + date/time) in this task.\n"
   ]
  },
  {
   "cell_type": "markdown",
   "metadata": {},
   "source": [
    "_TODO:_ Build a linear regression model called `lm_model_all` using all variables `RENTED_BIKE_COUNT ~ .`\n"
   ]
  },
  {
   "cell_type": "code",
   "execution_count": 7,
   "metadata": {
    "tags": []
   },
   "outputs": [
    {
     "data": {
      "text/plain": [
       "\n",
       "Call:\n",
       "lm(formula = RENTED_BIKE_COUNT ~ ., data = bike_train)\n",
       "\n",
       "Residuals:\n",
       "     Min       1Q   Median       3Q      Max \n",
       "-1390.19  -220.95    -9.08   202.68  1774.61 \n",
       "\n",
       "Coefficients: (3 not defined because of singularities)\n",
       "                       Estimate Std. Error t value Pr(>|t|)    \n",
       "(Intercept)             216.584     50.673   4.274 1.95e-05 ***\n",
       "TEMPERATURE             810.604    209.034   3.878 0.000106 ***\n",
       "HUMIDITY               -920.587     97.243  -9.467  < 2e-16 ***\n",
       "WIND_SPEED               -9.313     40.268  -0.231 0.817101    \n",
       "VISIBILITY               24.368     20.235   1.204 0.228533    \n",
       "DEW_POINT_TEMPERATURE   632.384    217.478   2.908 0.003652 ** \n",
       "SOLAR_RADIATION         249.752     41.347   6.040 1.62e-09 ***\n",
       "RAINFALL              -1982.940    143.642 -13.805  < 2e-16 ***\n",
       "SNOWFALL                232.451    104.609   2.222 0.026312 *  \n",
       "HOUR_0                  -12.500     34.010  -0.368 0.713234    \n",
       "HOUR_1                 -125.701     34.579  -3.635 0.000280 ***\n",
       "HOUR_10                -222.233     33.316  -6.671 2.76e-11 ***\n",
       "HOUR_11                -231.428     33.981  -6.811 1.06e-11 ***\n",
       "HOUR_12                -194.605     34.559  -5.631 1.87e-08 ***\n",
       "HOUR_13                -189.528     35.199  -5.385 7.53e-08 ***\n",
       "HOUR_14                -183.060     35.246  -5.194 2.12e-07 ***\n",
       "HOUR_15                -103.127     35.096  -2.938 0.003311 ** \n",
       "HOUR_16                  43.598     34.230   1.274 0.202829    \n",
       "HOUR_17                 306.732     34.272   8.950  < 2e-16 ***\n",
       "HOUR_18                 782.842     34.512  22.683  < 2e-16 ***\n",
       "HOUR_19                 519.456     34.541  15.039  < 2e-16 ***\n",
       "HOUR_2                 -259.946     34.575  -7.518 6.32e-14 ***\n",
       "HOUR_20                 394.635     34.729  11.363  < 2e-16 ***\n",
       "HOUR_21                 430.185     34.337  12.528  < 2e-16 ***\n",
       "HOUR_22                 322.664     33.935   9.508  < 2e-16 ***\n",
       "HOUR_23                  90.181     33.974   2.654 0.007965 ** \n",
       "HOUR_3                 -327.245     33.890  -9.656  < 2e-16 ***\n",
       "HOUR_4                 -389.558     34.033 -11.447  < 2e-16 ***\n",
       "HOUR_5                 -379.055     33.818 -11.209  < 2e-16 ***\n",
       "HOUR_6                 -216.689     34.166  -6.342 2.42e-10 ***\n",
       "HOUR_7                  110.492     33.930   3.256 0.001134 ** \n",
       "HOUR_8                  502.354     33.506  14.993  < 2e-16 ***\n",
       "HOUR_9                       NA         NA      NA       NA    \n",
       "AUTUMN                  357.978     19.997  17.902  < 2e-16 ***\n",
       "SPRING                  194.421     19.218  10.117  < 2e-16 ***\n",
       "SUMMER                  172.901     29.043   5.953 2.77e-09 ***\n",
       "WINTER                       NA         NA      NA       NA    \n",
       "HOLIDAY                -129.167     22.447  -5.754 9.11e-09 ***\n",
       "NO_HOLIDAY                   NA         NA      NA       NA    \n",
       "---\n",
       "Signif. codes:  0 ‘***’ 0.001 ‘**’ 0.01 ‘*’ 0.05 ‘.’ 0.1 ‘ ’ 1\n",
       "\n",
       "Residual standard error: 376.4 on 6313 degrees of freedom\n",
       "Multiple R-squared:  0.6622,\tAdjusted R-squared:  0.6603 \n",
       "F-statistic: 353.5 on 35 and 6313 DF,  p-value: < 2.2e-16\n"
      ]
     },
     "metadata": {},
     "output_type": "display_data"
    }
   ],
   "source": [
    "lm_model_all <- lm(RENTED_BIKE_COUNT ~ .,\n",
    "                        data=bike_train)\n",
    "summary(lm_model_all)"
   ]
  },
  {
   "cell_type": "markdown",
   "metadata": {},
   "source": [
    "Print the fit summary for `lm_model_all`.\n"
   ]
  },
  {
   "cell_type": "markdown",
   "metadata": {},
   "source": [
    "Now you have built two basic linear regression models with different predictor variables, let's evaluate which model has better performance,\n"
   ]
  },
  {
   "cell_type": "markdown",
   "metadata": {},
   "source": [
    "# TASK: Model evaluation and identification of important variables\n"
   ]
  },
  {
   "cell_type": "markdown",
   "metadata": {},
   "source": [
    "Now that you have built two regression models, `lm_model_weather` and `lm_model_all`, with different predictor variables, you need to compare their performance to see which one is better.\n"
   ]
  },
  {
   "cell_type": "markdown",
   "metadata": {},
   "source": [
    "In this project, you will be asked to use very important metrics that are often used in Statistics to determine the performance of a model:\n",
    "\n",
    "1.  R^2 / R-squared \n",
    "2.  Root Mean Squared Error (RMSE)\n",
    "\n",
    "**R-squared**\n",
    "\n",
    "<p>R squared, also known as the coefficient of determination, is a measure to indicate how close the data is to the fitted regression line. The value of R-squared is the percentage of variation of the response variable (y) that is explained by a linear model.</p>\n",
    "\n",
    "**Root Mean Squared Error (RMSE)**\n",
    "$$\n",
    "RMSE = \\sqrt{MSE}\n",
    "$$\n",
    "\n",
    "As you know, the Mean Squared Error measures the average of the squares of errors, where 'error' is the difference between the actual value ($y$) and the estimated value ($ŷ$). \n",
    "Another metric that is related to MSE is **Root Mean Squared Error (RMSE)** and is simply the square root of MSE.\n"
   ]
  },
  {
   "cell_type": "markdown",
   "metadata": {},
   "source": [
    "We first need to test the `lm_model_weather` and `lm_model_all` models against the test dataset `test_data`, and generate `RENTED_BIKE_COUNT` prediction results.\n"
   ]
  },
  {
   "cell_type": "markdown",
   "metadata": {},
   "source": [
    "_TODO:_ Make predictions on the testing dataset using both `lm_model_weather` and `lm_model_all` models\n"
   ]
  },
  {
   "cell_type": "code",
   "execution_count": 8,
   "metadata": {
    "tags": []
   },
   "outputs": [
    {
     "name": "stderr",
     "output_type": "stream",
     "text": [
      "Warning message in predict.lm(lm_model_all, newdata = bike_test):\n",
      "“prediction from a rank-deficient fit may be misleading”"
     ]
    }
   ],
   "source": [
    "# Use predict() function to generate test results for `lm_model_weather` and `lm_model_all`\n",
    "# and generate two test results dataframe with a truth column:\n",
    "\n",
    "# test_results_weather for lm_model_weather model\n",
    "lm_model_weather_pred <- predict(lm_model_weather, newdata = bike_test)\n",
    "test_results_weather <- data.frame(PREDICTION=lm_model_weather_pred, TRUTH = bike_test$RENTED_BIKE_COUNT)\n",
    "\n",
    "lm_model_all_pred <- predict(lm_model_all, newdata = bike_test)"
   ]
  },
  {
   "cell_type": "markdown",
   "metadata": {},
   "source": [
    "NOTE: if you happen to see a warning like : `prediction from a rank-deficient fit may be misleading`, it may be casued by collinearity in the predictor variables. Collinearity means that one predictor variable can be predicted from other predictor variables to some degree. For example, `RAINFALL` could be predicted by `HUMIDITY`.\n",
    "\n",
    "But dont worry, you will address `glmnet` models (Lasso and Elastic-Net Regularized Generalized Linear Models) instead of regular `regression` models to solve this issue and futher improve the model performance.\n"
   ]
  },
  {
   "cell_type": "markdown",
   "metadata": {},
   "source": [
    "Next, let's calculate and print the R-squared and RMSE for the two test results\n"
   ]
  },
  {
   "cell_type": "markdown",
   "metadata": {},
   "source": [
    "_TODO:_ Use `rsq()` and `rmse()` functions to calculate R-squared and RMSE metrics for the two test results\n"
   ]
  },
  {
   "cell_type": "code",
   "execution_count": 9,
   "metadata": {
    "tags": []
   },
   "outputs": [
    {
     "data": {
      "text/html": [
       "0.428095144504415"
      ],
      "text/latex": [
       "0.428095144504415"
      ],
      "text/markdown": [
       "0.428095144504415"
      ],
      "text/plain": [
       "[1] 0.4280951"
      ]
     },
     "metadata": {},
     "output_type": "display_data"
    },
    {
     "data": {
      "text/html": [
       "0.662154611391209"
      ],
      "text/latex": [
       "0.662154611391209"
      ],
      "text/markdown": [
       "0.662154611391209"
      ],
      "text/plain": [
       "[1] 0.6621546"
      ]
     },
     "metadata": {},
     "output_type": "display_data"
    },
    {
     "name": "stdout",
     "output_type": "stream",
     "text": [
      "[1] 470.4436\n",
      "[1] 369.1709\n"
     ]
    }
   ],
   "source": [
    "# rsq_weather <- rsq(...)\n",
    "# rsq_all <- rsq(...)\n",
    "\n",
    "test_results_all <- data.frame(PREDICTION = lm_model_all_pred, TRUTH = bike_test$RENTED_BIKE_COUNT)\n",
    "\n",
    "summary(lm_model_weather)$r.squared\n",
    "summary(lm_model_all)$r.squared\n",
    "\n",
    "\n",
    "# rmse_weather <- rmse(...)\n",
    "# rmse_all <- rmse(...)\n",
    "\n",
    "rmse_weather <- sqrt(mean((test_results_weather$TRUTH-test_results_weather$PREDICTION)^2))\n",
    "rmse_all <- sqrt(mean((test_results_all$TRUTH-test_results_all$PREDICTION)^2))\n",
    "\n",
    "print(rmse_weather)\n",
    "\n",
    "print(rmse_all)"
   ]
  },
  {
   "cell_type": "markdown",
   "metadata": {},
   "source": [
    "From these tables, you should find that the test results from `lm_model_all` are much better. It means that using both weather and datetime variables in the model generates better prediction results.\n"
   ]
  },
  {
   "cell_type": "markdown",
   "metadata": {},
   "source": [
    "Since `lm_model_all` has many predictor variables, let's check which predictor variables have larger coefficients. Variables with larger coefficients in the model means they attribute more in the prediction of `RENTED_BIKE_COUNT`. In addition, since all predictor variables are normalized to the same scale, 0 to 1, we thus can compare their coefficients directly.\n"
   ]
  },
  {
   "cell_type": "markdown",
   "metadata": {},
   "source": [
    "You could try building another regression model using the non-normalized `seoul_bike_sharing_converted.csv` dataset, and you would find that the coefficients are much different.\n"
   ]
  },
  {
   "cell_type": "markdown",
   "metadata": {},
   "source": [
    "First let's print all coefficients:\n"
   ]
  },
  {
   "cell_type": "code",
   "execution_count": null,
   "metadata": {
    "tags": []
   },
   "outputs": [],
   "source": [
    "lm_model_all$fit$coefficients"
   ]
  },
  {
   "cell_type": "markdown",
   "metadata": {},
   "source": [
    "hmm, it's not very clear to compare the coefficients from a long and unsorted list. Next, you need to sort and visualize them using a bar chart\n"
   ]
  },
  {
   "cell_type": "markdown",
   "metadata": {},
   "source": [
    "_TODO:_ Sort the coefficient list in descending order and visualize the result using `ggplot` and `geom_bar` \n"
   ]
  },
  {
   "cell_type": "code",
   "execution_count": 10,
   "metadata": {
    "tags": []
   },
   "outputs": [],
   "source": [
    "# Sort coefficient list\n",
    "coef_df <- tidy(lm_model_all)"
   ]
  },
  {
   "cell_type": "code",
   "execution_count": 11,
   "metadata": {
    "tags": []
   },
   "outputs": [
    {
     "data": {},
     "metadata": {},
     "output_type": "display_data"
    },
    {
     "data": {
      "image/png": "[encoded data removed]",
      "text/plain": [
       "plot without title"
      ]
     },
     "metadata": {},
     "output_type": "display_data",
     "source": "R display func"
    }
   ],
   "source": [
    "# Visualize the list using ggplot and geom_bar\n",
    "ggplot(coef_df, aes(x = reorder(term, desc(abs(estimate))), y = abs(estimate))) +\n",
    "  geom_bar(stat = \"identity\", fill = \"pink\") +\n",
    "  coord_flip() +\n",
    "  xlab(\"Predictor\") +\n",
    "  ylab(\"Coefficient\") +\n",
    "  ggtitle(\"Coefficients of Linear Model\") +\n",
    "  theme(plot.title = element_text(hjust = 0.5))"
   ]
  },
  {
   "cell_type": "markdown",
   "metadata": {},
   "source": [
    "You should see a sorted coefficient bar chart like the following example: \n"
   ]
  },
  {
   "cell_type": "markdown",
   "metadata": {},
   "source": [
    "<a href=\"https://cognitiveclass.ai/\">\n",
    "    <img src=\"https://cf-courses-data.s3.us.cloud-object-storage.appdomain.cloud/IBMDeveloperSkillsNetwork-RP0321EN-SkillsNetwork/labs/module_4/images/coefficient_chart.png\" width=\"600\" align=\"center\">\n",
    "</a>\n"
   ]
  },
  {
   "cell_type": "markdown",
   "metadata": {},
   "source": [
    "Mark down these 'top-ranked variables by coefficient', which will be used for model refinments in the next labs.\n"
   ]
  },
  {
   "cell_type": "code",
   "execution_count": 12,
   "metadata": {
    "tags": []
   },
   "outputs": [
    {
     "name": "stderr",
     "output_type": "stream",
     "text": [
      "Loading required package: Matrix\n",
      "\n",
      "Attaching package: ‘Matrix’\n",
      "\n",
      "The following objects are masked from ‘package:tidyr’:\n",
      "\n",
      "    expand, pack, unpack\n",
      "\n",
      "Loading required package: foreach\n",
      "\n",
      "Attaching package: ‘foreach’\n",
      "\n",
      "The following objects are masked from ‘package:purrr’:\n",
      "\n",
      "    accumulate, when\n",
      "\n",
      "Loaded glmnet 2.0-18\n",
      "\n"
     ]
    }
   ],
   "source": [
    "library(\"glmnet\")\n",
    "library(\"yardstick\")"
   ]
  },
  {
   "cell_type": "code",
   "execution_count": 13,
   "metadata": {
    "tags": []
   },
   "outputs": [],
   "source": [
    "#prediction function\n",
    "model_prediction <- function(lm_model, test_data) {\n",
    "  results <- lm_model %>% \n",
    "    predict(new_data=test_data) %>% \n",
    "    mutate(TRUTH=test_data$RENTED_BIKE_COUNT)\n",
    "  results[results<0] <-0\n",
    "  return(results)\n",
    "}\n",
    "\n",
    "#model evaluation function\n",
    "model_evaluation <- function(results) {\n",
    "  rmse = rmse(results, truth=TRUTH, estimate=.pred)\n",
    "  rsq = rsq(results, truth=TRUTH, estimate=.pred)\n",
    "  print(rmse)\n",
    "  print(rsq)\n",
    "}"
   ]
  },
  {
   "cell_type": "code",
   "execution_count": 14,
   "metadata": {
    "tags": []
   },
   "outputs": [],
   "source": [
    "#Use grid to define the best penalty (lambda)\n",
    "penalty_value <- 10^seq(-4,4, by = 0.5) #penalty values ranging from 10^-4 to 10^4\n",
    "x = as.matrix(bike_train[,-1]) #define a matrix for CV\n",
    "y= bike_train$RENTED_BIKE_COUNT"
   ]
  },
  {
   "cell_type": "code",
   "execution_count": 15,
   "metadata": {
    "tags": []
   },
   "outputs": [],
   "source": [
    "cv_ridge <- cv.glmnet(x,y, alpha = 0, lambda = penalty_value, nfolds = 10)\n",
    "cv_lasso <- cv.glmnet(x,y, alpha = 1, lambda = penalty_value, nfolds = 10)\n",
    "cv_elasticnet <- cv.glmnet(x,y, alpha = 0.5, lambda = penalty_value, nfolds = 10)"
   ]
  },
  {
   "cell_type": "code",
   "execution_count": 16,
   "metadata": {
    "tags": []
   },
   "outputs": [],
   "source": [
    "#glmnet spec (using CV above, best optimal is 0.3 and 0.5)\n",
    "glmnet_spec <- linear_reg(penalty = 0.3, mixture=0.5) %>% \n",
    "  set_engine(\"glmnet\") %>% \n",
    "  set_mode(\"regression\")"
   ]
  },
  {
   "cell_type": "code",
   "execution_count": 18,
   "metadata": {
    "tags": []
   },
   "outputs": [
    {
     "name": "stdout",
     "output_type": "stream",
     "text": [
      "# A tibble: 1 x 3\n",
      "  .metric .estimator .estimate\n",
      "  <chr>   <chr>          <dbl>\n",
      "1 rmse    standard        322.\n",
      "# A tibble: 1 x 3\n",
      "  .metric .estimator .estimate\n",
      "  <chr>   <chr>          <dbl>\n",
      "1 rsq     standard       0.742\n"
     ]
    }
   ],
   "source": [
    "glmnet_1 <- glmnet_spec %>% \n",
    "  fit(RENTED_BIKE_COUNT ~ RAINFALL*HUMIDITY*TEMPERATURE + SPRING*SUMMER*HOLIDAY*HOUR_18* HOUR_19* HOUR_8* HOUR_21* HOUR_20* HOUR_4 + \n",
    "        poly(RAINFALL, 8) + poly(HUMIDITY, 5) +  poly(TEMPERATURE, 5) + poly(DEW_POINT_TEMPERATURE, 5) + poly(SOLAR_RADIATION, 5) + \n",
    "      poly(SNOWFALL,5) + \n",
    "        SPRING + SUMMER  + HOLIDAY + WIND_SPEED + VISIBILITY + \n",
    "        HOUR_18+ HOUR_4 + HOUR_5 + HOUR_3 + HOUR_19 + HOUR_11 + HOUR_8 + HOUR_21 + HOUR_10 + HOUR_2 + HOUR_20,\n",
    "      data = bike_train)\n",
    "\n",
    "glmnet_1_pred <- model_prediction(glmnet_1, bike_test)\n",
    "model_evaluation(glmnet_1_pred) "
   ]
  },
  {
   "cell_type": "code",
   "execution_count": 19,
   "metadata": {
    "tags": []
   },
   "outputs": [],
   "source": [
    "glmnet_1_rsq = rsq(glmnet_1_pred, truth = TRUTH, estimate = .pred)\n",
    "glmnet_1_rmse = rmse(glmnet_1_pred, truth = TRUTH, estimate = .pred)"
   ]
  },
  {
   "cell_type": "code",
   "execution_count": 20,
   "metadata": {
    "tags": []
   },
   "outputs": [
    {
     "name": "stdout",
     "output_type": "stream",
     "text": [
      "# A tibble: 1 x 3\n",
      "  .metric .estimator .estimate\n",
      "  <chr>   <chr>          <dbl>\n",
      "1 rmse    standard        386.\n",
      "# A tibble: 1 x 3\n",
      "  .metric .estimator .estimate\n",
      "  <chr>   <chr>          <dbl>\n",
      "1 rsq     standard       0.628\n"
     ]
    }
   ],
   "source": [
    "# Fit the model (with top 10 coeficients)\n",
    "glmnet_topCo <- glmnet_spec %>% \n",
    "  fit(RENTED_BIKE_COUNT ~ RAINFALL*HUMIDITY*TEMPERATURE + SPRING*SUMMER + SUMMER +\n",
    "        poly(RAINFALL, 6) + poly(HUMIDITY, 5) +  poly(TEMPERATURE, 5) + poly(DEW_POINT_TEMPERATURE,5) + \n",
    "        HOUR_18 + HOUR_4 + HOUR_5 +HOUR_3,\n",
    "      data=bike_train\n",
    "        )\n",
    "glmnet_topCo_pred <- model_prediction(glmnet_topCo, bike_test)\n",
    "model_evaluation(glmnet_topCo_pred) #rsq = 0.640, rmse = 381 (not good)"
   ]
  },
  {
   "cell_type": "code",
   "execution_count": 21,
   "metadata": {
    "tags": []
   },
   "outputs": [],
   "source": [
    "glmnet_topCo_rsq = rsq(glmnet_topCo_pred, truth = TRUTH, estimate = .pred)\n",
    "glmnet_topCo_rmse = rmse(glmnet_topCo_pred, truth = TRUTH, estimate = .pred)"
   ]
  },
  {
   "cell_type": "code",
   "execution_count": 22,
   "metadata": {
    "tags": []
   },
   "outputs": [
    {
     "data": {
      "text/html": [
       "369.417323156768"
      ],
      "text/latex": [
       "369.417323156768"
      ],
      "text/markdown": [
       "369.417323156768"
      ],
      "text/plain": [
       "[1] 369.4173"
      ]
     },
     "metadata": {},
     "output_type": "display_data"
    }
   ],
   "source": [
    "# Fit Ridge Regression\n",
    "glmnet_ridge <- glmnet(x,y, alpha=0)\n",
    "glmnet_ridge_pred <- predict(glmnet_ridge, s=cv_ridge$lambda.min,\n",
    "                             newx = as.matrix(bike_test[,-1]))\n",
    "\n",
    "ridge_rmse = sqrt(mean((bike_test$RENTED_BIKE_COUNT - glmnet_ridge_pred)^2))\n",
    "ridge_rmse #365.06"
   ]
  },
  {
   "cell_type": "code",
   "execution_count": 23,
   "metadata": {
    "tags": []
   },
   "outputs": [
    {
     "data": {
      "text/html": [
       "<table>\n",
       "<caption>A matrix: 1 × 1 of type dbl</caption>\n",
       "<thead>\n",
       "\t<tr><th></th><th scope=col>RENTED_BIKE_COUNT</th></tr>\n",
       "</thead>\n",
       "<tbody>\n",
       "\t<tr><th scope=row>RENTED_BIKE_COUNT</th><td>0.6584319</td></tr>\n",
       "</tbody>\n",
       "</table>\n"
      ],
      "text/latex": [
       "A matrix: 1 × 1 of type dbl\n",
       "\\begin{tabular}{r|l}\n",
       "  & RENTED\\_BIKE\\_COUNT\\\\\n",
       "\\hline\n",
       "\tRENTED\\_BIKE\\_COUNT & 0.6584319\\\\\n",
       "\\end{tabular}\n"
      ],
      "text/markdown": [
       "\n",
       "A matrix: 1 × 1 of type dbl\n",
       "\n",
       "| <!--/--> | RENTED_BIKE_COUNT |\n",
       "|---|---|\n",
       "| RENTED_BIKE_COUNT | 0.6584319 |\n",
       "\n"
      ],
      "text/plain": [
       "                  RENTED_BIKE_COUNT\n",
       "RENTED_BIKE_COUNT 0.6584319        "
      ]
     },
     "metadata": {},
     "output_type": "display_data"
    }
   ],
   "source": [
    "ridge_mse = mean( (bike_test$RENTED_BIKE_COUNT - glmnet_ridge_pred)^2)\n",
    "ridge_rsq = 1 - ridge_mse / var(bike_test[,1])\n",
    "ridge_rsq #0.667"
   ]
  },
  {
   "cell_type": "code",
   "execution_count": 24,
   "metadata": {
    "tags": []
   },
   "outputs": [
    {
     "data": {
      "text/html": [
       "369.358357307921"
      ],
      "text/latex": [
       "369.358357307921"
      ],
      "text/markdown": [
       "369.358357307921"
      ],
      "text/plain": [
       "[1] 369.3584"
      ]
     },
     "metadata": {},
     "output_type": "display_data"
    }
   ],
   "source": [
    "glmnet_lasso <- glmnet(x,y,alpha=1)\n",
    "glm_lasso_pred <- predict(glmnet_lasso, s=cv_lasso$lambda.min,\n",
    "                          newx=as.matrix(bike_test[,-1]))\n",
    "\n",
    "lasso_rmse = sqrt(mean( (bike_test$RENTED_BIKE_COUNT - glm_lasso_pred)^2))\n",
    "lasso_rmse #364.0492"
   ]
  },
  {
   "cell_type": "code",
   "execution_count": 25,
   "metadata": {
    "tags": []
   },
   "outputs": [
    {
     "data": {
      "text/html": [
       "0.658540960914229"
      ],
      "text/latex": [
       "0.658540960914229"
      ],
      "text/markdown": [
       "0.658540960914229"
      ],
      "text/plain": [
       "[1] 0.658541"
      ]
     },
     "metadata": {},
     "output_type": "display_data"
    }
   ],
   "source": [
    "lasso_mse = mean( (bike_test$RENTED_BIKE_COUNT - glm_lasso_pred)^2)\n",
    "lasso_rsq = 1 - lasso_mse/var(bike_test$RENTED_BIKE_COUNT)\n",
    "lasso_rsq #0.6693"
   ]
  },
  {
   "cell_type": "code",
   "execution_count": 28,
   "metadata": {
    "tags": []
   },
   "outputs": [
    {
     "ename": "ERROR",
     "evalue": "Error in cbind2(1, newx) %*% nbeta: Cholmod error 'X and/or Y have wrong dimensions' at file ../MatrixOps/cholmod_sdmult.c, line 90\n",
     "execution_count": 28,
     "output_type": "error",
     "traceback": [
      "Error in cbind2(1, newx) %*% nbeta: Cholmod error 'X and/or Y have wrong dimensions' at file ../MatrixOps/cholmod_sdmult.c, line 90\nTraceback:\n",
      "1. predict(glmnet_elasticnet, s = cv_elasticnet$lambda.min, newx = as.matrix(bike_test$RENTED_BIKE_COUNT))",
      "2. predict.elnet(glmnet_elasticnet, s = cv_elasticnet$lambda.min, \n .     newx = as.matrix(bike_test$RENTED_BIKE_COUNT))",
      "3. NextMethod(\"predict\")",
      "4. predict.glmnet(glmnet_elasticnet, s = cv_elasticnet$lambda.min, \n .     newx = as.matrix(bike_test$RENTED_BIKE_COUNT))",
      "5. as.matrix(cbind2(1, newx) %*% nbeta)",
      "6. cbind2(1, newx) %*% nbeta",
      "7. cbind2(1, newx) %*% nbeta"
     ]
    }
   ],
   "source": [
    "glmnet_elasticnet <- glmnet(x,y,alpha=0.7)\n",
    "glm_elasticnet_pred <- predict(glmnet_elasticnet, s=cv_elasticnet$lambda.min,\n",
    "                          newx=as.matrix(bike_test$RENTED_BIKE_COUNT))\n",
    "\n",
    "elasticnet_rmse = sqrt(mean( (bike_test$RENTED_BIKE_COUNT - glm_elasticnet_pred)^2))\n",
    "elasticnet_rmse #364.0468"
   ]
  },
  {
   "cell_type": "code",
   "execution_count": 29,
   "metadata": {
    "tags": []
   },
   "outputs": [
    {
     "ename": "ERROR",
     "evalue": "Error in mean((bike_test$RENTED_BIKE_COUNT - glm_elasticnet_pred)^2): object 'glm_elasticnet_pred' not found\n",
     "execution_count": 29,
     "output_type": "error",
     "traceback": [
      "Error in mean((bike_test$RENTED_BIKE_COUNT - glm_elasticnet_pred)^2): object 'glm_elasticnet_pred' not found\nTraceback:\n",
      "1. mean((bike_test$RENTED_BIKE_COUNT - glm_elasticnet_pred)^2)"
     ]
    }
   ],
   "source": [
    "elasticnet_mse = mean( (bike_test$RENTED_BIKE_COUNT - glm_elasticnet_pred)^2)\n",
    "elasticnet_rsq = 1 - elasticnet_mse/var(bike_test$RENTED_BIKE_COUNT)\n",
    "elasticnet_rsq #0.6693"
   ]
  },
  {
   "cell_type": "code",
   "execution_count": 26,
   "metadata": {
    "tags": []
   },
   "outputs": [
    {
     "name": "stdout",
     "output_type": "stream",
     "text": [
      "         model stat       value\n",
      "1     glmnet_1  RSQ   0.7423304\n",
      "2     glmnet_1 RMSE 321.5502560\n",
      "3 glmnet_topCo  RSQ   0.6281459\n",
      "4 glmnet_topCo RMSE 386.1796339\n",
      "5 glmnet_ridge  RSQ   0.6584319\n",
      "6 glmnet_ridge RMSE 369.4173232\n",
      "7 glmnet_lasso  RSQ   0.6585410\n",
      "8 glmnet_lasso RMSE 369.3583573\n"
     ]
    }
   ],
   "source": [
    "model <- c(rep(\"glmnet_1\",2), rep(\"glmnet_topCo\",2), \n",
    "           rep(\"glmnet_ridge\",2), rep(\"glmnet_lasso\",2))\n",
    "stat <- rep(c(\"RSQ\", \"RMSE\"),4)\n",
    "value <- c(glmnet_1_rsq$.estimate, glmnet_1_rmse$.estimate,\n",
    "           glmnet_topCo_rsq$.estimate, glmnet_topCo_rmse$.estimate,\n",
    "           ridge_rsq, ridge_rmse,\n",
    "           lasso_rsq,lasso_rmse)\n",
    "model_df <-  data.frame(model, stat, value)\n",
    "print(model_df)"
   ]
  },
  {
   "cell_type": "code",
   "execution_count": 27,
   "metadata": {
    "tags": []
   },
   "outputs": [
    {
     "data": {},
     "metadata": {},
     "output_type": "display_data"
    },
    {
     "data": {
      "image/png": "[encoded data removed]",
      "text/plain": [
       "plot without title"
      ]
     },
     "metadata": {},
     "output_type": "display_data",
     "source": "R display func"
    }
   ],
   "source": [
    "model_df %>% \n",
    "  ggplot(aes(fill=stat, x=model, y=value)) +\n",
    "  geom_bar(position=\"dodge\", stat=\"identity\")"
   ]
  },
  {
   "cell_type": "code",
   "execution_count": 29,
   "metadata": {
    "tags": []
   },
   "outputs": [
    {
     "data": {},
     "metadata": {},
     "output_type": "display_data"
    },
    {
     "data": {
      "image/png": "[encoded data removed]",
      "text/plain": [
       "plot without title"
      ]
     },
     "metadata": {},
     "output_type": "display_data",
     "source": "R display func"
    }
   ],
   "source": [
    "glmnet_1_pred %>% \n",
    "  ggplot() +\n",
    "  stat_qq(aes(sample=TRUTH), color='pink') +\n",
    "  stat_qq(aes(sample=.pred), color='skyblue')"
   ]
  },
  {
   "cell_type": "markdown",
   "metadata": {},
   "source": [
    "Note that here the main reason we use absolute value is to easily identify important variables, i.e. variables with large magnitudes, no matter it's negative or positive. If we want to interprete the model then it's better to seperate the positive and negative coefficients.\n"
   ]
  },
  {
   "cell_type": "markdown",
   "metadata": {},
   "source": [
    "# Next Steps\n"
   ]
  },
  {
   "cell_type": "markdown",
   "metadata": {},
   "source": [
    "Great! Now you have built a baseline linear regression model to predict hourly bike rent count, with reasonably good performance. In the next lab, you will be refining the baseline model to improve its performance.\n"
   ]
  },
  {
   "cell_type": "markdown",
   "metadata": {},
   "source": [
    "## Authors\n",
    "\n",
    "<a href=\"https://www.linkedin.com/in/yan-luo-96288783/\" target=\"_blank\">Yan Luo</a>\n"
   ]
  },
  {
   "cell_type": "markdown",
   "metadata": {},
   "source": [
    "### Other Contributors\n",
    "\n",
    "Jeff Grossman\n"
   ]
  },
  {
   "cell_type": "markdown",
   "metadata": {},
   "source": [
    "## Change Log\n",
    "\n",
    "| Date (YYYY-MM-DD) | Version | Changed By | Change Description           |\n",
    "| ----------------- | ------- | ---------- | ---------------------------- |\n",
    "| 2021-04-08        | 1.0     | Yan        | Initial version created      |\n",
    "|                   |         |            |                              |\n",
    "|                   |         |            |                              |\n",
    "\n",
    "## <h3 align=\"center\"> © IBM Corporation 2021. All rights reserved. <h3/>\n"
   ]
  }
 ],
 "metadata": {
  "kernelspec": {
   "display_name": "R",
   "language": "R",
   "name": "conda-env-r-r"
  },
  "language_info": {
   "codemirror_mode": "r",
   "file_extension": ".r",
   "mimetype": "text/x-r-source",
   "name": "R",
   "pygments_lexer": "r",
   "version": "3.5.1"
  }
 },
 "nbformat": 4,
 "nbformat_minor": 4
}
